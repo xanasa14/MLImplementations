{
  "nbformat": 4,
  "nbformat_minor": 0,
  "metadata": {
    "colab": {
      "name": "HeartPrediction.ipynb",
      "provenance": [],
      "collapsed_sections": [],
      "mount_file_id": "1_LXBrAEdTD6JaeCsbKAIXrf8Fw1Dk_Jg",
      "authorship_tag": "ABX9TyPHzayIZNUpdC9Hayo0oDKt",
      "include_colab_link": true
    },
    "kernelspec": {
      "name": "python3",
      "display_name": "Python 3"
    },
    "accelerator": "GPU"
  },
  "cells": [
    {
      "cell_type": "markdown",
      "metadata": {
        "id": "view-in-github",
        "colab_type": "text"
      },
      "source": [
        "<a href=\"https://colab.research.google.com/github/xanasa14/MLImplementations/blob/master/HeartPrediction.ipynb\" target=\"_parent\"><img src=\"https://colab.research.google.com/assets/colab-badge.svg\" alt=\"Open In Colab\"/></a>"
      ]
    },
    {
      "cell_type": "code",
      "metadata": {
        "colab": {
          "base_uri": "https://localhost:8080/",
          "height": 197
        },
        "id": "MjGX8YDpaA21",
        "outputId": "a1e104b4-c0e7-4b9b-a84f-1a2642dda87e"
      },
      "source": [
        "#importing the libraries\r\n",
        "import numpy as np\r\n",
        "import matplotlib.pyplot as plt\r\n",
        "import pandas as pd\r\n",
        "import seaborn as sns \r\n",
        "import random\r\n",
        "%matplotlib inline\r\n",
        "#https://towardsdatascience.com/the-art-of-finding-the-best-features-for-machine-learning-a9074e2ca60d\r\n",
        "#https://towardsdatascience.com/feature-selection-techniques-in-machine-learning-with-python-f24e7da3f36e\r\n",
        "\r\n",
        "\r\n",
        "#importing our cancer dataset\r\n",
        "dataset = pd.read_csv('/content/drive/MyDrive/HeartData/heart.csv')\r\n",
        "dataset.head()\r\n",
        "\r\n",
        "\r\n"
      ],
      "execution_count": 1,
      "outputs": [
        {
          "output_type": "execute_result",
          "data": {
            "text/html": [
              "<div>\n",
              "<style scoped>\n",
              "    .dataframe tbody tr th:only-of-type {\n",
              "        vertical-align: middle;\n",
              "    }\n",
              "\n",
              "    .dataframe tbody tr th {\n",
              "        vertical-align: top;\n",
              "    }\n",
              "\n",
              "    .dataframe thead th {\n",
              "        text-align: right;\n",
              "    }\n",
              "</style>\n",
              "<table border=\"1\" class=\"dataframe\">\n",
              "  <thead>\n",
              "    <tr style=\"text-align: right;\">\n",
              "      <th></th>\n",
              "      <th>age</th>\n",
              "      <th>sex</th>\n",
              "      <th>cp</th>\n",
              "      <th>trestbps</th>\n",
              "      <th>chol</th>\n",
              "      <th>fbs</th>\n",
              "      <th>restecg</th>\n",
              "      <th>thalach</th>\n",
              "      <th>exang</th>\n",
              "      <th>oldpeak</th>\n",
              "      <th>slope</th>\n",
              "      <th>ca</th>\n",
              "      <th>thal</th>\n",
              "      <th>target</th>\n",
              "    </tr>\n",
              "  </thead>\n",
              "  <tbody>\n",
              "    <tr>\n",
              "      <th>0</th>\n",
              "      <td>63</td>\n",
              "      <td>1</td>\n",
              "      <td>3</td>\n",
              "      <td>145</td>\n",
              "      <td>233</td>\n",
              "      <td>1</td>\n",
              "      <td>0</td>\n",
              "      <td>150</td>\n",
              "      <td>0</td>\n",
              "      <td>2.3</td>\n",
              "      <td>0</td>\n",
              "      <td>0</td>\n",
              "      <td>1</td>\n",
              "      <td>1</td>\n",
              "    </tr>\n",
              "    <tr>\n",
              "      <th>1</th>\n",
              "      <td>37</td>\n",
              "      <td>1</td>\n",
              "      <td>2</td>\n",
              "      <td>130</td>\n",
              "      <td>250</td>\n",
              "      <td>0</td>\n",
              "      <td>1</td>\n",
              "      <td>187</td>\n",
              "      <td>0</td>\n",
              "      <td>3.5</td>\n",
              "      <td>0</td>\n",
              "      <td>0</td>\n",
              "      <td>2</td>\n",
              "      <td>1</td>\n",
              "    </tr>\n",
              "    <tr>\n",
              "      <th>2</th>\n",
              "      <td>41</td>\n",
              "      <td>0</td>\n",
              "      <td>1</td>\n",
              "      <td>130</td>\n",
              "      <td>204</td>\n",
              "      <td>0</td>\n",
              "      <td>0</td>\n",
              "      <td>172</td>\n",
              "      <td>0</td>\n",
              "      <td>1.4</td>\n",
              "      <td>2</td>\n",
              "      <td>0</td>\n",
              "      <td>2</td>\n",
              "      <td>1</td>\n",
              "    </tr>\n",
              "    <tr>\n",
              "      <th>3</th>\n",
              "      <td>56</td>\n",
              "      <td>1</td>\n",
              "      <td>1</td>\n",
              "      <td>120</td>\n",
              "      <td>236</td>\n",
              "      <td>0</td>\n",
              "      <td>1</td>\n",
              "      <td>178</td>\n",
              "      <td>0</td>\n",
              "      <td>0.8</td>\n",
              "      <td>2</td>\n",
              "      <td>0</td>\n",
              "      <td>2</td>\n",
              "      <td>1</td>\n",
              "    </tr>\n",
              "    <tr>\n",
              "      <th>4</th>\n",
              "      <td>57</td>\n",
              "      <td>0</td>\n",
              "      <td>0</td>\n",
              "      <td>120</td>\n",
              "      <td>354</td>\n",
              "      <td>0</td>\n",
              "      <td>1</td>\n",
              "      <td>163</td>\n",
              "      <td>1</td>\n",
              "      <td>0.6</td>\n",
              "      <td>2</td>\n",
              "      <td>0</td>\n",
              "      <td>2</td>\n",
              "      <td>1</td>\n",
              "    </tr>\n",
              "  </tbody>\n",
              "</table>\n",
              "</div>"
            ],
            "text/plain": [
              "   age  sex  cp  trestbps  chol  fbs  ...  exang  oldpeak  slope  ca  thal  target\n",
              "0   63    1   3       145   233    1  ...      0      2.3      0   0     1       1\n",
              "1   37    1   2       130   250    0  ...      0      3.5      0   0     2       1\n",
              "2   41    0   1       130   204    0  ...      0      1.4      2   0     2       1\n",
              "3   56    1   1       120   236    0  ...      0      0.8      2   0     2       1\n",
              "4   57    0   0       120   354    0  ...      1      0.6      2   0     2       1\n",
              "\n",
              "[5 rows x 14 columns]"
            ]
          },
          "metadata": {
            "tags": []
          },
          "execution_count": 1
        }
      ]
    },
    {
      "cell_type": "code",
      "metadata": {
        "colab": {
          "base_uri": "https://localhost:8080/",
          "height": 296
        },
        "id": "UCrkZZefaGKW",
        "outputId": "e3217443-e357-4f98-97aa-6f9fad0dcad8"
      },
      "source": [
        "dataset.head()\r\n",
        "sns.boxplot(x='target', y='chol', data=dataset)\r\n"
      ],
      "execution_count": 2,
      "outputs": [
        {
          "output_type": "execute_result",
          "data": {
            "text/plain": [
              "<matplotlib.axes._subplots.AxesSubplot at 0x7fe7e234cd90>"
            ]
          },
          "metadata": {
            "tags": []
          },
          "execution_count": 2
        },
        {
          "output_type": "display_data",
          "data": {
            "image/png": "[encoded data removed]",
            "text/plain": [
              "<Figure size 432x288 with 1 Axes>"
            ]
          },
          "metadata": {
            "tags": [],
            "needs_background": "light"
          }
        }
      ]
    },
    {
      "cell_type": "code",
      "metadata": {
        "colab": {
          "base_uri": "https://localhost:8080/"
        },
        "id": "vXm6wsHXaZS_",
        "outputId": "d53ba2e2-a102-4877-e68c-d4e68157c156"
      },
      "source": [
        "#checking all nulls \r\n",
        "dataset.isnull().sum()\r\n",
        "dataset.isna().sum()"
      ],
      "execution_count": 3,
      "outputs": [
        {
          "output_type": "execute_result",
          "data": {
            "text/plain": [
              "age         0\n",
              "sex         0\n",
              "cp          0\n",
              "trestbps    0\n",
              "chol        0\n",
              "fbs         0\n",
              "restecg     0\n",
              "thalach     0\n",
              "exang       0\n",
              "oldpeak     0\n",
              "slope       0\n",
              "ca          0\n",
              "thal        0\n",
              "target      0\n",
              "dtype: int64"
            ]
          },
          "metadata": {
            "tags": []
          },
          "execution_count": 3
        }
      ]
    },
    {
      "cell_type": "code",
      "metadata": {
        "colab": {
          "base_uri": "https://localhost:8080/"
        },
        "id": "SSVNBXHCa62n",
        "outputId": "9984f36c-90af-4d0b-b0bc-e5473405febc"
      },
      "source": [
        "X  = dataset\r\n",
        "\r\n",
        "Y = dataset['target']\r\n",
        "\r\n",
        "\r\n",
        "X = X.drop('target', 1)\r\n",
        "print(X)\r\n",
        "print(Y)"
      ],
      "execution_count": 4,
      "outputs": [
        {
          "output_type": "stream",
          "text": [
            "     age  sex  cp  trestbps  chol  ...  exang  oldpeak  slope  ca  thal\n",
            "0     63    1   3       145   233  ...      0      2.3      0   0     1\n",
            "1     37    1   2       130   250  ...      0      3.5      0   0     2\n",
            "2     41    0   1       130   204  ...      0      1.4      2   0     2\n",
            "3     56    1   1       120   236  ...      0      0.8      2   0     2\n",
            "4     57    0   0       120   354  ...      1      0.6      2   0     2\n",
            "..   ...  ...  ..       ...   ...  ...    ...      ...    ...  ..   ...\n",
            "298   57    0   0       140   241  ...      1      0.2      1   0     3\n",
            "299   45    1   3       110   264  ...      0      1.2      1   0     3\n",
            "300   68    1   0       144   193  ...      0      3.4      1   2     3\n",
            "301   57    1   0       130   131  ...      1      1.2      1   1     3\n",
            "302   57    0   1       130   236  ...      0      0.0      1   1     2\n",
            "\n",
            "[303 rows x 13 columns]\n",
            "0      1\n",
            "1      1\n",
            "2      1\n",
            "3      1\n",
            "4      1\n",
            "      ..\n",
            "298    0\n",
            "299    0\n",
            "300    0\n",
            "301    0\n",
            "302    0\n",
            "Name: target, Length: 303, dtype: int64\n"
          ],
          "name": "stdout"
        }
      ]
    },
    {
      "cell_type": "code",
      "metadata": {
        "colab": {
          "base_uri": "https://localhost:8080/"
        },
        "id": "kfISz5Oja_Dg",
        "outputId": "c5e86a7e-8b54-4906-b275-b7103473c1c7"
      },
      "source": [
        "# Splitting the dataset into the Training set and Test set\r\n",
        "print( type(X))\r\n",
        "print(type(Y))\r\n",
        "from sklearn.model_selection import train_test_split\r\n",
        "X_train, X_test, y_train, y_test = train_test_split(X, Y, test_size=0.3, random_state=41)"
      ],
      "execution_count": 5,
      "outputs": [
        {
          "output_type": "stream",
          "text": [
            "<class 'pandas.core.frame.DataFrame'>\n",
            "<class 'pandas.core.series.Series'>\n"
          ],
          "name": "stdout"
        }
      ]
    },
    {
      "cell_type": "code",
      "metadata": {
        "colab": {
          "base_uri": "https://localhost:8080/"
        },
        "id": "H8fGMzZnbf4b",
        "outputId": "b3dbc0a7-0b26-449a-b9e0-d59827b2c3b7"
      },
      "source": [
        "from sklearn.linear_model import LogisticRegression\r\n",
        "from sklearn.neighbors import KNeighborsClassifier\r\n",
        "from sklearn.svm import SVC\r\n",
        "from sklearn.naive_bayes import GaussianNB\r\n",
        "from sklearn.ensemble import RandomForestClassifier\r\n",
        "from sklearn.tree import DecisionTreeClassifier\r\n",
        "from sklearn.metrics import confusion_matrix\r\n",
        "from sklearn.metrics import accuracy_score\r\n",
        "import seaborn as sns\r\n",
        "from sklearn.model_selection import cross_val_score\r\n",
        "from sklearn.ensemble import AdaBoostClassifier\r\n",
        "\r\n",
        "\r\n",
        "\r\n",
        "\r\n",
        "\r\n",
        "\r\n",
        "#Using Logistic Regression Algorithm to the Training Set\r\n",
        "models = [LogisticRegression(), \r\n",
        "          KNeighborsClassifier(n_neighbors = 5, metric = 'minkowski', p = 2),\r\n",
        "          SVC(kernel = 'linear'),\r\n",
        "          SVC(kernel = 'rbf'),\r\n",
        "          GaussianNB(),\r\n",
        "          RandomForestClassifier(n_estimators = 10, criterion = 'entropy'),\r\n",
        "          DecisionTreeClassifier(criterion = 'entropy', ),\r\n",
        "          AdaBoostClassifier(n_estimators=100)\r\n",
        "          ]\r\n",
        "\r\n",
        "CV = 5 \r\n",
        "entries = []\r\n",
        "for model in models: \r\n",
        "    counter = 2\r\n",
        "    model_name = model.__class__.__name__\r\n",
        "    for i in range(len(entries)):\r\n",
        "      if (str(model_name) in entries[i]):\r\n",
        "       model_name = model_name + \"V\" + str(counter)\r\n",
        "    classifier = model\r\n",
        "\r\n",
        "    clf = classifier.fit(X_train, y_train)\r\n",
        "    Y_pred = clf.predict(X_test)\r\n",
        "    accuracy = accuracy_score(y_test, Y_pred)\r\n",
        "    entries.append((model_name, accuracy*100))\r\n",
        "print(len(entries))\r\n",
        "entries\r\n",
        "      \r\n"
      ],
      "execution_count": 6,
      "outputs": [
        {
          "output_type": "stream",
          "text": [
            "/usr/local/lib/python3.7/dist-packages/sklearn/linear_model/_logistic.py:940: ConvergenceWarning: lbfgs failed to converge (status=1):\n",
            "STOP: TOTAL NO. of ITERATIONS REACHED LIMIT.\n",
            "\n",
            "Increase the number of iterations (max_iter) or scale the data as shown in:\n",
            "    https://scikit-learn.org/stable/modules/preprocessing.html\n",
            "Please also refer to the documentation for alternative solver options:\n",
            "    https://scikit-learn.org/stable/modules/linear_model.html#logistic-regression\n",
            "  extra_warning_msg=_LOGISTIC_SOLVER_CONVERGENCE_MSG)\n"
          ],
          "name": "stderr"
        },
        {
          "output_type": "stream",
          "text": [
            "8\n"
          ],
          "name": "stdout"
        },
        {
          "output_type": "execute_result",
          "data": {
            "text/plain": [
              "[('LogisticRegression', 82.41758241758241),\n",
              " ('KNeighborsClassifier', 69.23076923076923),\n",
              " ('SVC', 82.41758241758241),\n",
              " ('SVCV2', 62.637362637362635),\n",
              " ('GaussianNB', 86.81318681318682),\n",
              " ('RandomForestClassifier', 82.41758241758241),\n",
              " ('DecisionTreeClassifier', 73.62637362637363),\n",
              " ('AdaBoostClassifier', 80.21978021978022)]"
            ]
          },
          "metadata": {
            "tags": []
          },
          "execution_count": 6
        }
      ]
    },
    {
      "cell_type": "code",
      "metadata": {
        "colab": {
          "base_uri": "https://localhost:8080/",
          "height": 280
        },
        "id": "Qqc84DVGbkum",
        "outputId": "cfd1e1f6-b0fa-4dd6-a61c-0d2721a37319"
      },
      "source": [
        "cv_df = pd.DataFrame(entries, columns=['model_name', 'accuracy'])\r\n",
        "import seaborn as sns\r\n",
        "sns.boxplot(x='model_name', y='accuracy', data=cv_df)\r\n",
        "sns.stripplot(x='model_name', y='accuracy', data=cv_df, \r\n",
        "              size=10, jitter=True, edgecolor=\"gray\", linewidth=2)\r\n",
        "plt.show()"
      ],
      "execution_count": 7,
      "outputs": [
        {
          "output_type": "display_data",
          "data": {
            "image/png": "[encoded data removed]",
            "text/plain": [
              "<Figure size 432x288 with 1 Axes>"
            ]
          },
          "metadata": {
            "tags": [],
            "needs_background": "light"
          }
        }
      ]
    },
    {
      "cell_type": "code",
      "metadata": {
        "colab": {
          "base_uri": "https://localhost:8080/"
        },
        "id": "ebT9zTyfbwe0",
        "outputId": "e82b6bcd-9537-48c5-cd36-4f06631d9a8a"
      },
      "source": [
        "import sklearn.metrics as sk_metrics\r\n",
        "import seaborn as sns\r\n",
        "from sklearn.metrics import classification_report\r\n",
        "\r\n",
        "\r\n",
        "#training a logistics regression model\r\n",
        "logmodel = LogisticRegression()\r\n",
        "logmodel.fit(X_train,y_train)\r\n",
        "predictions = logmodel.predict(X_test)\r\n",
        "print(\"Accuracy = \"+ str(accuracy_score(y_test,predictions)))\r\n",
        "\r\n",
        "target_names = ['Negative','Positive']\r\n",
        "\r\n",
        "print(classification_report(y_test,predictions.round(),target_names=target_names))\r\n",
        "matrix = confusion_matrix(predictions.round(), y_test,)\r\n",
        "\r\n",
        "print(matrix)"
      ],
      "execution_count": 8,
      "outputs": [
        {
          "output_type": "stream",
          "text": [
            "Accuracy = 0.8241758241758241\n",
            "              precision    recall  f1-score   support\n",
            "\n",
            "    Negative       0.84      0.81      0.83        47\n",
            "    Positive       0.80      0.84      0.82        44\n",
            "\n",
            "    accuracy                           0.82        91\n",
            "   macro avg       0.82      0.82      0.82        91\n",
            "weighted avg       0.83      0.82      0.82        91\n",
            "\n",
            "[[38  7]\n",
            " [ 9 37]]\n"
          ],
          "name": "stdout"
        },
        {
          "output_type": "stream",
          "text": [
            "/usr/local/lib/python3.7/dist-packages/sklearn/linear_model/_logistic.py:940: ConvergenceWarning: lbfgs failed to converge (status=1):\n",
            "STOP: TOTAL NO. of ITERATIONS REACHED LIMIT.\n",
            "\n",
            "Increase the number of iterations (max_iter) or scale the data as shown in:\n",
            "    https://scikit-learn.org/stable/modules/preprocessing.html\n",
            "Please also refer to the documentation for alternative solver options:\n",
            "    https://scikit-learn.org/stable/modules/linear_model.html#logistic-regression\n",
            "  extra_warning_msg=_LOGISTIC_SOLVER_CONVERGENCE_MSG)\n"
          ],
          "name": "stderr"
        }
      ]
    },
    {
      "cell_type": "code",
      "metadata": {
        "colab": {
          "base_uri": "https://localhost:8080/"
        },
        "id": "0IDLIq0gb7wo",
        "outputId": "577b90a8-eaf2-4e66-c8ef-6d557951f311"
      },
      "source": [
        "matrix = confusion_matrix(predictions.round(), y_test,)\r\n",
        "\r\n",
        "print(matrix)"
      ],
      "execution_count": 9,
      "outputs": [
        {
          "output_type": "stream",
          "text": [
            "[[38  7]\n",
            " [ 9 37]]\n"
          ],
          "name": "stdout"
        }
      ]
    },
    {
      "cell_type": "code",
      "metadata": {
        "colab": {
          "base_uri": "https://localhost:8080/",
          "height": 574
        },
        "id": "q_NLxyXTcToI",
        "outputId": "c0881fe8-8531-46e2-9f0f-af13b1767fb1"
      },
      "source": [
        "def show_confusion_matrix(test_labels, predictions):\r\n",
        "  \"\"\"Compute confusion matrix and normalize.\"\"\"\r\n",
        "  plt.figure(figsize=(10,10))\r\n",
        "  confusion = sk_metrics.confusion_matrix(\r\n",
        "    test_labels, predictions)\r\n",
        "  confusion_normalized = confusion.astype(\"float\") / confusion.sum(axis=1)\r\n",
        "  axis_labels = target_names\r\n",
        "  ax = sns.heatmap(\r\n",
        "      confusion_normalized, xticklabels=axis_labels, yticklabels=axis_labels,\r\n",
        "      cmap='Blues', annot=True, fmt='.2f', square=True  )\r\n",
        "  plt.title(\"Confusion matrix\")\r\n",
        "  plt.ylabel(\"True label\")\r\n",
        "  plt.xlabel(\"Predicted label\")\r\n",
        "\r\n",
        "show_confusion_matrix(y_test, predictions.round())"
      ],
      "execution_count": 10,
      "outputs": [
        {
          "output_type": "display_data",
          "data": {
            "image/png": "[encoded data removed]",
            "text/plain": [
              "<Figure size 720x720 with 2 Axes>"
            ]
          },
          "metadata": {
            "tags": [],
            "needs_background": "light"
          }
        }
      ]
    },
    {
      "cell_type": "code",
      "metadata": {
        "colab": {
          "base_uri": "https://localhost:8080/",
          "height": 282
        },
        "id": "FTABYl3gc0Mp",
        "outputId": "4d515f6c-4997-4f62-8431-6e814f502019"
      },
      "source": [
        "print(model.feature_importances_) #use inbuilt class feature_importances of tree based classifiers\r\n",
        "#plot graph of feature importances for better visualization\r\n",
        "feat_importances = pd.Series(model.feature_importances_, index=X.columns)\r\n",
        "feat_importances.nlargest(10).plot(kind='barh')\r\n",
        "plt.show()"
      ],
      "execution_count": 11,
      "outputs": [
        {
          "output_type": "stream",
          "text": [
            "[0.25 0.02 0.04 0.1  0.16 0.   0.01 0.21 0.01 0.06 0.02 0.08 0.04]\n"
          ],
          "name": "stdout"
        },
        {
          "output_type": "display_data",
          "data": {
            "image/png": "[encoded data removed]",
            "text/plain": [
              "<Figure size 432x288 with 1 Axes>"
            ]
          },
          "metadata": {
            "tags": [],
            "needs_background": "light"
          }
        }
      ]
    },
    {
      "cell_type": "code",
      "metadata": {
        "colab": {
          "base_uri": "https://localhost:8080/",
          "height": 1000
        },
        "id": "eGYM0GNmeGWa",
        "outputId": "91b44bbe-6435-428d-c349-af7d535b3266"
      },
      "source": [
        "from sklearn.metrics import roc_curve, roc_auc_score\r\n",
        "\r\n",
        "# Getting predicted probabilities\r\n",
        "y_score1 = model.predict_proba(X_test)[:,1]\r\n",
        "y_score2 = model.predict_proba(X_test)[:,1]\r\n",
        "\r\n",
        "# Ploting Receiving Operating Characteristic Curve\r\n",
        "# Creating true and false positive rates\r\n",
        "false_positive_rate1, true_positive_rate1, threshold1 = roc_curve(y_test, y_score1)\r\n",
        "false_positive_rate2, true_positive_rate2, threshold2 = roc_curve(y_test, y_score2)\r\n",
        "print('roc_auc_score for DecisionTree: ', roc_auc_score(y_test, y_score1))\r\n",
        "print('roc_auc_score for Logistic Regression: ', roc_auc_score(y_test, y_score2))\r\n",
        "\r\n",
        "# Ploting ROC curves\r\n",
        "plt.subplots(1, figsize=(10,10))\r\n",
        "plt.title('Receiver Operating Characteristic - DecisionTree')\r\n",
        "plt.plot(false_positive_rate1, true_positive_rate1)\r\n",
        "plt.plot([0, 1], ls=\"--\")\r\n",
        "plt.plot([0, 0], [1, 0] , c=\".7\"), plt.plot([1, 1] , c=\".7\")\r\n",
        "plt.ylabel('True Positive Rate')\r\n",
        "plt.xlabel('False Positive Rate')\r\n",
        "plt.show()\r\n",
        "\r\n",
        "plt.subplots(1, figsize=(10,10))\r\n",
        "plt.title('Receiver Operating Characteristic - Logistic regression')\r\n",
        "plt.plot(false_positive_rate2, true_positive_rate2)\r\n",
        "plt.plot([0, 1], ls=\"--\")\r\n",
        "plt.plot([0, 0], [1, 0] , c=\".7\"), plt.plot([1, 1] , c=\".7\")\r\n",
        "plt.ylabel('True Positive Rate')\r\n",
        "plt.xlabel('False Positive Rate')\r\n",
        "plt.show()"
      ],
      "execution_count": 17,
      "outputs": [
        {
          "output_type": "stream",
          "text": [
            "roc_auc_score for DecisionTree:  0.8268858800773694\n",
            "roc_auc_score for Logistic Regression:  0.8268858800773694\n"
          ],
          "name": "stdout"
        },
        {
          "output_type": "display_data",
          "data": {
            "image/png": "[encoded data removed]",
            "text/plain": [
              "<Figure size 720x720 with 1 Axes>"
            ]
          },
          "metadata": {
            "tags": [],
            "needs_background": "light"
          }
        },
        {
          "output_type": "display_data",
          "data": {
            "image/png": "[encoded data removed]",
            "text/plain": [
              "<Figure size 720x720 with 1 Axes>"
            ]
          },
          "metadata": {
            "tags": [],
            "needs_background": "light"
          }
        }
      ]
    },
    {
      "cell_type": "code",
      "metadata": {
        "id": "pci8gOVBePbW"
      },
      "source": [
        ""
      ],
      "execution_count": null,
      "outputs": []
    }
  ]
}