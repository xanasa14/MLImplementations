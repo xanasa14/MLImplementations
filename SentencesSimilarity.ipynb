{
  "nbformat": 4,
  "nbformat_minor": 0,
  "metadata": {
    "colab": {
      "name": "SentencesSimilarity.ipynb",
      "provenance": [],
      "collapsed_sections": [],
      "mount_file_id": "1OLN8B7CsfliAS0bn-lQr4mPBLXfW31fn",
      "authorship_tag": "ABX9TyNWCvAsCozLL9U8QSPh997Y",
      "include_colab_link": true
    },
    "kernelspec": {
      "name": "python3",
      "display_name": "Python 3"
    }
  },
  "cells": [
    {
      "cell_type": "markdown",
      "metadata": {
        "id": "view-in-github",
        "colab_type": "text"
      },
      "source": [
        "<a href=\"https://colab.research.google.com/github/xanasa14/MLImplementations/blob/master/SentencesSimilarity.ipynb\" target=\"_parent\"><img src=\"https://colab.research.google.com/assets/colab-badge.svg\" alt=\"Open In Colab\"/></a>"
      ]
    },
    {
      "cell_type": "code",
      "metadata": {
        "id": "YEcACYPrOBJl",
        "colab": {
          "base_uri": "https://localhost:8080/"
        },
        "outputId": "5732543c-12ec-44a4-844c-919162815760"
      },
      "source": [
        "import spacy\n",
        "\n",
        "nlp = spacy.load('en_core_web_sm', disable=['parser', 'ner']) \n",
        "\"\"\"\n",
        "    News headline get from \n",
        "    \n",
        "    https://www.reuters.com/article/us-musk-tunnel/elon-musks-boring-co-to-build-high-speed-airport-link-in-chicago-idUSKBN1JA224\n",
        "    http://money.cnn.com/2018/06/14/technology/elon-musk-boring-company-chicago/index.html\n",
        "    https://www.theverge.com/2018/6/13/17462496/elon-musk-boring-company-approved-tunnel-chicago\n",
        "\n",
        "\"\"\"\n",
        "\n",
        "\n",
        "news_headline0 = \"Xavier likes to play his videogames with his friends\"\n",
        "news_headline1 = \"Xavier likes playing his videogames with his friends\"\n",
        "\n",
        "news_headline2 = \"Videogames are entertaining for Xavier\"\n",
        "news_headline3 = \"Sleeping, eating, and playing videogames are Xavier favorite hobbies\"\n",
        "\n",
        "news_headline4 = \"Both apple and orange are fruit\"\n",
        "news_headline5 =\"Xavier is going to play videogames with his friends\"\n",
        "\n",
        "news_headlines= []\n",
        "news_headlines_withoutLemma = [news_headline0 ,news_headline1,  news_headline2, news_headline3, news_headline4 ,news_headline5]\n",
        "\n",
        "\n",
        "\n",
        "\n",
        "# Python program to remove punctuation from a given string \n",
        "# Function to remove punctuation \n",
        "def Punctuation(string): \n",
        "    string= string.replace(\"-PRON-\",\"\")      \n",
        "  \n",
        "    # punctuation marks \n",
        "    punctuations = '''!()-[]{};:'\"\\,<>./?@#$%^&*_~'''\n",
        "  \n",
        "    # traverse the given string and if any punctuation \n",
        "    # marks occur replace it with null \n",
        "    for x in string.lower(): \n",
        "        if x in punctuations: \n",
        "            string = string.replace(x, \"\") \n",
        "  \n",
        "    # Print string without punctuation \n",
        "    return (string) \n",
        "\n",
        "#Lemmatizing from beggning\n",
        "for headlines in news_headlines_withoutLemma:\n",
        "   doc = nlp(Punctuation(headlines))\n",
        "   line = \" \".join([token.lemma_ for token in doc])\n",
        "   line= line.replace(\"-PRON-\",\"\") \n",
        "   line= line.replace(\"  \",\" \")      \n",
        "     \n",
        "\n",
        "   print(line)\n",
        "   news_headlines.append(line)\n",
        "print(news_headlines)"
      ],
      "execution_count": 5,
      "outputs": [
        {
          "output_type": "stream",
          "text": [
            "Xavier like to play videogame with friend\n",
            "Xavier like play videogame with friend\n",
            "videogame be entertain for Xavier\n",
            "sleep eat and play videogame be Xavier favorite hobby\n",
            "both apple and orange be fruit\n",
            "Xavier be go to play videogame with friend\n",
            "['Xavier like to play videogame with friend', 'Xavier like play videogame with friend', 'videogame be entertain for Xavier', 'sleep eat and play videogame be Xavier favorite hobby', 'both apple and orange be fruit', 'Xavier be go to play videogame with friend']\n"
          ],
          "name": "stdout"
        }
      ]
    },
    {
      "cell_type": "code",
      "metadata": {
        "colab": {
          "base_uri": "https://localhost:8080/"
        },
        "id": "1yvdFG1eOGMt",
        "outputId": "3f59f524-f141-4240-b78a-2bff83eac0ff"
      },
      "source": [
        "#Load Word Embedding Model\n",
        "import gensim\n",
        "print('gensim version: %s' % gensim.__version__)\n",
        "#Download the glove from : \n",
        "#https://nlp.stanford.edu/projects/glove/\n",
        "\n",
        "#glove_model = gensim.models.KeyedVectors.load_word2vec_format('../model/text/stanford/glove/glove.6B.50d.vec')\n",
        "#gloves_model = gensim.models.KeyedVectors.load('/content/drive/MyDrive/gloves/glove.840B.300d.txt')\n",
        "gloves_model = gensim.models.KeyedVectors.load_word2vec_format('/content/drive/MyDrive/gloves/GoogleNews-vectors-negative300.bin', binary=True)"
      ],
      "execution_count": 6,
      "outputs": [
        {
          "output_type": "stream",
          "text": [
            "gensim version: 3.6.0\n"
          ],
          "name": "stdout"
        }
      ]
    },
    {
      "cell_type": "code",
      "metadata": {
        "id": "d9JrgQUFOJzW",
        "colab": {
          "base_uri": "https://localhost:8080/"
        },
        "outputId": "79723728-acd2-4a47-b27a-6f88dc394530"
      },
      "source": [
        "# Remove stopwords\n",
        "import spacy\n",
        "spacy_nlp = spacy.load('en_core_web_sm', disable=['parser', 'ner'])\n",
        "\n",
        "headline_tokens = []\n",
        "for news_headline in news_headlines:\n",
        "    headline_tokens.append([token.text.lower() for token in spacy_nlp(news_headline) if not token.is_stop])\n",
        "\n",
        "print(headline_tokens)"
      ],
      "execution_count": 10,
      "outputs": [
        {
          "output_type": "stream",
          "text": [
            "[['xavier', 'like', 'play', 'videogame', 'friend'], ['xavier', 'like', 'play', 'videogame', 'friend'], ['videogame', 'entertain', 'xavier'], ['sleep', 'eat', 'play', 'videogame', 'xavier', 'favorite', 'hobby'], ['apple', 'orange', 'fruit'], ['xavier', 'play', 'videogame', 'friend']]\n"
          ],
          "name": "stdout"
        }
      ]
    },
    {
      "cell_type": "code",
      "metadata": {
        "colab": {
          "base_uri": "https://localhost:8080/"
        },
        "id": "a7ImMzSuRRE0",
        "outputId": "953b312f-8eef-4ef6-cfd2-d9d487962e76"
      },
      "source": [
        "subject_headline = news_headlines[0]\n",
        "subject_token = headline_tokens[0]\n",
        "\n",
        "print('Headline: ', subject_headline)\n",
        "print('=' * 50)\n",
        "print()\n",
        "lineNumber = 0\n",
        "for token, headline in zip(headline_tokens, news_headlines):\n",
        "    print('-' * 50)\n",
        "    print(token)\n",
        "    print('Comparing to:', news_headlines_withoutLemma[lineNumber])\n",
        "    lineNumber += 1\n",
        "    distance = gloves_model.wmdistance(subject_token, token)\n",
        "    print('distance = %.4f' % distance)"
      ],
      "execution_count": 11,
      "outputs": [
        {
          "output_type": "stream",
          "text": [
            "Headline:  Xavier like to play videogame with friend\n",
            "==================================================\n",
            "\n",
            "--------------------------------------------------\n",
            "['xavier', 'like', 'play', 'videogame', 'friend']\n",
            "Comparing to: Xavier likes to play his videogames with his friends\n",
            "distance = 0.0000\n",
            "--------------------------------------------------\n",
            "['xavier', 'like', 'play', 'videogame', 'friend']\n",
            "Comparing to: Xavier likes playing his videogames with his friends\n",
            "distance = 0.0000\n",
            "--------------------------------------------------\n",
            "['videogame', 'entertain', 'xavier']\n",
            "Comparing to: Videogames are entertaining for Xavier\n",
            "distance = 1.9067\n",
            "--------------------------------------------------\n",
            "['sleep', 'eat', 'play', 'videogame', 'xavier', 'favorite', 'hobby']\n",
            "Comparing to: Sleeping, eating, and playing videogames are Xavier favorite hobbies\n",
            "distance = 1.9255\n",
            "--------------------------------------------------\n",
            "['apple', 'orange', 'fruit']\n",
            "Comparing to: Both apple and orange are fruit\n",
            "distance = 3.6024\n",
            "--------------------------------------------------\n",
            "['xavier', 'play', 'videogame', 'friend']\n",
            "Comparing to: Xavier is going to play videogames with his friends\n",
            "distance = 0.5645\n"
          ],
          "name": "stdout"
        }
      ]
    },
    {
      "cell_type": "code",
      "metadata": {
        "id": "w4BAFBxDRWRW"
      },
      "source": [
        "#https://github.com/makcedward/nlp/blob/master/sample/nlp-word_mover_distance.ipynb\n",
        "\n",
        "#https://www.guru99.com/word-embedding-word2vec.html\n",
        "#https://medium.com/@tusharsri/lemmatization-af85aa3e5a86"
      ],
      "execution_count": null,
      "outputs": []
    },
    {
      "cell_type": "code",
      "metadata": {
        "id": "rXToduCgMu-5"
      },
      "source": [
        "Headline:  Xavier likes to play his videogames with his friends\n",
        "==================================================\n",
        "\n",
        "--------------------------------------------------\n",
        "Comparing to: Xavier likes to play his videogames with his friends\n",
        "distance = 0.0000\n",
        "--------------------------------------------------\n",
        "Comparing to: Videogames are entertaining for Xavier\n",
        "distance = 1.8892\n",
        "--------------------------------------------------\n",
        "Comparing to: Sleeping, eating, and playing video games are Xavier favorite hobbies\n",
        "distance = 2.6138\n",
        "--------------------------------------------------\n",
        "Comparing to: Both apple and orange are fruit\n",
        "distance = 3.6715"
      ],
      "execution_count": null,
      "outputs": []
    },
    {
      "cell_type": "code",
      "metadata": {
        "id": "Sf0D9_iBaE5k"
      },
      "source": [
        ""
      ],
      "execution_count": null,
      "outputs": []
    }
  ]
}