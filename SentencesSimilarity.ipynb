{
  "nbformat": 4,
  "nbformat_minor": 0,
  "metadata": {
    "colab": {
      "name": "SentencesSimilarity.ipynb",
      "provenance": [],
      "collapsed_sections": [],
      "mount_file_id": "1OLN8B7CsfliAS0bn-lQr4mPBLXfW31fn",
      "authorship_tag": "ABX9TyNmh/he7ayNzPMqK4dynm3D",
      "include_colab_link": true
    },
    "kernelspec": {
      "name": "python3",
      "display_name": "Python 3"
    }
  },
  "cells": [
    {
      "cell_type": "markdown",
      "metadata": {
        "id": "view-in-github",
        "colab_type": "text"
      },
      "source": [
        "<a href=\"https://colab.research.google.com/github/xanasa14/MLImplementations/blob/master/SentencesSimilarity.ipynb\" target=\"_parent\"><img src=\"https://colab.research.google.com/assets/colab-badge.svg\" alt=\"Open In Colab\"/></a>"
      ]
    },
    {
      "cell_type": "code",
      "metadata": {
        "id": "YEcACYPrOBJl"
      },
      "source": [
        "\"\"\"\n",
        "    News headline get from \n",
        "    \n",
        "    https://www.reuters.com/article/us-musk-tunnel/elon-musks-boring-co-to-build-high-speed-airport-link-in-chicago-idUSKBN1JA224\n",
        "    http://money.cnn.com/2018/06/14/technology/elon-musk-boring-company-chicago/index.html\n",
        "    https://www.theverge.com/2018/6/13/17462496/elon-musk-boring-company-approved-tunnel-chicago\n",
        "\n",
        "\"\"\"\n",
        "\n",
        "news_headline1 = \"Elon Musk's Boring Co to build high-speed airport link in Chicago\"\n",
        "news_headline2 = \"Elon Musk's Boring Company to build high-speed Chicago airport link\"\n",
        "news_headline3 = \"Elon Musk’s Boring Company approved to build high-speed transit between downtown Chicago and O’Hare Airport\"\n",
        "news_headline4 = \"Both apple and orange are fruit\"\n",
        "\n",
        "\n",
        "news_headline0 = \"Xavier likes to play his videogames with his friends\"\n",
        "news_headline1 = \"Xavier likes playing his videogames with his friends\"\n",
        "\n",
        "news_headline2 = \"Videogames are entertaining for Xavier\"\n",
        "news_headline3 = \"Sleeping, eating, and playing video games are Xavier favorite hobbies\"\n",
        "\n",
        "news_headline4 = \"Both apple and orange are fruit\"\n",
        "\n",
        "news_headlines = [news_headline0 ,news_headline1,  news_headline3, news_headline2, news_headline4]"
      ],
      "execution_count": 20,
      "outputs": []
    },
    {
      "cell_type": "code",
      "metadata": {
        "colab": {
          "base_uri": "https://localhost:8080/"
        },
        "id": "1yvdFG1eOGMt",
        "outputId": "46f990d7-0637-4601-a3a6-4184e45ad7ae"
      },
      "source": [
        "#Load Word Embedding Model\n",
        "import gensim\n",
        "print('gensim version: %s' % gensim.__version__)\n",
        "#Download the glove from : \n",
        "#https://nlp.stanford.edu/projects/glove/\n",
        "\n",
        "#glove_model = gensim.models.KeyedVectors.load_word2vec_format('../model/text/stanford/glove/glove.6B.50d.vec')\n",
        "#gloves_model = gensim.models.KeyedVectors.load('/content/drive/MyDrive/gloves/glove.840B.300d.txt')\n",
        "gloves_model = gensim.models.KeyedVectors.load_word2vec_format('/content/drive/MyDrive/gloves/GoogleNews-vectors-negative300.bin', binary=True)"
      ],
      "execution_count": 16,
      "outputs": [
        {
          "output_type": "stream",
          "text": [
            "gensim version: 3.6.0\n"
          ],
          "name": "stdout"
        }
      ]
    },
    {
      "cell_type": "code",
      "metadata": {
        "id": "d9JrgQUFOJzW",
        "colab": {
          "base_uri": "https://localhost:8080/"
        },
        "outputId": "21ac51de-58f8-465b-cefb-434a26219d45"
      },
      "source": [
        "# Remove stopwords\n",
        "import spacy\n",
        "spacy_nlp = spacy.load('en_core_web_sm', disable=['parser', 'ner'])\n",
        "\n",
        "headline_tokens = []\n",
        "for news_headline in news_headlines:\n",
        "    headline_tokens.append([token.text.lower() for token in spacy_nlp(news_headline) if not token.is_stop])\n",
        "\n",
        "print(headline_tokens)"
      ],
      "execution_count": 21,
      "outputs": [
        {
          "output_type": "stream",
          "text": [
            "[['xavier', 'likes', 'play', 'videogames', 'friends'], ['xavier', 'likes', 'playing', 'videogames', 'friends'], ['sleeping', ',', 'eating', ',', 'playing', 'video', 'games', 'xavier', 'favorite', 'hobbies'], ['videogames', 'entertaining', 'xavier'], ['apple', 'orange', 'fruit']]\n"
          ],
          "name": "stdout"
        }
      ]
    },
    {
      "cell_type": "code",
      "metadata": {
        "colab": {
          "base_uri": "https://localhost:8080/"
        },
        "id": "a7ImMzSuRRE0",
        "outputId": "599d8e1b-77b7-441e-fe42-be9a4f22e976"
      },
      "source": [
        "subject_headline = news_headlines[0]\n",
        "subject_token = headline_tokens[0]\n",
        "\n",
        "print('Headline: ', subject_headline)\n",
        "print('=' * 50)\n",
        "print()\n",
        "\n",
        "for token, headline in zip(headline_tokens, news_headlines):\n",
        "    print('-' * 50)\n",
        "    print('Comparing to:', headline)\n",
        "    distance = gloves_model.wmdistance(subject_token, token)\n",
        "    print('distance = %.4f' % distance)"
      ],
      "execution_count": 22,
      "outputs": [
        {
          "output_type": "stream",
          "text": [
            "Headline:  Xavier likes to play his videogames with his friends\n",
            "==================================================\n",
            "\n",
            "--------------------------------------------------\n",
            "Comparing to: Xavier likes to play his videogames with his friends\n",
            "distance = 0.0000\n",
            "--------------------------------------------------\n",
            "Comparing to: Xavier likes playing his videogames with his friends\n",
            "distance = 0.3363\n",
            "--------------------------------------------------\n",
            "Comparing to: Sleeping, eating, and playing video games are Xavier favorite hobbies\n",
            "distance = 2.6138\n",
            "--------------------------------------------------\n",
            "Comparing to: Videogames are entertaining for Xavier\n",
            "distance = 1.8892\n",
            "--------------------------------------------------\n",
            "Comparing to: Both apple and orange are fruit\n",
            "distance = 3.6715\n"
          ],
          "name": "stdout"
        }
      ]
    },
    {
      "cell_type": "code",
      "metadata": {
        "id": "w4BAFBxDRWRW"
      },
      "source": [
        "#https://github.com/makcedward/nlp/blob/master/sample/nlp-word_mover_distance.ipynb\n",
        "\n",
        "#https://www.guru99.com/word-embedding-word2vec.html\n",
        "#https://medium.com/@tusharsri/lemmatization-af85aa3e5a86"
      ],
      "execution_count": 19,
      "outputs": []
    },
    {
      "cell_type": "code",
      "metadata": {
        "colab": {
          "base_uri": "https://localhost:8080/"
        },
        "id": "3ruv-1TdPxel",
        "outputId": "daa9273a-7b7d-48a1-92ce-3554a8b878a1"
      },
      "source": [
        "!pip install nltk\n",
        "import nltk\n",
        "nltk.download('stopwords')\n",
        "nltk.download('punkt')\n",
        "\n",
        "from nltk.corpus import stopwords  \n",
        "from nltk.tokenize import word_tokenize  \n",
        "  \n",
        "example_sent = \"\"\"This is a sample sentence, \n",
        "                  showing off the stop words filtration.\"\"\"\n",
        "  \n",
        "stop_words = set(stopwords.words('english'))  \n",
        "  \n",
        "word_tokens = word_tokenize(example_sent)  \n",
        "\n",
        "newList = []\n",
        "for examples in news_headlines:\n",
        "  newList.append(w for w in word_tokens if not w in stop_words) \n",
        "\n",
        "filtered_sentence = [w for w in word_tokens if not w in stop_words]  \n",
        "  \n",
        "\n",
        "newList[0]"
      ],
      "execution_count": 34,
      "outputs": [
        {
          "output_type": "stream",
          "text": [
            "Requirement already satisfied: nltk in /usr/local/lib/python3.6/dist-packages (3.2.5)\n",
            "Requirement already satisfied: six in /usr/local/lib/python3.6/dist-packages (from nltk) (1.15.0)\n",
            "[nltk_data] Downloading package stopwords to /root/nltk_data...\n",
            "[nltk_data]   Package stopwords is already up-to-date!\n",
            "[nltk_data] Downloading package punkt to /root/nltk_data...\n",
            "[nltk_data]   Package punkt is already up-to-date!\n"
          ],
          "name": "stdout"
        },
        {
          "output_type": "execute_result",
          "data": {
            "text/plain": [
              "<generator object <genexpr> at 0x7f373e0f2f68>"
            ]
          },
          "metadata": {
            "tags": []
          },
          "execution_count": 34
        }
      ]
    },
    {
      "cell_type": "code",
      "metadata": {
        "colab": {
          "base_uri": "https://localhost:8080/"
        },
        "id": "6yPxZEgxRict",
        "outputId": "3735184d-91b8-471f-a095-af2d72b09144"
      },
      "source": [
        "new_sentences = []\n",
        "for examples in news_headlines:\n",
        "  tmp = []\n",
        "  tmp = examples.split()\n",
        "  #print(tmp)\n",
        "  filtered_sentence = [w for w in tmp if not w in stop_words]\n",
        "  new_sentences.append(filtered_sentence)\n",
        "new_sentences"
      ],
      "execution_count": 41,
      "outputs": [
        {
          "output_type": "execute_result",
          "data": {
            "text/plain": [
              "[['Xavier', 'likes', 'play', 'videogames', 'friends'],\n",
              " ['Xavier', 'likes', 'playing', 'videogames', 'friends'],\n",
              " ['Sleeping,',\n",
              "  'eating,',\n",
              "  'playing',\n",
              "  'video',\n",
              "  'games',\n",
              "  'Xavier',\n",
              "  'favorite',\n",
              "  'hobbies'],\n",
              " ['Videogames', 'entertaining', 'Xavier'],\n",
              " ['Both', 'apple', 'orange', 'fruit']]"
            ]
          },
          "metadata": {
            "tags": []
          },
          "execution_count": 41
        }
      ]
    },
    {
      "cell_type": "code",
      "metadata": {
        "colab": {
          "base_uri": "https://localhost:8080/",
          "height": 130
        },
        "id": "rXToduCgMu-5",
        "outputId": "d6bd580a-63d1-4e16-a4a5-2c30e479a4c0"
      },
      "source": [
        "Headline:  Xavier likes to play his videogames with his friends\n",
        "==================================================\n",
        "\n",
        "--------------------------------------------------\n",
        "Comparing to: Xavier likes to play his videogames with his friends\n",
        "distance = 0.0000\n",
        "--------------------------------------------------\n",
        "Comparing to: Videogames are entertaining for Xavier\n",
        "distance = 1.8892\n",
        "--------------------------------------------------\n",
        "Comparing to: Sleeping, eating, and playing video games are Xavier favorite hobbies\n",
        "distance = 2.6138\n",
        "--------------------------------------------------\n",
        "Comparing to: Both apple and orange are fruit\n",
        "distance = 3.6715"
      ],
      "execution_count": 10,
      "outputs": [
        {
          "output_type": "error",
          "ename": "SyntaxError",
          "evalue": "ignored",
          "traceback": [
            "\u001b[0;36m  File \u001b[0;32m\"<ipython-input-10-9d5d6b77e2a1>\"\u001b[0;36m, line \u001b[0;32m1\u001b[0m\n\u001b[0;31m    Headline:  Xavier likes to play his videogames with his friends\u001b[0m\n\u001b[0m                          ^\u001b[0m\n\u001b[0;31mSyntaxError\u001b[0m\u001b[0;31m:\u001b[0m invalid syntax\n"
          ]
        }
      ]
    },
    {
      "cell_type": "code",
      "metadata": {
        "colab": {
          "base_uri": "https://localhost:8080/"
        },
        "id": "XFlpS45UOHJS",
        "outputId": "53882b95-effc-45d9-d1ed-8b525138330c"
      },
      "source": [
        "subject_headline = new_sentences[0]\n",
        "subject_token = new_sentences[0]\n",
        "\n",
        "print('Headline: ', subject_headline)\n",
        "print('=' * 50)\n",
        "print()\n",
        "\n",
        "for token, headline in zip(new_sentences, new_sentences):\n",
        "    print('-' * 50)\n",
        "    print('Comparing to:', headline)\n",
        "    distance = gloves_model.wmdistance(subject_token, token)\n",
        "    print('distance = %.4f' % distance)"
      ],
      "execution_count": 43,
      "outputs": [
        {
          "output_type": "stream",
          "text": [
            "Headline:  ['Xavier', 'likes', 'play', 'videogames', 'friends']\n",
            "==================================================\n",
            "\n",
            "--------------------------------------------------\n",
            "Comparing to: ['Xavier', 'likes', 'play', 'videogames', 'friends']\n",
            "distance = 0.0000\n",
            "--------------------------------------------------\n",
            "Comparing to: ['Xavier', 'likes', 'playing', 'videogames', 'friends']\n",
            "distance = 0.3363\n",
            "--------------------------------------------------\n",
            "Comparing to: ['Sleeping,', 'eating,', 'playing', 'video', 'games', 'Xavier', 'favorite', 'hobbies']\n",
            "distance = 2.4527\n",
            "--------------------------------------------------\n",
            "Comparing to: ['Videogames', 'entertaining', 'Xavier']\n",
            "distance = 2.5615\n",
            "--------------------------------------------------\n",
            "Comparing to: ['Both', 'apple', 'orange', 'fruit']\n",
            "distance = 3.8315\n"
          ],
          "name": "stdout"
        }
      ]
    },
    {
      "cell_type": "code",
      "metadata": {
        "id": "yUdAv9tuSs0J"
      },
      "source": [
        ""
      ],
      "execution_count": null,
      "outputs": []
    }
  ]
}