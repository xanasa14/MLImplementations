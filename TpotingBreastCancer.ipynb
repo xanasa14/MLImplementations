{
  "nbformat": 4,
  "nbformat_minor": 0,
  "metadata": {
    "colab": {
      "name": "TpotingBreastCancer.ipynb",
      "provenance": [],
      "mount_file_id": "1IdYYyTQq-SZ7F7DZycCg6WELZe412GQr",
      "authorship_tag": "ABX9TyO7Qw2zSTLKf6hgpxcHHGaE",
      "include_colab_link": true
    },
    "kernelspec": {
      "name": "python3",
      "display_name": "Python 3"
    },
    "accelerator": "GPU",
    "widgets": {
      "application/vnd.jupyter.widget-state+json": {
        "bbf3a3fe7a9841af879a5a779cb2d23b": {
          "model_module": "@jupyter-widgets/controls",
          "model_name": "HBoxModel",
          "state": {
            "_view_name": "HBoxView",
            "_dom_classes": [],
            "_model_name": "HBoxModel",
            "_view_module": "@jupyter-widgets/controls",
            "_model_module_version": "1.5.0",
            "_view_count": null,
            "_view_module_version": "1.5.0",
            "box_style": "",
            "layout": "IPY_MODEL_066f62ed73a140aeb35bfb72b77bdd49",
            "_model_module": "@jupyter-widgets/controls",
            "children": [
              "IPY_MODEL_35445dd856ed4dcb93bb0a60f99dc000",
              "IPY_MODEL_d6063cabce0e428091ff55ae7a0228ad"
            ]
          }
        },
        "066f62ed73a140aeb35bfb72b77bdd49": {
          "model_module": "@jupyter-widgets/base",
          "model_name": "LayoutModel",
          "state": {
            "_view_name": "LayoutView",
            "grid_template_rows": null,
            "right": null,
            "justify_content": null,
            "_view_module": "@jupyter-widgets/base",
            "overflow": null,
            "_model_module_version": "1.2.0",
            "_view_count": null,
            "flex_flow": null,
            "width": null,
            "min_width": null,
            "border": null,
            "align_items": null,
            "bottom": null,
            "_model_module": "@jupyter-widgets/base",
            "top": null,
            "grid_column": null,
            "overflow_y": null,
            "overflow_x": null,
            "grid_auto_flow": null,
            "grid_area": null,
            "grid_template_columns": null,
            "flex": null,
            "_model_name": "LayoutModel",
            "justify_items": null,
            "grid_row": null,
            "max_height": null,
            "align_content": null,
            "visibility": null,
            "align_self": null,
            "height": null,
            "min_height": null,
            "padding": null,
            "grid_auto_rows": null,
            "grid_gap": null,
            "max_width": null,
            "order": null,
            "_view_module_version": "1.2.0",
            "grid_template_areas": null,
            "object_position": null,
            "object_fit": null,
            "grid_auto_columns": null,
            "margin": null,
            "display": null,
            "left": null
          }
        },
        "35445dd856ed4dcb93bb0a60f99dc000": {
          "model_module": "@jupyter-widgets/controls",
          "model_name": "FloatProgressModel",
          "state": {
            "_view_name": "ProgressView",
            "style": "IPY_MODEL_b3ab1acf2151449f8e194d419ad531c0",
            "_dom_classes": [],
            "description": "Optimization Progress: 100%",
            "_model_name": "FloatProgressModel",
            "bar_style": "",
            "max": 2050,
            "_view_module": "@jupyter-widgets/controls",
            "_model_module_version": "1.5.0",
            "value": 2050,
            "_view_count": null,
            "_view_module_version": "1.5.0",
            "orientation": "horizontal",
            "min": 0,
            "description_tooltip": null,
            "_model_module": "@jupyter-widgets/controls",
            "layout": "IPY_MODEL_edcaeb7c4ef747c6af6a32e9d73b8a64"
          }
        },
        "d6063cabce0e428091ff55ae7a0228ad": {
          "model_module": "@jupyter-widgets/controls",
          "model_name": "HTMLModel",
          "state": {
            "_view_name": "HTMLView",
            "style": "IPY_MODEL_8bfab09ce0bb4fb7b84f3774762733d1",
            "_dom_classes": [],
            "description": "",
            "_model_name": "HTMLModel",
            "placeholder": "​",
            "_view_module": "@jupyter-widgets/controls",
            "_model_module_version": "1.5.0",
            "value": " 2050/2050 [42:23&lt;00:00,  1.20s/pipeline]",
            "_view_count": null,
            "_view_module_version": "1.5.0",
            "description_tooltip": null,
            "_model_module": "@jupyter-widgets/controls",
            "layout": "IPY_MODEL_79522f5ff4804bf497e9d69c6c81f710"
          }
        },
        "b3ab1acf2151449f8e194d419ad531c0": {
          "model_module": "@jupyter-widgets/controls",
          "model_name": "ProgressStyleModel",
          "state": {
            "_view_name": "StyleView",
            "_model_name": "ProgressStyleModel",
            "description_width": "initial",
            "_view_module": "@jupyter-widgets/base",
            "_model_module_version": "1.5.0",
            "_view_count": null,
            "_view_module_version": "1.2.0",
            "bar_color": null,
            "_model_module": "@jupyter-widgets/controls"
          }
        },
        "edcaeb7c4ef747c6af6a32e9d73b8a64": {
          "model_module": "@jupyter-widgets/base",
          "model_name": "LayoutModel",
          "state": {
            "_view_name": "LayoutView",
            "grid_template_rows": null,
            "right": null,
            "justify_content": null,
            "_view_module": "@jupyter-widgets/base",
            "overflow": null,
            "_model_module_version": "1.2.0",
            "_view_count": null,
            "flex_flow": null,
            "width": null,
            "min_width": null,
            "border": null,
            "align_items": null,
            "bottom": null,
            "_model_module": "@jupyter-widgets/base",
            "top": null,
            "grid_column": null,
            "overflow_y": null,
            "overflow_x": null,
            "grid_auto_flow": null,
            "grid_area": null,
            "grid_template_columns": null,
            "flex": null,
            "_model_name": "LayoutModel",
            "justify_items": null,
            "grid_row": null,
            "max_height": null,
            "align_content": null,
            "visibility": null,
            "align_self": null,
            "height": null,
            "min_height": null,
            "padding": null,
            "grid_auto_rows": null,
            "grid_gap": null,
            "max_width": null,
            "order": null,
            "_view_module_version": "1.2.0",
            "grid_template_areas": null,
            "object_position": null,
            "object_fit": null,
            "grid_auto_columns": null,
            "margin": null,
            "display": null,
            "left": null
          }
        },
        "8bfab09ce0bb4fb7b84f3774762733d1": {
          "model_module": "@jupyter-widgets/controls",
          "model_name": "DescriptionStyleModel",
          "state": {
            "_view_name": "StyleView",
            "_model_name": "DescriptionStyleModel",
            "description_width": "",
            "_view_module": "@jupyter-widgets/base",
            "_model_module_version": "1.5.0",
            "_view_count": null,
            "_view_module_version": "1.2.0",
            "_model_module": "@jupyter-widgets/controls"
          }
        },
        "79522f5ff4804bf497e9d69c6c81f710": {
          "model_module": "@jupyter-widgets/base",
          "model_name": "LayoutModel",
          "state": {
            "_view_name": "LayoutView",
            "grid_template_rows": null,
            "right": null,
            "justify_content": null,
            "_view_module": "@jupyter-widgets/base",
            "overflow": null,
            "_model_module_version": "1.2.0",
            "_view_count": null,
            "flex_flow": null,
            "width": null,
            "min_width": null,
            "border": null,
            "align_items": null,
            "bottom": null,
            "_model_module": "@jupyter-widgets/base",
            "top": null,
            "grid_column": null,
            "overflow_y": null,
            "overflow_x": null,
            "grid_auto_flow": null,
            "grid_area": null,
            "grid_template_columns": null,
            "flex": null,
            "_model_name": "LayoutModel",
            "justify_items": null,
            "grid_row": null,
            "max_height": null,
            "align_content": null,
            "visibility": null,
            "align_self": null,
            "height": null,
            "min_height": null,
            "padding": null,
            "grid_auto_rows": null,
            "grid_gap": null,
            "max_width": null,
            "order": null,
            "_view_module_version": "1.2.0",
            "grid_template_areas": null,
            "object_position": null,
            "object_fit": null,
            "grid_auto_columns": null,
            "margin": null,
            "display": null,
            "left": null
          }
        }
      }
    }
  },
  "cells": [
    {
      "cell_type": "markdown",
      "metadata": {
        "id": "view-in-github",
        "colab_type": "text"
      },
      "source": [
        "<a href=\"https://colab.research.google.com/github/xanasa14/MLImplementations/blob/master/TpotingBreastCancer.ipynb\" target=\"_parent\"><img src=\"https://colab.research.google.com/assets/colab-badge.svg\" alt=\"Open In Colab\"/></a>"
      ]
    },
    {
      "cell_type": "code",
      "metadata": {
        "colab": {
          "base_uri": "https://localhost:8080/"
        },
        "id": "MUuuertkIifp",
        "outputId": "ea049422-8e22-4481-f31c-24edfdacf081"
      },
      "source": [
        "\r\n",
        "#importing the libraries\r\n",
        "import numpy as np\r\n",
        "import matplotlib.pyplot as plt\r\n",
        "import pandas as pd\r\n",
        "import seaborn as sns \r\n",
        "import random\r\n",
        "\r\n",
        "#importing our cancer dataset\r\n",
        "dataset = pd.read_csv('/content/drive/MyDrive/BreastCancer/breastCancerData.csv')\r\n",
        "col_list = ['mean radius', 'mean texture', 'mean perimeter', 'mean area','mean smoothness','mean compactness','mean concavity','mean concave points','mean symmetry','mean fractal dimension','radius error']\r\n",
        "\r\n",
        "#X = dataset['radius mean', 'texture mean', 'perimeter mean', 'area_mean','smoothness_mean','compactness mean','concavity mean','concave points mean','symmetry mean','fractal dimension mean','radius se' ]\r\n",
        "df = pd.read_csv(\"/content/drive/MyDrive/BreastCancer/breastCancerData.csv\", usecols=col_list)#dataset['diagnosis']\r\n",
        "#Setting our X and Y for trainig and testing \r\n",
        "X  = dataset\r\n",
        "\r\n",
        "Y = dataset['target']\r\n",
        "\r\n",
        "\r\n",
        "X = X.drop('target', 1)\r\n",
        "print(X)\r\n",
        "print(Y)"
      ],
      "execution_count": 1,
      "outputs": [
        {
          "output_type": "stream",
          "text": [
            "     mean radius  mean texture  ...  worst symmetry  worst fractal dimension\n",
            "0          17.99         10.38  ...          0.4601                  0.11890\n",
            "1          20.57         17.77  ...          0.2750                  0.08902\n",
            "2          19.69         21.25  ...          0.3613                  0.08758\n",
            "3          11.42         20.38  ...          0.6638                  0.17300\n",
            "4          20.29         14.34  ...          0.2364                  0.07678\n",
            "..           ...           ...  ...             ...                      ...\n",
            "564        21.56         22.39  ...          0.2060                  0.07115\n",
            "565        20.13         28.25  ...          0.2572                  0.06637\n",
            "566        16.60         28.08  ...          0.2218                  0.07820\n",
            "567        20.60         29.33  ...          0.4087                  0.12400\n",
            "568         7.76         24.54  ...          0.2871                  0.07039\n",
            "\n",
            "[569 rows x 30 columns]\n",
            "0      0\n",
            "1      0\n",
            "2      0\n",
            "3      0\n",
            "4      0\n",
            "      ..\n",
            "564    0\n",
            "565    0\n",
            "566    0\n",
            "567    0\n",
            "568    1\n",
            "Name: target, Length: 569, dtype: int64\n"
          ],
          "name": "stdout"
        }
      ]
    },
    {
      "cell_type": "code",
      "metadata": {
        "colab": {
          "base_uri": "https://localhost:8080/"
        },
        "id": "rqUusKJ_IqEd",
        "outputId": "a89b799d-0bf3-4985-e66e-dd4890fca30a"
      },
      "source": [
        "\r\n",
        "print(\"Cancer data set dimensions : {}\".format(X.shape))\r\n",
        "#Cancer data set dimensions : (569, 32)"
      ],
      "execution_count": 2,
      "outputs": [
        {
          "output_type": "stream",
          "text": [
            "Cancer data set dimensions : (569, 30)\n"
          ],
          "name": "stdout"
        }
      ]
    },
    {
      "cell_type": "code",
      "metadata": {
        "colab": {
          "base_uri": "https://localhost:8080/"
        },
        "id": "r47IbUjSIwMr",
        "outputId": "ad0a51b8-90b0-400e-cb49-b2d3e8835938"
      },
      "source": [
        "#checking all nulls \r\n",
        "dataset.isnull().sum()\r\n",
        "dataset.isna().sum()\r\n"
      ],
      "execution_count": 3,
      "outputs": [
        {
          "output_type": "execute_result",
          "data": {
            "text/plain": [
              "mean radius                0\n",
              "mean texture               0\n",
              "mean perimeter             0\n",
              "mean area                  0\n",
              "mean smoothness            0\n",
              "mean compactness           0\n",
              "mean concavity             0\n",
              "mean concave points        0\n",
              "mean symmetry              0\n",
              "mean fractal dimension     0\n",
              "radius error               0\n",
              "texture error              0\n",
              "perimeter error            0\n",
              "area error                 0\n",
              "smoothness error           0\n",
              "compactness error          0\n",
              "concavity error            0\n",
              "concave points error       0\n",
              "symmetry error             0\n",
              "fractal dimension error    0\n",
              "worst radius               0\n",
              "worst texture              0\n",
              "worst perimeter            0\n",
              "worst area                 0\n",
              "worst smoothness           0\n",
              "worst compactness          0\n",
              "worst concavity            0\n",
              "worst concave points       0\n",
              "worst symmetry             0\n",
              "worst fractal dimension    0\n",
              "target                     0\n",
              "dtype: int64"
            ]
          },
          "metadata": {
            "tags": []
          },
          "execution_count": 3
        }
      ]
    },
    {
      "cell_type": "code",
      "metadata": {
        "colab": {
          "base_uri": "https://localhost:8080/"
        },
        "id": "rnjPuW-0IyrK",
        "outputId": "f4c3c805-84d7-4045-e4db-123b60bbf059"
      },
      "source": [
        "!pip install deap update_checker tqdm stopit xgboost\r\n"
      ],
      "execution_count": 4,
      "outputs": [
        {
          "output_type": "stream",
          "text": [
            "Collecting deap\n",
            "\u001b[?25l  Downloading https://files.pythonhosted.org/packages/0a/eb/2bd0a32e3ce757fb26264765abbaedd6d4d3640d90219a513aeabd08ee2b/deap-1.3.1-cp36-cp36m-manylinux2010_x86_64.whl (157kB)\n",
            "\r\u001b[K     |██                              | 10kB 22.5MB/s eta 0:00:01\r\u001b[K     |████▏                           | 20kB 29.2MB/s eta 0:00:01\r\u001b[K     |██████▎                         | 30kB 21.9MB/s eta 0:00:01\r\u001b[K     |████████▍                       | 40kB 19.9MB/s eta 0:00:01\r\u001b[K     |██████████▍                     | 51kB 21.0MB/s eta 0:00:01\r\u001b[K     |████████████▌                   | 61kB 15.8MB/s eta 0:00:01\r\u001b[K     |██████████████▋                 | 71kB 16.4MB/s eta 0:00:01\r\u001b[K     |████████████████▊               | 81kB 17.1MB/s eta 0:00:01\r\u001b[K     |██████████████████▊             | 92kB 15.5MB/s eta 0:00:01\r\u001b[K     |████████████████████▉           | 102kB 16.6MB/s eta 0:00:01\r\u001b[K     |███████████████████████         | 112kB 16.6MB/s eta 0:00:01\r\u001b[K     |█████████████████████████       | 122kB 16.6MB/s eta 0:00:01\r\u001b[K     |███████████████████████████▏    | 133kB 16.6MB/s eta 0:00:01\r\u001b[K     |█████████████████████████████▏  | 143kB 16.6MB/s eta 0:00:01\r\u001b[K     |███████████████████████████████▎| 153kB 16.6MB/s eta 0:00:01\r\u001b[K     |████████████████████████████████| 163kB 16.6MB/s \n",
            "\u001b[?25hCollecting update_checker\n",
            "  Downloading https://files.pythonhosted.org/packages/0c/ba/8dd7fa5f0b1c6a8ac62f8f57f7e794160c1f86f31c6d0fb00f582372a3e4/update_checker-0.18.0-py3-none-any.whl\n",
            "Requirement already satisfied: tqdm in /usr/local/lib/python3.6/dist-packages (4.41.1)\n",
            "Collecting stopit\n",
            "  Downloading https://files.pythonhosted.org/packages/35/58/e8bb0b0fb05baf07bbac1450c447d753da65f9701f551dca79823ce15d50/stopit-1.1.2.tar.gz\n",
            "Requirement already satisfied: xgboost in /usr/local/lib/python3.6/dist-packages (0.90)\n",
            "Requirement already satisfied: numpy in /usr/local/lib/python3.6/dist-packages (from deap) (1.19.5)\n",
            "Requirement already satisfied: requests>=2.3.0 in /usr/local/lib/python3.6/dist-packages (from update_checker) (2.23.0)\n",
            "Requirement already satisfied: scipy in /usr/local/lib/python3.6/dist-packages (from xgboost) (1.4.1)\n",
            "Requirement already satisfied: urllib3!=1.25.0,!=1.25.1,<1.26,>=1.21.1 in /usr/local/lib/python3.6/dist-packages (from requests>=2.3.0->update_checker) (1.24.3)\n",
            "Requirement already satisfied: idna<3,>=2.5 in /usr/local/lib/python3.6/dist-packages (from requests>=2.3.0->update_checker) (2.10)\n",
            "Requirement already satisfied: certifi>=2017.4.17 in /usr/local/lib/python3.6/dist-packages (from requests>=2.3.0->update_checker) (2020.12.5)\n",
            "Requirement already satisfied: chardet<4,>=3.0.2 in /usr/local/lib/python3.6/dist-packages (from requests>=2.3.0->update_checker) (3.0.4)\n",
            "Building wheels for collected packages: stopit\n",
            "  Building wheel for stopit (setup.py) ... \u001b[?25l\u001b[?25hdone\n",
            "  Created wheel for stopit: filename=stopit-1.1.2-cp36-none-any.whl size=11957 sha256=588835046cb719504c90dd643357ccc2c85344129017df199a4816bb498fb3d9\n",
            "  Stored in directory: /root/.cache/pip/wheels/3c/85/2b/2580190404636bfc63e8de3dff629c03bb795021e1983a6cc7\n",
            "Successfully built stopit\n",
            "Installing collected packages: deap, update-checker, stopit\n",
            "Successfully installed deap-1.3.1 stopit-1.1.2 update-checker-0.18.0\n"
          ],
          "name": "stdout"
        }
      ]
    },
    {
      "cell_type": "code",
      "metadata": {
        "colab": {
          "base_uri": "https://localhost:8080/"
        },
        "id": "N4sXHkygJpLD",
        "outputId": "ee4c8bd6-25b7-4757-d92e-78cac87c0058"
      },
      "source": [
        "!pip install tpot\r\n"
      ],
      "execution_count": 5,
      "outputs": [
        {
          "output_type": "stream",
          "text": [
            "Collecting tpot\n",
            "\u001b[?25l  Downloading https://files.pythonhosted.org/packages/b2/55/a7185198f554ea19758e5ac4641f100c94cba4585e738e2e48e3c40a0b7f/TPOT-0.11.7-py3-none-any.whl (87kB)\n",
            "\r\u001b[K     |███▊                            | 10kB 23.3MB/s eta 0:00:01\r\u001b[K     |███████▌                        | 20kB 30.5MB/s eta 0:00:01\r\u001b[K     |███████████▎                    | 30kB 20.8MB/s eta 0:00:01\r\u001b[K     |███████████████                 | 40kB 18.7MB/s eta 0:00:01\r\u001b[K     |██████████████████▉             | 51kB 20.1MB/s eta 0:00:01\r\u001b[K     |██████████████████████▋         | 61kB 15.1MB/s eta 0:00:01\r\u001b[K     |██████████████████████████▎     | 71kB 14.9MB/s eta 0:00:01\r\u001b[K     |██████████████████████████████  | 81kB 14.3MB/s eta 0:00:01\r\u001b[K     |████████████████████████████████| 92kB 8.4MB/s \n",
            "\u001b[?25hRequirement already satisfied: joblib>=0.13.2 in /usr/local/lib/python3.6/dist-packages (from tpot) (1.0.0)\n",
            "Requirement already satisfied: stopit>=1.1.1 in /usr/local/lib/python3.6/dist-packages (from tpot) (1.1.2)\n",
            "Collecting xgboost>=1.1.0\n",
            "\u001b[?25l  Downloading https://files.pythonhosted.org/packages/2e/57/bf5026701c384decd2b995eb39d86587a103ba4eb26f8a9b1811db0896d3/xgboost-1.3.3-py3-none-manylinux2010_x86_64.whl (157.5MB)\n",
            "\u001b[K     |████████████████████████████████| 157.5MB 47kB/s \n",
            "\u001b[?25hRequirement already satisfied: pandas>=0.24.2 in /usr/local/lib/python3.6/dist-packages (from tpot) (1.1.5)\n",
            "Requirement already satisfied: scipy>=1.3.1 in /usr/local/lib/python3.6/dist-packages (from tpot) (1.4.1)\n",
            "Requirement already satisfied: deap>=1.2 in /usr/local/lib/python3.6/dist-packages (from tpot) (1.3.1)\n",
            "Requirement already satisfied: numpy>=1.16.3 in /usr/local/lib/python3.6/dist-packages (from tpot) (1.19.5)\n",
            "Requirement already satisfied: scikit-learn>=0.22.0 in /usr/local/lib/python3.6/dist-packages (from tpot) (0.22.2.post1)\n",
            "Requirement already satisfied: tqdm>=4.36.1 in /usr/local/lib/python3.6/dist-packages (from tpot) (4.41.1)\n",
            "Requirement already satisfied: update-checker>=0.16 in /usr/local/lib/python3.6/dist-packages (from tpot) (0.18.0)\n",
            "Requirement already satisfied: python-dateutil>=2.7.3 in /usr/local/lib/python3.6/dist-packages (from pandas>=0.24.2->tpot) (2.8.1)\n",
            "Requirement already satisfied: pytz>=2017.2 in /usr/local/lib/python3.6/dist-packages (from pandas>=0.24.2->tpot) (2018.9)\n",
            "Requirement already satisfied: requests>=2.3.0 in /usr/local/lib/python3.6/dist-packages (from update-checker>=0.16->tpot) (2.23.0)\n",
            "Requirement already satisfied: six>=1.5 in /usr/local/lib/python3.6/dist-packages (from python-dateutil>=2.7.3->pandas>=0.24.2->tpot) (1.15.0)\n",
            "Requirement already satisfied: idna<3,>=2.5 in /usr/local/lib/python3.6/dist-packages (from requests>=2.3.0->update-checker>=0.16->tpot) (2.10)\n",
            "Requirement already satisfied: certifi>=2017.4.17 in /usr/local/lib/python3.6/dist-packages (from requests>=2.3.0->update-checker>=0.16->tpot) (2020.12.5)\n",
            "Requirement already satisfied: urllib3!=1.25.0,!=1.25.1,<1.26,>=1.21.1 in /usr/local/lib/python3.6/dist-packages (from requests>=2.3.0->update-checker>=0.16->tpot) (1.24.3)\n",
            "Requirement already satisfied: chardet<4,>=3.0.2 in /usr/local/lib/python3.6/dist-packages (from requests>=2.3.0->update-checker>=0.16->tpot) (3.0.4)\n",
            "Installing collected packages: xgboost, tpot\n",
            "  Found existing installation: xgboost 0.90\n",
            "    Uninstalling xgboost-0.90:\n",
            "      Successfully uninstalled xgboost-0.90\n",
            "Successfully installed tpot-0.11.7 xgboost-1.3.3\n"
          ],
          "name": "stdout"
        }
      ]
    },
    {
      "cell_type": "code",
      "metadata": {
        "colab": {
          "base_uri": "https://localhost:8080/",
          "height": 1000,
          "referenced_widgets": [
            "bbf3a3fe7a9841af879a5a779cb2d23b",
            "066f62ed73a140aeb35bfb72b77bdd49",
            "35445dd856ed4dcb93bb0a60f99dc000",
            "d6063cabce0e428091ff55ae7a0228ad",
            "b3ab1acf2151449f8e194d419ad531c0",
            "edcaeb7c4ef747c6af6a32e9d73b8a64",
            "8bfab09ce0bb4fb7b84f3774762733d1",
            "79522f5ff4804bf497e9d69c6c81f710"
          ]
        },
        "id": "ZUtLEj6qI5C0",
        "outputId": "66063f47-a08b-410a-c9e9-d007b54bb1fe"
      },
      "source": [
        "from tpot import TPOTClassifier\r\n",
        "from sklearn.model_selection import train_test_split\r\n",
        "\r\n",
        "\r\n",
        "X_train, X_test, y_train, y_test = train_test_split(X, Y,\r\n",
        "                                                    test_size=0.3, random_state=41)\r\n",
        "\r\n",
        "tpot = TPOTClassifier(generations=40, population_size=50, verbosity=2, random_state=42)\r\n",
        "tpot.fit(X_train, y_train)\r\n",
        "print(tpot.score(X_test, y_test))\r\n",
        "tpot.export('/content/drive/MyDrive/TPOT/tpot_digits_pipeline.py')\r\n",
        "\r\n"
      ],
      "execution_count": 6,
      "outputs": [
        {
          "output_type": "stream",
          "text": [
            "/usr/local/lib/python3.6/dist-packages/sklearn/externals/six.py:31: FutureWarning: The module is deprecated in version 0.21 and will be removed in version 0.23 since we've dropped support for Python 2.7. Please rely on the official version of six (https://pypi.org/project/six/).\n",
            "  \"(https://pypi.org/project/six/).\", FutureWarning)\n",
            "/usr/local/lib/python3.6/dist-packages/sklearn/utils/deprecation.py:144: FutureWarning: The sklearn.neighbors.base module is  deprecated in version 0.22 and will be removed in version 0.24. The corresponding classes / functions should instead be imported from sklearn.neighbors. Anything that cannot be imported from sklearn.neighbors is now part of the private API.\n",
            "  warnings.warn(message, FutureWarning)\n"
          ],
          "name": "stderr"
        },
        {
          "output_type": "display_data",
          "data": {
            "application/vnd.jupyter.widget-view+json": {
              "model_id": "bbf3a3fe7a9841af879a5a779cb2d23b",
              "version_minor": 0,
              "version_major": 2
            },
            "text/plain": [
              "HBox(children=(FloatProgress(value=0.0, description='Optimization Progress', max=2050.0, style=ProgressStyle(d…"
            ]
          },
          "metadata": {
            "tags": []
          }
        },
        {
          "output_type": "stream",
          "text": [
            "\r\n",
            "Generation 1 - Current best internal CV score: 0.9699683544303797\n",
            "\n",
            "Generation 2 - Current best internal CV score: 0.9699683544303797\n",
            "\n",
            "Generation 3 - Current best internal CV score: 0.9699683544303797\n",
            "\n",
            "Generation 4 - Current best internal CV score: 0.9699683544303797\n",
            "\n",
            "Generation 5 - Current best internal CV score: 0.9699683544303797\n",
            "\n",
            "Generation 6 - Current best internal CV score: 0.9724683544303797\n",
            "\n",
            "Generation 7 - Current best internal CV score: 0.9724683544303797\n",
            "\n",
            "Generation 8 - Current best internal CV score: 0.9724683544303797\n",
            "\n",
            "Generation 9 - Current best internal CV score: 0.9724683544303797\n",
            "\n",
            "Generation 10 - Current best internal CV score: 0.9724999999999999\n",
            "\n",
            "Generation 11 - Current best internal CV score: 0.9724999999999999\n",
            "\n",
            "Generation 12 - Current best internal CV score: 0.9724999999999999\n",
            "\n",
            "Generation 13 - Current best internal CV score: 0.9724999999999999\n",
            "\n",
            "Generation 14 - Current best internal CV score: 0.9724999999999999\n",
            "\n",
            "Generation 15 - Current best internal CV score: 0.9724999999999999\n",
            "\n",
            "Generation 16 - Current best internal CV score: 0.975\n",
            "\n",
            "Generation 17 - Current best internal CV score: 0.975\n",
            "\n",
            "Generation 18 - Current best internal CV score: 0.975\n",
            "\n",
            "Generation 19 - Current best internal CV score: 0.975\n",
            "\n",
            "Generation 20 - Current best internal CV score: 0.975\n",
            "\n",
            "Generation 21 - Current best internal CV score: 0.975\n",
            "\n",
            "Generation 22 - Current best internal CV score: 0.9775\n",
            "\n",
            "Generation 23 - Current best internal CV score: 0.9775\n",
            "\n",
            "Generation 24 - Current best internal CV score: 0.9775\n",
            "\n",
            "Generation 25 - Current best internal CV score: 0.9775\n",
            "\n",
            "Generation 26 - Current best internal CV score: 0.9775\n",
            "\n",
            "Generation 27 - Current best internal CV score: 0.9775\n",
            "\n",
            "Generation 28 - Current best internal CV score: 0.9775\n",
            "\n",
            "Generation 29 - Current best internal CV score: 0.9775\n",
            "\n",
            "Generation 30 - Current best internal CV score: 0.9775\n",
            "\n",
            "Generation 31 - Current best internal CV score: 0.9775\n",
            "\n",
            "Generation 32 - Current best internal CV score: 0.9775\n",
            "\n",
            "Generation 33 - Current best internal CV score: 0.9775\n",
            "\n",
            "Generation 34 - Current best internal CV score: 0.9775\n",
            "\n",
            "Generation 35 - Current best internal CV score: 0.9775\n",
            "\n",
            "Generation 36 - Current best internal CV score: 0.9775\n",
            "\n",
            "Generation 37 - Current best internal CV score: 0.9775\n",
            "\n",
            "Generation 38 - Current best internal CV score: 0.9775\n",
            "\n",
            "Generation 39 - Current best internal CV score: 0.9775\n",
            "\n",
            "Generation 40 - Current best internal CV score: 0.9775\n",
            "\n",
            "Best pipeline: MLPClassifier(StandardScaler(KNeighborsClassifier(input_matrix, n_neighbors=20, p=2, weights=uniform)), alpha=0.0001, learning_rate_init=0.01)\n",
            "0.9883040935672515\n"
          ],
          "name": "stdout"
        }
      ]
    },
    {
      "cell_type": "code",
      "metadata": {
        "id": "2Wz6p5qnLBPN"
      },
      "source": [
        ""
      ],
      "execution_count": null,
      "outputs": []
    }
  ]
}