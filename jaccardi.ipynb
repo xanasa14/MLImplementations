{
  "nbformat": 4,
  "nbformat_minor": 0,
  "metadata": {
    "colab": {
      "name": "jaccardi.ipynb",
      "provenance": [],
      "authorship_tag": "ABX9TyOI/M/4J5iqnHpYh0CJO5rf",
      "include_colab_link": true
    },
    "kernelspec": {
      "name": "python3",
      "display_name": "Python 3"
    }
  },
  "cells": [
    {
      "cell_type": "markdown",
      "metadata": {
        "id": "view-in-github",
        "colab_type": "text"
      },
      "source": [
        "<a href=\"https://colab.research.google.com/github/xanasa14/MLImplementations/blob/master/jaccardi.ipynb\" target=\"_parent\"><img src=\"https://colab.research.google.com/assets/colab-badge.svg\" alt=\"Open In Colab\"/></a>"
      ]
    },
    {
      "cell_type": "code",
      "metadata": {
        "colab": {
          "base_uri": "https://localhost:8080/"
        },
        "id": "BnOVOMv93RIM",
        "outputId": "551ae413-f09b-4e92-95fb-390204c0299f"
      },
      "source": [
        "from collections import Counter\r\n",
        "from sklearn.feature_extraction.text import CountVectorizer\r\n",
        "from sklearn.metrics.pairwise import cosine_similarity\r\n",
        "import spacy\r\n",
        "\r\n",
        "nlp = spacy.load('en_core_web_sm', disable=['parser', 'ner'])\r\n",
        "def get_cosine_sim(*strs): \r\n",
        "    vectors = [t for t in get_vectors(*strs)]\r\n",
        "    return cosine_similarity(vectors)\r\n",
        "    \r\n",
        "def get_vectors(*strs):\r\n",
        "    text = [t for t in strs]\r\n",
        "    vectorizer = CountVectorizer(text)\r\n",
        "    vectorizer.fit(text)\r\n",
        "    return vectorizer.transform(text).toarray()\r\n",
        "def get_jaccard_sim(str1, str2): \r\n",
        "  a = set(str1.split()) \r\n",
        "  b = set(str2.split())\r\n",
        "  c = a.intersection(b)\r\n",
        "  print(c)\r\n",
        "  return float(len(c)) / (len(a) + len(b) - len(c))\r\n",
        "get_vectors(str1,str2, str3)"
      ],
      "execution_count": 27,
      "outputs": [
        {
          "output_type": "execute_result",
          "data": {
            "text/plain": [
              "array([[0, 0, 0, 1, 0, 2, 1, 0, 1, 0, 1, 1, 1, 1],\n",
              "       [0, 0, 0, 1, 0, 2, 1, 0, 0, 1, 0, 1, 1, 1],\n",
              "       [1, 1, 1, 0, 1, 0, 0, 1, 0, 0, 0, 0, 0, 0]])"
            ]
          },
          "metadata": {
            "tags": []
          },
          "execution_count": 27
        }
      ]
    },
    {
      "cell_type": "code",
      "metadata": {
        "colab": {
          "base_uri": "https://localhost:8080/"
        },
        "id": "ttNXxXR85vu3",
        "outputId": "995d115b-c574-4f2a-9dc2-06b954f3a530"
      },
      "source": [
        "str1 = \"Xavier likes to play his videogames with his friends\"\r\n",
        "str2 = \"Xavier likes playing his videogames with his friends\"\r\n",
        "str3 = \"apples, and pears are healthy\"\r\n",
        "str4 = \"AI is our friend and it has been friendly\"\r\n",
        "str5 = \"AI and humans have always been friendly\"\r\n",
        "strs= []\r\n",
        "strsWithoutLemma = [str1 ,str2,  str3, str4, str5 ]\r\n",
        "# Python program to remove punctuation from a given string \r\n",
        "# Function to remove punctuation \r\n",
        "def Punctuation(string): \r\n",
        "    string= string.replace(\"-PRON-\",\"\")      \r\n",
        "  \r\n",
        "    # punctuation marks \r\n",
        "    punctuations = '''!()-[]{};:'\"\\,<>./?@#$%^&*_~'''\r\n",
        "  \r\n",
        "    # traverse the given string and if any punctuation \r\n",
        "    # marks occur replace it with null \r\n",
        "    for x in string.lower(): \r\n",
        "        if x in punctuations: \r\n",
        "            string = string.replace(x, \"\") \r\n",
        "  \r\n",
        "    # Print string without punctuation \r\n",
        "    return (string) \r\n",
        "    \r\n",
        "#Lemmatizing from beggning\r\n",
        "for headlines in strsWithoutLemma:\r\n",
        "   doc = nlp(Punctuation(headlines))\r\n",
        "   line = \" \".join([token.lemma_ for token in doc])\r\n",
        "   line= line.replace(\"-PRON-\",\"\") \r\n",
        "   line= line.replace(\"  \",\" \")      \r\n",
        "     \r\n",
        "\r\n",
        "   print(line)\r\n",
        "   strs.append(line)\r\n",
        "print(strs)"
      ],
      "execution_count": 28,
      "outputs": [
        {
          "output_type": "stream",
          "text": [
            "Xavier like to play videogame with friend\n",
            "Xavier like play videogame with friend\n",
            "apple and pear be healthy\n",
            "AI be friend and have be friendly\n",
            "AI and human have always be friendly\n",
            "['Xavier like to play videogame with friend', 'Xavier like play videogame with friend', 'apple and pear be healthy', 'AI be friend and have be friendly', 'AI and human have always be friendly']\n"
          ],
          "name": "stdout"
        }
      ]
    },
    {
      "cell_type": "code",
      "metadata": {
        "colab": {
          "base_uri": "https://localhost:8080/"
        },
        "id": "_yCTYD-N6XnP",
        "outputId": "75adb21e-08e1-4035-9be1-59b39efca66b"
      },
      "source": [
        "# Remove stopwords\r\n",
        "import spacy\r\n",
        "spacy_nlp = spacy.load('en_core_web_sm', disable=['parser', 'ner'])\r\n",
        "\r\n",
        "str_tokens = []\r\n",
        "for stri in strs:\r\n",
        "  str_tokens.append([token.text.lower() for token in spacy_nlp(stri) if not token.is_stop])\r\n",
        "\r\n",
        "print(str_tokens)"
      ],
      "execution_count": 31,
      "outputs": [
        {
          "output_type": "stream",
          "text": [
            "[['xavier', 'like', 'play', 'videogame', 'friend'], ['xavier', 'like', 'play', 'videogame', 'friend'], ['apple', 'pear', 'healthy'], ['ai', 'friend', 'friendly'], ['ai', 'human', 'friendly']]\n"
          ],
          "name": "stdout"
        }
      ]
    },
    {
      "cell_type": "code",
      "metadata": {
        "colab": {
          "base_uri": "https://localhost:8080/"
        },
        "id": "RrvQQRm43Uxm",
        "outputId": "ee37b615-353f-4f25-e5b6-60c5c6270139"
      },
      "source": [
        "first = str_tokens[0]\r\n",
        "second = str_tokens[1]\r\n",
        "third = str_tokens[2]\r\n",
        "fourth =str_tokens[3]\r\n",
        "line1 = \" \".join([word for word in first])\r\n",
        "line2 = \" \".join([word for word in second])\r\n",
        "line3 = \" \".join([word for word in third])\r\n",
        "line4 = \" \".join([word for word in fourth])\r\n",
        "print(line1)\r\n",
        "print(line4)\r\n",
        "get_cosine_sim(line1,line4)"
      ],
      "execution_count": 57,
      "outputs": [
        {
          "output_type": "stream",
          "text": [
            "xavier like play videogame friend\n",
            "ai friend friendly\n"
          ],
          "name": "stdout"
        },
        {
          "output_type": "execute_result",
          "data": {
            "text/plain": [
              "array([[1.        , 0.25819889],\n",
              "       [0.25819889, 1.        ]])"
            ]
          },
          "metadata": {
            "tags": []
          },
          "execution_count": 57
        }
      ]
    },
    {
      "cell_type": "code",
      "metadata": {
        "colab": {
          "base_uri": "https://localhost:8080/"
        },
        "id": "LpNCcMw03azt",
        "outputId": "5adc290b-b9ef-4366-dea6-172b1d1aa060"
      },
      "source": [
        "get_jaccard_sim(line1,line4)"
      ],
      "execution_count": 56,
      "outputs": [
        {
          "output_type": "stream",
          "text": [
            "{'friend'}\n"
          ],
          "name": "stdout"
        },
        {
          "output_type": "execute_result",
          "data": {
            "text/plain": [
              "0.14285714285714285"
            ]
          },
          "metadata": {
            "tags": []
          },
          "execution_count": 56
        }
      ]
    },
    {
      "cell_type": "code",
      "metadata": {
        "id": "vde5gJ4h3uqZ"
      },
      "source": [
        ""
      ],
      "execution_count": null,
      "outputs": []
    }
  ]
}