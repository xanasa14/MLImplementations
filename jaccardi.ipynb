{
  "nbformat": 4,
  "nbformat_minor": 0,
  "metadata": {
    "colab": {
      "name": "jaccardi.ipynb",
      "provenance": [],
      "authorship_tag": "ABX9TyMdSmrMU1rLeDjP24Dh+P28",
      "include_colab_link": true
    },
    "kernelspec": {
      "name": "python3",
      "display_name": "Python 3"
    }
  },
  "cells": [
    {
      "cell_type": "markdown",
      "metadata": {
        "id": "view-in-github",
        "colab_type": "text"
      },
      "source": [
        "<a href=\"https://colab.research.google.com/github/xanasa14/MLImplementations/blob/master/jaccardi.ipynb\" target=\"_parent\"><img src=\"https://colab.research.google.com/assets/colab-badge.svg\" alt=\"Open In Colab\"/></a>"
      ]
    },
    {
      "cell_type": "code",
      "metadata": {
        "colab": {
          "base_uri": "https://localhost:8080/"
        },
        "id": "BnOVOMv93RIM",
        "outputId": "d7f86da2-cd1f-46e7-fcd3-224d4ee7e690"
      },
      "source": [
        "from collections import Counter\r\n",
        "from sklearn.feature_extraction.text import CountVectorizer\r\n",
        "from sklearn.metrics.pairwise import cosine_similarity\r\n",
        "def get_cosine_sim(*strs): \r\n",
        "    vectors = [t for t in get_vectors(*strs)]\r\n",
        "    return cosine_similarity(vectors)\r\n",
        "    \r\n",
        "def get_vectors(*strs):\r\n",
        "    text = [t for t in strs]\r\n",
        "    vectorizer = CountVectorizer(text)\r\n",
        "    vectorizer.fit(text)\r\n",
        "    return vectorizer.transform(text).toarray()\r\n",
        "def get_jaccard_sim(str1, str2): \r\n",
        "  a = set(str1.split()) \r\n",
        "  b = set(str2.split())\r\n",
        "  c = a.intersection(b)\r\n",
        "  print(c)\r\n",
        "  return float(len(c)) / (len(a) + len(b) - len(c))\r\n",
        "get_vectors(str1,str2, str3)"
      ],
      "execution_count": 19,
      "outputs": [
        {
          "output_type": "execute_result",
          "data": {
            "text/plain": [
              "array([[0, 0, 0, 1, 0, 0, 1, 0, 1, 1],\n",
              "       [0, 0, 0, 0, 1, 0, 1, 0, 0, 1],\n",
              "       [1, 1, 1, 0, 0, 1, 0, 1, 0, 0]])"
            ]
          },
          "metadata": {
            "tags": []
          },
          "execution_count": 19
        }
      ]
    },
    {
      "cell_type": "code",
      "metadata": {
        "colab": {
          "base_uri": "https://localhost:8080/"
        },
        "id": "RrvQQRm43Uxm",
        "outputId": "52c1ab3a-4649-4d14-ce06-ee303e190c05"
      },
      "source": [
        "str1 = \"Xavier likes to play his videogames with his friends\"\r\n",
        "str2 = \"Xavier likes playing his videogames with his friends\"\r\n",
        "str3 = \"apples, and pears are healthy\"\r\n",
        "str4 = \"AI is our friend and it has been friendly\"\r\n",
        "str5 = \"AI and humans have always been friendly\"\r\n",
        "get_cosine_sim(str1,str2)"
      ],
      "execution_count": 21,
      "outputs": [
        {
          "output_type": "execute_result",
          "data": {
            "text/plain": [
              "array([[1.        , 0.85811633],\n",
              "       [0.85811633, 1.        ]])"
            ]
          },
          "metadata": {
            "tags": []
          },
          "execution_count": 21
        }
      ]
    },
    {
      "cell_type": "code",
      "metadata": {
        "colab": {
          "base_uri": "https://localhost:8080/"
        },
        "id": "LpNCcMw03azt",
        "outputId": "73472b8e-8650-4678-e8a6-f08e97dbd7b0"
      },
      "source": [
        "get_jaccard_sim(str1,str2)"
      ],
      "execution_count": 23,
      "outputs": [
        {
          "output_type": "stream",
          "text": [
            "{'likes', 'Xavier', 'friends', 'videogames', 'with', 'his'}\n"
          ],
          "name": "stdout"
        },
        {
          "output_type": "execute_result",
          "data": {
            "text/plain": [
              "0.6666666666666666"
            ]
          },
          "metadata": {
            "tags": []
          },
          "execution_count": 23
        }
      ]
    },
    {
      "cell_type": "code",
      "metadata": {
        "id": "vde5gJ4h3uqZ"
      },
      "source": [
        ""
      ],
      "execution_count": null,
      "outputs": []
    }
  ]
}