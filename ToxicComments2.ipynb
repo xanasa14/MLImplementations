{
  "nbformat": 4,
  "nbformat_minor": 0,
  "metadata": {
    "colab": {
      "name": "ToxicComments2.ipynb",
      "provenance": [],
      "collapsed_sections": [],
      "mount_file_id": "1JpAiSCKfypEvfqw6wZzZXfW0V2cpwkq8",
      "authorship_tag": "ABX9TyPepwCBoyUT5JYsd5Q6uS+i",
      "include_colab_link": true
    },
    "kernelspec": {
      "name": "python3",
      "display_name": "Python 3"
    },
    "accelerator": "GPU"
  },
  "cells": [
    {
      "cell_type": "markdown",
      "metadata": {
        "id": "view-in-github",
        "colab_type": "text"
      },
      "source": [
        "<a href=\"https://colab.research.google.com/github/xanasa14/MLImplementations/blob/master/ToxicComments2.ipynb\" target=\"_parent\"><img src=\"https://colab.research.google.com/assets/colab-badge.svg\" alt=\"Open In Colab\"/></a>"
      ]
    },
    {
      "cell_type": "code",
      "metadata": {
        "id": "Y1ID_yFClfuW"
      },
      "source": [
        "from numpy import array\r\n",
        "from keras.preprocessing.text import one_hot\r\n",
        "from keras.preprocessing.sequence import pad_sequences\r\n",
        "from keras.models import Sequential\r\n",
        "from keras.layers.core import Activation, Dropout, Dense\r\n",
        "from keras.layers import Flatten, LSTM\r\n",
        "from keras.layers import GlobalMaxPooling1D\r\n",
        "from keras.models import Model\r\n",
        "from keras.layers.embeddings import Embedding\r\n",
        "from sklearn.model_selection import train_test_split\r\n",
        "from keras.preprocessing.text import Tokenizer\r\n",
        "from keras.layers import Input\r\n",
        "from keras.layers.merge import Concatenate\r\n",
        "import pandas as pd\r\n",
        "import numpy as np\r\n",
        "import re\r\n",
        "import nltk \r\n",
        "\r\n",
        "import matplotlib.pyplot as plt\r\n",
        "#98.08%"
      ],
      "execution_count": 1,
      "outputs": []
    },
    {
      "cell_type": "code",
      "metadata": {
        "id": "plRCxG05li53"
      },
      "source": [
        "#toxic_comments = pd.read_csv(\"/content/train.csv\",engine='python',encoding='utf-8')\r\n",
        "toxic_comments = pd.read_csv(\"/content/drive/MyDrive/toxicCommentz/train.csv\")\r\n"
      ],
      "execution_count": 2,
      "outputs": []
    },
    {
      "cell_type": "code",
      "metadata": {
        "colab": {
          "base_uri": "https://localhost:8080/"
        },
        "id": "2eE_wGawlrMt",
        "outputId": "760e1a71-3491-4428-97d0-ddba57a4600a"
      },
      "source": [
        "print(toxic_comments['comment_text'].head())\r\n",
        "print(toxic_comments.shape)\r\n",
        "#to clear out all links from our text\r\n",
        "toxic_comments['comment_text'] = toxic_comments['comment_text'].str.replace('(http|https):\\/\\/www.[A-Za-z0-9.\\/?]+\\s', '', case=False)\r\n",
        "print(toxic_comments['comment_text'][123])\r\n"
      ],
      "execution_count": 3,
      "outputs": [
        {
          "output_type": "stream",
          "text": [
            "0    Explanation\\nWhy the edits made under my usern...\n",
            "1    D'aww! He matches this background colour I'm s...\n",
            "2    Hey man, I'm really not trying to edit war. It...\n",
            "3    \"\\nMore\\nI can't make any real suggestions on ...\n",
            "4    You, sir, are my hero. Any chance you remember...\n",
            "Name: comment_text, dtype: object\n",
            "(159571, 8)\n",
            "Should say something about his views as an educationalist and socialist political commentator.\n",
            "\n",
            "Link to mentions this a bit - he stood as an election candidate for Respect.\n"
          ],
          "name": "stdout"
        }
      ]
    },
    {
      "cell_type": "code",
      "metadata": {
        "colab": {
          "base_uri": "https://localhost:8080/",
          "height": 233
        },
        "id": "L9yIs8HmmFyB",
        "outputId": "217bae52-a2e1-44ec-94cb-917a727e0768"
      },
      "source": [
        "print(len(toxic_comments['comment_text']))\r\n",
        "toxic_comments.dropna(subset=['comment_text'], inplace=True)\r\n",
        "print(len(toxic_comments['comment_text']))\r\n",
        "toxic_comments.head(5)\r\n"
      ],
      "execution_count": 4,
      "outputs": [
        {
          "output_type": "stream",
          "text": [
            "159571\n",
            "159571\n"
          ],
          "name": "stdout"
        },
        {
          "output_type": "execute_result",
          "data": {
            "text/html": [
              "<div>\n",
              "<style scoped>\n",
              "    .dataframe tbody tr th:only-of-type {\n",
              "        vertical-align: middle;\n",
              "    }\n",
              "\n",
              "    .dataframe tbody tr th {\n",
              "        vertical-align: top;\n",
              "    }\n",
              "\n",
              "    .dataframe thead th {\n",
              "        text-align: right;\n",
              "    }\n",
              "</style>\n",
              "<table border=\"1\" class=\"dataframe\">\n",
              "  <thead>\n",
              "    <tr style=\"text-align: right;\">\n",
              "      <th></th>\n",
              "      <th>id</th>\n",
              "      <th>comment_text</th>\n",
              "      <th>toxic</th>\n",
              "      <th>severe_toxic</th>\n",
              "      <th>obscene</th>\n",
              "      <th>threat</th>\n",
              "      <th>insult</th>\n",
              "      <th>identity_hate</th>\n",
              "    </tr>\n",
              "  </thead>\n",
              "  <tbody>\n",
              "    <tr>\n",
              "      <th>0</th>\n",
              "      <td>0000997932d777bf</td>\n",
              "      <td>Explanation\\nWhy the edits made under my usern...</td>\n",
              "      <td>0</td>\n",
              "      <td>0</td>\n",
              "      <td>0</td>\n",
              "      <td>0</td>\n",
              "      <td>0</td>\n",
              "      <td>0</td>\n",
              "    </tr>\n",
              "    <tr>\n",
              "      <th>1</th>\n",
              "      <td>000103f0d9cfb60f</td>\n",
              "      <td>D'aww! He matches this background colour I'm s...</td>\n",
              "      <td>0</td>\n",
              "      <td>0</td>\n",
              "      <td>0</td>\n",
              "      <td>0</td>\n",
              "      <td>0</td>\n",
              "      <td>0</td>\n",
              "    </tr>\n",
              "    <tr>\n",
              "      <th>2</th>\n",
              "      <td>000113f07ec002fd</td>\n",
              "      <td>Hey man, I'm really not trying to edit war. It...</td>\n",
              "      <td>0</td>\n",
              "      <td>0</td>\n",
              "      <td>0</td>\n",
              "      <td>0</td>\n",
              "      <td>0</td>\n",
              "      <td>0</td>\n",
              "    </tr>\n",
              "    <tr>\n",
              "      <th>3</th>\n",
              "      <td>0001b41b1c6bb37e</td>\n",
              "      <td>\"\\nMore\\nI can't make any real suggestions on ...</td>\n",
              "      <td>0</td>\n",
              "      <td>0</td>\n",
              "      <td>0</td>\n",
              "      <td>0</td>\n",
              "      <td>0</td>\n",
              "      <td>0</td>\n",
              "    </tr>\n",
              "    <tr>\n",
              "      <th>4</th>\n",
              "      <td>0001d958c54c6e35</td>\n",
              "      <td>You, sir, are my hero. Any chance you remember...</td>\n",
              "      <td>0</td>\n",
              "      <td>0</td>\n",
              "      <td>0</td>\n",
              "      <td>0</td>\n",
              "      <td>0</td>\n",
              "      <td>0</td>\n",
              "    </tr>\n",
              "  </tbody>\n",
              "</table>\n",
              "</div>"
            ],
            "text/plain": [
              "                 id  ... identity_hate\n",
              "0  0000997932d777bf  ...             0\n",
              "1  000103f0d9cfb60f  ...             0\n",
              "2  000113f07ec002fd  ...             0\n",
              "3  0001b41b1c6bb37e  ...             0\n",
              "4  0001d958c54c6e35  ...             0\n",
              "\n",
              "[5 rows x 8 columns]"
            ]
          },
          "metadata": {
            "tags": []
          },
          "execution_count": 4
        }
      ]
    },
    {
      "cell_type": "code",
      "metadata": {
        "colab": {
          "base_uri": "https://localhost:8080/",
          "height": 1000
        },
        "id": "5XNRjk27xWdd",
        "outputId": "d5bf2513-f24d-48ba-f56e-fc2690f3415d"
      },
      "source": [
        "print(len(toxic_comments['comment_text']))\r\n",
        "toxic_comments.dropna(subset=['comment_text'], inplace=True)\r\n",
        "print(len(toxic_comments['comment_text']))\r\n",
        "toxic_comments.head(30)"
      ],
      "execution_count": null,
      "outputs": [
        {
          "output_type": "stream",
          "text": [
            "159571\n",
            "159571\n"
          ],
          "name": "stdout"
        },
        {
          "output_type": "execute_result",
          "data": {
            "text/html": [
              "<div>\n",
              "<style scoped>\n",
              "    .dataframe tbody tr th:only-of-type {\n",
              "        vertical-align: middle;\n",
              "    }\n",
              "\n",
              "    .dataframe tbody tr th {\n",
              "        vertical-align: top;\n",
              "    }\n",
              "\n",
              "    .dataframe thead th {\n",
              "        text-align: right;\n",
              "    }\n",
              "</style>\n",
              "<table border=\"1\" class=\"dataframe\">\n",
              "  <thead>\n",
              "    <tr style=\"text-align: right;\">\n",
              "      <th></th>\n",
              "      <th>id</th>\n",
              "      <th>comment_text</th>\n",
              "      <th>toxic</th>\n",
              "      <th>severe_toxic</th>\n",
              "      <th>obscene</th>\n",
              "      <th>threat</th>\n",
              "      <th>insult</th>\n",
              "      <th>identity_hate</th>\n",
              "    </tr>\n",
              "  </thead>\n",
              "  <tbody>\n",
              "    <tr>\n",
              "      <th>0</th>\n",
              "      <td>0000997932d777bf</td>\n",
              "      <td>Explanation\\nWhy the edits made under my usern...</td>\n",
              "      <td>0</td>\n",
              "      <td>0</td>\n",
              "      <td>0</td>\n",
              "      <td>0</td>\n",
              "      <td>0</td>\n",
              "      <td>0</td>\n",
              "    </tr>\n",
              "    <tr>\n",
              "      <th>1</th>\n",
              "      <td>000103f0d9cfb60f</td>\n",
              "      <td>D'aww! He matches this background colour I'm s...</td>\n",
              "      <td>0</td>\n",
              "      <td>0</td>\n",
              "      <td>0</td>\n",
              "      <td>0</td>\n",
              "      <td>0</td>\n",
              "      <td>0</td>\n",
              "    </tr>\n",
              "    <tr>\n",
              "      <th>2</th>\n",
              "      <td>000113f07ec002fd</td>\n",
              "      <td>Hey man, I'm really not trying to edit war. It...</td>\n",
              "      <td>0</td>\n",
              "      <td>0</td>\n",
              "      <td>0</td>\n",
              "      <td>0</td>\n",
              "      <td>0</td>\n",
              "      <td>0</td>\n",
              "    </tr>\n",
              "    <tr>\n",
              "      <th>3</th>\n",
              "      <td>0001b41b1c6bb37e</td>\n",
              "      <td>\"\\nMore\\nI can't make any real suggestions on ...</td>\n",
              "      <td>0</td>\n",
              "      <td>0</td>\n",
              "      <td>0</td>\n",
              "      <td>0</td>\n",
              "      <td>0</td>\n",
              "      <td>0</td>\n",
              "    </tr>\n",
              "    <tr>\n",
              "      <th>4</th>\n",
              "      <td>0001d958c54c6e35</td>\n",
              "      <td>You, sir, are my hero. Any chance you remember...</td>\n",
              "      <td>0</td>\n",
              "      <td>0</td>\n",
              "      <td>0</td>\n",
              "      <td>0</td>\n",
              "      <td>0</td>\n",
              "      <td>0</td>\n",
              "    </tr>\n",
              "    <tr>\n",
              "      <th>5</th>\n",
              "      <td>00025465d4725e87</td>\n",
              "      <td>\"\\n\\nCongratulations from me as well, use the ...</td>\n",
              "      <td>0</td>\n",
              "      <td>0</td>\n",
              "      <td>0</td>\n",
              "      <td>0</td>\n",
              "      <td>0</td>\n",
              "      <td>0</td>\n",
              "    </tr>\n",
              "    <tr>\n",
              "      <th>6</th>\n",
              "      <td>0002bcb3da6cb337</td>\n",
              "      <td>COCKSUCKER BEFORE YOU PISS AROUND ON MY WORK</td>\n",
              "      <td>1</td>\n",
              "      <td>1</td>\n",
              "      <td>1</td>\n",
              "      <td>0</td>\n",
              "      <td>1</td>\n",
              "      <td>0</td>\n",
              "    </tr>\n",
              "    <tr>\n",
              "      <th>7</th>\n",
              "      <td>00031b1e95af7921</td>\n",
              "      <td>Your vandalism to the Matt Shirvington article...</td>\n",
              "      <td>0</td>\n",
              "      <td>0</td>\n",
              "      <td>0</td>\n",
              "      <td>0</td>\n",
              "      <td>0</td>\n",
              "      <td>0</td>\n",
              "    </tr>\n",
              "    <tr>\n",
              "      <th>8</th>\n",
              "      <td>00037261f536c51d</td>\n",
              "      <td>Sorry if the word 'nonsense' was offensive to ...</td>\n",
              "      <td>0</td>\n",
              "      <td>0</td>\n",
              "      <td>0</td>\n",
              "      <td>0</td>\n",
              "      <td>0</td>\n",
              "      <td>0</td>\n",
              "    </tr>\n",
              "    <tr>\n",
              "      <th>9</th>\n",
              "      <td>00040093b2687caa</td>\n",
              "      <td>alignment on this subject and which are contra...</td>\n",
              "      <td>0</td>\n",
              "      <td>0</td>\n",
              "      <td>0</td>\n",
              "      <td>0</td>\n",
              "      <td>0</td>\n",
              "      <td>0</td>\n",
              "    </tr>\n",
              "    <tr>\n",
              "      <th>10</th>\n",
              "      <td>0005300084f90edc</td>\n",
              "      <td>\"\\nFair use rationale for Image:Wonju.jpg\\n\\nT...</td>\n",
              "      <td>0</td>\n",
              "      <td>0</td>\n",
              "      <td>0</td>\n",
              "      <td>0</td>\n",
              "      <td>0</td>\n",
              "      <td>0</td>\n",
              "    </tr>\n",
              "    <tr>\n",
              "      <th>11</th>\n",
              "      <td>00054a5e18b50dd4</td>\n",
              "      <td>bbq \\n\\nbe a man and lets discuss it-maybe ove...</td>\n",
              "      <td>0</td>\n",
              "      <td>0</td>\n",
              "      <td>0</td>\n",
              "      <td>0</td>\n",
              "      <td>0</td>\n",
              "      <td>0</td>\n",
              "    </tr>\n",
              "    <tr>\n",
              "      <th>12</th>\n",
              "      <td>0005c987bdfc9d4b</td>\n",
              "      <td>Hey... what is it..\\n@ | talk .\\nWhat is it......</td>\n",
              "      <td>1</td>\n",
              "      <td>0</td>\n",
              "      <td>0</td>\n",
              "      <td>0</td>\n",
              "      <td>0</td>\n",
              "      <td>0</td>\n",
              "    </tr>\n",
              "    <tr>\n",
              "      <th>13</th>\n",
              "      <td>0006f16e4e9f292e</td>\n",
              "      <td>Before you start throwing accusations and warn...</td>\n",
              "      <td>0</td>\n",
              "      <td>0</td>\n",
              "      <td>0</td>\n",
              "      <td>0</td>\n",
              "      <td>0</td>\n",
              "      <td>0</td>\n",
              "    </tr>\n",
              "    <tr>\n",
              "      <th>14</th>\n",
              "      <td>00070ef96486d6f9</td>\n",
              "      <td>Oh, and the girl above started her arguments w...</td>\n",
              "      <td>0</td>\n",
              "      <td>0</td>\n",
              "      <td>0</td>\n",
              "      <td>0</td>\n",
              "      <td>0</td>\n",
              "      <td>0</td>\n",
              "    </tr>\n",
              "    <tr>\n",
              "      <th>15</th>\n",
              "      <td>00078f8ce7eb276d</td>\n",
              "      <td>\"\\n\\nJuelz Santanas Age\\n\\nIn 2002, Juelz Sant...</td>\n",
              "      <td>0</td>\n",
              "      <td>0</td>\n",
              "      <td>0</td>\n",
              "      <td>0</td>\n",
              "      <td>0</td>\n",
              "      <td>0</td>\n",
              "    </tr>\n",
              "    <tr>\n",
              "      <th>16</th>\n",
              "      <td>0007e25b2121310b</td>\n",
              "      <td>Bye! \\n\\nDon't look, come or think of comming ...</td>\n",
              "      <td>1</td>\n",
              "      <td>0</td>\n",
              "      <td>0</td>\n",
              "      <td>0</td>\n",
              "      <td>0</td>\n",
              "      <td>0</td>\n",
              "    </tr>\n",
              "    <tr>\n",
              "      <th>17</th>\n",
              "      <td>000897889268bc93</td>\n",
              "      <td>REDIRECT Talk:Voydan Pop Georgiev- Chernodrinski</td>\n",
              "      <td>0</td>\n",
              "      <td>0</td>\n",
              "      <td>0</td>\n",
              "      <td>0</td>\n",
              "      <td>0</td>\n",
              "      <td>0</td>\n",
              "    </tr>\n",
              "    <tr>\n",
              "      <th>18</th>\n",
              "      <td>0009801bd85e5806</td>\n",
              "      <td>The Mitsurugi point made no sense - why not ar...</td>\n",
              "      <td>0</td>\n",
              "      <td>0</td>\n",
              "      <td>0</td>\n",
              "      <td>0</td>\n",
              "      <td>0</td>\n",
              "      <td>0</td>\n",
              "    </tr>\n",
              "    <tr>\n",
              "      <th>19</th>\n",
              "      <td>0009eaea3325de8c</td>\n",
              "      <td>Don't mean to bother you \\n\\nI see that you're...</td>\n",
              "      <td>0</td>\n",
              "      <td>0</td>\n",
              "      <td>0</td>\n",
              "      <td>0</td>\n",
              "      <td>0</td>\n",
              "      <td>0</td>\n",
              "    </tr>\n",
              "    <tr>\n",
              "      <th>20</th>\n",
              "      <td>000b08c464718505</td>\n",
              "      <td>\"\\n\\n Regarding your recent edits \\n\\nOnce aga...</td>\n",
              "      <td>0</td>\n",
              "      <td>0</td>\n",
              "      <td>0</td>\n",
              "      <td>0</td>\n",
              "      <td>0</td>\n",
              "      <td>0</td>\n",
              "    </tr>\n",
              "    <tr>\n",
              "      <th>21</th>\n",
              "      <td>000bfd0867774845</td>\n",
              "      <td>\"\\nGood to know. About me, yeah, I'm studying ...</td>\n",
              "      <td>0</td>\n",
              "      <td>0</td>\n",
              "      <td>0</td>\n",
              "      <td>0</td>\n",
              "      <td>0</td>\n",
              "      <td>0</td>\n",
              "    </tr>\n",
              "    <tr>\n",
              "      <th>22</th>\n",
              "      <td>000c0dfd995809fa</td>\n",
              "      <td>\"\\n\\n Snowflakes are NOT always symmetrical! \\...</td>\n",
              "      <td>0</td>\n",
              "      <td>0</td>\n",
              "      <td>0</td>\n",
              "      <td>0</td>\n",
              "      <td>0</td>\n",
              "      <td>0</td>\n",
              "    </tr>\n",
              "    <tr>\n",
              "      <th>23</th>\n",
              "      <td>000c6a3f0cd3ba8e</td>\n",
              "      <td>\"\\n\\n The Signpost: 24 September 2012 \\n\\n Rea...</td>\n",
              "      <td>0</td>\n",
              "      <td>0</td>\n",
              "      <td>0</td>\n",
              "      <td>0</td>\n",
              "      <td>0</td>\n",
              "      <td>0</td>\n",
              "    </tr>\n",
              "    <tr>\n",
              "      <th>24</th>\n",
              "      <td>000cfee90f50d471</td>\n",
              "      <td>\"\\n\\nRe-considering 1st paragraph edit?\\nI don...</td>\n",
              "      <td>0</td>\n",
              "      <td>0</td>\n",
              "      <td>0</td>\n",
              "      <td>0</td>\n",
              "      <td>0</td>\n",
              "      <td>0</td>\n",
              "    </tr>\n",
              "    <tr>\n",
              "      <th>25</th>\n",
              "      <td>000eefc67a2c930f</td>\n",
              "      <td>Radial symmetry \\n\\nSeveral now extinct lineag...</td>\n",
              "      <td>0</td>\n",
              "      <td>0</td>\n",
              "      <td>0</td>\n",
              "      <td>0</td>\n",
              "      <td>0</td>\n",
              "      <td>0</td>\n",
              "    </tr>\n",
              "    <tr>\n",
              "      <th>26</th>\n",
              "      <td>000f35deef84dc4a</td>\n",
              "      <td>There's no need to apologize. A Wikipedia arti...</td>\n",
              "      <td>0</td>\n",
              "      <td>0</td>\n",
              "      <td>0</td>\n",
              "      <td>0</td>\n",
              "      <td>0</td>\n",
              "      <td>0</td>\n",
              "    </tr>\n",
              "    <tr>\n",
              "      <th>27</th>\n",
              "      <td>000ffab30195c5e1</td>\n",
              "      <td>Yes, because the mother of the child in the ca...</td>\n",
              "      <td>0</td>\n",
              "      <td>0</td>\n",
              "      <td>0</td>\n",
              "      <td>0</td>\n",
              "      <td>0</td>\n",
              "      <td>0</td>\n",
              "    </tr>\n",
              "    <tr>\n",
              "      <th>28</th>\n",
              "      <td>0010307a3a50a353</td>\n",
              "      <td>\"\\nOk. But it will take a bit of work but I ca...</td>\n",
              "      <td>0</td>\n",
              "      <td>0</td>\n",
              "      <td>0</td>\n",
              "      <td>0</td>\n",
              "      <td>0</td>\n",
              "      <td>0</td>\n",
              "    </tr>\n",
              "    <tr>\n",
              "      <th>29</th>\n",
              "      <td>0010833a96e1f886</td>\n",
              "      <td>\"== A barnstar for you! ==\\n\\n  The Real Life ...</td>\n",
              "      <td>0</td>\n",
              "      <td>0</td>\n",
              "      <td>0</td>\n",
              "      <td>0</td>\n",
              "      <td>0</td>\n",
              "      <td>0</td>\n",
              "    </tr>\n",
              "  </tbody>\n",
              "</table>\n",
              "</div>"
            ],
            "text/plain": [
              "                  id  ... identity_hate\n",
              "0   0000997932d777bf  ...             0\n",
              "1   000103f0d9cfb60f  ...             0\n",
              "2   000113f07ec002fd  ...             0\n",
              "3   0001b41b1c6bb37e  ...             0\n",
              "4   0001d958c54c6e35  ...             0\n",
              "5   00025465d4725e87  ...             0\n",
              "6   0002bcb3da6cb337  ...             0\n",
              "7   00031b1e95af7921  ...             0\n",
              "8   00037261f536c51d  ...             0\n",
              "9   00040093b2687caa  ...             0\n",
              "10  0005300084f90edc  ...             0\n",
              "11  00054a5e18b50dd4  ...             0\n",
              "12  0005c987bdfc9d4b  ...             0\n",
              "13  0006f16e4e9f292e  ...             0\n",
              "14  00070ef96486d6f9  ...             0\n",
              "15  00078f8ce7eb276d  ...             0\n",
              "16  0007e25b2121310b  ...             0\n",
              "17  000897889268bc93  ...             0\n",
              "18  0009801bd85e5806  ...             0\n",
              "19  0009eaea3325de8c  ...             0\n",
              "20  000b08c464718505  ...             0\n",
              "21  000bfd0867774845  ...             0\n",
              "22  000c0dfd995809fa  ...             0\n",
              "23  000c6a3f0cd3ba8e  ...             0\n",
              "24  000cfee90f50d471  ...             0\n",
              "25  000eefc67a2c930f  ...             0\n",
              "26  000f35deef84dc4a  ...             0\n",
              "27  000ffab30195c5e1  ...             0\n",
              "28  0010307a3a50a353  ...             0\n",
              "29  0010833a96e1f886  ...             0\n",
              "\n",
              "[30 rows x 8 columns]"
            ]
          },
          "metadata": {
            "tags": []
          },
          "execution_count": 5
        }
      ]
    },
    {
      "cell_type": "code",
      "metadata": {
        "id": "qEWZF0NamKfL"
      },
      "source": [
        "counter = 0\r\n",
        "offensive = []\r\n",
        "nonOffensive = []\r\n",
        "for i in range(len(toxic_comments)):\r\n",
        "  #if (i <= 500):\r\n",
        "  if (int(toxic_comments[\"toxic\"][i]) == 1 or int(toxic_comments[\"severe_toxic\"][i]) == 1 or \r\n",
        "      int(toxic_comments[\"obscene\"][i]) == 1 or int(toxic_comments[\"threat\"][i]) == 1 or\r\n",
        "      int(toxic_comments[\"insult\"][i]) == 1 or int(toxic_comments[\"identity_hate\"][i]) == 1):\r\n",
        "    offensive.append(1)\r\n",
        "    nonOffensive.append(0)\r\n",
        "  else: \r\n",
        "    nonOffensive.append(1)\r\n",
        "    offensive.append(0)\r\n",
        "\r\n",
        "toxic_comments['offensive'] = offensive\r\n",
        "toxic_comments['nonOffensive'] = nonOffensive\r\n",
        "\r\n",
        "\r\n"
      ],
      "execution_count": 5,
      "outputs": []
    },
    {
      "cell_type": "code",
      "metadata": {
        "id": "xJVqypc9mNf4"
      },
      "source": [
        "#toxic_comments_labels = toxic_comments[[\"toxic\", \"severe_toxic\", \"obscene\", \"threat\", \"insult\", \"identity_hate\"]]\r\n",
        "toxic_comments_labels = toxic_comments[[\"offensive\",\"nonOffensive\"]]\r\n"
      ],
      "execution_count": 6,
      "outputs": []
    },
    {
      "cell_type": "code",
      "metadata": {
        "colab": {
          "base_uri": "https://localhost:8080/",
          "height": 556
        },
        "id": "u1EYXXiqmZgc",
        "outputId": "87c3e74e-df97-4f9e-a2bf-967ec3e406b4"
      },
      "source": [
        "\r\n",
        "fig_size = plt.rcParams[\"figure.figsize\"]\r\n",
        "fig_size[0] = 10\r\n",
        "fig_size[1] = 8\r\n",
        "plt.rcParams[\"figure.figsize\"] = fig_size\r\n",
        "\r\n",
        "toxic_comments_labels.sum(axis=0).plot.bar()"
      ],
      "execution_count": 7,
      "outputs": [
        {
          "output_type": "execute_result",
          "data": {
            "text/plain": [
              "<matplotlib.axes._subplots.AxesSubplot at 0x7f89bcef9fd0>"
            ]
          },
          "metadata": {
            "tags": []
          },
          "execution_count": 7
        },
        {
          "output_type": "display_data",
          "data": {
            "image/png": "[encoded data removed]",
            "text/plain": [
              "<Figure size 720x576 with 1 Axes>"
            ]
          },
          "metadata": {
            "tags": [],
            "needs_background": "light"
          }
        }
      ]
    },
    {
      "cell_type": "code",
      "metadata": {
        "colab": {
          "base_uri": "https://localhost:8080/"
        },
        "id": "5MdKJj8Hme1_",
        "outputId": "c02ef628-01b1-45ff-f541-ce6e6916d2f9"
      },
      "source": [
        "\r\n",
        "import spacy\r\n",
        "\r\n",
        "import nltk\r\n",
        "from nltk.corpus import stopwords\r\n",
        "nltk.download('stopwords')\r\n",
        "nltk.download('punkt')\r\n",
        "nlp = spacy.load('en', disable=['parser', 'ner'])\r\n",
        "stop_words = stopwords.words('english')\r\n",
        "from nltk.stem import WordNetLemmatizer \r\n",
        "nlp = spacy.load('en_core_web_sm', disable=['parser', 'ner']) \r\n",
        "import string  \r\n",
        "def loweringText(text):\r\n",
        "    text = text.lower()\r\n",
        "    return text\r\n",
        "#Removing punctuationes and those characters\r\n",
        "def remove_punctuations(text):\r\n",
        "  for punctuation in string.punctuation:\r\n",
        "      text = text.replace(punctuation, ' ')\r\n",
        "  return text\r\n",
        "# Lowering Text from DataFrame\r\n",
        "\r\n",
        "#Remove stopwords : words that do not put as much significance or impact as other words in the description\r\n",
        "def remove_StopWords(text):\r\n",
        "  text = str(text)\r\n",
        "  line = text.split()\r\n",
        "  text = \"\"\r\n",
        "  for word in line:\r\n",
        "    if(word not in stop_words):\r\n",
        "      text += word\r\n",
        "      text += \" \"\r\n",
        "  return text\r\n",
        "#Implementing lemmatization words by word\r\n",
        "def lemmatize(text):\r\n",
        "  line = text.split()\r\n",
        "  txt = \"\"\r\n",
        "  for word in line:\r\n",
        "    doc = nlp(word)\r\n",
        "    for token in doc:\r\n",
        "      txt += token.lemma_\r\n",
        "      txt += \" \"\r\n",
        "  return txt\r\n",
        "import re\r\n",
        "\r\n",
        "def remove_abb(text):\r\n",
        "  for line in text:    \r\n",
        "    text = text.replace(\"he's\", \"he is\")\r\n",
        "    text = text.replace(\"there's\", \"there is\")\r\n",
        "    text = text.replace(\"we're\", \"we are\")\r\n",
        "    text = text.replace(\"that's\", \"that is\")\r\n",
        "    text = text.replace(\"won't\", \"will not\")\r\n",
        "    text = text.replace(\"they're\", \"they are\")\r\n",
        "    text = text.replace(\"can't\", \"cannot\")\r\n",
        "    text = text.replace(\"wasn't\", \"was not\")\r\n",
        "    text = text.replace(\"don\\x89Ûªt\", \"do not\")\r\n",
        "    text = text.replace(\"aren't\", \"are not\")\r\n",
        "    text = text.replace(\"isn't\", \"is not\")\r\n",
        "    text = text.replace(\"what's\", \"what is\")\r\n",
        "    text = text.replace(\"haven't\", \"have not\")\r\n",
        "    text = text.replace(\"hasn't\", \"has not\")\r\n",
        "    text = text.replace(\"there's\", \" there is\")\r\n",
        "    text = text.replace(\"it's\", \" it is\")\r\n",
        "    text = text.replace(\"you're\", \" you are\")\r\n",
        "    text = text.replace(\"i'm\", \" i am\")\r\n",
        "    text = text.replace(\"shouldn't\", \" should not \")\r\n",
        "    text = text.replace(\"wouldn't\", \"would not \")\r\n",
        "    text = text.replace(\"I\\x89Ûªm\", \"i am\")\r\n",
        "    text = text.replace(\"here's\", \"here is\")\r\n",
        "    text = text.replace(\"you've\", \" you have\")\r\n",
        "    text = text.replace(\"you\\x89Ûªve\", \"you have\")\r\n",
        "    text = text.replace(\"couldn't\", \"could not\")\r\n",
        "    text = text.replace(\"we've\", \" we have\")\r\n",
        "    text = text.replace(\"it\\x89Ûªs\", \" it is\")\r\n",
        "    text = text.replace(\"doesn\\x89Ûªt\", \" does not\")\r\n",
        "    text = text.replace(\"it\\x89Ûªs\", \"it is\")\r\n",
        "    text = text.replace(\"here\\x89Ûªs\", \" here is\")\r\n",
        "    text = text.replace(\".jpeg\", \" \")\r\n",
        "    text = text.replace(\".jpg\", \" \")\r\n",
        "    text = text.replace(\".png\", \" \")\r\n",
        "    text = text.replace(\" st \", \" \")\r\n",
        "    text = text.replace(\"'s\", \" \")\r\n",
        "    text = text.replace(\"→\", \" \")  \r\n",
        "    text = text.replace(\"\\n\", \" \")\r\n",
        "    text = text.replace(\"\\r\", \" \")\r\n",
        "    text = text.replace(\"trácht\", \" \")\r\n",
        "    text = text.replace(\"piece\", \" \")\r\n",
        "    text = text.replace(\"didn't\", \" did not\")\r\n",
        "    text = text.replace(\"who's\", \" who is\")\r\n",
        "    text = text.replace(\"i\\x89Ûªve\", \" i have\")\r\n",
        "    text = text.replace(\"y'all\", \" you all\")\r\n",
        "    text = text.replace(\"can\\x89Ûªt\", \" cannot\")\r\n",
        "    text = text.replace(\"would've\", \" would have\")\r\n",
        "    text = text.replace(\"it'll\", \" it will \")\r\n",
        "    text = text.replace(\"we'll\", \" we will \")\r\n",
        "    text = text.replace(\"wouldn\\x89Ûªt\", \" would not \")\r\n",
        "    text = text.replace(\"we've\", \"we have\")\r\n",
        "    text = text.replace(\"he'll\", \"he will\")\r\n",
        "    text = text.replace(\"weren't\", \"were not\")\r\n",
        "    text = text.replace(\"they'll\", \"they will\")\r\n",
        "    text = text.replace(\"they'd\", \"they would\")\r\n",
        "    text = text.replace(\"that\\x89Ûªs\", \"that is\")\r\n",
        "    text = text.replace(\"they've\", \"they have\")\r\n",
        "    text = text.replace(\"i'd\", \"i would\")\r\n",
        "    text = text.replace(\"donå«t\", \"do not\")\r\n",
        "    text = text.replace(\"should've\", \" should have \")\r\n",
        "    text = text.replace(\"you\\x89Ûªre\", \"you are \")\r\n",
        "    text = text.replace(\"where's\", \" where is \")\r\n",
        "    text = text.replace(\"don\\x89Ûªt\", \"do not\")\r\n",
        "    text = text.replace(\"we'd\", \"we would\")\r\n",
        "    text = text.replace(\"i'll\", \"i will\")\r\n",
        "    text = text.replace(\"weren't\", \" were not\")\r\n",
        "    text = text.replace(\"can\\x89Ûªt\", \" cannot\")\r\n",
        "    text = text.replace(\"you\\x89Ûªll\", \" you will\")\r\n",
        "    text = text.replace(\"I\\x89Ûªd\", \" i would\")\r\n",
        "    text = text.replace(\"let's\", \" let us\")\r\n",
        "    text = text.replace(\"it's\", \" it is\")\r\n",
        "    text = text.replace(\"don't\", \" do not\")\r\n",
        "    text = text.replace(\"you're\", \"you are\")\r\n",
        "    text = text.replace(\"i've\", \" i have\")\r\n",
        "    text = text.replace(\"ain't\", \" am not\")\r\n",
        "    text = text.replace(\"doesn't\", \" does not\")\r\n",
        "    text = text.replace(\"i'd\", \" i would\")\r\n",
        "    text = text.replace(\"didn't\", \" did not\")\r\n",
        "    text = text.replace(\"you'll\", \" you will\")\r\n",
        "    text = text.replace(\"let's\", \" let us\")\r\n",
        "    text = text.replace(\"youve\", \" you have\")\r\n",
        "    text = text.replace(\"could've\", \"could have\")\r\n",
        "    text = text.replace(\"haven't\", \" have not\")\r\n",
        "    text = text.replace(\"you'd\", \" you would\")\r\n",
        "    text = text.replace(\"it's\", \" it is\")\r\n",
        "    text = text.replace(\"aww \", \" \")\r\n",
        "    text = text.replace(\"hey \", \" \")\r\n",
        "    text = text.replace(\" like \", \" \")\r\n",
        "    text = text.replace(\" wikipedia \", \" \")\r\n",
        "    text = text.replace(\" article \", \" \")\r\n",
        "    text = text.replace(\" articles \", \" \")\r\n",
        "    text = text.replace(\" know \", \" \")\r\n",
        "    text = text.replace(\" want \", \" \")\r\n",
        "    text = text.replace(\" page \", \" \")\r\n",
        "    text = text.replace(\" wiki \", \" \")\r\n",
        "    text = text.replace(\" im \", \" \")\r\n",
        "    text = text.replace(\" still \", \" \")\r\n",
        "    text = text.replace(\" hi \", \" \")\r\n",
        "    text = text.replace(\" talk \", \" \")\r\n",
        "    text = text.replace(\" hey \", \" \")\r\n",
        "    text = text.replace(\" would \", \" \")\r\n",
        "    text = text.replace(\" uhm \", \" \")\r\n",
        "    text = text.replace(\" mp \", \" \")\r\n",
        "    text = text.replace(\" edits \", \" \")\r\n",
        "    text = text.replace(\" edit \", \" \")\r\n",
        "    text = text.replace(\" editing \", \" \")\r\n",
        "    text = text.replace(\" edited \", \" \")\r\n",
        "    text = text.replace(\" br \", \" \")\r\n",
        "    text = text.replace(\" div \", \" \")\r\n",
        "    text = text.replace(\"admin \", \" \")\r\n",
        "    text = text.replace(\" text \", \" \")\r\n",
        "    text = text.replace(\" tag \", \" \")\r\n",
        "    text = text.replace(\" file \", \" \")\r\n",
        "    text = text.replace(\" http \", \" \")\r\n",
        "    text = text.replace(\" com \", \" \")\r\n",
        "    text = text.replace(\" net \", \" \")\r\n",
        "    text = text.replace(\" edu \", \" \")\r\n",
        "    text = text.replace(\" org \", \" \")     \r\n",
        "    text = text.replace(\" – \", \" \")\r\n",
        "    text = text.replace(\" a \", \" \")\r\n",
        "    text = text.replace(\" b \", \" \")\r\n",
        "    text = text.replace(\" c \", \" \")\r\n",
        "    text = text.replace(\" d \", \" \")\r\n",
        "    text = text.replace(\" e \", \" \")\r\n",
        "    text = text.replace(\" f \", \" \")\r\n",
        "    text = text.replace(\" g \", \" \")\r\n",
        "    text = text.replace(\" h \", \" \")\r\n",
        "    text = text.replace(\" i \", \" \")\r\n",
        "    text = text.replace(\" j \", \" \")\r\n",
        "    text = text.replace(\" k \", \" \")\r\n",
        "    text = text.replace(\" l \", \" \")\r\n",
        "    text = text.replace(\" m \", \" \")\r\n",
        "    text = text.replace(\" n \", \" \")\r\n",
        "    text = text.replace(\" o \", \" \")\r\n",
        "    text = text.replace(\" p \", \" \")\r\n",
        "    text = text.replace(\" q \", \" \")\r\n",
        "    text = text.replace(\" r \", \" \")\r\n",
        "    text = text.replace(\" s \", \" \")\r\n",
        "    text = text.replace(\" t \", \" \")\r\n",
        "    text = text.replace(\" u \", \" \")\r\n",
        "    text = text.replace(\" v \", \" \")\r\n",
        "    text = text.replace(\" w \", \" \")\r\n",
        "    text = text.replace(\" x \", \" \")\r\n",
        "    text = text.replace(\" y \", \" \")\r\n",
        "    text = text.replace(\" z \", \" \")\r\n",
        "    text = text.replace(\" wp \", \" \")\r\n",
        "    text = text.replace(\" -\",\" \")    \r\n",
        "    text = text.replace(\"   \", \" \")\r\n",
        "    text = text.replace(\"  \", \" \")\r\n",
        "    \r\n",
        "    return text\r\n"
      ],
      "execution_count": 8,
      "outputs": [
        {
          "output_type": "stream",
          "text": [
            "[nltk_data] Downloading package stopwords to /root/nltk_data...\n",
            "[nltk_data]   Unzipping corpora/stopwords.zip.\n",
            "[nltk_data] Downloading package punkt to /root/nltk_data...\n",
            "[nltk_data]   Unzipping tokenizers/punkt.zip.\n"
          ],
          "name": "stdout"
        }
      ]
    },
    {
      "cell_type": "code",
      "metadata": {
        "colab": {
          "base_uri": "https://localhost:8080/",
          "height": 215
        },
        "id": "GKekBttvmlOS",
        "outputId": "40f09e0b-a3c5-4ba9-9623-16fa6f146c83"
      },
      "source": [
        "#toxic_comments[\"comment_text_X\"] = toxic_comments['comment_text'].apply(remove_punctuations).apply(loweringText).apply(remove_StopWords).apply(lemmatize)\r\n",
        "#FIRST LOWER CASE EVERYTHING \r\n",
        "toxic_comments[\"comment_text\"] = toxic_comments['comment_text'].apply(loweringText)\r\n",
        "print(\"Lowering the Text \")\r\n",
        "toxic_comments.head()\r\n"
      ],
      "execution_count": 9,
      "outputs": [
        {
          "output_type": "stream",
          "text": [
            "Lowering the Text \n"
          ],
          "name": "stdout"
        },
        {
          "output_type": "execute_result",
          "data": {
            "text/html": [
              "<div>\n",
              "<style scoped>\n",
              "    .dataframe tbody tr th:only-of-type {\n",
              "        vertical-align: middle;\n",
              "    }\n",
              "\n",
              "    .dataframe tbody tr th {\n",
              "        vertical-align: top;\n",
              "    }\n",
              "\n",
              "    .dataframe thead th {\n",
              "        text-align: right;\n",
              "    }\n",
              "</style>\n",
              "<table border=\"1\" class=\"dataframe\">\n",
              "  <thead>\n",
              "    <tr style=\"text-align: right;\">\n",
              "      <th></th>\n",
              "      <th>id</th>\n",
              "      <th>comment_text</th>\n",
              "      <th>toxic</th>\n",
              "      <th>severe_toxic</th>\n",
              "      <th>obscene</th>\n",
              "      <th>threat</th>\n",
              "      <th>insult</th>\n",
              "      <th>identity_hate</th>\n",
              "      <th>offensive</th>\n",
              "      <th>nonOffensive</th>\n",
              "    </tr>\n",
              "  </thead>\n",
              "  <tbody>\n",
              "    <tr>\n",
              "      <th>0</th>\n",
              "      <td>0000997932d777bf</td>\n",
              "      <td>explanation\\nwhy the edits made under my usern...</td>\n",
              "      <td>0</td>\n",
              "      <td>0</td>\n",
              "      <td>0</td>\n",
              "      <td>0</td>\n",
              "      <td>0</td>\n",
              "      <td>0</td>\n",
              "      <td>0</td>\n",
              "      <td>1</td>\n",
              "    </tr>\n",
              "    <tr>\n",
              "      <th>1</th>\n",
              "      <td>000103f0d9cfb60f</td>\n",
              "      <td>d'aww! he matches this background colour i'm s...</td>\n",
              "      <td>0</td>\n",
              "      <td>0</td>\n",
              "      <td>0</td>\n",
              "      <td>0</td>\n",
              "      <td>0</td>\n",
              "      <td>0</td>\n",
              "      <td>0</td>\n",
              "      <td>1</td>\n",
              "    </tr>\n",
              "    <tr>\n",
              "      <th>2</th>\n",
              "      <td>000113f07ec002fd</td>\n",
              "      <td>hey man, i'm really not trying to edit war. it...</td>\n",
              "      <td>0</td>\n",
              "      <td>0</td>\n",
              "      <td>0</td>\n",
              "      <td>0</td>\n",
              "      <td>0</td>\n",
              "      <td>0</td>\n",
              "      <td>0</td>\n",
              "      <td>1</td>\n",
              "    </tr>\n",
              "    <tr>\n",
              "      <th>3</th>\n",
              "      <td>0001b41b1c6bb37e</td>\n",
              "      <td>\"\\nmore\\ni can't make any real suggestions on ...</td>\n",
              "      <td>0</td>\n",
              "      <td>0</td>\n",
              "      <td>0</td>\n",
              "      <td>0</td>\n",
              "      <td>0</td>\n",
              "      <td>0</td>\n",
              "      <td>0</td>\n",
              "      <td>1</td>\n",
              "    </tr>\n",
              "    <tr>\n",
              "      <th>4</th>\n",
              "      <td>0001d958c54c6e35</td>\n",
              "      <td>you, sir, are my hero. any chance you remember...</td>\n",
              "      <td>0</td>\n",
              "      <td>0</td>\n",
              "      <td>0</td>\n",
              "      <td>0</td>\n",
              "      <td>0</td>\n",
              "      <td>0</td>\n",
              "      <td>0</td>\n",
              "      <td>1</td>\n",
              "    </tr>\n",
              "  </tbody>\n",
              "</table>\n",
              "</div>"
            ],
            "text/plain": [
              "                 id  ... nonOffensive\n",
              "0  0000997932d777bf  ...            1\n",
              "1  000103f0d9cfb60f  ...            1\n",
              "2  000113f07ec002fd  ...            1\n",
              "3  0001b41b1c6bb37e  ...            1\n",
              "4  0001d958c54c6e35  ...            1\n",
              "\n",
              "[5 rows x 10 columns]"
            ]
          },
          "metadata": {
            "tags": []
          },
          "execution_count": 9
        }
      ]
    },
    {
      "cell_type": "code",
      "metadata": {
        "colab": {
          "base_uri": "https://localhost:8080/"
        },
        "id": "-_zNeWbNmr4r",
        "outputId": "a79bebb2-d1fe-4975-d05d-0c1d70a1b8ce"
      },
      "source": [
        "\r\n",
        "\r\n",
        "#Clean Empty ones \r\n",
        "print(len(toxic_comments['comment_text']))\r\n",
        "toxic_comments.dropna(subset=['comment_text'], inplace=True)\r\n",
        "print(len(toxic_comments['comment_text']))\r\n",
        "\r\n",
        "toxic_comments[\"comment_text\"] = toxic_comments['comment_text'].apply(remove_abb)\r\n",
        "print(\"removed remove_abb \")\r\n",
        "\r\n",
        "#Clean Empty ones \r\n",
        "print(len(toxic_comments['comment_text']))\r\n",
        "toxic_comments.dropna(subset=['comment_text'], inplace=True)\r\n",
        "print(len(toxic_comments['comment_text']))\r\n",
        "\r\n",
        "toxic_comments[\"comment_text\"] = toxic_comments['comment_text'].apply(remove_punctuations)\r\n",
        "print(\"removed puctuation from the Text \")\r\n",
        "\r\n",
        "#Clean Empty ones \r\n",
        "print(len(toxic_comments['comment_text']))\r\n",
        "toxic_comments.dropna(subset=['comment_text'], inplace=True)\r\n",
        "print(len(toxic_comments['comment_text']))"
      ],
      "execution_count": 12,
      "outputs": [
        {
          "output_type": "stream",
          "text": [
            "159571\n",
            "159571\n",
            "removed remove_abb \n",
            "159571\n",
            "159532\n",
            "removed puctuation from the Text \n",
            "159532\n",
            "159532\n"
          ],
          "name": "stdout"
        }
      ]
    },
    {
      "cell_type": "code",
      "metadata": {
        "colab": {
          "base_uri": "https://localhost:8080/"
        },
        "id": "kXuwSYuImwWH",
        "outputId": "227f77fb-4435-4e36-b4b4-e8025f66ac75"
      },
      "source": [
        "toxic_comments[\"comment_text\"] = toxic_comments['comment_text'].apply(remove_StopWords)\r\n",
        "print(\"removed remove_StopWords \")"
      ],
      "execution_count": 13,
      "outputs": [
        {
          "output_type": "stream",
          "text": [
            "removed remove_StopWords \n"
          ],
          "name": "stdout"
        }
      ]
    },
    {
      "cell_type": "code",
      "metadata": {
        "colab": {
          "base_uri": "https://localhost:8080/"
        },
        "id": "jOEfdwHZm6mz",
        "outputId": "0d61c185-d0e7-4b6e-b18c-a29041c9833e"
      },
      "source": [
        "#Clean Empty ones \r\n",
        "print(len(toxic_comments['comment_text']))\r\n",
        "toxic_comments.dropna(subset=['comment_text'], inplace=True)\r\n",
        "print(len(toxic_comments['comment_text']))\r\n",
        "\r\n",
        "\r\n",
        "\r\n",
        "#TAKES TOO MUCH TIME DUE TO THE HUGE DATASET\r\n",
        "#toxic_comments[\"comment_text\"] = toxic_comments['comment_text'].apply(lemmatize)\r\n",
        "#print(\"removed lemmatize \")"
      ],
      "execution_count": 14,
      "outputs": [
        {
          "output_type": "stream",
          "text": [
            "159532\n",
            "159532\n"
          ],
          "name": "stdout"
        }
      ]
    },
    {
      "cell_type": "code",
      "metadata": {
        "id": "9sZHCx8InBtF",
        "colab": {
          "base_uri": "https://localhost:8080/"
        },
        "outputId": "9ced14da-2236-40a0-cfa4-50a03ff69351"
      },
      "source": [
        "def preprocess_text(sen):\r\n",
        "    # Remove punctuations and numbers\r\n",
        "    sentence = re.sub('[^a-zA-Z]', ' ', sen)\r\n",
        "    # Single character removal\r\n",
        "    sentence = re.sub(r\"\\s+[a-zA-Z]\\s+\", ' ', sentence)\r\n",
        "    # Removing multiple spaces\r\n",
        "    sentence = re.sub(r'\\s+', ' ', sentence)\r\n",
        "    return sentence\r\n",
        "\r\n",
        "toxic_comments[\"comment_text\"] = toxic_comments['comment_text'].apply(preprocess_text)\r\n",
        "print(\" preprocess_text \")"
      ],
      "execution_count": 15,
      "outputs": [
        {
          "output_type": "stream",
          "text": [
            " preprocess_text \n"
          ],
          "name": "stdout"
        }
      ]
    },
    {
      "cell_type": "code",
      "metadata": {
        "colab": {
          "base_uri": "https://localhost:8080/"
        },
        "id": "kuiYA1fJotYd",
        "outputId": "8f7f50df-3a90-4616-dd10-2849e01676dc"
      },
      "source": [
        "#Clean Empty ones \r\n",
        "print(len(toxic_comments['comment_text']))\r\n",
        "toxic_comments.dropna(subset=['comment_text'], inplace=True)\r\n",
        "print(len(toxic_comments['comment_text']))"
      ],
      "execution_count": 16,
      "outputs": [
        {
          "output_type": "stream",
          "text": [
            "159532\n",
            "159532\n"
          ],
          "name": "stdout"
        }
      ]
    },
    {
      "cell_type": "code",
      "metadata": {
        "colab": {
          "base_uri": "https://localhost:8080/"
        },
        "id": "GmHZMWYfnJ_0",
        "outputId": "9099b49e-e673-4442-8f4e-9b9981a76a50"
      },
      "source": [
        "z = []\r\n",
        "#toxic_comments_labels = toxic_comments[[\"offensive\"]]\r\n",
        "\r\n",
        "sentences = list(toxic_comments[\"comment_text\"])\r\n",
        "for sen in sentences:\r\n",
        "    z.append(sen)\r\n",
        "#y = toxic_comments_labels.values\r\n",
        "y = toxic_comments[['offensive']]\r\n",
        "X = toxic_comments[\"comment_text\"]\r\n",
        "print(len(y))\r\n",
        "print(len(X))"
      ],
      "execution_count": 17,
      "outputs": [
        {
          "output_type": "stream",
          "text": [
            "159532\n",
            "159532\n"
          ],
          "name": "stdout"
        }
      ]
    },
    {
      "cell_type": "code",
      "metadata": {
        "colab": {
          "base_uri": "https://localhost:8080/"
        },
        "id": "W5zyMfS1nNnd",
        "outputId": "d6ee633b-e9d6-44ca-aed8-7d4b38cfc71e"
      },
      "source": [
        "print(sentences[:2])"
      ],
      "execution_count": 18,
      "outputs": [
        {
          "output_type": "stream",
          "text": [
            "['explanation made username hardcore metallica fan reverted vandalisms closure gas voted new york dolls fac please remove template since retired ', 'matches background colour seemingly stuck thanks january utc ']\n"
          ],
          "name": "stdout"
        }
      ]
    },
    {
      "cell_type": "code",
      "metadata": {
        "id": "XZXpcAhqnRTs"
      },
      "source": [
        "X_train, X_test, y_train, y_test = train_test_split(X, y, test_size=0.25,\r\n",
        "                                                    random_state=42, stratify=y)"
      ],
      "execution_count": 19,
      "outputs": []
    },
    {
      "cell_type": "code",
      "metadata": {
        "id": "AkXAUH_YnTFa",
        "colab": {
          "base_uri": "https://localhost:8080/"
        },
        "outputId": "0a431050-3417-454e-bd1a-8f33be3c201b"
      },
      "source": [
        "tokenizer = Tokenizer(num_words=5000)\r\n",
        "tokenizer.fit_on_texts(X_train)\r\n",
        "\r\n",
        "X_train = tokenizer.texts_to_sequences(X_train)\r\n",
        "X_test = tokenizer.texts_to_sequences(X_test)\r\n",
        "\r\n",
        "print(type(X_train))\r\n",
        "vocab_size = len(tokenizer.word_index) + 1\r\n",
        "\r\n",
        "maxlen = 200\r\n",
        "\r\n",
        "X_train = pad_sequences(X_train, padding='post', maxlen=maxlen)\r\n",
        "print(type(X_train))\r\n",
        "print(X_train[1])\r\n",
        "\r\n",
        "X_test = pad_sequences(X_test, padding='post', maxlen=maxlen)"
      ],
      "execution_count": 20,
      "outputs": [
        {
          "output_type": "stream",
          "text": [
            "<class 'list'>\n",
            "<class 'numpy.ndarray'>\n",
            "[2398 1688 4941  353 3729   65 1475  567  175  872    8 1035  854   19\n",
            "   84  409  854   32  189  546  202   52  592  284   51   95  141  397\n",
            "  266 4458   66  175  383   85   13  361  480  383   55  211 1637   13\n",
            "  113  430  430  430  164  383  188  234    6 1773  740 2822    8  388\n",
            "  283   53 2051   13  409  546   56 2520  314  344 3016 2051  287   26\n",
            "   25   39    6   46  957   40   65 1242  813  142  191 1476  736  813\n",
            "  123   53  641  815  210  442  736  813  170  381 1617  344 3234 3483\n",
            "  333  849 4984  206  330 2971  841  482  639  639    7 1406  213  360\n",
            "  107 2868 2141   47 1940  164  383 4507    2  673 3730  129 1666   13\n",
            "  129  447  238   84  418  849   44  162 4224 2205  641  628  253  293\n",
            "  687   13  867 3167 1228 4942 2996 2877   58  628 3822 1720   54   74\n",
            "   56  107 2914   23 3337 2930  641  309  229  326 2914    2 3248  805\n",
            " 1348  158   54  353 4910  132  462  805 3337 2740    4 2463 2868  132\n",
            "   13  839    2 1401  140    5   42 1057  736  813  123   53  641   95\n",
            "  687  116  209  282]\n"
          ],
          "name": "stdout"
        }
      ]
    },
    {
      "cell_type": "code",
      "metadata": {
        "colab": {
          "base_uri": "https://localhost:8080/"
        },
        "id": "llsS2We6ztFp",
        "outputId": "4cc7fe8f-e555-4993-8f0a-a1f5c8f7d799"
      },
      "source": [
        "print(type(X_train))"
      ],
      "execution_count": 21,
      "outputs": [
        {
          "output_type": "stream",
          "text": [
            "<class 'numpy.ndarray'>\n"
          ],
          "name": "stdout"
        }
      ]
    },
    {
      "cell_type": "code",
      "metadata": {
        "id": "A3hHjgSCnat4"
      },
      "source": [
        "from numpy import array\r\n",
        "from numpy import asarray\r\n",
        "from numpy import zeros\r\n",
        "\r\n",
        "embeddings_dictionary = dict()\r\n",
        "\r\n",
        "glove_file = open('/content/drive/MyDrive/gloves/glove.6B.100d.txt', encoding=\"utf8\")\r\n",
        "\r\n",
        "for line in glove_file:\r\n",
        "    records = line.split()\r\n",
        "    word = records[0]\r\n",
        "    vector_dimensions = asarray(records[1:], dtype='float32')\r\n",
        "    embeddings_dictionary[word] = vector_dimensions\r\n",
        "glove_file.close()\r\n",
        "\r\n",
        "embedding_matrix = zeros((vocab_size, 100))\r\n",
        "for word, index in tokenizer.word_index.items():\r\n",
        "    embedding_vector = embeddings_dictionary.get(word)\r\n",
        "    if embedding_vector is not None:\r\n",
        "        embedding_matrix[index] = embedding_vector"
      ],
      "execution_count": 22,
      "outputs": []
    },
    {
      "cell_type": "code",
      "metadata": {
        "id": "esEIwRV3ncAc"
      },
      "source": [
        "\r\n",
        "deep_inputs = Input(shape=(maxlen,))\r\n",
        "embedding_layer = Embedding(vocab_size, 100, weights=[embedding_matrix], trainable=False)(deep_inputs)\r\n",
        "LSTM_Layer_1 = LSTM(128)(embedding_layer)\r\n",
        "\r\n",
        "dense_layer_1 = Dense(1, activation='sigmoid')(LSTM_Layer_1)\r\n",
        "model = Model(inputs=deep_inputs, outputs=dense_layer_1)\r\n",
        "\r\n",
        "model.compile(loss='binary_crossentropy', optimizer='adam', metrics=['accuracy'])\r\n",
        "\r\n"
      ],
      "execution_count": 23,
      "outputs": []
    },
    {
      "cell_type": "code",
      "metadata": {
        "colab": {
          "base_uri": "https://localhost:8080/"
        },
        "id": "B8rKTHDvnjaJ",
        "outputId": "14ae57b0-cbb0-4aae-edf7-49977fcf1765"
      },
      "source": [
        "print(model.summary())\r\n"
      ],
      "execution_count": 24,
      "outputs": [
        {
          "output_type": "stream",
          "text": [
            "Model: \"model\"\n",
            "_________________________________________________________________\n",
            "Layer (type)                 Output Shape              Param #   \n",
            "=================================================================\n",
            "input_1 (InputLayer)         [(None, 200)]             0         \n",
            "_________________________________________________________________\n",
            "embedding (Embedding)        (None, 200, 100)          14222800  \n",
            "_________________________________________________________________\n",
            "lstm (LSTM)                  (None, 128)               117248    \n",
            "_________________________________________________________________\n",
            "dense (Dense)                (None, 1)                 129       \n",
            "=================================================================\n",
            "Total params: 14,340,177\n",
            "Trainable params: 117,377\n",
            "Non-trainable params: 14,222,800\n",
            "_________________________________________________________________\n",
            "None\n"
          ],
          "name": "stdout"
        }
      ]
    },
    {
      "cell_type": "code",
      "metadata": {
        "colab": {
          "base_uri": "https://localhost:8080/"
        },
        "id": "apBptOh4nlX3",
        "outputId": "3cea843a-f73e-43e7-edad-692c4753985e"
      },
      "source": [
        "model.fit(X_train, y_train, batch_size=128, epochs=1, verbose=1, validation_split=0.3)"
      ],
      "execution_count": 25,
      "outputs": [
        {
          "output_type": "stream",
          "text": [
            "655/655 [==============================] - 22s 22ms/step - loss: 0.3714 - accuracy: 0.8871 - val_loss: 0.3200 - val_accuracy: 0.8978\n"
          ],
          "name": "stdout"
        },
        {
          "output_type": "execute_result",
          "data": {
            "text/plain": [
              "<tensorflow.python.keras.callbacks.History at 0x7f895809b668>"
            ]
          },
          "metadata": {
            "tags": []
          },
          "execution_count": 25
        }
      ]
    },
    {
      "cell_type": "code",
      "metadata": {
        "colab": {
          "base_uri": "https://localhost:8080/"
        },
        "id": "b0RjtwpZnm3z",
        "outputId": "905ba482-25e2-4d87-b8ea-5684b88e583e"
      },
      "source": [
        "\r\n",
        "score = model.evaluate(X_test, y_test, verbose=1, batch_size=128)\r\n",
        "\r\n",
        "print(\"Test Score:\", score[0])\r\n",
        "print(\"Test Accuracy:\", score[1])"
      ],
      "execution_count": 27,
      "outputs": [
        {
          "output_type": "stream",
          "text": [
            "312/312 [==============================] - 3s 9ms/step - loss: 0.3177 - accuracy: 0.8988\n",
            "Test Score: 0.3177051544189453\n",
            "Test Accuracy: 0.8987538814544678\n"
          ],
          "name": "stdout"
        }
      ]
    },
    {
      "cell_type": "code",
      "metadata": {
        "colab": {
          "base_uri": "https://localhost:8080/"
        },
        "id": "VbVG_hh6o_Wt",
        "outputId": "41f6d5ba-028a-4482-d8a3-decceeaf16c5"
      },
      "source": [
        "\r\n",
        "print(X_test.shape)\r\n",
        "print(y_test.shape)\r\n",
        "\r\n",
        "print(score)\r\n",
        "print(toxic_comments_labels.values)\r\n"
      ],
      "execution_count": 28,
      "outputs": [
        {
          "output_type": "stream",
          "text": [
            "(39883, 200)\n",
            "(39883, 1)\n",
            "[0.3177051544189453, 0.8987538814544678]\n",
            "[[0 1]\n",
            " [0 1]\n",
            " [0 1]\n",
            " ...\n",
            " [0 1]\n",
            " [0 1]\n",
            " [0 1]]\n"
          ],
          "name": "stdout"
        }
      ]
    },
    {
      "cell_type": "code",
      "metadata": {
        "colab": {
          "base_uri": "https://localhost:8080/"
        },
        "id": "CNKja5Prrcje",
        "outputId": "a607598f-4a55-45c2-f49d-8a45b40024b5"
      },
      "source": [
        "y_pred = model.predict(X_test)\r\n",
        "print(y_pred)\r\n",
        "print(y_test)\r\n",
        "print(y_pred.shape)\r\n",
        "print(y_test.shape)"
      ],
      "execution_count": 29,
      "outputs": [
        {
          "output_type": "stream",
          "text": [
            "[[0.12264286]\n",
            " [0.12264286]\n",
            " [0.12264287]\n",
            " ...\n",
            " [0.12264286]\n",
            " [0.12264286]\n",
            " [0.12264286]]\n",
            "        offensive\n",
            "116319          1\n",
            "112564          0\n",
            "129672          0\n",
            "21765           0\n",
            "91495           0\n",
            "...           ...\n",
            "157968          0\n",
            "96342           0\n",
            "93626           0\n",
            "115362          0\n",
            "65739           0\n",
            "\n",
            "[39883 rows x 1 columns]\n",
            "(39883, 1)\n",
            "(39883, 1)\n"
          ],
          "name": "stdout"
        }
      ]
    },
    {
      "cell_type": "code",
      "metadata": {
        "colab": {
          "base_uri": "https://localhost:8080/",
          "height": 35
        },
        "id": "x9_f5MEarjwJ",
        "outputId": "e5598c70-0442-4c5b-d1e8-391c134f4b38"
      },
      "source": [
        "toxic_comments.iloc[24579][\"comment_text\"]\r\n"
      ],
      "execution_count": 30,
      "outputs": [
        {
          "output_type": "execute_result",
          "data": {
            "application/vnd.google.colaboratory.intrinsic+json": {
              "type": "string"
            },
            "text/plain": [
              "' rr danger violating rr macedonism funkyfly '"
            ]
          },
          "metadata": {
            "tags": []
          },
          "execution_count": 30
        }
      ]
    },
    {
      "cell_type": "code",
      "metadata": {
        "id": "I7qXint5rlej"
      },
      "source": [
        "'''\r\n",
        "print(y_pred[0])\r\n",
        "print(y_pred[1])\r\n",
        "\r\n",
        "print(y_test[0])\r\n",
        "print(y_test[1])\r\n",
        "print(y_test[2])\r\n",
        "print(y_test[3])\r\n",
        "print(y_test[4])\r\n",
        "print(y_test[13])\r\n",
        "print(y_test[14])\r\n",
        "\r\n",
        "ListaOfAnswers = y_test.tolist()\r\n",
        "\r\n",
        "\r\n",
        "print(y_pred)\r\n",
        "\r\n",
        "for i in range(15):\r\n",
        "  print(np.argmax(y_pred[i]) ,ListaOfAnswers[i],y_pred[i])\r\n",
        "'''"
      ],
      "execution_count": null,
      "outputs": []
    },
    {
      "cell_type": "code",
      "metadata": {
        "colab": {
          "base_uri": "https://localhost:8080/"
        },
        "id": "QDc8QNKHr3xg",
        "outputId": "ce213b07-d933-4e59-8d79-42572e798f96"
      },
      "source": [
        "import sklearn.metrics as metrics\r\n",
        "from sklearn.metrics import accuracy_score, classification_report\r\n",
        "\r\n",
        "\r\n",
        "accuracy_score(y_test, y_pred.round())\r\n"
      ],
      "execution_count": 31,
      "outputs": [
        {
          "output_type": "execute_result",
          "data": {
            "text/plain": [
              "0.898753855025951"
            ]
          },
          "metadata": {
            "tags": []
          },
          "execution_count": 31
        }
      ]
    },
    {
      "cell_type": "code",
      "metadata": {
        "id": "oDWsnzB6sWnH",
        "colab": {
          "base_uri": "https://localhost:8080/"
        },
        "outputId": "f240e8a8-6f59-4de0-c0b8-8d7419f16bed"
      },
      "source": [
        "import sklearn.metrics as sk_metrics\r\n",
        "import seaborn as sns\r\n",
        "\r\n",
        "target_names = ['Non-offensive','Offensive']\r\n",
        "\r\n",
        "print(classification_report(y_test,y_pred.round(),target_names=target_names))\r\n",
        "matrix = metrics.confusion_matrix(y_pred.round(), y_test,)\r\n",
        "\r\n",
        "print(matrix)\r\n"
      ],
      "execution_count": 32,
      "outputs": [
        {
          "output_type": "stream",
          "text": [
            "               precision    recall  f1-score   support\n",
            "\n",
            "Non-offensive       0.90      1.00      0.95     35827\n",
            "    Offensive       1.00      0.00      0.01      4056\n",
            "\n",
            "     accuracy                           0.90     39883\n",
            "    macro avg       0.95      0.50      0.48     39883\n",
            " weighted avg       0.91      0.90      0.85     39883\n",
            "\n",
            "[[35827  4038]\n",
            " [    0    18]]\n"
          ],
          "name": "stdout"
        }
      ]
    },
    {
      "cell_type": "code",
      "metadata": {
        "colab": {
          "base_uri": "https://localhost:8080/",
          "height": 513
        },
        "id": "R-zSI-o5E-R4",
        "outputId": "8b6f75b5-3dc8-46ec-ff0b-683c61eefb3e"
      },
      "source": [
        "\r\n",
        "def show_confusion_matrix(test_labels, predictions):\r\n",
        "  \"\"\"Compute confusion matrix and normalize.\"\"\"\r\n",
        "  confusion = sk_metrics.confusion_matrix(\r\n",
        "    test_labels, predictions)\r\n",
        "  confusion_normalized = confusion.astype(\"float\") / confusion.sum(axis=1)\r\n",
        "  axis_labels = target_names\r\n",
        "  ax = sns.heatmap(\r\n",
        "      confusion_normalized, xticklabels=axis_labels, yticklabels=axis_labels,\r\n",
        "      cmap='Blues', annot=True, fmt='.2f', square=True)\r\n",
        "  plt.title(\"Confusion matrix\")\r\n",
        "  plt.ylabel(\"True label\")\r\n",
        "  plt.xlabel(\"Predicted label\")\r\n",
        "\r\n",
        "show_confusion_matrix(y_test, y_pred.round())\r\n"
      ],
      "execution_count": 33,
      "outputs": [
        {
          "output_type": "display_data",
          "data": {
            "image/png": "[encoded data removed]",
            "text/plain": [
              "<Figure size 720x576 with 2 Axes>"
            ]
          },
          "metadata": {
            "tags": [],
            "needs_background": "light"
          }
        }
      ]
    },
    {
      "cell_type": "code",
      "metadata": {
        "colab": {
          "base_uri": "https://localhost:8080/"
        },
        "id": "Ljk-gI-bQCbz",
        "outputId": "ff92e8f1-f874-4485-8474-ef3fccc48c26"
      },
      "source": [
        "print(len(X_test))\n",
        "print(len(y_test))"
      ],
      "execution_count": 34,
      "outputs": [
        {
          "output_type": "stream",
          "text": [
            "39883\n",
            "39883\n"
          ],
          "name": "stdout"
        }
      ]
    },
    {
      "cell_type": "code",
      "metadata": {
        "colab": {
          "base_uri": "https://localhost:8080/",
          "height": 132
        },
        "id": "RCjCf2S_4MC9",
        "outputId": "70c8be4c-9810-4f99-d47a-9a23f1bd6b29"
      },
      "source": [
        "#OLD MODEL\r\n",
        "#0.9451282179831048\r\n",
        "               precision    recall  f1-score   support\r\n",
        "\r\n",
        "Non-offensive       0.97      0.97      0.97     35837\r\n",
        "    Offensive       0.73      0.72      0.73      4056\r\n",
        "\r\n",
        "     accuracy                           0.95     39893\r\n",
        "    macro avg       0.85      0.85      0.85     39893\r\n",
        " weighted avg       0.94      0.95      0.94     39893\r\n"
      ],
      "execution_count": 35,
      "outputs": [
        {
          "output_type": "error",
          "ename": "IndentationError",
          "evalue": "ignored",
          "traceback": [
            "\u001b[0;36m  File \u001b[0;32m\"<ipython-input-35-7320db130152>\"\u001b[0;36m, line \u001b[0;32m3\u001b[0m\n\u001b[0;31m    precision    recall  f1-score   support\u001b[0m\n\u001b[0m    ^\u001b[0m\n\u001b[0;31mIndentationError\u001b[0m\u001b[0;31m:\u001b[0m unexpected indent\n"
          ]
        }
      ]
    },
    {
      "cell_type": "code",
      "metadata": {
        "id": "CioNMGtME9EV"
      },
      "source": [
        ""
      ],
      "execution_count": null,
      "outputs": []
    },
    {
      "cell_type": "code",
      "metadata": {
        "id": "w7iKMztm-HMv"
      },
      "source": [
        "#0.9515453839019377\r\n",
        "\r\n",
        "               precision    recall  f1-score   support\r\n",
        "\r\n",
        "Non-offensive       0.97      0.98      0.97     35837\r\n",
        "    Offensive       0.80      0.70      0.75      4056\r\n",
        "\r\n",
        "     accuracy                           0.95     39893\r\n",
        "    macro avg       0.88      0.84      0.86     39893\r\n",
        " weighted avg       0.95      0.95      0.95     39893"
      ],
      "execution_count": null,
      "outputs": []
    },
    {
      "cell_type": "code",
      "metadata": {
        "id": "D6hkaBxuC9Tv"
      },
      "source": [
        "stringsss = toxic_comments[['♫' in x for x in toxic_comments.comment_text]]\r\n",
        "print(len(stringsss))\r\n",
        "#¨\r\n",
        "print(stringsss['comment_text'].head(30))\r\n",
        "\r\n",
        "\r\n"
      ],
      "execution_count": null,
      "outputs": []
    },
    {
      "cell_type": "code",
      "metadata": {
        "id": "hIPcUl-OF-7W"
      },
      "source": [
        ""
      ],
      "execution_count": null,
      "outputs": []
    }
  ]
}