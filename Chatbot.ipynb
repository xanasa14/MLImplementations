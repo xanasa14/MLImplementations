{
  "nbformat": 4,
  "nbformat_minor": 0,
  "metadata": {
    "colab": {
      "name": "Chatbot.ipynb",
      "provenance": [],
      "collapsed_sections": [],
      "mount_file_id": "1lbw-XMcR0Q9fmlTKrwQLMlEYBjzXKwHn",
      "authorship_tag": "ABX9TyOLZWucwtDKLkXXOxjfMUiD",
      "include_colab_link": true
    },
    "kernelspec": {
      "name": "python3",
      "display_name": "Python 3"
    }
  },
  "cells": [
    {
      "cell_type": "markdown",
      "metadata": {
        "id": "view-in-github",
        "colab_type": "text"
      },
      "source": [
        "<a href=\"https://colab.research.google.com/github/xanasa14/MLImplementations/blob/master/Chatbot.ipynb\" target=\"_parent\"><img src=\"https://colab.research.google.com/assets/colab-badge.svg\" alt=\"Open In Colab\"/></a>"
      ]
    },
    {
      "cell_type": "code",
      "metadata": {
        "colab": {
          "base_uri": "https://localhost:8080/"
        },
        "id": "QZK1lVVQ1Dsj",
        "outputId": "efb05406-bbcf-499b-9fc4-4cdd5f5036ff"
      },
      "source": [
        "#https://www.upgrad.com/blog/how-to-make-chatbot-in-python/\r\n",
        "#https://chatterbot.readthedocs.io/en/stable/training.html\r\n",
        "#https://github.com/jerrytigerxu/Simple-Python-Chatbot/blob/master/intents.json\r\n",
        "!pip install chatbot\r\n",
        "!pip install chatterbot\r\n",
        "!pip install chatterbot_corpus"
      ],
      "execution_count": 30,
      "outputs": [
        {
          "output_type": "stream",
          "text": [
            "Requirement already satisfied: chatbot in /usr/local/lib/python3.6/dist-packages (1.5.2b0)\n",
            "Requirement already satisfied: chatterbot in /usr/local/lib/python3.6/dist-packages (1.0.8)\n",
            "Requirement already satisfied: sqlalchemy<1.4,>=1.3 in /usr/local/lib/python3.6/dist-packages (from chatterbot) (1.3.20)\n",
            "Requirement already satisfied: pytz in /usr/local/lib/python3.6/dist-packages (from chatterbot) (2018.9)\n",
            "Requirement already satisfied: python-dateutil<2.9,>=2.8 in /usr/local/lib/python3.6/dist-packages (from chatterbot) (2.8.1)\n",
            "Requirement already satisfied: mathparse<0.2,>=0.1 in /usr/local/lib/python3.6/dist-packages (from chatterbot) (0.1.2)\n",
            "Requirement already satisfied: six>=1.5 in /usr/local/lib/python3.6/dist-packages (from python-dateutil<2.9,>=2.8->chatterbot) (1.15.0)\n",
            "Requirement already satisfied: chatterbot_corpus in /usr/local/lib/python3.6/dist-packages (1.2.0)\n",
            "Requirement already satisfied: PyYAML<4.0,>=3.12 in /usr/local/lib/python3.6/dist-packages (from chatterbot_corpus) (3.13)\n"
          ],
          "name": "stdout"
        }
      ]
    },
    {
      "cell_type": "code",
      "metadata": {
        "id": "Ee62yXsVSHiC",
        "colab": {
          "base_uri": "https://localhost:8080/"
        },
        "outputId": "63866758-e82b-4154-eb4d-8af3887f1581"
      },
      "source": [
        "import nltk\r\n",
        "nltk.download('punkt')\r\n",
        "nltk.download('wordnet')\r\n",
        "from nltk.stem import WordNetLemmatizer\r\n",
        "lemmatizer = WordNetLemmatizer()\r\n",
        "import json\r\n",
        "import pickle\r\n",
        "\r\n",
        "import numpy as np\r\n",
        "from keras.models import Sequential\r\n",
        "from keras.layers import Dense, Activation, Dropout\r\n",
        "from keras.optimizers import SGD\r\n",
        "import random"
      ],
      "execution_count": 34,
      "outputs": [
        {
          "output_type": "stream",
          "text": [
            "[nltk_data] Downloading package punkt to /root/nltk_data...\n",
            "[nltk_data]   Unzipping tokenizers/punkt.zip.\n",
            "[nltk_data] Downloading package wordnet to /root/nltk_data...\n",
            "[nltk_data]   Unzipping corpora/wordnet.zip.\n"
          ],
          "name": "stdout"
        }
      ]
    },
    {
      "cell_type": "code",
      "metadata": {
        "id": "rECvx6CAT4Gx"
      },
      "source": [
        "words=[]\n",
        "classes = []\n",
        "documents = []\n",
        "ignore_words = ['?', '!']\n",
        "data_file = open('/content/drive/MyDrive/intents.json').read()\n",
        "intents = json.loads(data_file)"
      ],
      "execution_count": 36,
      "outputs": []
    },
    {
      "cell_type": "code",
      "metadata": {
        "id": "sas91gDsV2mY"
      },
      "source": [
        "for intent in intents['intents']:\n",
        "    for pattern in intent['patterns']:\n",
        "\n",
        "        # take each word and tokenize it\n",
        "        w = nltk.word_tokenize(pattern)\n",
        "        words.extend(w)\n",
        "        # adding documents\n",
        "        documents.append((w, intent['tag']))\n",
        "\n",
        "        # adding classes to our class list\n",
        "        if intent['tag'] not in classes:\n",
        "            classes.append(intent['tag'])"
      ],
      "execution_count": 37,
      "outputs": []
    },
    {
      "cell_type": "code",
      "metadata": {
        "colab": {
          "base_uri": "https://localhost:8080/"
        },
        "id": "TUITT5pkW3AP",
        "outputId": "0e5fd10f-817b-48f4-a523-c3a674c1fd28"
      },
      "source": [
        "words = [lemmatizer.lemmatize(w.lower()) for w in words if w not in ignore_words]\n",
        "words = sorted(list(set(words)))\n",
        "\n",
        "classes = sorted(list(set(classes)))\n",
        "\n",
        "print (len(documents), \"documents\")\n",
        "\n",
        "print (len(classes), \"classes\", classes)\n",
        "\n",
        "print (len(words), \"unique lemmatized words\", words)\n",
        "\n",
        "\n",
        "pickle.dump(words,open('words.pkl','wb'))\n",
        "pickle.dump(classes,open('classes.pkl','wb'))"
      ],
      "execution_count": 38,
      "outputs": [
        {
          "output_type": "stream",
          "text": [
            "47 documents\n",
            "9 classes ['adverse_drug', 'blood_pressure', 'blood_pressure_search', 'goodbye', 'greeting', 'hospital_search', 'options', 'pharmacy_search', 'thanks']\n",
            "88 unique lemmatized words [\"'s\", ',', 'a', 'adverse', 'all', 'anyone', 'are', 'awesome', 'be', 'behavior', 'blood', 'by', 'bye', 'can', 'causing', 'chatting', 'check', 'could', 'data', 'day', 'detail', 'do', 'dont', 'drug', 'entry', 'find', 'for', 'give', 'good', 'goodbye', 'have', 'hello', 'help', 'helpful', 'helping', 'hey', 'hi', 'history', 'hola', 'hospital', 'how', 'i', 'id', 'is', 'later', 'list', 'load', 'locate', 'log', 'looking', 'lookup', 'management', 'me', 'module', 'nearby', 'next', 'nice', 'of', 'offered', 'open', 'patient', 'pharmacy', 'pressure', 'provide', 'reaction', 'related', 'result', 'search', 'searching', 'see', 'show', 'suitable', 'support', 'task', 'thank', 'thanks', 'that', 'there', 'till', 'time', 'to', 'transfer', 'up', 'want', 'what', 'which', 'with', 'you']\n"
          ],
          "name": "stdout"
        }
      ]
    },
    {
      "cell_type": "code",
      "metadata": {
        "colab": {
          "base_uri": "https://localhost:8080/"
        },
        "id": "ZYzWZbl_W-HQ",
        "outputId": "5789f747-e464-42a7-91e8-0ca02e41dec8"
      },
      "source": [
        "# initializing training data\n",
        "training = []\n",
        "output_empty = [0] * len(classes)\n",
        "for doc in documents:\n",
        "    # initializing bag of words\n",
        "    bag = []\n",
        "    # list of tokenized words for the pattern\n",
        "    pattern_words = doc[0]\n",
        "    # lemmatize each word - create base word, in attempt to represent related words\n",
        "    pattern_words = [lemmatizer.lemmatize(word.lower()) for word in pattern_words]\n",
        "    # create our bag of words array with 1, if word match found in current pattern\n",
        "    for w in words:\n",
        "        bag.append(1) if w in pattern_words else bag.append(0)\n",
        "\n",
        "    # output is a '0' for each tag and '1' for current tag (for each pattern)\n",
        "    output_row = list(output_empty)\n",
        "    output_row[classes.index(doc[1])] = 1\n",
        "\n",
        "    training.append([bag, output_row])\n",
        "# shuffle our features and turn into np.array\n",
        "random.shuffle(training)\n",
        "training = np.array(training)\n",
        "# create train and test lists. X - patterns, Y - intents\n",
        "train_x = list(training[:,0])\n",
        "train_y = list(training[:,1])\n",
        "print(\"Training data created\")"
      ],
      "execution_count": 39,
      "outputs": [
        {
          "output_type": "stream",
          "text": [
            "Training data created\n"
          ],
          "name": "stdout"
        }
      ]
    },
    {
      "cell_type": "code",
      "metadata": {
        "colab": {
          "base_uri": "https://localhost:8080/"
        },
        "id": "wKhy2j8zXKOl",
        "outputId": "74a1af18-a893-4464-e138-1a12ed631b8c"
      },
      "source": [
        "# Create model - 3 layers. First layer 128 neurons, second layer 64 neurons and 3rd output layer contains number of neurons\n",
        "# equal to number of intents to predict output intent with softmax\n",
        "model = Sequential()\n",
        "model.add(Dense(128, input_shape=(len(train_x[0]),), activation='relu'))\n",
        "model.add(Dropout(0.5))\n",
        "model.add(Dense(64, activation='relu'))\n",
        "model.add(Dropout(0.5))\n",
        "model.add(Dense(len(train_y[0]), activation='softmax'))\n",
        "\n",
        "# Compile model. Stochastic gradient descent with Nesterov accelerated gradient gives good results for this model\n",
        "sgd = SGD(lr=0.01, decay=1e-6, momentum=0.9, nesterov=True)\n",
        "model.compile(loss='categorical_crossentropy', optimizer=sgd, metrics=['accuracy'])\n",
        "\n",
        "#fitting and saving the model\n",
        "hist = model.fit(np.array(train_x), np.array(train_y), epochs=200, batch_size=5, verbose=1)\n",
        "model.save('chatbot_model.h5', hist)\n",
        "\n",
        "print(\"model created\")"
      ],
      "execution_count": 40,
      "outputs": [
        {
          "output_type": "stream",
          "text": [
            "Epoch 1/200\n",
            "10/10 [==============================] - 0s 1ms/step - loss: 2.2156 - accuracy: 0.1064\n",
            "Epoch 2/200\n",
            "10/10 [==============================] - 0s 1ms/step - loss: 2.1822 - accuracy: 0.1702\n",
            "Epoch 3/200\n",
            "10/10 [==============================] - 0s 1ms/step - loss: 2.1102 - accuracy: 0.1702\n",
            "Epoch 4/200\n",
            "10/10 [==============================] - 0s 1ms/step - loss: 1.9179 - accuracy: 0.3191\n",
            "Epoch 5/200\n",
            "10/10 [==============================] - 0s 1ms/step - loss: 1.8709 - accuracy: 0.3617\n",
            "Epoch 6/200\n",
            "10/10 [==============================] - 0s 1ms/step - loss: 1.7166 - accuracy: 0.4255\n",
            "Epoch 7/200\n",
            "10/10 [==============================] - 0s 1ms/step - loss: 1.6201 - accuracy: 0.5319\n",
            "Epoch 8/200\n",
            "10/10 [==============================] - 0s 1ms/step - loss: 1.5410 - accuracy: 0.4681\n",
            "Epoch 9/200\n",
            "10/10 [==============================] - 0s 1ms/step - loss: 1.3566 - accuracy: 0.6383\n",
            "Epoch 10/200\n",
            "10/10 [==============================] - 0s 1ms/step - loss: 1.2889 - accuracy: 0.5957\n",
            "Epoch 11/200\n",
            "10/10 [==============================] - 0s 1ms/step - loss: 1.3028 - accuracy: 0.5957\n",
            "Epoch 12/200\n",
            "10/10 [==============================] - 0s 1ms/step - loss: 1.0677 - accuracy: 0.7234\n",
            "Epoch 13/200\n",
            "10/10 [==============================] - 0s 1ms/step - loss: 1.0249 - accuracy: 0.7234\n",
            "Epoch 14/200\n",
            "10/10 [==============================] - 0s 1ms/step - loss: 0.9251 - accuracy: 0.7872\n",
            "Epoch 15/200\n",
            "10/10 [==============================] - 0s 1ms/step - loss: 0.8120 - accuracy: 0.7872\n",
            "Epoch 16/200\n",
            "10/10 [==============================] - 0s 1ms/step - loss: 0.6555 - accuracy: 0.7660\n",
            "Epoch 17/200\n",
            "10/10 [==============================] - 0s 1ms/step - loss: 0.6702 - accuracy: 0.8085\n",
            "Epoch 18/200\n",
            "10/10 [==============================] - 0s 1ms/step - loss: 0.6584 - accuracy: 0.8298\n",
            "Epoch 19/200\n",
            "10/10 [==============================] - 0s 1ms/step - loss: 0.5668 - accuracy: 0.8723\n",
            "Epoch 20/200\n",
            "10/10 [==============================] - 0s 1ms/step - loss: 0.6598 - accuracy: 0.8085\n",
            "Epoch 21/200\n",
            "10/10 [==============================] - 0s 2ms/step - loss: 0.5386 - accuracy: 0.8511\n",
            "Epoch 22/200\n",
            "10/10 [==============================] - 0s 1ms/step - loss: 0.4030 - accuracy: 0.8723\n",
            "Epoch 23/200\n",
            "10/10 [==============================] - 0s 1ms/step - loss: 0.2911 - accuracy: 0.9362\n",
            "Epoch 24/200\n",
            "10/10 [==============================] - 0s 1ms/step - loss: 0.5551 - accuracy: 0.8085\n",
            "Epoch 25/200\n",
            "10/10 [==============================] - 0s 1ms/step - loss: 0.4154 - accuracy: 0.8936\n",
            "Epoch 26/200\n",
            "10/10 [==============================] - 0s 1ms/step - loss: 0.3649 - accuracy: 0.9787\n",
            "Epoch 27/200\n",
            "10/10 [==============================] - 0s 1ms/step - loss: 0.3866 - accuracy: 0.8723\n",
            "Epoch 28/200\n",
            "10/10 [==============================] - 0s 1ms/step - loss: 0.2680 - accuracy: 0.9149\n",
            "Epoch 29/200\n",
            "10/10 [==============================] - 0s 1ms/step - loss: 0.2387 - accuracy: 1.0000\n",
            "Epoch 30/200\n",
            "10/10 [==============================] - 0s 1ms/step - loss: 0.1662 - accuracy: 1.0000\n",
            "Epoch 31/200\n",
            "10/10 [==============================] - 0s 1ms/step - loss: 0.3940 - accuracy: 0.8511\n",
            "Epoch 32/200\n",
            "10/10 [==============================] - 0s 1ms/step - loss: 0.1965 - accuracy: 0.9362\n",
            "Epoch 33/200\n",
            "10/10 [==============================] - 0s 1ms/step - loss: 0.2466 - accuracy: 0.9574\n",
            "Epoch 34/200\n",
            "10/10 [==============================] - 0s 1ms/step - loss: 0.2546 - accuracy: 0.8723\n",
            "Epoch 35/200\n",
            "10/10 [==============================] - 0s 2ms/step - loss: 0.2057 - accuracy: 0.9574\n",
            "Epoch 36/200\n",
            "10/10 [==============================] - 0s 1ms/step - loss: 0.1869 - accuracy: 0.9574\n",
            "Epoch 37/200\n",
            "10/10 [==============================] - 0s 1ms/step - loss: 0.1618 - accuracy: 0.9787\n",
            "Epoch 38/200\n",
            "10/10 [==============================] - 0s 1ms/step - loss: 0.1945 - accuracy: 0.9787\n",
            "Epoch 39/200\n",
            "10/10 [==============================] - 0s 1ms/step - loss: 0.2103 - accuracy: 0.9787\n",
            "Epoch 40/200\n",
            "10/10 [==============================] - 0s 1ms/step - loss: 0.1963 - accuracy: 0.9362\n",
            "Epoch 41/200\n",
            "10/10 [==============================] - 0s 1ms/step - loss: 0.1056 - accuracy: 0.9787\n",
            "Epoch 42/200\n",
            "10/10 [==============================] - 0s 1ms/step - loss: 0.1528 - accuracy: 0.9362\n",
            "Epoch 43/200\n",
            "10/10 [==============================] - 0s 1ms/step - loss: 0.0549 - accuracy: 1.0000\n",
            "Epoch 44/200\n",
            "10/10 [==============================] - 0s 1ms/step - loss: 0.2663 - accuracy: 0.8936\n",
            "Epoch 45/200\n",
            "10/10 [==============================] - 0s 1ms/step - loss: 0.0990 - accuracy: 0.9787\n",
            "Epoch 46/200\n",
            "10/10 [==============================] - 0s 1ms/step - loss: 0.1348 - accuracy: 0.9574\n",
            "Epoch 47/200\n",
            "10/10 [==============================] - 0s 1ms/step - loss: 0.0897 - accuracy: 1.0000\n",
            "Epoch 48/200\n",
            "10/10 [==============================] - 0s 1ms/step - loss: 0.0843 - accuracy: 1.0000\n",
            "Epoch 49/200\n",
            "10/10 [==============================] - 0s 1ms/step - loss: 0.1217 - accuracy: 0.9787\n",
            "Epoch 50/200\n",
            "10/10 [==============================] - 0s 1ms/step - loss: 0.1374 - accuracy: 0.9787\n",
            "Epoch 51/200\n",
            "10/10 [==============================] - 0s 1ms/step - loss: 0.1980 - accuracy: 0.9362\n",
            "Epoch 52/200\n",
            "10/10 [==============================] - 0s 1ms/step - loss: 0.1384 - accuracy: 0.9574\n",
            "Epoch 53/200\n",
            "10/10 [==============================] - 0s 1ms/step - loss: 0.0921 - accuracy: 0.9787\n",
            "Epoch 54/200\n",
            "10/10 [==============================] - 0s 1ms/step - loss: 0.0769 - accuracy: 1.0000\n",
            "Epoch 55/200\n",
            "10/10 [==============================] - 0s 2ms/step - loss: 0.1615 - accuracy: 0.9574\n",
            "Epoch 56/200\n",
            "10/10 [==============================] - 0s 1ms/step - loss: 0.1654 - accuracy: 0.9362\n",
            "Epoch 57/200\n",
            "10/10 [==============================] - 0s 1ms/step - loss: 0.0579 - accuracy: 1.0000\n",
            "Epoch 58/200\n",
            "10/10 [==============================] - 0s 1ms/step - loss: 0.1024 - accuracy: 1.0000\n",
            "Epoch 59/200\n",
            "10/10 [==============================] - 0s 2ms/step - loss: 0.0347 - accuracy: 1.0000\n",
            "Epoch 60/200\n",
            "10/10 [==============================] - 0s 1ms/step - loss: 0.2541 - accuracy: 0.9362\n",
            "Epoch 61/200\n",
            "10/10 [==============================] - 0s 1ms/step - loss: 0.0534 - accuracy: 0.9787\n",
            "Epoch 62/200\n",
            "10/10 [==============================] - 0s 1ms/step - loss: 0.1146 - accuracy: 0.9787\n",
            "Epoch 63/200\n",
            "10/10 [==============================] - 0s 1ms/step - loss: 0.1203 - accuracy: 0.9787\n",
            "Epoch 64/200\n",
            "10/10 [==============================] - 0s 1ms/step - loss: 0.0594 - accuracy: 1.0000\n",
            "Epoch 65/200\n",
            "10/10 [==============================] - 0s 1ms/step - loss: 0.1238 - accuracy: 0.9787\n",
            "Epoch 66/200\n",
            "10/10 [==============================] - 0s 1ms/step - loss: 0.1222 - accuracy: 0.9574\n",
            "Epoch 67/200\n",
            "10/10 [==============================] - 0s 1ms/step - loss: 0.0465 - accuracy: 1.0000\n",
            "Epoch 68/200\n",
            "10/10 [==============================] - 0s 1ms/step - loss: 0.1579 - accuracy: 0.9574\n",
            "Epoch 69/200\n",
            "10/10 [==============================] - 0s 1ms/step - loss: 0.0459 - accuracy: 1.0000\n",
            "Epoch 70/200\n",
            "10/10 [==============================] - 0s 1ms/step - loss: 0.0468 - accuracy: 0.9787\n",
            "Epoch 71/200\n",
            "10/10 [==============================] - 0s 1ms/step - loss: 0.0515 - accuracy: 1.0000\n",
            "Epoch 72/200\n",
            "10/10 [==============================] - 0s 1ms/step - loss: 0.0767 - accuracy: 1.0000\n",
            "Epoch 73/200\n",
            "10/10 [==============================] - 0s 1ms/step - loss: 0.0383 - accuracy: 0.9787\n",
            "Epoch 74/200\n",
            "10/10 [==============================] - 0s 1ms/step - loss: 0.0628 - accuracy: 0.9787\n",
            "Epoch 75/200\n",
            "10/10 [==============================] - 0s 1ms/step - loss: 0.0827 - accuracy: 1.0000\n",
            "Epoch 76/200\n",
            "10/10 [==============================] - 0s 2ms/step - loss: 0.0420 - accuracy: 1.0000\n",
            "Epoch 77/200\n",
            "10/10 [==============================] - 0s 1ms/step - loss: 0.0457 - accuracy: 1.0000\n",
            "Epoch 78/200\n",
            "10/10 [==============================] - 0s 1ms/step - loss: 0.1148 - accuracy: 0.9787\n",
            "Epoch 79/200\n",
            "10/10 [==============================] - 0s 1ms/step - loss: 0.0150 - accuracy: 1.0000\n",
            "Epoch 80/200\n",
            "10/10 [==============================] - 0s 2ms/step - loss: 0.0437 - accuracy: 1.0000\n",
            "Epoch 81/200\n",
            "10/10 [==============================] - 0s 1ms/step - loss: 0.1024 - accuracy: 0.9362\n",
            "Epoch 82/200\n",
            "10/10 [==============================] - 0s 1ms/step - loss: 0.0333 - accuracy: 0.9787\n",
            "Epoch 83/200\n",
            "10/10 [==============================] - 0s 1ms/step - loss: 0.2028 - accuracy: 0.9574\n",
            "Epoch 84/200\n",
            "10/10 [==============================] - 0s 1ms/step - loss: 0.0779 - accuracy: 0.9787\n",
            "Epoch 85/200\n",
            "10/10 [==============================] - 0s 1ms/step - loss: 0.0440 - accuracy: 1.0000\n",
            "Epoch 86/200\n",
            "10/10 [==============================] - 0s 1ms/step - loss: 0.0345 - accuracy: 1.0000\n",
            "Epoch 87/200\n",
            "10/10 [==============================] - 0s 2ms/step - loss: 0.1170 - accuracy: 0.9787\n",
            "Epoch 88/200\n",
            "10/10 [==============================] - 0s 2ms/step - loss: 0.0567 - accuracy: 1.0000\n",
            "Epoch 89/200\n",
            "10/10 [==============================] - 0s 2ms/step - loss: 0.0590 - accuracy: 0.9787\n",
            "Epoch 90/200\n",
            "10/10 [==============================] - 0s 1ms/step - loss: 0.0909 - accuracy: 0.9787\n",
            "Epoch 91/200\n",
            "10/10 [==============================] - 0s 2ms/step - loss: 0.0239 - accuracy: 1.0000\n",
            "Epoch 92/200\n",
            "10/10 [==============================] - 0s 1ms/step - loss: 0.0826 - accuracy: 0.9787\n",
            "Epoch 93/200\n",
            "10/10 [==============================] - 0s 1ms/step - loss: 0.0951 - accuracy: 0.9787\n",
            "Epoch 94/200\n",
            "10/10 [==============================] - 0s 1ms/step - loss: 0.0492 - accuracy: 1.0000\n",
            "Epoch 95/200\n",
            "10/10 [==============================] - 0s 1ms/step - loss: 0.0341 - accuracy: 1.0000\n",
            "Epoch 96/200\n",
            "10/10 [==============================] - 0s 2ms/step - loss: 0.0339 - accuracy: 0.9787\n",
            "Epoch 97/200\n",
            "10/10 [==============================] - 0s 1ms/step - loss: 0.0218 - accuracy: 1.0000\n",
            "Epoch 98/200\n",
            "10/10 [==============================] - 0s 2ms/step - loss: 0.0686 - accuracy: 0.9787\n",
            "Epoch 99/200\n",
            "10/10 [==============================] - 0s 2ms/step - loss: 0.0175 - accuracy: 1.0000\n",
            "Epoch 100/200\n",
            "10/10 [==============================] - 0s 2ms/step - loss: 0.0719 - accuracy: 0.9574\n",
            "Epoch 101/200\n",
            "10/10 [==============================] - 0s 1ms/step - loss: 0.0574 - accuracy: 1.0000\n",
            "Epoch 102/200\n",
            "10/10 [==============================] - 0s 2ms/step - loss: 0.0416 - accuracy: 0.9787\n",
            "Epoch 103/200\n",
            "10/10 [==============================] - 0s 1ms/step - loss: 0.0433 - accuracy: 1.0000\n",
            "Epoch 104/200\n",
            "10/10 [==============================] - 0s 2ms/step - loss: 0.0299 - accuracy: 1.0000\n",
            "Epoch 105/200\n",
            "10/10 [==============================] - 0s 1ms/step - loss: 0.0542 - accuracy: 0.9787\n",
            "Epoch 106/200\n",
            "10/10 [==============================] - 0s 2ms/step - loss: 0.0581 - accuracy: 0.9787\n",
            "Epoch 107/200\n",
            "10/10 [==============================] - 0s 2ms/step - loss: 0.0444 - accuracy: 1.0000\n",
            "Epoch 108/200\n",
            "10/10 [==============================] - 0s 2ms/step - loss: 0.0303 - accuracy: 1.0000\n",
            "Epoch 109/200\n",
            "10/10 [==============================] - 0s 2ms/step - loss: 0.0122 - accuracy: 1.0000\n",
            "Epoch 110/200\n",
            "10/10 [==============================] - 0s 1ms/step - loss: 0.0223 - accuracy: 1.0000\n",
            "Epoch 111/200\n",
            "10/10 [==============================] - 0s 2ms/step - loss: 0.0329 - accuracy: 1.0000\n",
            "Epoch 112/200\n",
            "10/10 [==============================] - 0s 2ms/step - loss: 0.0652 - accuracy: 0.9787\n",
            "Epoch 113/200\n",
            "10/10 [==============================] - 0s 1ms/step - loss: 0.0192 - accuracy: 1.0000\n",
            "Epoch 114/200\n",
            "10/10 [==============================] - 0s 2ms/step - loss: 0.0164 - accuracy: 1.0000\n",
            "Epoch 115/200\n",
            "10/10 [==============================] - 0s 1ms/step - loss: 0.0066 - accuracy: 1.0000\n",
            "Epoch 116/200\n",
            "10/10 [==============================] - 0s 1ms/step - loss: 0.0256 - accuracy: 1.0000\n",
            "Epoch 117/200\n",
            "10/10 [==============================] - 0s 2ms/step - loss: 0.0444 - accuracy: 1.0000\n",
            "Epoch 118/200\n",
            "10/10 [==============================] - 0s 1ms/step - loss: 0.0355 - accuracy: 0.9787\n",
            "Epoch 119/200\n",
            "10/10 [==============================] - 0s 1ms/step - loss: 0.0084 - accuracy: 1.0000\n",
            "Epoch 120/200\n",
            "10/10 [==============================] - 0s 2ms/step - loss: 0.0201 - accuracy: 1.0000\n",
            "Epoch 121/200\n",
            "10/10 [==============================] - 0s 2ms/step - loss: 0.0134 - accuracy: 1.0000\n",
            "Epoch 122/200\n",
            "10/10 [==============================] - 0s 1ms/step - loss: 0.0286 - accuracy: 1.0000\n",
            "Epoch 123/200\n",
            "10/10 [==============================] - 0s 1ms/step - loss: 0.0076 - accuracy: 1.0000\n",
            "Epoch 124/200\n",
            "10/10 [==============================] - 0s 2ms/step - loss: 0.0295 - accuracy: 0.9787\n",
            "Epoch 125/200\n",
            "10/10 [==============================] - 0s 2ms/step - loss: 0.0398 - accuracy: 0.9787\n",
            "Epoch 126/200\n",
            "10/10 [==============================] - 0s 2ms/step - loss: 0.0261 - accuracy: 1.0000\n",
            "Epoch 127/200\n",
            "10/10 [==============================] - 0s 2ms/step - loss: 0.0283 - accuracy: 1.0000\n",
            "Epoch 128/200\n",
            "10/10 [==============================] - 0s 1ms/step - loss: 0.0222 - accuracy: 1.0000\n",
            "Epoch 129/200\n",
            "10/10 [==============================] - 0s 2ms/step - loss: 0.0248 - accuracy: 1.0000\n",
            "Epoch 130/200\n",
            "10/10 [==============================] - 0s 2ms/step - loss: 0.0291 - accuracy: 1.0000\n",
            "Epoch 131/200\n",
            "10/10 [==============================] - 0s 1ms/step - loss: 0.0209 - accuracy: 1.0000\n",
            "Epoch 132/200\n",
            "10/10 [==============================] - 0s 1ms/step - loss: 0.0149 - accuracy: 1.0000\n",
            "Epoch 133/200\n",
            "10/10 [==============================] - 0s 1ms/step - loss: 0.0218 - accuracy: 1.0000\n",
            "Epoch 134/200\n",
            "10/10 [==============================] - 0s 2ms/step - loss: 0.0297 - accuracy: 1.0000\n",
            "Epoch 135/200\n",
            "10/10 [==============================] - 0s 1ms/step - loss: 0.0416 - accuracy: 1.0000\n",
            "Epoch 136/200\n",
            "10/10 [==============================] - 0s 1ms/step - loss: 0.0118 - accuracy: 1.0000\n",
            "Epoch 137/200\n",
            "10/10 [==============================] - 0s 1ms/step - loss: 0.0645 - accuracy: 0.9787\n",
            "Epoch 138/200\n",
            "10/10 [==============================] - 0s 1ms/step - loss: 0.0168 - accuracy: 1.0000\n",
            "Epoch 139/200\n",
            "10/10 [==============================] - 0s 1ms/step - loss: 0.0203 - accuracy: 1.0000\n",
            "Epoch 140/200\n",
            "10/10 [==============================] - 0s 1ms/step - loss: 0.0140 - accuracy: 1.0000\n",
            "Epoch 141/200\n",
            "10/10 [==============================] - 0s 2ms/step - loss: 0.0276 - accuracy: 1.0000\n",
            "Epoch 142/200\n",
            "10/10 [==============================] - 0s 2ms/step - loss: 0.0692 - accuracy: 0.9787\n",
            "Epoch 143/200\n",
            "10/10 [==============================] - 0s 1ms/step - loss: 0.0172 - accuracy: 1.0000\n",
            "Epoch 144/200\n",
            "10/10 [==============================] - 0s 1ms/step - loss: 0.0145 - accuracy: 1.0000\n",
            "Epoch 145/200\n",
            "10/10 [==============================] - 0s 2ms/step - loss: 0.0067 - accuracy: 1.0000\n",
            "Epoch 146/200\n",
            "10/10 [==============================] - 0s 2ms/step - loss: 0.0453 - accuracy: 0.9787\n",
            "Epoch 147/200\n",
            "10/10 [==============================] - 0s 1ms/step - loss: 0.0194 - accuracy: 1.0000\n",
            "Epoch 148/200\n",
            "10/10 [==============================] - 0s 2ms/step - loss: 0.0286 - accuracy: 1.0000\n",
            "Epoch 149/200\n",
            "10/10 [==============================] - 0s 2ms/step - loss: 0.0329 - accuracy: 0.9787\n",
            "Epoch 150/200\n",
            "10/10 [==============================] - 0s 2ms/step - loss: 0.0357 - accuracy: 0.9787\n",
            "Epoch 151/200\n",
            "10/10 [==============================] - 0s 2ms/step - loss: 0.0061 - accuracy: 1.0000\n",
            "Epoch 152/200\n",
            "10/10 [==============================] - 0s 2ms/step - loss: 0.0108 - accuracy: 1.0000\n",
            "Epoch 153/200\n",
            "10/10 [==============================] - 0s 1ms/step - loss: 0.0284 - accuracy: 1.0000\n",
            "Epoch 154/200\n",
            "10/10 [==============================] - 0s 2ms/step - loss: 0.0405 - accuracy: 1.0000\n",
            "Epoch 155/200\n",
            "10/10 [==============================] - 0s 2ms/step - loss: 0.0129 - accuracy: 1.0000\n",
            "Epoch 156/200\n",
            "10/10 [==============================] - 0s 1ms/step - loss: 0.0662 - accuracy: 0.9574\n",
            "Epoch 157/200\n",
            "10/10 [==============================] - 0s 1ms/step - loss: 0.0528 - accuracy: 0.9787\n",
            "Epoch 158/200\n",
            "10/10 [==============================] - 0s 1ms/step - loss: 0.0200 - accuracy: 1.0000\n",
            "Epoch 159/200\n",
            "10/10 [==============================] - 0s 2ms/step - loss: 0.0061 - accuracy: 1.0000\n",
            "Epoch 160/200\n",
            "10/10 [==============================] - 0s 1ms/step - loss: 0.0504 - accuracy: 0.9787\n",
            "Epoch 161/200\n",
            "10/10 [==============================] - 0s 1ms/step - loss: 0.0829 - accuracy: 0.9787\n",
            "Epoch 162/200\n",
            "10/10 [==============================] - 0s 2ms/step - loss: 0.0219 - accuracy: 1.0000\n",
            "Epoch 163/200\n",
            "10/10 [==============================] - 0s 1ms/step - loss: 0.0645 - accuracy: 0.9787\n",
            "Epoch 164/200\n",
            "10/10 [==============================] - 0s 1ms/step - loss: 0.0057 - accuracy: 1.0000\n",
            "Epoch 165/200\n",
            "10/10 [==============================] - 0s 2ms/step - loss: 0.0632 - accuracy: 0.9574\n",
            "Epoch 166/200\n",
            "10/10 [==============================] - 0s 2ms/step - loss: 0.0269 - accuracy: 1.0000\n",
            "Epoch 167/200\n",
            "10/10 [==============================] - 0s 2ms/step - loss: 0.0222 - accuracy: 1.0000\n",
            "Epoch 168/200\n",
            "10/10 [==============================] - 0s 2ms/step - loss: 0.0040 - accuracy: 1.0000\n",
            "Epoch 169/200\n",
            "10/10 [==============================] - 0s 1ms/step - loss: 0.0410 - accuracy: 1.0000\n",
            "Epoch 170/200\n",
            "10/10 [==============================] - 0s 1ms/step - loss: 0.0066 - accuracy: 1.0000\n",
            "Epoch 171/200\n",
            "10/10 [==============================] - 0s 2ms/step - loss: 0.0107 - accuracy: 1.0000\n",
            "Epoch 172/200\n",
            "10/10 [==============================] - 0s 2ms/step - loss: 0.0110 - accuracy: 1.0000\n",
            "Epoch 173/200\n",
            "10/10 [==============================] - 0s 2ms/step - loss: 0.0117 - accuracy: 1.0000\n",
            "Epoch 174/200\n",
            "10/10 [==============================] - 0s 1ms/step - loss: 0.0042 - accuracy: 1.0000\n",
            "Epoch 175/200\n",
            "10/10 [==============================] - 0s 1ms/step - loss: 0.0320 - accuracy: 1.0000\n",
            "Epoch 176/200\n",
            "10/10 [==============================] - 0s 2ms/step - loss: 0.0130 - accuracy: 1.0000\n",
            "Epoch 177/200\n",
            "10/10 [==============================] - 0s 2ms/step - loss: 0.0308 - accuracy: 1.0000\n",
            "Epoch 178/200\n",
            "10/10 [==============================] - 0s 2ms/step - loss: 0.0133 - accuracy: 1.0000\n",
            "Epoch 179/200\n",
            "10/10 [==============================] - 0s 2ms/step - loss: 0.0114 - accuracy: 1.0000\n",
            "Epoch 180/200\n",
            "10/10 [==============================] - 0s 2ms/step - loss: 0.0091 - accuracy: 1.0000\n",
            "Epoch 181/200\n",
            "10/10 [==============================] - 0s 2ms/step - loss: 0.0074 - accuracy: 1.0000\n",
            "Epoch 182/200\n",
            "10/10 [==============================] - 0s 2ms/step - loss: 0.0091 - accuracy: 1.0000\n",
            "Epoch 183/200\n",
            "10/10 [==============================] - 0s 2ms/step - loss: 0.0104 - accuracy: 1.0000\n",
            "Epoch 184/200\n",
            "10/10 [==============================] - 0s 2ms/step - loss: 0.0126 - accuracy: 1.0000\n",
            "Epoch 185/200\n",
            "10/10 [==============================] - 0s 1ms/step - loss: 0.0950 - accuracy: 0.9787\n",
            "Epoch 186/200\n",
            "10/10 [==============================] - 0s 1ms/step - loss: 0.0056 - accuracy: 1.0000\n",
            "Epoch 187/200\n",
            "10/10 [==============================] - 0s 2ms/step - loss: 0.0061 - accuracy: 1.0000\n",
            "Epoch 188/200\n",
            "10/10 [==============================] - 0s 3ms/step - loss: 0.0289 - accuracy: 0.9787\n",
            "Epoch 189/200\n",
            "10/10 [==============================] - 0s 2ms/step - loss: 0.0103 - accuracy: 1.0000\n",
            "Epoch 190/200\n",
            "10/10 [==============================] - 0s 2ms/step - loss: 0.0104 - accuracy: 1.0000\n",
            "Epoch 191/200\n",
            "10/10 [==============================] - 0s 2ms/step - loss: 0.0523 - accuracy: 0.9787\n",
            "Epoch 192/200\n",
            "10/10 [==============================] - 0s 1ms/step - loss: 0.0040 - accuracy: 1.0000\n",
            "Epoch 193/200\n",
            "10/10 [==============================] - 0s 2ms/step - loss: 0.0465 - accuracy: 0.9787\n",
            "Epoch 194/200\n",
            "10/10 [==============================] - 0s 2ms/step - loss: 0.0097 - accuracy: 1.0000\n",
            "Epoch 195/200\n",
            "10/10 [==============================] - 0s 2ms/step - loss: 0.0492 - accuracy: 0.9787\n",
            "Epoch 196/200\n",
            "10/10 [==============================] - 0s 1ms/step - loss: 0.0116 - accuracy: 1.0000\n",
            "Epoch 197/200\n",
            "10/10 [==============================] - 0s 2ms/step - loss: 0.0063 - accuracy: 1.0000\n",
            "Epoch 198/200\n",
            "10/10 [==============================] - 0s 2ms/step - loss: 0.0648 - accuracy: 0.9574\n",
            "Epoch 199/200\n",
            "10/10 [==============================] - 0s 2ms/step - loss: 0.0121 - accuracy: 1.0000\n",
            "Epoch 200/200\n",
            "10/10 [==============================] - 0s 2ms/step - loss: 0.0182 - accuracy: 1.0000\n",
            "model created\n"
          ],
          "name": "stdout"
        }
      ]
    },
    {
      "cell_type": "code",
      "metadata": {
        "id": "hGVwkeKWXQVv"
      },
      "source": [
        "from keras.models import load_model\n",
        "model = load_model('chatbot_model.h5')\n",
        "import json\n",
        "import random\n",
        "intents = json.loads(open('/content/drive/MyDrive/intents.json').read())\n",
        "words = pickle.load(open('words.pkl','rb'))\n",
        "classes = pickle.load(open('classes.pkl','rb'))"
      ],
      "execution_count": 42,
      "outputs": []
    },
    {
      "cell_type": "code",
      "metadata": {
        "id": "bxfLa5fiXWx2"
      },
      "source": [
        "def clean_up_sentence(sentence):\n",
        "    sentence_words = nltk.word_tokenize(sentence)\n",
        "    sentence_words = [lemmatizer.lemmatize(word.lower()) for word in sentence_words]\n",
        "    return sentence_words\n",
        "\n",
        "# return bag of words array: 0 or 1 for each word in the bag that exists in the sentence\n",
        "\n",
        "def bow(sentence, words, show_details=True):\n",
        "    # tokenize the pattern\n",
        "    sentence_words = clean_up_sentence(sentence)\n",
        "    # bag of words - matrix of N words, vocabulary matrix\n",
        "    bag = [0]*len(words)\n",
        "    for s in sentence_words:\n",
        "        for i,w in enumerate(words):\n",
        "            if w == s:\n",
        "                # assign 1 if current word is in the vocabulary position\n",
        "                bag[i] = 1\n",
        "                if show_details:\n",
        "                    print (\"found in bag: %s\" % w)\n",
        "    return(np.array(bag))\n",
        "\n",
        "def predict_class(sentence, model):\n",
        "    # filter out predictions below a threshold\n",
        "    p = bow(sentence, words,show_details=False)\n",
        "    res = model.predict(np.array([p]))[0]\n",
        "    ERROR_THRESHOLD = 0.25\n",
        "    results = [[i,r] for i,r in enumerate(res) if r>ERROR_THRESHOLD]\n",
        "    # sort by strength of probability\n",
        "    results.sort(key=lambda x: x[1], reverse=True)\n",
        "    return_list = []\n",
        "    for r in results:\n",
        "        return_list.append({\"intent\": classes[r[0]], \"probability\": str(r[1])})\n",
        "    return return_list\n",
        "\n",
        "def getResponse(ints, intents_json):\n",
        "    tag = ints[0]['intent']\n",
        "    list_of_intents = intents_json['intents']\n",
        "    for i in list_of_intents:\n",
        "        if(i['tag']== tag):\n",
        "            result = random.choice(i['responses'])\n",
        "            break\n",
        "    return result\n",
        "\n",
        "def chatbot_response(msg):\n",
        "    ints = predict_class(msg, model)\n",
        "    res = getResponse(ints, intents)\n",
        "    return res"
      ],
      "execution_count": 43,
      "outputs": []
    },
    {
      "cell_type": "code",
      "metadata": {
        "colab": {
          "base_uri": "https://localhost:8080/",
          "height": 37
        },
        "id": "4fo0WomsZlMJ",
        "outputId": "5bf37241-3add-4a50-d825-a80e294ac2fc"
      },
      "source": [
        "chatbot_response(\"How are you?\")"
      ],
      "execution_count": 54,
      "outputs": [
        {
          "output_type": "execute_result",
          "data": {
            "application/vnd.google.colaboratory.intrinsic+json": {
              "type": "string"
            },
            "text/plain": [
              "'Hello, thanks for asking'"
            ]
          },
          "metadata": {
            "tags": []
          },
          "execution_count": 54
        }
      ]
    },
    {
      "cell_type": "code",
      "metadata": {
        "colab": {
          "base_uri": "https://localhost:8080/",
          "height": 54
        },
        "id": "bNRIQoc6dKv1",
        "outputId": "4f46c925-9389-4def-bcaa-878dea4c5749"
      },
      "source": [
        "chatbot_response(\"What do you do?\")"
      ],
      "execution_count": 57,
      "outputs": [
        {
          "output_type": "execute_result",
          "data": {
            "application/vnd.google.colaboratory.intrinsic+json": {
              "type": "string"
            },
            "text/plain": [
              "'I can guide you through Adverse drug reaction list, Blood pressure tracking, Hospitals and Pharmacies'"
            ]
          },
          "metadata": {
            "tags": []
          },
          "execution_count": 57
        }
      ]
    },
    {
      "cell_type": "code",
      "metadata": {
        "colab": {
          "base_uri": "https://localhost:8080/",
          "height": 37
        },
        "id": "4zO4N0rDdOy0",
        "outputId": "222c7d22-669a-40ce-92b3-58dd6993b2eb"
      },
      "source": [
        "chatbot_response(\"Clear\")"
      ],
      "execution_count": 58,
      "outputs": [
        {
          "output_type": "execute_result",
          "data": {
            "application/vnd.google.colaboratory.intrinsic+json": {
              "type": "string"
            },
            "text/plain": [
              "'Good to see you again'"
            ]
          },
          "metadata": {
            "tags": []
          },
          "execution_count": 58
        }
      ]
    },
    {
      "cell_type": "code",
      "metadata": {
        "id": "40by2BBMeyUm"
      },
      "source": [
        ""
      ],
      "execution_count": null,
      "outputs": []
    }
  ]
}