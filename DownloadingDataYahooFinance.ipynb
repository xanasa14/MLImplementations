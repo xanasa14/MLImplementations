{
  "nbformat": 4,
  "nbformat_minor": 0,
  "metadata": {
    "colab": {
      "name": "DownloadingDataYahooFinance.ipynb",
      "provenance": [],
      "collapsed_sections": [],
      "mount_file_id": "12Pdp-l6WR60YMXcJ9IPEqkAp72ZihRRj",
      "authorship_tag": "ABX9TyPKYtkHLZ7IMrBQq582LG2j",
      "include_colab_link": true
    },
    "kernelspec": {
      "name": "python3",
      "display_name": "Python 3"
    }
  },
  "cells": [
    {
      "cell_type": "markdown",
      "metadata": {
        "id": "view-in-github",
        "colab_type": "text"
      },
      "source": [
        "<a href=\"https://colab.research.google.com/github/xanasa14/MLImplementations/blob/master/DownloadingDataYahooFinance.ipynb\" target=\"_parent\"><img src=\"https://colab.research.google.com/assets/colab-badge.svg\" alt=\"Open In Colab\"/></a>"
      ]
    },
    {
      "cell_type": "code",
      "metadata": {
        "colab": {
          "base_uri": "https://localhost:8080/"
        },
        "id": "71wE17xmc3wt",
        "outputId": "da08fc09-8a85-44d0-ae63-efdca5b577bf"
      },
      "source": [
        "!pip install yfinance\r\n",
        "!pip install yahoofinancials"
      ],
      "execution_count": 2,
      "outputs": [
        {
          "output_type": "stream",
          "text": [
            "Requirement already satisfied: yfinance in /usr/local/lib/python3.6/dist-packages (0.1.55)\n",
            "Requirement already satisfied: lxml>=4.5.1 in /usr/local/lib/python3.6/dist-packages (from yfinance) (4.6.2)\n",
            "Requirement already satisfied: numpy>=1.15 in /usr/local/lib/python3.6/dist-packages (from yfinance) (1.19.5)\n",
            "Requirement already satisfied: pandas>=0.24 in /usr/local/lib/python3.6/dist-packages (from yfinance) (1.1.5)\n",
            "Requirement already satisfied: multitasking>=0.0.7 in /usr/local/lib/python3.6/dist-packages (from yfinance) (0.0.9)\n",
            "Requirement already satisfied: requests>=2.20 in /usr/local/lib/python3.6/dist-packages (from yfinance) (2.23.0)\n",
            "Requirement already satisfied: python-dateutil>=2.7.3 in /usr/local/lib/python3.6/dist-packages (from pandas>=0.24->yfinance) (2.8.1)\n",
            "Requirement already satisfied: pytz>=2017.2 in /usr/local/lib/python3.6/dist-packages (from pandas>=0.24->yfinance) (2018.9)\n",
            "Requirement already satisfied: urllib3!=1.25.0,!=1.25.1,<1.26,>=1.21.1 in /usr/local/lib/python3.6/dist-packages (from requests>=2.20->yfinance) (1.24.3)\n",
            "Requirement already satisfied: chardet<4,>=3.0.2 in /usr/local/lib/python3.6/dist-packages (from requests>=2.20->yfinance) (3.0.4)\n",
            "Requirement already satisfied: certifi>=2017.4.17 in /usr/local/lib/python3.6/dist-packages (from requests>=2.20->yfinance) (2020.12.5)\n",
            "Requirement already satisfied: idna<3,>=2.5 in /usr/local/lib/python3.6/dist-packages (from requests>=2.20->yfinance) (2.10)\n",
            "Requirement already satisfied: six>=1.5 in /usr/local/lib/python3.6/dist-packages (from python-dateutil>=2.7.3->pandas>=0.24->yfinance) (1.15.0)\n",
            "Collecting yahoofinancials\n",
            "  Downloading https://files.pythonhosted.org/packages/97/fe/be0f6ea704137848779fc61e7d1c9a901489aaf3423cd7b6f86a350c14c6/yahoofinancials-1.6.tar.gz\n",
            "Requirement already satisfied: beautifulsoup4 in /usr/local/lib/python3.6/dist-packages (from yahoofinancials) (4.6.3)\n",
            "Requirement already satisfied: pytz in /usr/local/lib/python3.6/dist-packages (from yahoofinancials) (2018.9)\n",
            "Building wheels for collected packages: yahoofinancials\n",
            "  Building wheel for yahoofinancials (setup.py) ... \u001b[?25l\u001b[?25hdone\n",
            "  Created wheel for yahoofinancials: filename=yahoofinancials-1.6-cp36-none-any.whl size=15192 sha256=6dfe65c057bb09e9b4186f131735dc6e74ca07380b78d5b389fcd0fc8ba3696f\n",
            "  Stored in directory: /root/.cache/pip/wheels/d9/7e/cf/4977a8572d5247242a4b13018d1d36923024ba84236e0d28bc\n",
            "Successfully built yahoofinancials\n",
            "Installing collected packages: yahoofinancials\n",
            "Successfully installed yahoofinancials-1.6\n"
          ],
          "name": "stdout"
        }
      ]
    },
    {
      "cell_type": "code",
      "metadata": {
        "id": "z7QMSa4kc5r_"
      },
      "source": [
        "import pandas as pd\r\n",
        "import yfinance as yf\r\n",
        "from yahoofinancials import YahooFinancials"
      ],
      "execution_count": 3,
      "outputs": []
    },
    {
      "cell_type": "code",
      "metadata": {
        "colab": {
          "base_uri": "https://localhost:8080/",
          "height": 406
        },
        "id": "0qCAaWT9c4Fb",
        "outputId": "eed48e20-3dcd-4952-f926-17f061cd0180"
      },
      "source": [
        "companies = ['TSLA',\"AMZN\",'WMT','GOOG',\"WEN\",\"TGT\",'T','TMUS', 'VZ']\r\n",
        "finalData=pd.DataFrame()\r\n",
        "for company in companies:\r\n",
        "  tsla_df = yf.download(company, \r\n",
        "                      start='2019-01-01', \r\n",
        "                      end='2021-02-22', \r\n",
        "                      progress=False)\r\n",
        "  tsla_df = tsla_df.drop(columns=['Open', 'High','Low', 'Volume',\"Adj Close\"])\r\n",
        "  tsla_df = tsla_df.rename(columns={'Close': company})\r\n",
        "  tmp = tsla_df[str(company)]\r\n",
        "\r\n",
        "  finalData = finalData.append(tmp, ignore_index=True)\r\n",
        "finalData\r\n",
        "finalData = finalData.T # or df2.transpose()\r\n",
        "for i in range(len(companies)):\r\n",
        "  finalData = finalData.rename(columns={i: companies[i]})\r\n",
        "finalData.to_csv('/content/drive/MyDrive/YahooData/YahooFinanceData.csv', index = False, header=True)\r\n",
        "finalData"
      ],
      "execution_count": 69,
      "outputs": [
        {
          "output_type": "execute_result",
          "data": {
            "text/html": [
              "<div>\n",
              "<style scoped>\n",
              "    .dataframe tbody tr th:only-of-type {\n",
              "        vertical-align: middle;\n",
              "    }\n",
              "\n",
              "    .dataframe tbody tr th {\n",
              "        vertical-align: top;\n",
              "    }\n",
              "\n",
              "    .dataframe thead th {\n",
              "        text-align: right;\n",
              "    }\n",
              "</style>\n",
              "<table border=\"1\" class=\"dataframe\">\n",
              "  <thead>\n",
              "    <tr style=\"text-align: right;\">\n",
              "      <th></th>\n",
              "      <th>TSLA</th>\n",
              "      <th>AMZN</th>\n",
              "      <th>WMT</th>\n",
              "      <th>GOOG</th>\n",
              "      <th>WEN</th>\n",
              "      <th>TGT</th>\n",
              "      <th>T</th>\n",
              "      <th>TMUS</th>\n",
              "      <th>VZ</th>\n",
              "    </tr>\n",
              "  </thead>\n",
              "  <tbody>\n",
              "    <tr>\n",
              "      <th>2019-01-02</th>\n",
              "      <td>62.023998</td>\n",
              "      <td>1539.130005</td>\n",
              "      <td>93.339996</td>\n",
              "      <td>1045.849976</td>\n",
              "      <td>15.640000</td>\n",
              "      <td>66.440002</td>\n",
              "      <td>29.540001</td>\n",
              "      <td>65.260002</td>\n",
              "      <td>56.020000</td>\n",
              "    </tr>\n",
              "    <tr>\n",
              "      <th>2019-01-03</th>\n",
              "      <td>60.071999</td>\n",
              "      <td>1500.280029</td>\n",
              "      <td>92.860001</td>\n",
              "      <td>1016.059998</td>\n",
              "      <td>15.560000</td>\n",
              "      <td>65.529999</td>\n",
              "      <td>29.580000</td>\n",
              "      <td>65.019997</td>\n",
              "      <td>56.220001</td>\n",
              "    </tr>\n",
              "    <tr>\n",
              "      <th>2019-01-04</th>\n",
              "      <td>63.537998</td>\n",
              "      <td>1575.390015</td>\n",
              "      <td>93.440002</td>\n",
              "      <td>1070.709961</td>\n",
              "      <td>15.910000</td>\n",
              "      <td>66.430000</td>\n",
              "      <td>30.340000</td>\n",
              "      <td>67.489998</td>\n",
              "      <td>56.360001</td>\n",
              "    </tr>\n",
              "    <tr>\n",
              "      <th>2019-01-07</th>\n",
              "      <td>66.991997</td>\n",
              "      <td>1629.510010</td>\n",
              "      <td>94.540001</td>\n",
              "      <td>1068.390015</td>\n",
              "      <td>16.160000</td>\n",
              "      <td>69.680000</td>\n",
              "      <td>30.889999</td>\n",
              "      <td>68.440002</td>\n",
              "      <td>56.720001</td>\n",
              "    </tr>\n",
              "    <tr>\n",
              "      <th>2019-01-08</th>\n",
              "      <td>67.070000</td>\n",
              "      <td>1656.579956</td>\n",
              "      <td>95.199997</td>\n",
              "      <td>1076.280029</td>\n",
              "      <td>16.309999</td>\n",
              "      <td>69.610001</td>\n",
              "      <td>31.280001</td>\n",
              "      <td>67.769997</td>\n",
              "      <td>58.380001</td>\n",
              "    </tr>\n",
              "    <tr>\n",
              "      <th>...</th>\n",
              "      <td>...</td>\n",
              "      <td>...</td>\n",
              "      <td>...</td>\n",
              "      <td>...</td>\n",
              "      <td>...</td>\n",
              "      <td>...</td>\n",
              "      <td>...</td>\n",
              "      <td>...</td>\n",
              "      <td>...</td>\n",
              "    </tr>\n",
              "    <tr>\n",
              "      <th>2021-02-12</th>\n",
              "      <td>816.119995</td>\n",
              "      <td>3277.709961</td>\n",
              "      <td>144.470001</td>\n",
              "      <td>2104.110107</td>\n",
              "      <td>21.040001</td>\n",
              "      <td>191.429993</td>\n",
              "      <td>28.799999</td>\n",
              "      <td>123.680000</td>\n",
              "      <td>54.200001</td>\n",
              "    </tr>\n",
              "    <tr>\n",
              "      <th>2021-02-16</th>\n",
              "      <td>796.219971</td>\n",
              "      <td>3268.949951</td>\n",
              "      <td>145.660004</td>\n",
              "      <td>2121.899902</td>\n",
              "      <td>20.700001</td>\n",
              "      <td>190.589996</td>\n",
              "      <td>28.969999</td>\n",
              "      <td>122.000000</td>\n",
              "      <td>54.150002</td>\n",
              "    </tr>\n",
              "    <tr>\n",
              "      <th>2021-02-17</th>\n",
              "      <td>798.150024</td>\n",
              "      <td>3308.639893</td>\n",
              "      <td>147.199997</td>\n",
              "      <td>2128.310059</td>\n",
              "      <td>20.440001</td>\n",
              "      <td>193.600006</td>\n",
              "      <td>29.570000</td>\n",
              "      <td>121.300003</td>\n",
              "      <td>56.990002</td>\n",
              "    </tr>\n",
              "    <tr>\n",
              "      <th>2021-02-18</th>\n",
              "      <td>787.380005</td>\n",
              "      <td>3328.229980</td>\n",
              "      <td>137.660004</td>\n",
              "      <td>2117.199951</td>\n",
              "      <td>20.830000</td>\n",
              "      <td>191.410004</td>\n",
              "      <td>29.230000</td>\n",
              "      <td>123.040001</td>\n",
              "      <td>56.980000</td>\n",
              "    </tr>\n",
              "    <tr>\n",
              "      <th>2021-02-19</th>\n",
              "      <td>781.299988</td>\n",
              "      <td>3249.899902</td>\n",
              "      <td>138.339996</td>\n",
              "      <td>2101.139893</td>\n",
              "      <td>20.660000</td>\n",
              "      <td>188.820007</td>\n",
              "      <td>29.000000</td>\n",
              "      <td>120.099998</td>\n",
              "      <td>56.450001</td>\n",
              "    </tr>\n",
              "  </tbody>\n",
              "</table>\n",
              "<p>538 rows × 9 columns</p>\n",
              "</div>"
            ],
            "text/plain": [
              "                  TSLA         AMZN  ...        TMUS         VZ\n",
              "2019-01-02   62.023998  1539.130005  ...   65.260002  56.020000\n",
              "2019-01-03   60.071999  1500.280029  ...   65.019997  56.220001\n",
              "2019-01-04   63.537998  1575.390015  ...   67.489998  56.360001\n",
              "2019-01-07   66.991997  1629.510010  ...   68.440002  56.720001\n",
              "2019-01-08   67.070000  1656.579956  ...   67.769997  58.380001\n",
              "...                ...          ...  ...         ...        ...\n",
              "2021-02-12  816.119995  3277.709961  ...  123.680000  54.200001\n",
              "2021-02-16  796.219971  3268.949951  ...  122.000000  54.150002\n",
              "2021-02-17  798.150024  3308.639893  ...  121.300003  56.990002\n",
              "2021-02-18  787.380005  3328.229980  ...  123.040001  56.980000\n",
              "2021-02-19  781.299988  3249.899902  ...  120.099998  56.450001\n",
              "\n",
              "[538 rows x 9 columns]"
            ]
          },
          "metadata": {
            "tags": []
          },
          "execution_count": 69
        }
      ]
    },
    {
      "cell_type": "code",
      "metadata": {
        "colab": {
          "base_uri": "https://localhost:8080/",
          "height": 453
        },
        "id": "rIiSm02JdKLJ",
        "outputId": "4260e01b-bf4e-407a-aae1-735823e57a34"
      },
      "source": [
        "for company in companies:\r\n",
        "  ticker = yf.Ticker(company)\r\n",
        "  tsla_df = ticker.history(period=\"1Y\")\r\n",
        "  print(tsla_df['Close'].plot(title= str(company) + \"s stock price\"))"
      ],
      "execution_count": 65,
      "outputs": [
        {
          "output_type": "stream",
          "text": [
            "AxesSubplot(0.125,0.2;0.775x0.68)\n",
            "AxesSubplot(0.125,0.2;0.775x0.68)\n",
            "AxesSubplot(0.125,0.2;0.775x0.68)\n",
            "AxesSubplot(0.125,0.2;0.775x0.68)\n",
            "AxesSubplot(0.125,0.2;0.775x0.68)\n",
            "AxesSubplot(0.125,0.2;0.775x0.68)\n",
            "AxesSubplot(0.125,0.2;0.775x0.68)\n",
            "AxesSubplot(0.125,0.2;0.775x0.68)\n",
            "AxesSubplot(0.125,0.2;0.775x0.68)\n"
          ],
          "name": "stdout"
        },
        {
          "output_type": "display_data",
          "data": {
            "image/png": "[encoded data removed]",
            "text/plain": [
              "<Figure size 432x288 with 1 Axes>"
            ]
          },
          "metadata": {
            "tags": [],
            "needs_background": "light"
          }
        }
      ]
    },
    {
      "cell_type": "code",
      "metadata": {
        "id": "AZfGnR8v_03z"
      },
      "source": [
        ""
      ],
      "execution_count": null,
      "outputs": []
    }
  ]
}