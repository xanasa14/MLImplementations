{
  "nbformat": 4,
  "nbformat_minor": 0,
  "metadata": {
    "colab": {
      "name": "NaiveBayesFromOfflineDatasets.ipynb",
      "provenance": [],
      "collapsed_sections": [],
      "mount_file_id": "1pyffZANmIOV64TXSsSUwGch8UzYD-3me",
      "authorship_tag": "ABX9TyPMGoljKwLysNzi4WcPjyf3",
      "include_colab_link": true
    },
    "kernelspec": {
      "name": "python3",
      "display_name": "Python 3"
    }
  },
  "cells": [
    {
      "cell_type": "markdown",
      "metadata": {
        "id": "view-in-github",
        "colab_type": "text"
      },
      "source": [
        "<a href=\"https://colab.research.google.com/github/xanasa14/MLImplementations/blob/master/NaiveBayesFromOfflineDatasets.ipynb\" target=\"_parent\"><img src=\"https://colab.research.google.com/assets/colab-badge.svg\" alt=\"Open In Colab\"/></a>"
      ]
    },
    {
      "cell_type": "code",
      "metadata": {
        "colab": {
          "base_uri": "https://localhost:8080/"
        },
        "id": "tRn3egE0WTQp",
        "outputId": "8baeb6b5-28e0-4999-f029-a65029750117"
      },
      "source": [
        "import numpy as np, pandas as pd\r\n",
        "import seaborn as sns\r\n",
        "from sklearn.model_selection import train_test_split\r\n",
        "import matplotlib.pyplot as plt\r\n",
        "from sklearn.feature_extraction.text import TfidfVectorizer\r\n",
        "from sklearn.naive_bayes import MultinomialNB\r\n",
        "from sklearn.pipeline import make_pipeline\r\n",
        "from sklearn.metrics import confusion_matrix, accuracy_score\r\n",
        "import nltk\r\n",
        "from nltk.stem.wordnet import WordNetLemmatizer\r\n",
        "nltk.download('wordnet')\r\n",
        "\r\n",
        "\r\n",
        "w_tokenizer = nltk.tokenize.WhitespaceTokenizer()\r\n",
        "lemmatizer = nltk.stem.WordNetLemmatizer()"
      ],
      "execution_count": 11,
      "outputs": [
        {
          "output_type": "stream",
          "text": [
            "[nltk_data] Downloading package wordnet to /root/nltk_data...\n",
            "[nltk_data]   Package wordnet is already up-to-date!\n"
          ],
          "name": "stdout"
        }
      ]
    },
    {
      "cell_type": "code",
      "metadata": {
        "id": "5fPWR6U9WjUj"
      },
      "source": [
        "#importing our cancer dataset\r\n",
        "#dataset = pd.read_csv('/content/Errors.csv')\r\n",
        "#/content/fruitsBi.csv\r\n",
        "\r\n",
        "dataset = pd.read_csv('/content/fruitsBi.csv')\r\n",
        "#X = dataset['radius mean', 'texture mean', 'perimeter mean', 'area_mean','smoothness_mean','compactness mean','concavity mean','concave points mean','symmetry mean','fractal dimension mean','radius se' ]\r\n",
        "col_list = ['id', 'label', 'Description']\r\n",
        "#df = pd.read_csv(\"/content/Errors.csv\", usecols=col_list)#dataset['diagnosis']\r\n",
        "df = pd.read_csv(\"/content/fruitsBi.csv\", usecols=col_list)#dataset['diagnosis']\r\n",
        "#Setting our X and Y for trainig and testing \r\n",
        "\r\n",
        "#Dat  = df['Description']\r\n",
        "#Y = dataset['label']\r\n",
        "#print(type(Dat))\r\n",
        "#print(Dat[0])\r\n",
        "\r\n"
      ],
      "execution_count": 12,
      "outputs": []
    },
    {
      "cell_type": "code",
      "metadata": {
        "colab": {
          "base_uri": "https://localhost:8080/"
        },
        "id": "xjG6ojPhTCn9",
        "outputId": "b324f4b8-51f4-4aa5-e317-39b3b14b7beb"
      },
      "source": [
        "import nltk\r\n",
        "from nltk.corpus import stopwords\r\n",
        "nltk.download('stopwords')\r\n",
        "nltk.download('punkt')\r\n",
        "nlp = spacy.load('en', disable=['parser', 'ner'])\r\n",
        "\r\n",
        "stop_words = stopwords.words('english')\r\n",
        "#print(stopwords.words('english'))\r\n",
        "from nltk.stem import WordNetLemmatizer \r\n",
        "\r\n",
        "import spacy\r\n",
        "\r\n",
        "nlp = spacy.load('en_core_web_sm', disable=['parser', 'ner']) \r\n",
        "import string  \r\n",
        "\r\n",
        "#Removing punctuationes and those characters\r\n",
        "def remove_punctuations(text):\r\n",
        "  for punctuation in string.punctuation:\r\n",
        "      text = text.replace(punctuation, '')\r\n",
        "  return text\r\n",
        "# Lowering Text from DataFrame\r\n",
        "def loweringText(text):\r\n",
        "    text = text.lower()\r\n",
        "    return text\r\n",
        "def convert(lst): \r\n",
        "    return ([i for item in lst for i in item.split()]) \r\n",
        "def remove_StopWords(text):\r\n",
        "  line = text.split()\r\n",
        "  text = \"\"\r\n",
        "  for word in line:\r\n",
        "    if(word not in stop_words):\r\n",
        "      text += word\r\n",
        "      text += \" \"\r\n",
        "  return text\r\n",
        "\r\n",
        "def lemmatize(text):\r\n",
        "  line = text.split()\r\n",
        "  txt = \"\"\r\n",
        "  for word in line:\r\n",
        "    doc = nlp(word)\r\n",
        "    for token in doc:\r\n",
        "      txt += token.lemma_\r\n",
        "      txt += \" \"\r\n",
        "  return txt\r\n",
        "\r\n",
        "  # Extract the lemma for each token and join\r\n",
        "  #print(line)\r\n",
        "  #> 'the strip bat be hang on -PRON- foot for good'\r\n",
        "  return line \r\n",
        "df[\"Desc\"] = df['Description'].apply(remove_punctuations).apply(loweringText).apply(remove_StopWords).apply(lemmatize)\r\n",
        "#df [\"D\"] = df[\"Desc\"].apply(lemmatize)\r\n",
        "#df.authors.apply(eval).apply(len).sum()\r\n",
        "\r\n",
        "Dat  = df['Desc']\r\n",
        "Y = dataset['label']"
      ],
      "execution_count": 43,
      "outputs": [
        {
          "output_type": "stream",
          "text": [
            "[nltk_data] Downloading package stopwords to /root/nltk_data...\n",
            "[nltk_data]   Package stopwords is already up-to-date!\n",
            "[nltk_data] Downloading package punkt to /root/nltk_data...\n",
            "[nltk_data]   Package punkt is already up-to-date!\n"
          ],
          "name": "stdout"
        }
      ]
    },
    {
      "cell_type": "code",
      "metadata": {
        "colab": {
          "base_uri": "https://localhost:8080/"
        },
        "id": "qJiZDWV3lQDH",
        "outputId": "177a31df-de97-4296-c387-d04901246794"
      },
      "source": [
        "print(Y)\r\n",
        "print(Dat)"
      ],
      "execution_count": 46,
      "outputs": [
        {
          "output_type": "stream",
          "text": [
            "0      apple\n",
            "1      apple\n",
            "2      apple\n",
            "3      apple\n",
            "4      apple\n",
            "5     banana\n",
            "6     banana\n",
            "7     banana\n",
            "8     banana\n",
            "9     banana\n",
            "10    banana\n",
            "11    banana\n",
            "12    banana\n",
            "13     apple\n",
            "14     apple\n",
            "15     apple\n",
            "16     apple\n",
            "17     apple\n",
            "18    banana\n",
            "19    banana\n",
            "20    banana\n",
            "21    banana\n",
            "22    banana\n",
            "23    banana\n",
            "24    banana\n",
            "25    banana\n",
            "26     apple\n",
            "27     apple\n",
            "28     apple\n",
            "29     apple\n",
            "30     apple\n",
            "Name: label, dtype: object\n",
            "0              red \n",
            "1              red \n",
            "2              red \n",
            "3              red \n",
            "4              red \n",
            "5     yellow color \n",
            "6     yellow color \n",
            "7     yellow color \n",
            "8     yellow color \n",
            "9     yellow color \n",
            "10    yellow color \n",
            "11    yellow color \n",
            "12    yellow color \n",
            "13             red \n",
            "14             red \n",
            "15             red \n",
            "16             red \n",
            "17             red \n",
            "18    yellow color \n",
            "19    yellow color \n",
            "20    yellow color \n",
            "21    yellow color \n",
            "22    yellow color \n",
            "23    yellow color \n",
            "24    yellow color \n",
            "25    yellow color \n",
            "26             red \n",
            "27             red \n",
            "28             red \n",
            "29             red \n",
            "30             red \n",
            "Name: Desc, dtype: object\n"
          ],
          "name": "stdout"
        }
      ]
    },
    {
      "cell_type": "code",
      "metadata": {
        "id": "9mqedRrAag1I"
      },
      "source": [
        "#X and y split to train and test\r\n",
        "\r\n",
        "#y = df['label']\r\n",
        "#X = df.drop('label', axis=1)"
      ],
      "execution_count": null,
      "outputs": []
    },
    {
      "cell_type": "code",
      "metadata": {
        "id": "iubsUXtkYpHW"
      },
      "source": [
        "#print(X)\r\n"
      ],
      "execution_count": null,
      "outputs": []
    },
    {
      "cell_type": "code",
      "metadata": {
        "colab": {
          "base_uri": "https://localhost:8080/"
        },
        "id": "ROVGjHd6Y7Pp",
        "outputId": "254fc6d9-da40-4bb3-85ca-6063d34d5291"
      },
      "source": [
        "X_train, X_test, y_train, y_test = train_test_split(Dat, Y,test_size=0.5, random_state =0  )\r\n",
        "#_train, X_test, y_train, y_test = train_test_split(X, Y,test_size=0.2, random_state =0  )\r\n",
        "\r\n",
        "print(\"\\nX_train:\\n\")\r\n",
        "print(X_train.head())\r\n",
        "print(X_train.shape)\r\n",
        "\r\n",
        "print(\"\\nX_test:\\n\")\r\n",
        "print(X_test.head())\r\n",
        "print(X_test.shape)\r\n",
        "\r\n",
        "print(\"\\nX_train:\\n\")\r\n",
        "print(y_train.head())\r\n",
        "print(y_train.shape)\r\n",
        "\r\n",
        "print(\"\\nX_test:\\n\")\r\n",
        "print(y_test.head())\r\n",
        "print(y_test.shape)"
      ],
      "execution_count": 82,
      "outputs": [
        {
          "output_type": "stream",
          "text": [
            "\n",
            "X_train:\n",
            "\n",
            "1              red \n",
            "30             red \n",
            "6     yellow color \n",
            "4              red \n",
            "18    yellow color \n",
            "Name: Desc, dtype: object\n",
            "(15,)\n",
            "\n",
            "X_test:\n",
            "\n",
            "2              red \n",
            "29             red \n",
            "13             red \n",
            "10    yellow color \n",
            "27             red \n",
            "Name: Desc, dtype: object\n",
            "(16,)\n",
            "\n",
            "X_train:\n",
            "\n",
            "1      apple\n",
            "30     apple\n",
            "6     banana\n",
            "4      apple\n",
            "18    banana\n",
            "Name: label, dtype: object\n",
            "(15,)\n",
            "\n",
            "X_test:\n",
            "\n",
            "2      apple\n",
            "29     apple\n",
            "13     apple\n",
            "10    banana\n",
            "27     apple\n",
            "Name: label, dtype: object\n",
            "(16,)\n"
          ],
          "name": "stdout"
        }
      ]
    },
    {
      "cell_type": "code",
      "metadata": {
        "colab": {
          "base_uri": "https://localhost:8080/"
        },
        "id": "7G1mHiowa59L",
        "outputId": "82c7b1e8-13a1-48de-a380-cfd1e4c75957"
      },
      "source": [
        "# Build the model\r\n",
        "model = make_pipeline(TfidfVectorizer(), MultinomialNB())\r\n",
        "# Train the model using the training data\r\n",
        "model.fit(X_train, y_train)\r\n",
        "# Predict the categories of the test data\r\n",
        "predicted_categories = model.predict(Y)\r\n",
        "print(predicted_categories)"
      ],
      "execution_count": 99,
      "outputs": [
        {
          "output_type": "stream",
          "text": [
            "['apple' 'apple' 'apple' 'apple' 'apple' 'apple' 'apple' 'apple' 'apple'\n",
            " 'apple' 'apple' 'apple' 'apple' 'apple' 'apple' 'apple' 'apple' 'apple'\n",
            " 'apple' 'apple' 'apple' 'apple' 'apple' 'apple' 'apple' 'apple' 'apple'\n",
            " 'apple' 'apple' 'apple' 'apple']\n"
          ],
          "name": "stdout"
        }
      ]
    },
    {
      "cell_type": "code",
      "metadata": {
        "colab": {
          "base_uri": "https://localhost:8080/"
        },
        "id": "DKbl-nW4e56s",
        "outputId": "3229f3c4-f897-48b6-ac5f-c14e9a97d492"
      },
      "source": [
        "print(predicted_categories)\r\n",
        "print(Y)"
      ],
      "execution_count": 100,
      "outputs": [
        {
          "output_type": "stream",
          "text": [
            "['apple' 'apple' 'apple' 'apple' 'apple' 'apple' 'apple' 'apple' 'apple'\n",
            " 'apple' 'apple' 'apple' 'apple' 'apple' 'apple' 'apple' 'apple' 'apple'\n",
            " 'apple' 'apple' 'apple' 'apple' 'apple' 'apple' 'apple' 'apple' 'apple'\n",
            " 'apple' 'apple' 'apple' 'apple']\n",
            "0      apple\n",
            "1      apple\n",
            "2      apple\n",
            "3      apple\n",
            "4      apple\n",
            "5     banana\n",
            "6     banana\n",
            "7     banana\n",
            "8     banana\n",
            "9     banana\n",
            "10    banana\n",
            "11    banana\n",
            "12    banana\n",
            "13     apple\n",
            "14     apple\n",
            "15     apple\n",
            "16     apple\n",
            "17     apple\n",
            "18    banana\n",
            "19    banana\n",
            "20    banana\n",
            "21    banana\n",
            "22    banana\n",
            "23    banana\n",
            "24    banana\n",
            "25    banana\n",
            "26     apple\n",
            "27     apple\n",
            "28     apple\n",
            "29     apple\n",
            "30     apple\n",
            "Name: label, dtype: object\n"
          ],
          "name": "stdout"
        }
      ]
    },
    {
      "cell_type": "code",
      "metadata": {
        "colab": {
          "base_uri": "https://localhost:8080/"
        },
        "id": "ZU1oZgkzbm76",
        "outputId": "34beb11c-7dbd-4510-d9c5-a7d01d4b2d5f"
      },
      "source": [
        "\r\n",
        "print(\"The accuracy is {}\".format(accuracy_score(predicted_categories, Y)))\r\n",
        "#he accuracy is 0.7738980350504514\r\n",
        "#The accuracy is 0.47058823529411764\r\n"
      ],
      "execution_count": 101,
      "outputs": [
        {
          "output_type": "stream",
          "text": [
            "The accuracy is 0.4838709677419355\n"
          ],
          "name": "stdout"
        }
      ]
    },
    {
      "cell_type": "code",
      "metadata": {
        "colab": {
          "base_uri": "https://localhost:8080/"
        },
        "id": "J26nCKXCc712",
        "outputId": "3c70c704-0c27-4f9f-9948-d586f00edfae"
      },
      "source": [
        "confusion_matrix(Y, predicted_categories)\r\n"
      ],
      "execution_count": 102,
      "outputs": [
        {
          "output_type": "execute_result",
          "data": {
            "text/plain": [
              "array([[15,  0],\n",
              "       [16,  0]])"
            ]
          },
          "metadata": {
            "tags": []
          },
          "execution_count": 102
        }
      ]
    },
    {
      "cell_type": "code",
      "metadata": {
        "id": "QMw_SS1osB1G",
        "colab": {
          "base_uri": "https://localhost:8080/"
        },
        "outputId": "6eeb204b-50c0-42aa-d8aa-c25a9d665f77"
      },
      "source": [
        "# Starting with the CountVectorizer/TfidfTransformer approach...\r\n",
        "from sklearn.feature_extraction.text import CountVectorizer\r\n",
        "from sklearn.feature_extraction.text import TfidfTransformer\r\n",
        "\r\n",
        "cvec = CountVectorizer(stop_words='english', min_df=1, max_df=0.6, ngram_range=(1,2,))\r\n",
        "cvec"
      ],
      "execution_count": 103,
      "outputs": [
        {
          "output_type": "execute_result",
          "data": {
            "text/plain": [
              "CountVectorizer(analyzer='word', binary=False, decode_error='strict',\n",
              "                dtype=<class 'numpy.int64'>, encoding='utf-8', input='content',\n",
              "                lowercase=True, max_df=0.6, max_features=None, min_df=1,\n",
              "                ngram_range=(1, 2), preprocessor=None, stop_words='english',\n",
              "                strip_accents=None, token_pattern='(?u)\\\\b\\\\w\\\\w+\\\\b',\n",
              "                tokenizer=None, vocabulary=None)"
            ]
          },
          "metadata": {
            "tags": []
          },
          "execution_count": 103
        }
      ]
    },
    {
      "cell_type": "code",
      "metadata": {
        "colab": {
          "base_uri": "https://localhost:8080/"
        },
        "id": "i0bV5Bfgm-hd",
        "outputId": "1454c36b-542c-4178-81c0-aba0ee1ed68a"
      },
      "source": [
        "# Calculate all the n-grams found in all documents\r\n",
        "from itertools import islice\r\n",
        "cvec.fit(df.Desc)\r\n",
        "list(islice(cvec.vocabulary_.items(), 20))"
      ],
      "execution_count": 104,
      "outputs": [
        {
          "output_type": "execute_result",
          "data": {
            "text/plain": [
              "[('red', 1), ('yellow', 2), ('color', 0), ('yellow color', 3)]"
            ]
          },
          "metadata": {
            "tags": []
          },
          "execution_count": 104
        }
      ]
    },
    {
      "cell_type": "code",
      "metadata": {
        "colab": {
          "base_uri": "https://localhost:8080/"
        },
        "id": "9vtm9OTMnDQB",
        "outputId": "e3610919-272c-4fbe-e655-58e47e538a43"
      },
      "source": [
        "cvec_counts = cvec.transform(df.Desc)\r\n",
        "print ('sparse matrix shape:', cvec_counts.shape)\r\n",
        "print ('nonzero count:', cvec_counts.nnz)\r\n",
        "print ('sparsity: %.2f%%' % (100.0 * cvec_counts.nnz / (cvec_counts.shape[0] * cvec_counts.shape[1])))"
      ],
      "execution_count": 105,
      "outputs": [
        {
          "output_type": "stream",
          "text": [
            "sparse matrix shape: (31, 4)\n",
            "nonzero count: 63\n",
            "sparsity: 50.81%\n"
          ],
          "name": "stdout"
        }
      ]
    },
    {
      "cell_type": "code",
      "metadata": {
        "colab": {
          "base_uri": "https://localhost:8080/",
          "height": 167
        },
        "id": "4IXR6eyroI35",
        "outputId": "014698c1-3d84-4f4a-eefb-f58d8046709d"
      },
      "source": [
        "occ = np.asarray(cvec_counts.sum(axis=0)).ravel().tolist()\r\n",
        "counts_df = pd.DataFrame({'term': cvec.get_feature_names(), 'occurrences': occ})\r\n",
        "counts_df.sort_values(by='occurrences', ascending=False).head(20)"
      ],
      "execution_count": 106,
      "outputs": [
        {
          "output_type": "execute_result",
          "data": {
            "text/html": [
              "<div>\n",
              "<style scoped>\n",
              "    .dataframe tbody tr th:only-of-type {\n",
              "        vertical-align: middle;\n",
              "    }\n",
              "\n",
              "    .dataframe tbody tr th {\n",
              "        vertical-align: top;\n",
              "    }\n",
              "\n",
              "    .dataframe thead th {\n",
              "        text-align: right;\n",
              "    }\n",
              "</style>\n",
              "<table border=\"1\" class=\"dataframe\">\n",
              "  <thead>\n",
              "    <tr style=\"text-align: right;\">\n",
              "      <th></th>\n",
              "      <th>term</th>\n",
              "      <th>occurrences</th>\n",
              "    </tr>\n",
              "  </thead>\n",
              "  <tbody>\n",
              "    <tr>\n",
              "      <th>0</th>\n",
              "      <td>color</td>\n",
              "      <td>16</td>\n",
              "    </tr>\n",
              "    <tr>\n",
              "      <th>2</th>\n",
              "      <td>yellow</td>\n",
              "      <td>16</td>\n",
              "    </tr>\n",
              "    <tr>\n",
              "      <th>3</th>\n",
              "      <td>yellow color</td>\n",
              "      <td>16</td>\n",
              "    </tr>\n",
              "    <tr>\n",
              "      <th>1</th>\n",
              "      <td>red</td>\n",
              "      <td>15</td>\n",
              "    </tr>\n",
              "  </tbody>\n",
              "</table>\n",
              "</div>"
            ],
            "text/plain": [
              "           term  occurrences\n",
              "0         color           16\n",
              "2        yellow           16\n",
              "3  yellow color           16\n",
              "1           red           15"
            ]
          },
          "metadata": {
            "tags": []
          },
          "execution_count": 106
        }
      ]
    },
    {
      "cell_type": "code",
      "metadata": {
        "colab": {
          "base_uri": "https://localhost:8080/"
        },
        "id": "EwoTFLhZpcEq",
        "outputId": "8916e257-93d8-4e2f-a4dd-d31a90f4d9b2"
      },
      "source": [
        "transformer = TfidfTransformer()\r\n",
        "transformed_weights = transformer.fit_transform(cvec_counts)\r\n",
        "transformed_weights"
      ],
      "execution_count": 107,
      "outputs": [
        {
          "output_type": "execute_result",
          "data": {
            "text/plain": [
              "<31x4 sparse matrix of type '<class 'numpy.float64'>'\n",
              "\twith 63 stored elements in Compressed Sparse Row format>"
            ]
          },
          "metadata": {
            "tags": []
          },
          "execution_count": 107
        }
      ]
    },
    {
      "cell_type": "code",
      "metadata": {
        "colab": {
          "base_uri": "https://localhost:8080/",
          "height": 167
        },
        "id": "QmHYZ1YrptAk",
        "outputId": "e3106d8f-b10b-4027-bb07-acb9a5ee4b60"
      },
      "source": [
        "weights = np.asarray(transformed_weights.mean(axis=0)).ravel().tolist()\r\n",
        "weights_df = pd.DataFrame({'term': cvec.get_feature_names(), 'weight': weights})\r\n",
        "weights_df.sort_values(by='weight', ascending=False).head(20)"
      ],
      "execution_count": 108,
      "outputs": [
        {
          "output_type": "execute_result",
          "data": {
            "text/html": [
              "<div>\n",
              "<style scoped>\n",
              "    .dataframe tbody tr th:only-of-type {\n",
              "        vertical-align: middle;\n",
              "    }\n",
              "\n",
              "    .dataframe tbody tr th {\n",
              "        vertical-align: top;\n",
              "    }\n",
              "\n",
              "    .dataframe thead th {\n",
              "        text-align: right;\n",
              "    }\n",
              "</style>\n",
              "<table border=\"1\" class=\"dataframe\">\n",
              "  <thead>\n",
              "    <tr style=\"text-align: right;\">\n",
              "      <th></th>\n",
              "      <th>term</th>\n",
              "      <th>weight</th>\n",
              "    </tr>\n",
              "  </thead>\n",
              "  <tbody>\n",
              "    <tr>\n",
              "      <th>1</th>\n",
              "      <td>red</td>\n",
              "      <td>0.483871</td>\n",
              "    </tr>\n",
              "    <tr>\n",
              "      <th>0</th>\n",
              "      <td>color</td>\n",
              "      <td>0.297987</td>\n",
              "    </tr>\n",
              "    <tr>\n",
              "      <th>2</th>\n",
              "      <td>yellow</td>\n",
              "      <td>0.297987</td>\n",
              "    </tr>\n",
              "    <tr>\n",
              "      <th>3</th>\n",
              "      <td>yellow color</td>\n",
              "      <td>0.297987</td>\n",
              "    </tr>\n",
              "  </tbody>\n",
              "</table>\n",
              "</div>"
            ],
            "text/plain": [
              "           term    weight\n",
              "1           red  0.483871\n",
              "0         color  0.297987\n",
              "2        yellow  0.297987\n",
              "3  yellow color  0.297987"
            ]
          },
          "metadata": {
            "tags": []
          },
          "execution_count": 108
        }
      ]
    },
    {
      "cell_type": "code",
      "metadata": {
        "colab": {
          "base_uri": "https://localhost:8080/",
          "height": 167
        },
        "id": "LJMMK68fp0wS",
        "outputId": "6632dd86-afa2-4b6e-a3f4-4b56ca27c415"
      },
      "source": [
        "from sklearn.feature_extraction.text import TfidfVectorizer\r\n",
        "tvec = TfidfVectorizer(min_df=.1, max_df=0.6, stop_words='english', ngram_range=(1,2,))\r\n",
        "tvec_weights = tvec.fit_transform(df.Desc.dropna())\r\n",
        "weights = np.asarray(tvec_weights.mean(axis=0)).ravel().tolist()\r\n",
        "weights_df = pd.DataFrame({'term': tvec.get_feature_names(), 'weight': weights})\r\n",
        "weights_df.sort_values(by='weight', ascending=False).head(20)"
      ],
      "execution_count": 109,
      "outputs": [
        {
          "output_type": "execute_result",
          "data": {
            "text/html": [
              "<div>\n",
              "<style scoped>\n",
              "    .dataframe tbody tr th:only-of-type {\n",
              "        vertical-align: middle;\n",
              "    }\n",
              "\n",
              "    .dataframe tbody tr th {\n",
              "        vertical-align: top;\n",
              "    }\n",
              "\n",
              "    .dataframe thead th {\n",
              "        text-align: right;\n",
              "    }\n",
              "</style>\n",
              "<table border=\"1\" class=\"dataframe\">\n",
              "  <thead>\n",
              "    <tr style=\"text-align: right;\">\n",
              "      <th></th>\n",
              "      <th>term</th>\n",
              "      <th>weight</th>\n",
              "    </tr>\n",
              "  </thead>\n",
              "  <tbody>\n",
              "    <tr>\n",
              "      <th>1</th>\n",
              "      <td>red</td>\n",
              "      <td>0.483871</td>\n",
              "    </tr>\n",
              "    <tr>\n",
              "      <th>0</th>\n",
              "      <td>color</td>\n",
              "      <td>0.297987</td>\n",
              "    </tr>\n",
              "    <tr>\n",
              "      <th>2</th>\n",
              "      <td>yellow</td>\n",
              "      <td>0.297987</td>\n",
              "    </tr>\n",
              "    <tr>\n",
              "      <th>3</th>\n",
              "      <td>yellow color</td>\n",
              "      <td>0.297987</td>\n",
              "    </tr>\n",
              "  </tbody>\n",
              "</table>\n",
              "</div>"
            ],
            "text/plain": [
              "           term    weight\n",
              "1           red  0.483871\n",
              "0         color  0.297987\n",
              "2        yellow  0.297987\n",
              "3  yellow color  0.297987"
            ]
          },
          "metadata": {
            "tags": []
          },
          "execution_count": 109
        }
      ]
    },
    {
      "cell_type": "code",
      "metadata": {
        "colab": {
          "base_uri": "https://localhost:8080/"
        },
        "id": "XTma2ZfNp66U",
        "outputId": "a32d9e69-6709-47bb-bb0e-dc0cfeb0ac3a"
      },
      "source": [
        "print(df.Desc)"
      ],
      "execution_count": 110,
      "outputs": [
        {
          "output_type": "stream",
          "text": [
            "0              red \n",
            "1              red \n",
            "2              red \n",
            "3              red \n",
            "4              red \n",
            "5     yellow color \n",
            "6     yellow color \n",
            "7     yellow color \n",
            "8     yellow color \n",
            "9     yellow color \n",
            "10    yellow color \n",
            "11    yellow color \n",
            "12    yellow color \n",
            "13             red \n",
            "14             red \n",
            "15             red \n",
            "16             red \n",
            "17             red \n",
            "18    yellow color \n",
            "19    yellow color \n",
            "20    yellow color \n",
            "21    yellow color \n",
            "22    yellow color \n",
            "23    yellow color \n",
            "24    yellow color \n",
            "25    yellow color \n",
            "26             red \n",
            "27             red \n",
            "28             red \n",
            "29             red \n",
            "30             red \n",
            "Name: Desc, dtype: object\n"
          ],
          "name": "stdout"
        }
      ]
    },
    {
      "cell_type": "code",
      "metadata": {
        "colab": {
          "base_uri": "https://localhost:8080/",
          "height": 167
        },
        "id": "f4BItKpgzMlr",
        "outputId": "7a9c3f6f-67fc-408d-c604-8f5b504b9db3"
      },
      "source": [
        "weights_df"
      ],
      "execution_count": 111,
      "outputs": [
        {
          "output_type": "execute_result",
          "data": {
            "text/html": [
              "<div>\n",
              "<style scoped>\n",
              "    .dataframe tbody tr th:only-of-type {\n",
              "        vertical-align: middle;\n",
              "    }\n",
              "\n",
              "    .dataframe tbody tr th {\n",
              "        vertical-align: top;\n",
              "    }\n",
              "\n",
              "    .dataframe thead th {\n",
              "        text-align: right;\n",
              "    }\n",
              "</style>\n",
              "<table border=\"1\" class=\"dataframe\">\n",
              "  <thead>\n",
              "    <tr style=\"text-align: right;\">\n",
              "      <th></th>\n",
              "      <th>term</th>\n",
              "      <th>weight</th>\n",
              "    </tr>\n",
              "  </thead>\n",
              "  <tbody>\n",
              "    <tr>\n",
              "      <th>0</th>\n",
              "      <td>color</td>\n",
              "      <td>0.297987</td>\n",
              "    </tr>\n",
              "    <tr>\n",
              "      <th>1</th>\n",
              "      <td>red</td>\n",
              "      <td>0.483871</td>\n",
              "    </tr>\n",
              "    <tr>\n",
              "      <th>2</th>\n",
              "      <td>yellow</td>\n",
              "      <td>0.297987</td>\n",
              "    </tr>\n",
              "    <tr>\n",
              "      <th>3</th>\n",
              "      <td>yellow color</td>\n",
              "      <td>0.297987</td>\n",
              "    </tr>\n",
              "  </tbody>\n",
              "</table>\n",
              "</div>"
            ],
            "text/plain": [
              "           term    weight\n",
              "0         color  0.297987\n",
              "1           red  0.483871\n",
              "2        yellow  0.297987\n",
              "3  yellow color  0.297987"
            ]
          },
          "metadata": {
            "tags": []
          },
          "execution_count": 111
        }
      ]
    },
    {
      "cell_type": "code",
      "metadata": {
        "id": "5Vq3QxZcz6Jm"
      },
      "source": [
        ""
      ],
      "execution_count": null,
      "outputs": []
    }
  ]
}