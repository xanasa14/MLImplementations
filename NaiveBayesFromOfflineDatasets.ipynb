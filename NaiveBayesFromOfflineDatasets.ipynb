{
  "nbformat": 4,
  "nbformat_minor": 0,
  "metadata": {
    "colab": {
      "name": "NaiveBayesFromOfflineDatasets.ipynb",
      "provenance": [],
      "collapsed_sections": [],
      "mount_file_id": "1pyffZANmIOV64TXSsSUwGch8UzYD-3me",
      "authorship_tag": "ABX9TyO9ZrcztyB+nyUILB/R5mr0",
      "include_colab_link": true
    },
    "kernelspec": {
      "name": "python3",
      "display_name": "Python 3"
    }
  },
  "cells": [
    {
      "cell_type": "markdown",
      "metadata": {
        "id": "view-in-github",
        "colab_type": "text"
      },
      "source": [
        "<a href=\"https://colab.research.google.com/github/xanasa14/MLImplementations/blob/master/NaiveBayesFromOfflineDatasets.ipynb\" target=\"_parent\"><img src=\"https://colab.research.google.com/assets/colab-badge.svg\" alt=\"Open In Colab\"/></a>"
      ]
    },
    {
      "cell_type": "code",
      "metadata": {
        "id": "tRn3egE0WTQp"
      },
      "source": [
        "import numpy as np, pandas as pd\r\n",
        "import seaborn as sns\r\n",
        "from sklearn.model_selection import train_test_split\r\n",
        "import matplotlib.pyplot as plt\r\n",
        "from sklearn.feature_extraction.text import TfidfVectorizer\r\n",
        "from sklearn.naive_bayes import MultinomialNB\r\n",
        "from sklearn.pipeline import make_pipeline\r\n",
        "from sklearn.metrics import confusion_matrix, accuracy_score\r\n",
        "sns.set() # use seaborn plotting style"
      ],
      "execution_count": 9,
      "outputs": []
    },
    {
      "cell_type": "code",
      "metadata": {
        "id": "5fPWR6U9WjUj"
      },
      "source": [
        "#importing our cancer dataset\r\n",
        "dataset = pd.read_csv('/content/Errors.csv')\r\n",
        "\r\n",
        "\r\n",
        "#X = dataset['radius mean', 'texture mean', 'perimeter mean', 'area_mean','smoothness_mean','compactness mean','concavity mean','concave points mean','symmetry mean','fractal dimension mean','radius se' ]\r\n",
        "col_list = ['id', 'label', 'Description']\r\n",
        "df = pd.read_csv(\"/content/Errors.csv\", usecols=col_list)#dataset['diagnosis']\r\n",
        "#Setting our X and Y for trainig and testing \r\n",
        "X  = df\r\n",
        "Y = dataset['label']"
      ],
      "execution_count": 11,
      "outputs": []
    },
    {
      "cell_type": "code",
      "metadata": {
        "id": "9mqedRrAag1I"
      },
      "source": [
        "#X and y split to train and test\r\n",
        "\r\n",
        "#y = df['label']\r\n",
        "#X = df.drop('label', axis=1)"
      ],
      "execution_count": 15,
      "outputs": []
    },
    {
      "cell_type": "code",
      "metadata": {
        "colab": {
          "base_uri": "https://localhost:8080/"
        },
        "id": "iubsUXtkYpHW",
        "outputId": "4d22cf7e-1c51-4e58-d650-33b7970bf62d"
      },
      "source": [
        "print(X)\r\n",
        "print(y)"
      ],
      "execution_count": 19,
      "outputs": [
        {
          "output_type": "stream",
          "text": [
            "    id                            Description\n",
            "0    1              It froze for a long time \n",
            "1    2                A blue screen showed up\n",
            "2    3                   Cant move the cursor\n",
            "3    4                      Cant do anything \n",
            "4    5                        It says to wait\n",
            "5    6                        Told me to wait\n",
            "6    7                   It is not responding\n",
            "7    8         The application cant be closed\n",
            "8    9               Black Screen is showing \n",
            "9   10  Its been frozen for a very long time \n",
            "10  11                 A blue screen appeared\n",
            "11  12              The cursor is not moving \n",
            "12  13        It does not let me do anything \n",
            "13  14  The operator said that I have to wait\n",
            "14  15               A window of please wait \n",
            "15  16                 Nothing is responding \n",
            "16  17        The application is not closing \n",
            "0                    Reset the PC\n",
            "1                    Reset the PC\n",
            "2                    Reset the PC\n",
            "3                    Reset the PC\n",
            "4     Just wait until it responds\n",
            "5     Just wait until it responds\n",
            "6      Close task in Task Manager\n",
            "7      Close task in Task Manager\n",
            "8                    Reset the PC\n",
            "9                    Reset the PC\n",
            "10                   Reset the PC\n",
            "11                   Reset the PC\n",
            "12                   Reset the PC\n",
            "13    Just wait until it responds\n",
            "14    Just wait until it responds\n",
            "15     Close task in Task Manager\n",
            "16     Close task in Task Manager\n",
            "Name: label, dtype: object\n"
          ],
          "name": "stdout"
        }
      ]
    },
    {
      "cell_type": "code",
      "metadata": {
        "colab": {
          "base_uri": "https://localhost:8080/"
        },
        "id": "ROVGjHd6Y7Pp",
        "outputId": "e5fefe39-8868-4083-dce3-ccf732854a66"
      },
      "source": [
        "X_train, X_test, y_train, y_test = train_test_split(X, y,test_size=0.2)\r\n",
        "print(\"\\nX_train:\\n\")\r\n",
        "print(X_train.head())\r\n",
        "print(X_train.shape)\r\n",
        "\r\n",
        "print(\"\\nX_test:\\n\")\r\n",
        "print(X_test.head())\r\n",
        "print(X_test.shape)"
      ],
      "execution_count": 20,
      "outputs": [
        {
          "output_type": "stream",
          "text": [
            "\n",
            "X_train:\n",
            "\n",
            "    id                            Description\n",
            "0    1              It froze for a long time \n",
            "15  16                 Nothing is responding \n",
            "4    5                        It says to wait\n",
            "10  11                 A blue screen appeared\n",
            "9   10  Its been frozen for a very long time \n",
            "(13, 2)\n",
            "\n",
            "X_test:\n",
            "\n",
            "    id                      Description\n",
            "2    3             Cant move the cursor\n",
            "12  13  It does not let me do anything \n",
            "8    9         Black Screen is showing \n",
            "11  12        The cursor is not moving \n",
            "(4, 2)\n"
          ],
          "name": "stdout"
        }
      ]
    },
    {
      "cell_type": "code",
      "metadata": {
        "id": "7G1mHiowa59L"
      },
      "source": [
        ""
      ],
      "execution_count": null,
      "outputs": []
    }
  ]
}