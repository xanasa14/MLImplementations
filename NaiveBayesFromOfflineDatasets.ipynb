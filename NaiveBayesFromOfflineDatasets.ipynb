{
  "nbformat": 4,
  "nbformat_minor": 0,
  "metadata": {
    "colab": {
      "name": "NaiveBayesFromOfflineDatasets.ipynb",
      "provenance": [],
      "collapsed_sections": [],
      "mount_file_id": "1pyffZANmIOV64TXSsSUwGch8UzYD-3me",
      "authorship_tag": "ABX9TyMKYWxtjUhtOly1zUFd8Df9",
      "include_colab_link": true
    },
    "kernelspec": {
      "name": "python3",
      "display_name": "Python 3"
    }
  },
  "cells": [
    {
      "cell_type": "markdown",
      "metadata": {
        "id": "view-in-github",
        "colab_type": "text"
      },
      "source": [
        "<a href=\"https://colab.research.google.com/github/xanasa14/MLImplementations/blob/master/NaiveBayesFromOfflineDatasets.ipynb\" target=\"_parent\"><img src=\"https://colab.research.google.com/assets/colab-badge.svg\" alt=\"Open In Colab\"/></a>"
      ]
    },
    {
      "cell_type": "code",
      "metadata": {
        "id": "tRn3egE0WTQp"
      },
      "source": [
        "import numpy as np, pandas as pd\r\n",
        "import seaborn as sns\r\n",
        "from sklearn.model_selection import train_test_split\r\n",
        "import matplotlib.pyplot as plt\r\n",
        "from sklearn.feature_extraction.text import TfidfVectorizer\r\n",
        "from sklearn.naive_bayes import MultinomialNB\r\n",
        "from sklearn.pipeline import make_pipeline\r\n",
        "from sklearn.metrics import confusion_matrix, accuracy_score\r\n",
        "sns.set() # use seaborn plotting style"
      ],
      "execution_count": 9,
      "outputs": []
    },
    {
      "cell_type": "code",
      "metadata": {
        "id": "5fPWR6U9WjUj"
      },
      "source": [
        "#importing our cancer dataset\r\n",
        "dataset = pd.read_csv('/content/Errors.csv')\r\n",
        "\r\n",
        "\r\n",
        "#X = dataset['radius mean', 'texture mean', 'perimeter mean', 'area_mean','smoothness_mean','compactness mean','concavity mean','concave points mean','symmetry mean','fractal dimension mean','radius se' ]\r\n",
        "col_list = ['id', 'label', 'Description']\r\n",
        "df = pd.read_csv(\"/content/Errors.csv\", usecols=col_list)#dataset['diagnosis']\r\n",
        "#Setting our X and Y for trainig and testing \r\n",
        "X  = df['Description']\r\n",
        "Y = dataset['label']"
      ],
      "execution_count": 30,
      "outputs": []
    },
    {
      "cell_type": "code",
      "metadata": {
        "id": "9mqedRrAag1I"
      },
      "source": [
        "#X and y split to train and test\r\n",
        "\r\n",
        "#y = df['label']\r\n",
        "#X = df.drop('label', axis=1)"
      ],
      "execution_count": 31,
      "outputs": []
    },
    {
      "cell_type": "code",
      "metadata": {
        "colab": {
          "base_uri": "https://localhost:8080/"
        },
        "id": "iubsUXtkYpHW",
        "outputId": "9ad38e79-58e4-4212-f1bf-cf495929aea5"
      },
      "source": [
        "#print(X)\r\n",
        "print(y)"
      ],
      "execution_count": 32,
      "outputs": [
        {
          "output_type": "stream",
          "text": [
            "0                    Reset the PC\n",
            "1                    Reset the PC\n",
            "2                    Reset the PC\n",
            "3                    Reset the PC\n",
            "4     Just wait until it responds\n",
            "5     Just wait until it responds\n",
            "6      Close task in Task Manager\n",
            "7      Close task in Task Manager\n",
            "8                    Reset the PC\n",
            "9                    Reset the PC\n",
            "10                   Reset the PC\n",
            "11                   Reset the PC\n",
            "12                   Reset the PC\n",
            "13    Just wait until it responds\n",
            "14    Just wait until it responds\n",
            "15     Close task in Task Manager\n",
            "16     Close task in Task Manager\n",
            "Name: label, dtype: object\n"
          ],
          "name": "stdout"
        }
      ]
    },
    {
      "cell_type": "code",
      "metadata": {
        "colab": {
          "base_uri": "https://localhost:8080/"
        },
        "id": "ROVGjHd6Y7Pp",
        "outputId": "671fe6cd-8e31-4cc4-e90b-10faac7e1723"
      },
      "source": [
        "X_train, X_test, y_train, y_test = train_test_split(X, y,test_size=0.2)\r\n",
        "print(\"\\nX_train:\\n\")\r\n",
        "print(X_train.head())\r\n",
        "print(X_train.shape)\r\n",
        "\r\n",
        "print(\"\\nX_test:\\n\")\r\n",
        "print(X_test.head())\r\n",
        "print(X_test.shape)\r\n",
        "\r\n",
        "print(\"\\nX_train:\\n\")\r\n",
        "print(y_train.head())\r\n",
        "print(y_train.shape)\r\n",
        "\r\n",
        "print(\"\\nX_test:\\n\")\r\n",
        "print(y_test.head())\r\n",
        "print(y_test.shape)"
      ],
      "execution_count": 33,
      "outputs": [
        {
          "output_type": "stream",
          "text": [
            "\n",
            "X_train:\n",
            "\n",
            "9     Its been frozen for a very long time \n",
            "4                           It says to wait\n",
            "13    The operator said that I have to wait\n",
            "15                   Nothing is responding \n",
            "5                           Told me to wait\n",
            "Name: Description, dtype: object\n",
            "(13,)\n",
            "\n",
            "X_test:\n",
            "\n",
            "11    The cursor is not moving \n",
            "6          It is not responding\n",
            "2          Cant move the cursor\n",
            "3             Cant do anything \n",
            "Name: Description, dtype: object\n",
            "(4,)\n",
            "\n",
            "X_train:\n",
            "\n",
            "9                    Reset the PC\n",
            "4     Just wait until it responds\n",
            "13    Just wait until it responds\n",
            "15     Close task in Task Manager\n",
            "5     Just wait until it responds\n",
            "Name: label, dtype: object\n",
            "(13,)\n",
            "\n",
            "X_test:\n",
            "\n",
            "11                  Reset the PC\n",
            "6     Close task in Task Manager\n",
            "2                   Reset the PC\n",
            "3                   Reset the PC\n",
            "Name: label, dtype: object\n",
            "(4,)\n"
          ],
          "name": "stdout"
        }
      ]
    },
    {
      "cell_type": "code",
      "metadata": {
        "colab": {
          "base_uri": "https://localhost:8080/"
        },
        "id": "7G1mHiowa59L",
        "outputId": "aca08489-533b-4937-be44-81b993454f02"
      },
      "source": [
        "# Build the model\r\n",
        "model = make_pipeline(TfidfVectorizer(), MultinomialNB())\r\n",
        "# Train the model using the training data\r\n",
        "model.fit(X_train, y_train)\r\n",
        "# Predict the categories of the test data\r\n",
        "predicted_categories = model.predict(y)\r\n",
        "print(predicted_categories)"
      ],
      "execution_count": 36,
      "outputs": [
        {
          "output_type": "stream",
          "text": [
            "['Close task in Task Manager' 'Close task in Task Manager'\n",
            " 'Close task in Task Manager' 'Close task in Task Manager'\n",
            " 'Just wait until it responds' 'Just wait until it responds'\n",
            " 'Reset the PC' 'Reset the PC' 'Close task in Task Manager'\n",
            " 'Close task in Task Manager' 'Close task in Task Manager'\n",
            " 'Close task in Task Manager' 'Close task in Task Manager'\n",
            " 'Just wait until it responds' 'Just wait until it responds'\n",
            " 'Reset the PC' 'Reset the PC']\n"
          ],
          "name": "stdout"
        }
      ]
    },
    {
      "cell_type": "code",
      "metadata": {
        "colab": {
          "base_uri": "https://localhost:8080/",
          "height": 446
        },
        "id": "ZU1oZgkzbm76",
        "outputId": "b7f024df-348d-44a0-e430-78ffe06bdd97"
      },
      "source": [
        "# plot the confusion matrix\r\n",
        "mat = confusion_matrix(y, predicted_categories)\r\n",
        "sns.heatmap(mat.T, square = True, annot=True, fmt = \"d\", xticklabels=y,yticklabels=predicted_categories)\r\n",
        "plt.xlabel(\"true labels\")\r\n",
        "plt.ylabel(\"predicted label\")\r\n",
        "plt.show()\r\n",
        "print(\"The accuracy is {}\".format(accuracy_score(y, predicted_categories)))\r\n",
        "#he accuracy is 0.7738980350504514"
      ],
      "execution_count": 40,
      "outputs": [
        {
          "output_type": "display_data",
          "data": {
            "image/png": "[encoded data removed]",
            "text/plain": [
              "<Figure size 432x288 with 2 Axes>"
            ]
          },
          "metadata": {
            "tags": []
          }
        },
        {
          "output_type": "stream",
          "text": [
            "The accuracy is 0.23529411764705882\n"
          ],
          "name": "stdout"
        }
      ]
    },
    {
      "cell_type": "code",
      "metadata": {
        "id": "J26nCKXCc712"
      },
      "source": [
        ""
      ],
      "execution_count": null,
      "outputs": []
    }
  ]
}