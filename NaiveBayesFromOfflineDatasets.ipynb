{
  "nbformat": 4,
  "nbformat_minor": 0,
  "metadata": {
    "colab": {
      "name": "NaiveBayesFromOfflineDatasets.ipynb",
      "provenance": [],
      "collapsed_sections": [],
      "mount_file_id": "1pyffZANmIOV64TXSsSUwGch8UzYD-3me",
      "authorship_tag": "ABX9TyNKFnJ4GDS/UDxLr1SQmvrH",
      "include_colab_link": true
    },
    "kernelspec": {
      "name": "python3",
      "display_name": "Python 3"
    }
  },
  "cells": [
    {
      "cell_type": "markdown",
      "metadata": {
        "id": "view-in-github",
        "colab_type": "text"
      },
      "source": [
        "<a href=\"https://colab.research.google.com/github/xanasa14/MLImplementations/blob/master/NaiveBayesFromOfflineDatasets.ipynb\" target=\"_parent\"><img src=\"https://colab.research.google.com/assets/colab-badge.svg\" alt=\"Open In Colab\"/></a>"
      ]
    },
    {
      "cell_type": "code",
      "metadata": {
        "colab": {
          "base_uri": "https://localhost:8080/"
        },
        "id": "tRn3egE0WTQp",
        "outputId": "df8ba8d1-aab1-4ef6-925c-f281f146e75d"
      },
      "source": [
        "import numpy as np, pandas as pd\r\n",
        "import seaborn as sns\r\n",
        "from sklearn.model_selection import train_test_split\r\n",
        "import matplotlib.pyplot as plt\r\n",
        "from sklearn.feature_extraction.text import TfidfVectorizer\r\n",
        "from sklearn.feature_extraction.text import TfidfTransformer \r\n",
        "\r\n",
        "from sklearn.feature_extraction.text import CountVectorizer \r\n",
        "\r\n",
        "from sklearn.naive_bayes import MultinomialNB\r\n",
        "from sklearn.pipeline import make_pipeline\r\n",
        "from sklearn.metrics import confusion_matrix, accuracy_score\r\n",
        "import nltk\r\n",
        "from nltk.stem.wordnet import WordNetLemmatizer\r\n",
        "nltk.download('wordnet')\r\n",
        "from sklearn.utils.multiclass import unique_labels\r\n",
        "from sklearn.metrics import classification_report\r\n",
        "\r\n",
        "\r\n",
        "\r\n",
        "\r\n",
        "w_tokenizer = nltk.tokenize.WhitespaceTokenizer()\r\n",
        "lemmatizer = nltk.stem.WordNetLemmatizer()"
      ],
      "execution_count": 87,
      "outputs": [
        {
          "output_type": "stream",
          "text": [
            "[nltk_data] Downloading package wordnet to /root/nltk_data...\n",
            "[nltk_data]   Package wordnet is already up-to-date!\n"
          ],
          "name": "stdout"
        }
      ]
    },
    {
      "cell_type": "code",
      "metadata": {
        "id": "5fPWR6U9WjUj"
      },
      "source": [
        "#importing our cancer dataset\r\n",
        "dataset = pd.read_csv('/content/Errors.csv')\r\n",
        "#/content/fruitsBi.csv\r\n",
        "\r\n",
        "#dataset = pd.read_csv('/content/fruitsBi.csv')\r\n",
        "col_list = ['id', 'label', 'Description']\r\n",
        "df = pd.read_csv(\"/content/Errors.csv\", usecols=col_list)#dataset['diagnosis']\r\n",
        "#df = pd.read_csv(\"/content/fruitsBi.csv\", usecols=col_list)#dataset['diagnosis']\r\n"
      ],
      "execution_count": 88,
      "outputs": []
    },
    {
      "cell_type": "code",
      "metadata": {
        "colab": {
          "base_uri": "https://localhost:8080/"
        },
        "id": "xjG6ojPhTCn9",
        "outputId": "28c25c35-4224-4249-c829-62900f17d5b4"
      },
      "source": [
        "import spacy\r\n",
        "\r\n",
        "import nltk\r\n",
        "from nltk.corpus import stopwords\r\n",
        "nltk.download('stopwords')\r\n",
        "nltk.download('punkt')\r\n",
        "nlp = spacy.load('en', disable=['parser', 'ner'])\r\n",
        "\r\n",
        "stop_words = stopwords.words('english')\r\n",
        "#print(stopwords.words('english'))\r\n",
        "from nltk.stem import WordNetLemmatizer \r\n",
        "\r\n",
        "\r\n",
        "nlp = spacy.load('en_core_web_sm', disable=['parser', 'ner']) \r\n",
        "import string  \r\n",
        "\r\n",
        "#Removing punctuationes and those characters\r\n",
        "def remove_punctuations(text):\r\n",
        "  for punctuation in string.punctuation:\r\n",
        "      text = text.replace(punctuation, '')\r\n",
        "  return text\r\n",
        "# Lowering Text from DataFrame\r\n",
        "def loweringText(text):\r\n",
        "    text = text.lower()\r\n",
        "    return text\r\n",
        "def convert(lst): \r\n",
        "    return ([i for item in lst for i in item.split()]) \r\n",
        "def remove_StopWords(text):\r\n",
        "  line = text.split()\r\n",
        "  text = \"\"\r\n",
        "  for word in line:\r\n",
        "    if(word not in stop_words):\r\n",
        "      text += word\r\n",
        "      text += \" \"\r\n",
        "  return text\r\n",
        "\r\n",
        "def lemmatize(text):\r\n",
        "  line = text.split()\r\n",
        "  txt = \"\"\r\n",
        "  for word in line:\r\n",
        "    doc = nlp(word)\r\n",
        "    for token in doc:\r\n",
        "      txt += token.lemma_\r\n",
        "      txt += \" \"\r\n",
        "  return txt\r\n",
        "\r\n",
        "  # Extract the lemma for each token and join\r\n",
        "  #print(line)\r\n",
        "  #> 'the strip bat be hang on -PRON- foot for good'\r\n",
        "  return line \r\n",
        "df[\"Desc\"] = df['Description'].apply(remove_punctuations).apply(loweringText).apply(remove_StopWords).apply(lemmatize)\r\n",
        "#df [\"D\"] = df[\"Desc\"].apply(lemmatize)\r\n",
        "#df.authors.apply(eval).apply(len).sum()\r\n",
        "\r\n",
        "Dat  = df['Desc']\r\n",
        "Y = dataset['label']"
      ],
      "execution_count": 89,
      "outputs": [
        {
          "output_type": "stream",
          "text": [
            "[nltk_data] Downloading package stopwords to /root/nltk_data...\n",
            "[nltk_data]   Package stopwords is already up-to-date!\n",
            "[nltk_data] Downloading package punkt to /root/nltk_data...\n",
            "[nltk_data]   Package punkt is already up-to-date!\n"
          ],
          "name": "stdout"
        }
      ]
    },
    {
      "cell_type": "code",
      "metadata": {
        "colab": {
          "base_uri": "https://localhost:8080/"
        },
        "id": "M_huRIgE3Jqv",
        "outputId": "01ff02fd-24e1-41f6-bd72-069db134119e"
      },
      "source": [
        "cv=CountVectorizer() \r\n",
        " \r\n",
        "# this steps generates word counts for the words in your docs \r\n",
        "word_count_vector=cv.fit_transform(Dat)\r\n",
        "word_count_vector.shape"
      ],
      "execution_count": 90,
      "outputs": [
        {
          "output_type": "execute_result",
          "data": {
            "text/plain": [
              "(30, 37)"
            ]
          },
          "metadata": {
            "tags": []
          },
          "execution_count": 90
        }
      ]
    },
    {
      "cell_type": "code",
      "metadata": {
        "id": "a8zpzJ953cbF"
      },
      "source": [
        "tfidf_transformer=TfidfTransformer(smooth_idf=True,use_idf=True) \r\n",
        "tfidf_transformer.fit(word_count_vector)\r\n",
        "# print idf values \r\n",
        "df_idf = pd.DataFrame(tfidf_transformer.idf_, index=cv.get_feature_names(),columns=[\"idf_weights\"]) \r\n",
        " \r\n",
        "# sort ascending \r\n",
        "df_idf.sort_values(by=['idf_weights'])\r\n",
        "\r\n",
        "#Compute the TFIDF score for your documents\r\n",
        "\r\n",
        "# count matrix \r\n",
        "count_vector=cv.transform(Dat) \r\n",
        " \r\n",
        "# tf-idf scores \r\n",
        "tf_idf_vector=tfidf_transformer.transform(count_vector)\r\n"
      ],
      "execution_count": 91,
      "outputs": []
    },
    {
      "cell_type": "code",
      "metadata": {
        "colab": {
          "base_uri": "https://localhost:8080/",
          "height": 1000
        },
        "id": "bvugLexv4M9-",
        "outputId": "158b2865-08f3-4343-8339-aab6ce621c38"
      },
      "source": [
        "feature_names = cv.get_feature_names() \r\n",
        " \r\n",
        "#get tfidf vector for first document \r\n",
        "first_document_vector=tf_idf_vector[0]\r\n",
        " \r\n",
        "#print the scores \r\n",
        "df = pd.DataFrame(first_document_vector.T.todense(), index=feature_names, columns=[\"tfidf\"]) \r\n",
        "df.sort_values(by=[\"tfidf\"],ascending=False)"
      ],
      "execution_count": 92,
      "outputs": [
        {
          "output_type": "execute_result",
          "data": {
            "text/html": [
              "<div>\n",
              "<style scoped>\n",
              "    .dataframe tbody tr th:only-of-type {\n",
              "        vertical-align: middle;\n",
              "    }\n",
              "\n",
              "    .dataframe tbody tr th {\n",
              "        vertical-align: top;\n",
              "    }\n",
              "\n",
              "    .dataframe thead th {\n",
              "        text-align: right;\n",
              "    }\n",
              "</style>\n",
              "<table border=\"1\" class=\"dataframe\">\n",
              "  <thead>\n",
              "    <tr style=\"text-align: right;\">\n",
              "      <th></th>\n",
              "      <th>tfidf</th>\n",
              "    </tr>\n",
              "  </thead>\n",
              "  <tbody>\n",
              "    <tr>\n",
              "      <th>froze</th>\n",
              "      <td>0.655474</td>\n",
              "    </tr>\n",
              "    <tr>\n",
              "      <th>long</th>\n",
              "      <td>0.534020</td>\n",
              "    </tr>\n",
              "    <tr>\n",
              "      <th>time</th>\n",
              "      <td>0.534020</td>\n",
              "    </tr>\n",
              "    <tr>\n",
              "      <th>anything</th>\n",
              "      <td>0.000000</td>\n",
              "    </tr>\n",
              "    <tr>\n",
              "      <th>operator</th>\n",
              "      <td>0.000000</td>\n",
              "    </tr>\n",
              "    <tr>\n",
              "      <th>please</th>\n",
              "      <td>0.000000</td>\n",
              "    </tr>\n",
              "    <tr>\n",
              "      <th>quite</th>\n",
              "      <td>0.000000</td>\n",
              "    </tr>\n",
              "    <tr>\n",
              "      <th>respond</th>\n",
              "      <td>0.000000</td>\n",
              "    </tr>\n",
              "    <tr>\n",
              "      <th>say</th>\n",
              "      <td>0.000000</td>\n",
              "    </tr>\n",
              "    <tr>\n",
              "      <th>screen</th>\n",
              "      <td>0.000000</td>\n",
              "    </tr>\n",
              "    <tr>\n",
              "      <th>show</th>\n",
              "      <td>0.000000</td>\n",
              "    </tr>\n",
              "    <tr>\n",
              "      <th>not</th>\n",
              "      <td>0.000000</td>\n",
              "    </tr>\n",
              "    <tr>\n",
              "      <th>stop</th>\n",
              "      <td>0.000000</td>\n",
              "    </tr>\n",
              "    <tr>\n",
              "      <th>system</th>\n",
              "      <td>0.000000</td>\n",
              "    </tr>\n",
              "    <tr>\n",
              "      <th>tell</th>\n",
              "      <td>0.000000</td>\n",
              "    </tr>\n",
              "    <tr>\n",
              "      <th>wait</th>\n",
              "      <td>0.000000</td>\n",
              "    </tr>\n",
              "    <tr>\n",
              "      <th>weird</th>\n",
              "      <td>0.000000</td>\n",
              "    </tr>\n",
              "    <tr>\n",
              "      <th>will</th>\n",
              "      <td>0.000000</td>\n",
              "    </tr>\n",
              "    <tr>\n",
              "      <th>nothing</th>\n",
              "      <td>0.000000</td>\n",
              "    </tr>\n",
              "    <tr>\n",
              "      <th>move</th>\n",
              "      <td>0.000000</td>\n",
              "    </tr>\n",
              "    <tr>\n",
              "      <th>new</th>\n",
              "      <td>0.000000</td>\n",
              "    </tr>\n",
              "    <tr>\n",
              "      <th>closed</th>\n",
              "      <td>0.000000</td>\n",
              "    </tr>\n",
              "    <tr>\n",
              "      <th>application</th>\n",
              "      <td>0.000000</td>\n",
              "    </tr>\n",
              "    <tr>\n",
              "      <th>bit</th>\n",
              "      <td>0.000000</td>\n",
              "    </tr>\n",
              "    <tr>\n",
              "      <th>black</th>\n",
              "      <td>0.000000</td>\n",
              "    </tr>\n",
              "    <tr>\n",
              "      <th>blue</th>\n",
              "      <td>0.000000</td>\n",
              "    </tr>\n",
              "    <tr>\n",
              "      <th>can</th>\n",
              "      <td>0.000000</td>\n",
              "    </tr>\n",
              "    <tr>\n",
              "      <th>close</th>\n",
              "      <td>0.000000</td>\n",
              "    </tr>\n",
              "    <tr>\n",
              "      <th>cursor</th>\n",
              "      <td>0.000000</td>\n",
              "    </tr>\n",
              "    <tr>\n",
              "      <th>appear</th>\n",
              "      <td>0.000000</td>\n",
              "    </tr>\n",
              "    <tr>\n",
              "      <th>frozen</th>\n",
              "      <td>0.000000</td>\n",
              "    </tr>\n",
              "    <tr>\n",
              "      <th>get</th>\n",
              "      <td>0.000000</td>\n",
              "    </tr>\n",
              "    <tr>\n",
              "      <th>impossible</th>\n",
              "      <td>0.000000</td>\n",
              "    </tr>\n",
              "    <tr>\n",
              "      <th>let</th>\n",
              "      <td>0.000000</td>\n",
              "    </tr>\n",
              "    <tr>\n",
              "      <th>make</th>\n",
              "      <td>0.000000</td>\n",
              "    </tr>\n",
              "    <tr>\n",
              "      <th>minute</th>\n",
              "      <td>0.000000</td>\n",
              "    </tr>\n",
              "    <tr>\n",
              "      <th>window</th>\n",
              "      <td>0.000000</td>\n",
              "    </tr>\n",
              "  </tbody>\n",
              "</table>\n",
              "</div>"
            ],
            "text/plain": [
              "                tfidf\n",
              "froze        0.655474\n",
              "long         0.534020\n",
              "time         0.534020\n",
              "anything     0.000000\n",
              "operator     0.000000\n",
              "please       0.000000\n",
              "quite        0.000000\n",
              "respond      0.000000\n",
              "say          0.000000\n",
              "screen       0.000000\n",
              "show         0.000000\n",
              "not          0.000000\n",
              "stop         0.000000\n",
              "system       0.000000\n",
              "tell         0.000000\n",
              "wait         0.000000\n",
              "weird        0.000000\n",
              "will         0.000000\n",
              "nothing      0.000000\n",
              "move         0.000000\n",
              "new          0.000000\n",
              "closed       0.000000\n",
              "application  0.000000\n",
              "bit          0.000000\n",
              "black        0.000000\n",
              "blue         0.000000\n",
              "can          0.000000\n",
              "close        0.000000\n",
              "cursor       0.000000\n",
              "appear       0.000000\n",
              "frozen       0.000000\n",
              "get          0.000000\n",
              "impossible   0.000000\n",
              "let          0.000000\n",
              "make         0.000000\n",
              "minute       0.000000\n",
              "window       0.000000"
            ]
          },
          "metadata": {
            "tags": []
          },
          "execution_count": 92
        }
      ]
    },
    {
      "cell_type": "code",
      "metadata": {
        "id": "CKS46ceu4yf1"
      },
      "source": [
        "from sklearn.feature_extraction.text import TfidfVectorizer \r\n",
        " \r\n",
        "# settings that you use for count vectorizer will go here \r\n",
        "tfidf_vectorizer=TfidfVectorizer(use_idf=True) \r\n",
        " \r\n",
        "# just send in all your docs here \r\n",
        "tfidf_vectorizer_vectors=tfidf_vectorizer.fit_transform(Dat)\r\n",
        "\r\n",
        "\r\n",
        "\r\n",
        "# get the first vector out (for the first document) \r\n",
        "first_vector_tfidfvectorizer=tfidf_vectorizer_vectors[0] \r\n",
        " \r\n",
        "# place tf-idf values in a pandas data frame \r\n",
        "df = pd.DataFrame(first_vector_tfidfvectorizer.T.todense(), index=tfidf_vectorizer.get_feature_names(), columns=[\"tfidf\"]), df.sort_values(by=[\"tfidf\"],ascending=False)\r\n"
      ],
      "execution_count": 93,
      "outputs": []
    },
    {
      "cell_type": "code",
      "metadata": {
        "colab": {
          "base_uri": "https://localhost:8080/"
        },
        "id": "MWXtB2Y15KYx",
        "outputId": "1d0c40b0-fd94-4e9d-b134-ec6eade15d6a"
      },
      "source": [
        "tfidf_vectorizer=TfidfVectorizer(use_idf=True)\r\n",
        " \r\n",
        "# just send in all your docs here\r\n",
        "fitted_vectorizer=tfidf_vectorizer.fit(Dat)\r\n",
        "tfidf_vectorizer_vectors=fitted_vectorizer.transform(Dat)\r\n",
        "print(tfidf_vectorizer_vectors)"
      ],
      "execution_count": 94,
      "outputs": [
        {
          "output_type": "stream",
          "text": [
            "  (0, 32)\t0.534019766926982\n",
            "  (0, 15)\t0.534019766926982\n",
            "  (0, 10)\t0.6554737043257369\n",
            "  (1, 28)\t0.5908813701023294\n",
            "  (1, 27)\t0.4823840376936422\n",
            "  (1, 5)\t0.6466566682903475\n",
            "  (2, 20)\t0.4180529506997261\n",
            "  (2, 18)\t0.5604180635017659\n",
            "  (2, 9)\t0.5604180635017659\n",
            "  (2, 6)\t0.44395373476648853\n",
            "  (3, 20)\t0.504766924685183\n",
            "  (3, 6)\t0.5360401380387354\n",
            "  (3, 0)\t0.6766618964854428\n",
            "  (4, 33)\t0.5731044583723914\n",
            "  (4, 26)\t0.8194823242716636\n",
            "  (5, 33)\t0.4950493439759583\n",
            "  (5, 31)\t0.8688648612005053\n",
            "  (6, 25)\t1.0\n",
            "  (7, 20)\t0.4307991614936282\n",
            "  (7, 8)\t0.6477093392553206\n",
            "  (7, 6)\t0.4574896466087619\n",
            "  (7, 2)\t0.4307991614936282\n",
            "  (8, 28)\t0.5613841911602119\n",
            "  (8, 27)\t0.4583031155345862\n",
            "  (8, 4)\t0.6890617129159669\n",
            "  :\t:\n",
            "  (23, 13)\t0.5761525788553147\n",
            "  (23, 7)\t0.435028322064302\n",
            "  (23, 2)\t0.38320591169586443\n",
            "  (24, 20)\t0.47583961143903386\n",
            "  (24, 7)\t0.5401892335636593\n",
            "  (24, 6)\t0.5053206114072578\n",
            "  (24, 2)\t0.47583961143903386\n",
            "  (25, 35)\t0.5547147094015178\n",
            "  (25, 20)\t0.36894733053116546\n",
            "  (25, 14)\t0.49458985557773066\n",
            "  (25, 7)\t0.4188414980885287\n",
            "  (25, 2)\t0.36894733053116546\n",
            "  (26, 28)\t0.5613841911602119\n",
            "  (26, 27)\t0.4583031155345862\n",
            "  (26, 19)\t0.6890617129159669\n",
            "  (27, 32)\t0.4610552498655506\n",
            "  (27, 24)\t0.5659146182308314\n",
            "  (27, 15)\t0.4610552498655506\n",
            "  (27, 11)\t0.5045758198878358\n",
            "  (28, 34)\t0.6254318903711519\n",
            "  (28, 27)\t0.4665510701022287\n",
            "  (28, 1)\t0.6254318903711519\n",
            "  (29, 34)\t0.5960862546010833\n",
            "  (29, 27)\t0.44466021678608125\n",
            "  (29, 12)\t0.6685495259765035\n"
          ],
          "name": "stdout"
        }
      ]
    },
    {
      "cell_type": "code",
      "metadata": {
        "colab": {
          "base_uri": "https://localhost:8080/"
        },
        "id": "ROVGjHd6Y7Pp",
        "outputId": "12745b19-e465-4b2b-e8a5-c43ee522252d"
      },
      "source": [
        "X_train, X_test, y_train, y_test = train_test_split(Dat, Y,test_size=0.4, random_state =0  )\r\n",
        "#_train, X_test, y_train, y_test = train_test_split(X, Y,test_size=0.2, random_state =0  )\r\n",
        "\r\n",
        "print(\"\\nX_train:\\n\")\r\n",
        "print(X_train.head())\r\n",
        "print(X_train.shape)\r\n",
        "\r\n",
        "print(\"\\nX_test:\\n\")\r\n",
        "print(X_test.head())\r\n",
        "print(X_test.shape)\r\n",
        "\r\n",
        "print(\"\\y_train:\\n\")\r\n",
        "print(y_train.head())\r\n",
        "print(y_train.shape)\r\n",
        "\r\n",
        "print(\"\\y_test:\\n\")\r\n",
        "print(y_test.head())\r\n",
        "print(y_test.shape)"
      ],
      "execution_count": 101,
      "outputs": [
        {
          "output_type": "stream",
          "text": [
            "\n",
            "X_train:\n",
            "\n",
            "8                     black screen show \n",
            "14                   window please wait \n",
            "23    application make impossible close \n",
            "20                        wait 3 minute \n",
            "1                      blue screen show \n",
            "Name: Desc, dtype: object\n",
            "(18,)\n",
            "\n",
            "X_test:\n",
            "\n",
            "2     can not move cursor \n",
            "28    weird screen appear \n",
            "13      operator say wait \n",
            "10     blue screen appear \n",
            "26        new screen show \n",
            "Name: Desc, dtype: object\n",
            "(12,)\n",
            "\\y_train:\n",
            "\n",
            "8                   Reset the PC\n",
            "14                          Wait\n",
            "23    Close task in Task Manager\n",
            "20                          Wait\n",
            "1                   Reset the PC\n",
            "Name: label, dtype: object\n",
            "(18,)\n",
            "\\y_test:\n",
            "\n",
            "2     Reset the PC\n",
            "28    Reset the PC\n",
            "13            Wait\n",
            "10    Reset the PC\n",
            "26    Reset the PC\n",
            "Name: label, dtype: object\n",
            "(12,)\n"
          ],
          "name": "stdout"
        }
      ]
    },
    {
      "cell_type": "code",
      "metadata": {
        "colab": {
          "base_uri": "https://localhost:8080/"
        },
        "id": "7G1mHiowa59L",
        "outputId": "111d1824-c5d6-4d94-e625-7ba41d400a83"
      },
      "source": [
        "from sklearn import preprocessing\r\n",
        "# Build the model\r\n",
        "model = make_pipeline(TfidfVectorizer( stop_words='english'), MultinomialNB())\r\n",
        "# Train the model using the training data\r\n",
        "model.fit(X_train, y_train)\r\n",
        "# Predict the categories of the test data\r\n",
        "y_pred = model.predict(X_test)\r\n",
        "print(y_pred)\r\n",
        "\r\n",
        "print(y_test)\r\n",
        "print(model.score(X_test, y_test))\r\n",
        "\r\n"
      ],
      "execution_count": 102,
      "outputs": [
        {
          "output_type": "stream",
          "text": [
            "['Reset the PC' 'Reset the PC' 'Wait' 'Reset the PC' 'Reset the PC'\n",
            " 'Close task in Task Manager' 'Reset the PC' 'Reset the PC' 'Wait'\n",
            " 'Close task in Task Manager' 'Wait' 'Close task in Task Manager']\n",
            "2                   Reset the PC\n",
            "28                  Reset the PC\n",
            "13                          Wait\n",
            "10                  Reset the PC\n",
            "26                  Reset the PC\n",
            "24    Close task in Task Manager\n",
            "27                  Reset the PC\n",
            "11                  Reset the PC\n",
            "17                          Wait\n",
            "22    Close task in Task Manager\n",
            "5                           Wait\n",
            "16    Close task in Task Manager\n",
            "Name: label, dtype: object\n",
            "1.0\n"
          ],
          "name": "stdout"
        }
      ]
    },
    {
      "cell_type": "code",
      "metadata": {
        "colab": {
          "base_uri": "https://localhost:8080/"
        },
        "id": "fcb9BVPZCsjh",
        "outputId": "2d7521ba-7c8c-411c-8c4e-ce6fcae2b605"
      },
      "source": [
        "from sklearn.model_selection import cross_val_score\r\n",
        "scores = cross_val_score(model, Dat, Y, cv=8, verbose=1)\r\n",
        "scores\r\n",
        "\r\n"
      ],
      "execution_count": 103,
      "outputs": [
        {
          "output_type": "stream",
          "text": [
            "[Parallel(n_jobs=1)]: Using backend SequentialBackend with 1 concurrent workers.\n",
            "[Parallel(n_jobs=1)]: Done   8 out of   8 | elapsed:    0.1s finished\n"
          ],
          "name": "stderr"
        },
        {
          "output_type": "execute_result",
          "data": {
            "text/plain": [
              "array([1.  , 1.  , 1.  , 1.  , 0.75, 1.  , 1.  , 1.  ])"
            ]
          },
          "metadata": {
            "tags": []
          },
          "execution_count": 103
        }
      ]
    },
    {
      "cell_type": "code",
      "metadata": {
        "colab": {
          "base_uri": "https://localhost:8080/"
        },
        "id": "ZU1oZgkzbm76",
        "outputId": "69c79de4-a8ba-4ab5-bc13-04054a18df98"
      },
      "source": [
        "\r\n",
        "classes = unique_labels(y_test, y_pred)\r\n",
        "\r\n",
        "print('classificaiton report 1\\n')\r\n",
        "print(classification_report(y_test,y_pred))\r\n",
        "print(\"The accuracy is {}\".format(accuracy_score(y_test, y_pred)))\r\n",
        "#he accuracy is 0.7738980350504514\r\n",
        "#The accuracy is 0.47058823529411764\r\n"
      ],
      "execution_count": 104,
      "outputs": [
        {
          "output_type": "stream",
          "text": [
            "classificaiton report 1\n",
            "\n",
            "                            precision    recall  f1-score   support\n",
            "\n",
            "Close task in Task Manager       1.00      1.00      1.00         3\n",
            "              Reset the PC       1.00      1.00      1.00         6\n",
            "                      Wait       1.00      1.00      1.00         3\n",
            "\n",
            "                  accuracy                           1.00        12\n",
            "                 macro avg       1.00      1.00      1.00        12\n",
            "              weighted avg       1.00      1.00      1.00        12\n",
            "\n",
            "The accuracy is 1.0\n"
          ],
          "name": "stdout"
        }
      ]
    },
    {
      "cell_type": "code",
      "metadata": {
        "colab": {
          "base_uri": "https://localhost:8080/"
        },
        "id": "J26nCKXCc712",
        "outputId": "810d6cc0-c2ea-4c8b-b48a-9bdb9bd9f1bd"
      },
      "source": [
        "confusion_matrix(y_test, y_pred)\r\n",
        "print(classes)\r\n"
      ],
      "execution_count": 105,
      "outputs": [
        {
          "output_type": "stream",
          "text": [
            "['Close task in Task Manager' 'Reset the PC' 'Wait']\n"
          ],
          "name": "stdout"
        }
      ]
    },
    {
      "cell_type": "code",
      "metadata": {
        "id": "5Vq3QxZcz6Jm",
        "colab": {
          "base_uri": "https://localhost:8080/",
          "height": 365
        },
        "outputId": "29a992c4-c1c9-42ed-d287-9132dfae2cd9"
      },
      "source": [
        "from sklearn.metrics import plot_confusion_matrix\r\n",
        "\r\n",
        "# Plot non-normalized confusion matrix\r\n",
        "title = \"Confusion Matrix \"\r\n",
        "disp = plot_confusion_matrix(model, X_test, y_test,\r\n",
        "                              display_labels=classes,\r\n",
        "                              cmap=plt.cm.Blues)\r\n",
        "disp.ax_.set_title(title)\r\n",
        "\r\n",
        "print(title)\r\n",
        "print(disp.confusion_matrix)\r\n",
        "\r\n"
      ],
      "execution_count": 106,
      "outputs": [
        {
          "output_type": "stream",
          "text": [
            "Confusion Matrix \n",
            "[[3 0 0]\n",
            " [0 6 0]\n",
            " [0 0 3]]\n"
          ],
          "name": "stdout"
        },
        {
          "output_type": "display_data",
          "data": {
            "image/png": "[encoded data removed]",
            "text/plain": [
              "<Figure size 432x288 with 2 Axes>"
            ]
          },
          "metadata": {
            "tags": [],
            "needs_background": "light"
          }
        }
      ]
    },
    {
      "cell_type": "code",
      "metadata": {
        "colab": {
          "base_uri": "https://localhost:8080/"
        },
        "id": "Sp1bwkizUbX9",
        "outputId": "2803481a-1231-405a-c3d6-bc10895050ba"
      },
      "source": [
        "import pickle\r\n",
        "# save the model to disk\r\n",
        "\r\n",
        "filename = 'finalized_model.sav'\r\n",
        "pickle.dump(model, open(filename, 'wb'))\r\n",
        " \r\n",
        "# some time later...\r\n",
        " \r\n",
        "# load the model from disk\r\n",
        "loaded_model = pickle.load(open(filename, 'rb'))\r\n",
        "result = loaded_model.score(X_test, y_test)\r\n",
        "print(result)"
      ],
      "execution_count": 109,
      "outputs": [
        {
          "output_type": "stream",
          "text": [
            "1.0\n"
          ],
          "name": "stdout"
        }
      ]
    },
    {
      "cell_type": "code",
      "metadata": {
        "id": "9HcWQZyXacj3"
      },
      "source": [
        ""
      ],
      "execution_count": null,
      "outputs": []
    }
  ]
}