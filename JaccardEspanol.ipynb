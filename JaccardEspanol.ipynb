{
  "nbformat": 4,
  "nbformat_minor": 0,
  "metadata": {
    "colab": {
      "name": "JaccardEspanol.ipynb",
      "provenance": [],
      "collapsed_sections": [],
      "authorship_tag": "ABX9TyPR5LlEgRM+EXAc6NtGBWRH",
      "include_colab_link": true
    },
    "kernelspec": {
      "name": "python3",
      "display_name": "Python 3"
    }
  },
  "cells": [
    {
      "cell_type": "markdown",
      "metadata": {
        "id": "view-in-github",
        "colab_type": "text"
      },
      "source": [
        "<a href=\"https://colab.research.google.com/github/xanasa14/MLImplementations/blob/master/JaccardEspanol.ipynb\" target=\"_parent\"><img src=\"https://colab.research.google.com/assets/colab-badge.svg\" alt=\"Open In Colab\"/></a>"
      ]
    },
    {
      "cell_type": "code",
      "metadata": {
        "id": "YEVh2JDLNtcD"
      },
      "source": [
        "!pip install spacy\r\n",
        "!pip install -U pip setuptools wheel\r\n",
        "#pip install -U spacy\r\n",
        "\r\n",
        "!python -m spacy download es_core_news_sm\r\n",
        "!spacy download es_core_news_sm\r\n",
        "\r\n",
        "#!python -m spacy download es_core_news_lg\r\n",
        "#!spacy download es_core_news_lg\r\n",
        "\r\n"
      ],
      "execution_count": null,
      "outputs": []
    },
    {
      "cell_type": "code",
      "metadata": {
        "colab": {
          "base_uri": "https://localhost:8080/"
        },
        "id": "Dl6BSwSXN5hf",
        "outputId": "f67b7399-409f-450d-b402-f29bb71ab1f8"
      },
      "source": [
        "\r\n",
        "from collections import Counter\r\n",
        "from sklearn.feature_extraction.text import CountVectorizer\r\n",
        "from sklearn.metrics.pairwise import cosine_similarity\r\n",
        "\r\n",
        "import spacy\r\n",
        "#nlp = spacy.load('es_core_news_lg')\r\n",
        "nlp = spacy.load('es_core_news_sm')\r\n",
        "\r\n",
        "def Punctuation(string): \r\n",
        "    string= string.replace(\"-PRON-\",\"\")      \r\n",
        "  \r\n",
        "    # punctuation marks \r\n",
        "    punctuations = '''!()-[]{};:'\"\\,<>./?@#$%^&*_~…'''\r\n",
        "  \r\n",
        "    # traverse the given string and if any punctuation \r\n",
        "    # marks occur replace it with null \r\n",
        "    for x in string.lower(): \r\n",
        "        if x in punctuations: \r\n",
        "            string = string.replace(x, \"\") \r\n",
        "  \r\n",
        "    # Print string without punctuation \r\n",
        "    return (string) \r\n",
        "\r\n",
        "\r\n",
        "\r\n",
        "\r\n",
        "text = 'Amo el futbol'\r\n",
        "text = Punctuation(text)\r\n",
        "\r\n",
        "text2 = 'Futbol es mi amor'\r\n",
        "text2 = Punctuation(text2)\r\n",
        "doc = nlp(text)\r\n",
        "\r\n",
        "#lemmas = tokens already lemmatized\r\n",
        "lemmas = [tok.lemma_.lower() for tok in doc]\r\n",
        "print(type(lemmas))\r\n",
        "print(lemmas)\r\n",
        "\r\n",
        "doc2 = nlp(text2)\r\n",
        "#lemmas = tokens already lemmatized\r\n",
        "lemmas2 = [tok.lemma_.lower() for tok in doc2]\r\n",
        "print(len(lemmas2))\r\n",
        "print(lemmas2)\r\n",
        "\r\n",
        "\r\n",
        "\r\n"
      ],
      "execution_count": 67,
      "outputs": [
        {
          "output_type": "stream",
          "text": [
            "<class 'list'>\n",
            "['amo', 'el', 'futbol']\n",
            "4\n",
            "['futbol', 'ser', 'mi', 'amor']\n"
          ],
          "name": "stdout"
        }
      ]
    },
    {
      "cell_type": "code",
      "metadata": {
        "id": "juuht3T6Nkvh"
      },
      "source": [
        "\r\n",
        "def get_cosine_sim(*strs): \r\n",
        "    vectors = [t for t in get_vectors(*strs)]\r\n",
        "    return cosine_similarity(vectors)\r\n",
        "    \r\n",
        "def get_vectors(*strs):\r\n",
        "    text = [t for t in strs]\r\n",
        "    vectorizer = CountVectorizer(text)\r\n",
        "    vectorizer.fit(text)\r\n",
        "    return vectorizer.transform(text).toarray()\r\n",
        "def get_jaccard_sim(str1, str2): \r\n",
        "  a = set(str1.split()) \r\n",
        "  b = set(str2.split())\r\n",
        "  c = a.intersection(b)\r\n",
        "  print(a)\r\n",
        "  print(len(a))\r\n",
        "  print(len(b))\r\n",
        "  print(len(c))\r\n",
        "  return float(len(c)) / (len(a) + len(b) - len(c))\r\n"
      ],
      "execution_count": 68,
      "outputs": []
    },
    {
      "cell_type": "code",
      "metadata": {
        "colab": {
          "base_uri": "https://localhost:8080/"
        },
        "id": "jTGNAuBiS7bl",
        "outputId": "67ef5852-18e3-42e0-e353-0f8a83b29f01"
      },
      "source": [
        "import nltk\r\n",
        "nltk.download('punkt')\r\n",
        "nltk.download('stopwords')\r\n",
        "from nltk.corpus import stopwords\r\n",
        "from textblob import TextBlob\r\n",
        "\r\n",
        "def removeStopwords( texto):\r\n",
        "    blob = TextBlob(texto).words\r\n",
        "    outputlist = [word for word in blob if word not in stopwords.words('spanish')]\r\n",
        "    return(' '.join(word for word in outputlist))"
      ],
      "execution_count": 69,
      "outputs": [
        {
          "output_type": "stream",
          "text": [
            "[nltk_data] Downloading package punkt to /root/nltk_data...\n",
            "[nltk_data]   Package punkt is already up-to-date!\n",
            "[nltk_data] Downloading package stopwords to /root/nltk_data...\n",
            "[nltk_data]   Package stopwords is already up-to-date!\n"
          ],
          "name": "stdout"
        }
      ]
    },
    {
      "cell_type": "code",
      "metadata": {
        "id": "P2JM_Oq1TZH4"
      },
      "source": [
        "\r\n",
        "text = ' '.join(lemmas)\r\n",
        "text2 = ' '.join(lemmas2)\r\n",
        "text = removeStopwords(text)\r\n",
        "text2 = removeStopwords(text2)\r\n"
      ],
      "execution_count": 70,
      "outputs": []
    },
    {
      "cell_type": "code",
      "metadata": {
        "colab": {
          "base_uri": "https://localhost:8080/"
        },
        "id": "VV5fJPHMTcrT",
        "outputId": "d944e426-c8aa-43ef-d424-ea2942a1d084"
      },
      "source": [
        "get_cosine_sim(text,text2)\r\n"
      ],
      "execution_count": 71,
      "outputs": [
        {
          "output_type": "execute_result",
          "data": {
            "text/plain": [
              "array([[1.        , 0.40824829],\n",
              "       [0.40824829, 1.        ]])"
            ]
          },
          "metadata": {
            "tags": []
          },
          "execution_count": 71
        }
      ]
    },
    {
      "cell_type": "code",
      "metadata": {
        "colab": {
          "base_uri": "https://localhost:8080/"
        },
        "id": "UO1Vc0ESVheL",
        "outputId": "8165d87c-feae-4796-fa7e-3d465362eeb0"
      },
      "source": [
        "\r\n",
        "print(text)\r\n",
        "print(text2)\r\n",
        "print(get_jaccard_sim(text,text2))\r\n"
      ],
      "execution_count": 72,
      "outputs": [
        {
          "output_type": "stream",
          "text": [
            "amo futbol\n",
            "futbol ser amor\n",
            "{'futbol', 'amo'}\n",
            "2\n",
            "3\n",
            "1\n",
            "0.25\n"
          ],
          "name": "stdout"
        }
      ]
    },
    {
      "cell_type": "code",
      "metadata": {
        "id": "1VvKkNSiVkP8"
      },
      "source": [
        ""
      ],
      "execution_count": null,
      "outputs": []
    }
  ]
}