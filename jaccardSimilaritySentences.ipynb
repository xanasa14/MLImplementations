{
  "nbformat": 4,
  "nbformat_minor": 0,
  "metadata": {
    "colab": {
      "name": "jaccardSimilaritySentences.ipynb",
      "provenance": [],
      "authorship_tag": "ABX9TyO8BggekuhNYgXXGAPPs6dX",
      "include_colab_link": true
    },
    "kernelspec": {
      "name": "python3",
      "display_name": "Python 3"
    }
  },
  "cells": [
    {
      "cell_type": "markdown",
      "metadata": {
        "id": "view-in-github",
        "colab_type": "text"
      },
      "source": [
        "<a href=\"https://colab.research.google.com/github/xanasa14/MLImplementations/blob/master/jaccardSimilaritySentences.ipynb\" target=\"_parent\"><img src=\"https://colab.research.google.com/assets/colab-badge.svg\" alt=\"Open In Colab\"/></a>"
      ]
    },
    {
      "cell_type": "code",
      "metadata": {
        "id": "BnOVOMv93RIM"
      },
      "source": [
        "from collections import Counter\r\n",
        "from sklearn.feature_extraction.text import CountVectorizer\r\n",
        "from sklearn.metrics.pairwise import cosine_similarity\r\n",
        "import spacy\r\n",
        "# Python program to remove punctuation from a given string \r\n",
        "# Function to remove punctuation \r\n",
        "def Punctuation(string): \r\n",
        "    string= string.replace(\"-PRON-\",\"\")      \r\n",
        "  \r\n",
        "    # punctuation marks \r\n",
        "    punctuations = '''!()-[]{};:'\"\\,<>./?@#$%^&*_~'''\r\n",
        "  \r\n",
        "    # traverse the given string and if any punctuation \r\n",
        "    # marks occur replace it with null \r\n",
        "    for x in string.lower(): \r\n",
        "        if x in punctuations: \r\n",
        "            string = string.replace(x, \"\") \r\n",
        "  \r\n",
        "    # Print string without punctuation \r\n",
        "    return (string) \r\n",
        "nlp = spacy.load('en_core_web_sm', disable=['parser', 'ner'])\r\n",
        "def get_cosine_sim(*strs): \r\n",
        "    vectors = [t for t in get_vectors(*strs)]\r\n",
        "    return cosine_similarity(vectors)\r\n",
        "    \r\n",
        "def get_vectors(*strs):\r\n",
        "    text = [t for t in strs]\r\n",
        "    vectorizer = CountVectorizer(text)\r\n",
        "    vectorizer.fit(text)\r\n",
        "    return vectorizer.transform(text).toarray()\r\n",
        "def get_jaccard_sim(str1, str2): \r\n",
        "  a = set(str1.split()) \r\n",
        "  b = set(str2.split())\r\n",
        "  c = a.intersection(b)\r\n",
        "  print(c)\r\n",
        "  return float(len(c)) / (len(a) + len(b) - len(c))\r\n"
      ],
      "execution_count": 59,
      "outputs": []
    },
    {
      "cell_type": "code",
      "metadata": {
        "colab": {
          "base_uri": "https://localhost:8080/"
        },
        "id": "ttNXxXR85vu3",
        "outputId": "f437f47f-adfa-4f72-fef4-80eaad3ac368"
      },
      "source": [
        "str1 = \"Xavier likes to play his videogames with his friends\"\r\n",
        "str2 = \"Xavier likes playing his videogames with his friends\"\r\n",
        "str3 = \"apples, and pears are healthy\"\r\n",
        "str4 = \"AI is our friend and it has been friendly\"\r\n",
        "str5 = \"AI and humans have always been friendly\"\r\n",
        "strs= []\r\n",
        "strsWithoutLemma = [str1 ,str2,  str3, str4, str5 ]\r\n",
        "\r\n",
        "    \r\n",
        "#Lemmatizing from beggning\r\n",
        "for headlines in strsWithoutLemma:\r\n",
        "   doc = nlp(Punctuation(headlines))\r\n",
        "   line = \" \".join([token.lemma_ for token in doc])\r\n",
        "   line= line.replace(\"-PRON-\",\"\") \r\n",
        "   line= line.replace(\"  \",\" \")      \r\n",
        "     \r\n",
        "\r\n",
        "   print(line)\r\n",
        "   strs.append(line)\r\n",
        "print(line)"
      ],
      "execution_count": 60,
      "outputs": [
        {
          "output_type": "stream",
          "text": [
            "Xavier like to play videogame with friend\n",
            "Xavier like play videogame with friend\n",
            "apple and pear be healthy\n",
            "AI be friend and have be friendly\n",
            "AI and human have always be friendly\n",
            "AI and human have always be friendly\n"
          ],
          "name": "stdout"
        }
      ]
    },
    {
      "cell_type": "code",
      "metadata": {
        "colab": {
          "base_uri": "https://localhost:8080/"
        },
        "id": "_yCTYD-N6XnP",
        "outputId": "cbc0ec29-17cc-407b-c966-664cddf730e9"
      },
      "source": [
        "# Remove stopwords\r\n",
        "import spacy\r\n",
        "spacy_nlp = spacy.load('en_core_web_sm', disable=['parser', 'ner'])\r\n",
        "\r\n",
        "str_tokens = []\r\n",
        "for stri in strs:\r\n",
        "  str_tokens.append([token.text.lower() for token in spacy_nlp(stri) if not token.is_stop])\r\n",
        "\r\n",
        "print(str_tokens)"
      ],
      "execution_count": 61,
      "outputs": [
        {
          "output_type": "stream",
          "text": [
            "[['xavier', 'like', 'play', 'videogame', 'friend'], ['xavier', 'like', 'play', 'videogame', 'friend'], ['apple', 'pear', 'healthy'], ['ai', 'friend', 'friendly'], ['ai', 'human', 'friendly']]\n"
          ],
          "name": "stdout"
        }
      ]
    },
    {
      "cell_type": "code",
      "metadata": {
        "colab": {
          "base_uri": "https://localhost:8080/"
        },
        "id": "RrvQQRm43Uxm",
        "outputId": "e6d96d05-092f-4c11-ab89-19b2b75bba54"
      },
      "source": [
        "first = str_tokens[0]\r\n",
        "second = str_tokens[1]\r\n",
        "third = str_tokens[2]\r\n",
        "fourth =str_tokens[3]\r\n",
        "line1 = \" \".join([word for word in first])\r\n",
        "line2 = \" \".join([word for word in second])\r\n",
        "line3 = \" \".join([word for word in third])\r\n",
        "line4 = \" \".join([word for word in fourth])\r\n",
        "print(line1)\r\n",
        "print(line3)\r\n",
        "get_cosine_sim(line1,line3)"
      ],
      "execution_count": 70,
      "outputs": [
        {
          "output_type": "stream",
          "text": [
            "xavier like play videogame friend\n",
            "apple pear healthy\n"
          ],
          "name": "stdout"
        },
        {
          "output_type": "execute_result",
          "data": {
            "text/plain": [
              "array([[1., 0.],\n",
              "       [0., 1.]])"
            ]
          },
          "metadata": {
            "tags": []
          },
          "execution_count": 70
        }
      ]
    },
    {
      "cell_type": "code",
      "metadata": {
        "colab": {
          "base_uri": "https://localhost:8080/"
        },
        "id": "LpNCcMw03azt",
        "outputId": "0ff9173a-7ac5-4a32-cdf7-c21ac57037d8"
      },
      "source": [
        "get_jaccard_sim(line1,line3) * 100"
      ],
      "execution_count": 69,
      "outputs": [
        {
          "output_type": "stream",
          "text": [
            "set()\n"
          ],
          "name": "stdout"
        },
        {
          "output_type": "execute_result",
          "data": {
            "text/plain": [
              "0.0"
            ]
          },
          "metadata": {
            "tags": []
          },
          "execution_count": 69
        }
      ]
    },
    {
      "cell_type": "code",
      "metadata": {
        "id": "vde5gJ4h3uqZ"
      },
      "source": [
        ""
      ],
      "execution_count": null,
      "outputs": []
    }
  ]
}