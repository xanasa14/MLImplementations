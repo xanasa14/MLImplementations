{
  "nbformat": 4,
  "nbformat_minor": 0,
  "metadata": {
    "colab": {
      "name": "ToxicComments.ipynb",
      "provenance": [],
      "collapsed_sections": [],
      "mount_file_id": "1_sqDV99oWum2XDB-5cZvOPDbCiqNUJH1",
      "authorship_tag": "ABX9TyOQxhRzEA+iAC8Nft4WMY1R",
      "include_colab_link": true
    },
    "kernelspec": {
      "name": "python3",
      "display_name": "Python 3"
    }
  },
  "cells": [
    {
      "cell_type": "markdown",
      "metadata": {
        "id": "view-in-github",
        "colab_type": "text"
      },
      "source": [
        "<a href=\"https://colab.research.google.com/github/xanasa14/MLImplementations/blob/master/ToxicComments.ipynb\" target=\"_parent\"><img src=\"https://colab.research.google.com/assets/colab-badge.svg\" alt=\"Open In Colab\"/></a>"
      ]
    },
    {
      "cell_type": "code",
      "metadata": {
        "id": "l0SFzyZpYcm6"
      },
      "source": [
        "from numpy import array\r\n",
        "from keras.preprocessing.text import one_hot\r\n",
        "from keras.preprocessing.sequence import pad_sequences\r\n",
        "from keras.models import Sequential\r\n",
        "from keras.layers.core import Activation, Dropout, Dense\r\n",
        "from keras.layers import Flatten, LSTM\r\n",
        "from keras.layers import GlobalMaxPooling1D\r\n",
        "from keras.models import Model\r\n",
        "from keras.layers.embeddings import Embedding\r\n",
        "from sklearn.model_selection import train_test_split\r\n",
        "from keras.preprocessing.text import Tokenizer\r\n",
        "from keras.layers import Input\r\n",
        "from keras.layers.merge import Concatenate\r\n",
        "\r\n",
        "import pandas as pd\r\n",
        "import numpy as np\r\n",
        "import re\r\n",
        "import nltk \r\n",
        "\r\n",
        "import matplotlib.pyplot as plt"
      ],
      "execution_count": 54,
      "outputs": []
    },
    {
      "cell_type": "code",
      "metadata": {
        "id": "wsuFB3oKYcir",
        "colab": {
          "base_uri": "https://localhost:8080/"
        },
        "outputId": "8d488ae0-84d8-4285-e854-c91945cf7e5e"
      },
      "source": [
        "#toxic_comments = pd.read_csv(\"/content/train.csv\",engine='python',encoding='utf-8')\r\n",
        "toxic_comments = pd.read_csv(\"/content/drive/MyDrive/toxicCommentz/train.csv\")\r\n",
        "\r\n",
        "print(toxic_comments.head())\r\n",
        "\r\n",
        "print(toxic_comments.tail)"
      ],
      "execution_count": 55,
      "outputs": [
        {
          "output_type": "stream",
          "text": [
            "                 id  ... identity_hate\n",
            "0  0000997932d777bf  ...             0\n",
            "1  000103f0d9cfb60f  ...             0\n",
            "2  000113f07ec002fd  ...             0\n",
            "3  0001b41b1c6bb37e  ...             0\n",
            "4  0001d958c54c6e35  ...             0\n",
            "\n",
            "[5 rows x 8 columns]\n",
            "<bound method NDFrame.tail of                       id  ... identity_hate\n",
            "0       0000997932d777bf  ...             0\n",
            "1       000103f0d9cfb60f  ...             0\n",
            "2       000113f07ec002fd  ...             0\n",
            "3       0001b41b1c6bb37e  ...             0\n",
            "4       0001d958c54c6e35  ...             0\n",
            "...                  ...  ...           ...\n",
            "159566  ffe987279560d7ff  ...             0\n",
            "159567  ffea4adeee384e90  ...             0\n",
            "159568  ffee36eab5c267c9  ...             0\n",
            "159569  fff125370e4aaaf3  ...             0\n",
            "159570  fff46fc426af1f9a  ...             0\n",
            "\n",
            "[159571 rows x 8 columns]>\n"
          ],
          "name": "stdout"
        }
      ]
    },
    {
      "cell_type": "code",
      "metadata": {
        "colab": {
          "base_uri": "https://localhost:8080/"
        },
        "id": "bnw6Z4ZKX0Kj",
        "outputId": "ca748653-e146-41a3-cb7c-036d05205f5a"
      },
      "source": [
        "print(toxic_comments['comment_text'].head())\r\n",
        "print(toxic_comments.shape)"
      ],
      "execution_count": 56,
      "outputs": [
        {
          "output_type": "stream",
          "text": [
            "0    Explanation\\nWhy the edits made under my usern...\n",
            "1    D'aww! He matches this background colour I'm s...\n",
            "2    Hey man, I'm really not trying to edit war. It...\n",
            "3    \"\\nMore\\nI can't make any real suggestions on ...\n",
            "4    You, sir, are my hero. Any chance you remember...\n",
            "Name: comment_text, dtype: object\n",
            "(159571, 8)\n"
          ],
          "name": "stdout"
        }
      ]
    },
    {
      "cell_type": "code",
      "metadata": {
        "colab": {
          "base_uri": "https://localhost:8080/"
        },
        "id": "Bo8Ec-uuZNFt",
        "outputId": "6db302cc-130a-4668-90d7-be26cdc8f5ce"
      },
      "source": [
        "filter = toxic_comments[\"comment_text\"] != \"\"\r\n",
        "toxic_comments = toxic_comments[filter]\r\n",
        "toxic_comments = toxic_comments.dropna()\r\n",
        "print(toxic_comments[\"comment_text\"][168])\r\n"
      ],
      "execution_count": 57,
      "outputs": [
        {
          "output_type": "stream",
          "text": [
            "You should be fired, you're a moronic wimp who is too lazy to do research. It makes me sick that people like you exist in this world.\n"
          ],
          "name": "stdout"
        }
      ]
    },
    {
      "cell_type": "code",
      "metadata": {
        "id": "_Yhbu89L286z"
      },
      "source": [
        "counter = 0\r\n",
        "offensive = []\r\n",
        "nonOffensive = []\r\n",
        "for i in range(len(toxic_comments)):\r\n",
        "  #if (i <= 500):\r\n",
        "  if (int(toxic_comments[\"toxic\"][i]) == 1 or int(toxic_comments[\"severe_toxic\"][i]) == 1 or \r\n",
        "      int(toxic_comments[\"obscene\"][i]) == 1 or int(toxic_comments[\"threat\"][i]) == 1 or\r\n",
        "      int(toxic_comments[\"insult\"][i]) == 1 or int(toxic_comments[\"identity_hate\"][i]) == 1):\r\n",
        "    #print(\"Toxic:\" + str(toxic_comments[\"toxic\"][i]))\r\n",
        "    #print(\"Severe_toxic:\" + str(toxic_comments[\"severe_toxic\"][i]))\r\n",
        "    #print(\"Obscene:\" + str(toxic_comments[\"obscene\"][i]))\r\n",
        "    #print(\"Threat:\" + str(toxic_comments[\"threat\"][i]))\r\n",
        "    #print(\"Insult:\" + str(toxic_comments[\"insult\"][i]))\r\n",
        "    #print(\"Identity_hate:\" + str(toxic_comments[\"identity_hate\"][i]))\r\n",
        "    offensive.append(1)\r\n",
        "    nonOffensive.append(0)\r\n",
        "  else: \r\n",
        "    nonOffensive.append(1)\r\n",
        "    offensive.append(0)\r\n",
        "\r\n",
        "# Declare a list that is to be converted into a column \r\n",
        "\r\n",
        "  \r\n",
        "# Using 'Address' as the column name \r\n",
        "# and equating it to the list \r\n",
        "toxic_comments['offensive'] = offensive\r\n",
        "toxic_comments['nonOffensive'] = nonOffensive\r\n",
        "\r\n",
        "\r\n",
        "#toxic_comments = toxic_comments[toxic_comments.offensive == 1]\r\n"
      ],
      "execution_count": 58,
      "outputs": []
    },
    {
      "cell_type": "code",
      "metadata": {
        "colab": {
          "base_uri": "https://localhost:8080/"
        },
        "id": "PbHflVeya3y4",
        "outputId": "33daae63-584c-49ce-84f1-eef8bdd998ff"
      },
      "source": [
        "print(\"comment_text:\" + str(toxic_comments[\"comment_text\"][0]))\r\n",
        "\r\n",
        "print(\"Toxic:\" + str(toxic_comments[\"toxic\"][0]))\r\n",
        "print(\"Severe_toxic:\" + str(toxic_comments[\"severe_toxic\"][0]))\r\n",
        "print(\"Obscene:\" + str(toxic_comments[\"obscene\"][0]))\r\n",
        "print(\"Threat:\" + str(toxic_comments[\"threat\"][0]))\r\n",
        "print(\"Insult:\" + str(toxic_comments[\"insult\"][0]))\r\n",
        "print(\"Identity_hate:\" + str(toxic_comments[\"identity_hate\"][0]))\r\n",
        "\r\n",
        "\r\n",
        "len(toxic_comments)\r\n",
        "print(\"Offensive :\" + str (toxic_comments['offensive'][0]))\r\n",
        "print(\"Non-offensive :\" + str (toxic_comments['nonOffensive'][0]))"
      ],
      "execution_count": 59,
      "outputs": [
        {
          "output_type": "stream",
          "text": [
            "comment_text:Explanation\n",
            "Why the edits made under my username Hardcore Metallica Fan were reverted? They weren't vandalisms, just closure on some GAs after I voted at New York Dolls FAC. And please don't remove the template from the talk page since I'm retired now.89.205.38.27\n",
            "Toxic:0\n",
            "Severe_toxic:0\n",
            "Obscene:0\n",
            "Threat:0\n",
            "Insult:0\n",
            "Identity_hate:0\n",
            "Offensive :0\n",
            "Non-offensive :1\n"
          ],
          "name": "stdout"
        }
      ]
    },
    {
      "cell_type": "code",
      "metadata": {
        "colab": {
          "base_uri": "https://localhost:8080/"
        },
        "id": "Yr1jrdxra5LP",
        "outputId": "318ed88c-6815-4549-cd82-7889a0a5c592"
      },
      "source": [
        "#toxic_comments_labels = toxic_comments[[\"toxic\", \"severe_toxic\", \"obscene\", \"threat\", \"insult\", \"identity_hate\"]]\r\n",
        "toxic_comments_labels = toxic_comments[[\"offensive\", \"nonOffensive\"]]\r\n",
        "\r\n",
        "toxic_comments_OffensiveOrNot = toxic_comments[[\"comment_text\",\"offensive\", \"nonOffensive\"]]\r\n",
        "print(toxic_comments_OffensiveOrNot[\"offensive\"][168])\r\n",
        "print(toxic_comments_OffensiveOrNot[\"comment_text\"][168])"
      ],
      "execution_count": 60,
      "outputs": [
        {
          "output_type": "stream",
          "text": [
            "1\n",
            "You should be fired, you're a moronic wimp who is too lazy to do research. It makes me sick that people like you exist in this world.\n"
          ],
          "name": "stdout"
        }
      ]
    },
    {
      "cell_type": "code",
      "metadata": {
        "colab": {
          "base_uri": "https://localhost:8080/",
          "height": 556
        },
        "id": "u96GFxTPbAW1",
        "outputId": "e66ff264-5c73-4062-8f5b-74ed4476978d"
      },
      "source": [
        "fig_size = plt.rcParams[\"figure.figsize\"]\r\n",
        "fig_size[0] = 10\r\n",
        "fig_size[1] = 8\r\n",
        "plt.rcParams[\"figure.figsize\"] = fig_size\r\n",
        "\r\n",
        "toxic_comments_labels.sum(axis=0).plot.bar()"
      ],
      "execution_count": 61,
      "outputs": [
        {
          "output_type": "execute_result",
          "data": {
            "text/plain": [
              "<matplotlib.axes._subplots.AxesSubplot at 0x7fca89804da0>"
            ]
          },
          "metadata": {
            "tags": []
          },
          "execution_count": 61
        },
        {
          "output_type": "display_data",
          "data": {
            "image/png": "[encoded data removed]",
            "text/plain": [
              "<Figure size 720x576 with 1 Axes>"
            ]
          },
          "metadata": {
            "tags": [],
            "needs_background": "light"
          }
        }
      ]
    },
    {
      "cell_type": "code",
      "metadata": {
        "colab": {
          "base_uri": "https://localhost:8080/"
        },
        "id": "Aryil1PnEef4",
        "outputId": "7edf69ce-decd-47ff-94a9-892aa48c1c0e"
      },
      "source": [
        "%%time\r\n",
        "nltk.download('wordnet')\r\n",
        "\r\n",
        "from nltk.stem import WordNetLemmatizer\r\n",
        "lemm = WordNetLemmatizer()\r\n",
        "\r\n",
        "def lemma_traincorpus(text):\r\n",
        "    lemm_words = \" \".join([lemm.lemmatize(word) for word in text.split()])    \r\n",
        "    return lemm_words\r\n",
        "                        \r\n",
        "\r\n",
        "\r\n",
        "toxic_comments_OffensiveOrNot['comment_text']=toxic_comments_OffensiveOrNot['comment_text'].apply(lambda z: lemma_traincorpus(z))"
      ],
      "execution_count": 62,
      "outputs": [
        {
          "output_type": "stream",
          "text": [
            "[nltk_data] Downloading package wordnet to /root/nltk_data...\n",
            "[nltk_data]   Unzipping corpora/wordnet.zip.\n",
            "CPU times: user 34.5 s, sys: 382 ms, total: 34.9 s\n",
            "Wall time: 35.2 s\n"
          ],
          "name": "stdout"
        },
        {
          "output_type": "stream",
          "text": [
            "/usr/local/lib/python3.6/dist-packages/ipykernel_launcher.py:12: SettingWithCopyWarning: \n",
            "A value is trying to be set on a copy of a slice from a DataFrame.\n",
            "Try using .loc[row_indexer,col_indexer] = value instead\n",
            "\n",
            "See the caveats in the documentation: https://pandas.pydata.org/pandas-docs/stable/user_guide/indexing.html#returning-a-view-versus-a-copy\n",
            "  if sys.path[0] == '':\n"
          ],
          "name": "stderr"
        }
      ]
    },
    {
      "cell_type": "code",
      "metadata": {
        "id": "0vzpBQMNbEfI"
      },
      "source": [
        "def preprocess_text(sen):\r\n",
        "    # Remove punctuations and numbers\r\n",
        "    sentence = re.sub('[^a-zA-Z]', ' ', sen)\r\n",
        "\r\n",
        "    # Single character removal\r\n",
        "    sentence = re.sub(r\"\\s+[a-zA-Z]\\s+\", ' ', sentence)\r\n",
        "\r\n",
        "    # Removing multiple spaces\r\n",
        "    sentence = re.sub(r'\\s+', ' ', sentence)\r\n",
        "\r\n",
        "    return sentence"
      ],
      "execution_count": 10,
      "outputs": []
    },
    {
      "cell_type": "code",
      "metadata": {
        "id": "gOoGpkabbHvz"
      },
      "source": [
        "X = []\r\n",
        "#toxic_comments_labels = toxic_comments[[\"offensive\"]]\r\n",
        "\r\n",
        "sentences = list(toxic_comments[\"comment_text\"])\r\n",
        "for sen in sentences:\r\n",
        "    X.append(preprocess_text(sen))\r\n",
        "\r\n",
        "y = toxic_comments_labels.values\r\n"
      ],
      "execution_count": 11,
      "outputs": []
    },
    {
      "cell_type": "code",
      "metadata": {
        "id": "bj1-4XcubJIX"
      },
      "source": [
        "X_train, X_test, y_train, y_test = train_test_split(X, y, test_size=0.40, random_state=42)"
      ],
      "execution_count": 12,
      "outputs": []
    },
    {
      "cell_type": "code",
      "metadata": {
        "id": "3_U5wPK_bU8z"
      },
      "source": [
        "tokenizer = Tokenizer(num_words=5000)\r\n",
        "tokenizer.fit_on_texts(X_train)\r\n",
        "\r\n",
        "X_train = tokenizer.texts_to_sequences(X_train)\r\n",
        "X_test = tokenizer.texts_to_sequences(X_test)\r\n",
        "\r\n",
        "vocab_size = len(tokenizer.word_index) + 1\r\n",
        "\r\n",
        "maxlen = 200\r\n",
        "\r\n",
        "X_train = pad_sequences(X_train, padding='post', maxlen=maxlen)\r\n",
        "X_test = pad_sequences(X_test, padding='post', maxlen=maxlen)"
      ],
      "execution_count": 13,
      "outputs": []
    },
    {
      "cell_type": "code",
      "metadata": {
        "id": "gTBFJK6lbWoD"
      },
      "source": [
        "from numpy import array\r\n",
        "from numpy import asarray\r\n",
        "from numpy import zeros\r\n",
        "\r\n",
        "embeddings_dictionary = dict()\r\n",
        "\r\n",
        "#glove_file = open('/content/drive/My Drive/Colab Datasets/glove.6B.100d.txt', encoding=\"utf8\")\r\n",
        "glove_file = open('/content/drive/MyDrive/gloves/glove.6B.100d.txt', encoding=\"utf8\")\r\n",
        "\r\n",
        "for line in glove_file:\r\n",
        "    records = line.split()\r\n",
        "    word = records[0]\r\n",
        "    vector_dimensions = asarray(records[1:], dtype='float32')\r\n",
        "    embeddings_dictionary[word] = vector_dimensions\r\n",
        "glove_file.close()\r\n",
        "\r\n",
        "embedding_matrix = zeros((vocab_size, 100))\r\n",
        "for word, index in tokenizer.word_index.items():\r\n",
        "    embedding_vector = embeddings_dictionary.get(word)\r\n",
        "    if embedding_vector is not None:\r\n",
        "        embedding_matrix[index] = embedding_vector"
      ],
      "execution_count": 14,
      "outputs": []
    },
    {
      "cell_type": "code",
      "metadata": {
        "id": "-Fi8MCl7bg7q"
      },
      "source": [
        "deep_inputs = Input(shape=(maxlen,))\r\n",
        "embedding_layer = Embedding(vocab_size, 100, weights=[embedding_matrix], trainable=False)(deep_inputs)\r\n",
        "LSTM_Layer_1 = LSTM(128)(embedding_layer)\r\n",
        "dense_layer_1 = Dense(2, activation='sigmoid')(LSTM_Layer_1)\r\n",
        "model = Model(inputs=deep_inputs, outputs=dense_layer_1)\r\n",
        "\r\n",
        "model.compile(loss='binary_crossentropy', optimizer='adam', metrics=['acc'])"
      ],
      "execution_count": 15,
      "outputs": []
    },
    {
      "cell_type": "code",
      "metadata": {
        "colab": {
          "base_uri": "https://localhost:8080/"
        },
        "id": "Phe5qujWcSFX",
        "outputId": "e2dd9bb4-4eac-4fc0-b479-4216ab0e5e55"
      },
      "source": [
        "print(model.summary())\r\n"
      ],
      "execution_count": 16,
      "outputs": [
        {
          "output_type": "stream",
          "text": [
            "Model: \"model\"\n",
            "_________________________________________________________________\n",
            "Layer (type)                 Output Shape              Param #   \n",
            "=================================================================\n",
            "input_1 (InputLayer)         [(None, 200)]             0         \n",
            "_________________________________________________________________\n",
            "embedding (Embedding)        (None, 200, 100)          12592400  \n",
            "_________________________________________________________________\n",
            "lstm (LSTM)                  (None, 128)               117248    \n",
            "_________________________________________________________________\n",
            "dense (Dense)                (None, 2)                 258       \n",
            "=================================================================\n",
            "Total params: 12,709,906\n",
            "Trainable params: 117,506\n",
            "Non-trainable params: 12,592,400\n",
            "_________________________________________________________________\n",
            "None\n"
          ],
          "name": "stdout"
        }
      ]
    },
    {
      "cell_type": "code",
      "metadata": {
        "colab": {
          "base_uri": "https://localhost:8080/"
        },
        "id": "Nc3z61lFcV-n",
        "outputId": "d6431d40-0e0d-49f2-ee42-ea08ca6ef8c1"
      },
      "source": [
        "history = model.fit(X_train, y_train, batch_size=128, epochs=7, verbose=1, validation_split=0.4)"
      ],
      "execution_count": 18,
      "outputs": [
        {
          "output_type": "stream",
          "text": [
            "449/449 [==============================] - 285s 635ms/step - loss: 0.3185 - acc: 0.9022 - val_loss: 0.3286 - val_acc: 0.8977\n"
          ],
          "name": "stdout"
        }
      ]
    },
    {
      "cell_type": "code",
      "metadata": {
        "colab": {
          "base_uri": "https://localhost:8080/"
        },
        "id": "sSyq9ZT-cZ9E",
        "outputId": "17c7774c-7710-4b8f-b0a3-edb22db76153"
      },
      "source": [
        "score = history.model.evaluate(X_test, y_test, verbose=1)\r\n",
        "\r\n",
        "print(\"Test Score:\", score[0])\r\n",
        "print(\"Test Accuracy:\", score[1])"
      ],
      "execution_count": 19,
      "outputs": [
        {
          "output_type": "stream",
          "text": [
            "1995/1995 [==============================] - 90s 45ms/step - loss: 0.3269 - acc: 0.8984\n",
            "Test Score: 0.3268975615501404\n",
            "Test Accuracy: 0.8984473943710327\n"
          ],
          "name": "stdout"
        }
      ]
    },
    {
      "cell_type": "code",
      "metadata": {
        "colab": {
          "base_uri": "https://localhost:8080/"
        },
        "id": "IV-YwGi_CLew",
        "outputId": "accd807b-70c1-4969-aeb4-3d65ff74be02"
      },
      "source": [
        "\r\n",
        "print(X_test.shape)\r\n",
        "print(y_test.shape)\r\n",
        "\r\n",
        "print(score)\r\n",
        "toxic_comments_labels.values\r\n",
        "\r\n"
      ],
      "execution_count": 20,
      "outputs": [
        {
          "output_type": "stream",
          "text": [
            "(63829, 200)\n",
            "(63829, 2)\n",
            "[0.3268975615501404, 0.8984473943710327]\n"
          ],
          "name": "stdout"
        },
        {
          "output_type": "execute_result",
          "data": {
            "text/plain": [
              "array([[0, 1],\n",
              "       [0, 1],\n",
              "       [0, 1],\n",
              "       ...,\n",
              "       [0, 1],\n",
              "       [0, 1],\n",
              "       [0, 1]])"
            ]
          },
          "metadata": {
            "tags": []
          },
          "execution_count": 20
        }
      ]
    },
    {
      "cell_type": "code",
      "metadata": {
        "colab": {
          "base_uri": "https://localhost:8080/"
        },
        "id": "qKzGt7nCqIMJ",
        "outputId": "703c7130-1a32-4249-d0aa-9317820c826e"
      },
      "source": [
        "history.model.predict"
      ],
      "execution_count": 21,
      "outputs": [
        {
          "output_type": "execute_result",
          "data": {
            "text/plain": [
              "<bound method Model.predict of <tensorflow.python.keras.engine.functional.Functional object at 0x7fca7bcbffd0>>"
            ]
          },
          "metadata": {
            "tags": []
          },
          "execution_count": 21
        }
      ]
    },
    {
      "cell_type": "code",
      "metadata": {
        "id": "xY8LpPC-l2fm"
      },
      "source": [
        "model.save('/content/drive/MyDrive/toxicCommentz/my_model.h5')\r\n",
        "# LOAD \r\n",
        "import keras\r\n",
        "model = keras.models.load_model('/content/drive/MyDrive/toxicCommentz/my_model.h5')\r\n",
        "\r\n"
      ],
      "execution_count": 22,
      "outputs": []
    },
    {
      "cell_type": "code",
      "metadata": {
        "id": "3pX5APvWtKew"
      },
      "source": [
        ""
      ],
      "execution_count": null,
      "outputs": []
    },
    {
      "cell_type": "code",
      "metadata": {
        "colab": {
          "base_uri": "https://localhost:8080/"
        },
        "id": "RlDNgxxIB62I",
        "outputId": "d3931966-89e1-4603-bb6a-70597a343528"
      },
      "source": [
        "y_pred = history.model.predict(X_test)\r\n",
        "print(y_pred)\r\n",
        "print(y_test)\r\n",
        "print(y_pred.shape)\r\n",
        "print(y_test.shape)"
      ],
      "execution_count": 23,
      "outputs": [
        {
          "output_type": "stream",
          "text": [
            "[[0.0967657  0.90926224]\n",
            " [0.0967657  0.9092623 ]\n",
            " [0.09676573 0.90926224]\n",
            " ...\n",
            " [0.0967657  0.90926224]\n",
            " [0.04313827 0.9637737 ]\n",
            " [0.09676564 0.9092623 ]]\n",
            "[[0 1]\n",
            " [0 1]\n",
            " [0 1]\n",
            " ...\n",
            " [1 0]\n",
            " [0 1]\n",
            " [0 1]]\n",
            "(63829, 2)\n",
            "(63829, 2)\n"
          ],
          "name": "stdout"
        }
      ]
    },
    {
      "cell_type": "code",
      "metadata": {
        "colab": {
          "base_uri": "https://localhost:8080/"
        },
        "id": "Qt2HI-xdaOa_",
        "outputId": "f7e98a4a-92ea-479c-ce13-962bfcce23c4"
      },
      "source": [
        "print(len(y_pred))\r\n",
        "print(len(y_test))"
      ],
      "execution_count": 24,
      "outputs": [
        {
          "output_type": "stream",
          "text": [
            "63829\n",
            "63829\n"
          ],
          "name": "stdout"
        }
      ]
    },
    {
      "cell_type": "code",
      "metadata": {
        "id": "YoXUNjG3p_q_",
        "colab": {
          "base_uri": "https://localhost:8080/"
        },
        "outputId": "bedb5009-4bca-4e27-9f0e-4cc985dea384"
      },
      "source": [
        "\r\n",
        "\r\n",
        "import sklearn.metrics as metrics\r\n",
        "from sklearn.metrics import classification_report\r\n",
        "target_names= [\"Offensive\" , \"NonOffensive\"]\r\n",
        "print(classification_report(np.argmax(y_pred, axis=1), np.argmax(y_test, axis=1), target_names=target_names))\r\n",
        "\r\n",
        "\r\n",
        "matrix = metrics.confusion_matrix(y_pred.argmax(axis=1), y_test.argmax(axis=1),)\r\n"
      ],
      "execution_count": 48,
      "outputs": [
        {
          "output_type": "stream",
          "text": [
            "              precision    recall  f1-score   support\n",
            "\n",
            "   Offensive       0.01      0.90      0.02        80\n",
            "NonOffensive       1.00      0.90      0.95     63749\n",
            "\n",
            "    accuracy                           0.90     63829\n",
            "   macro avg       0.51      0.90      0.48     63829\n",
            "weighted avg       1.00      0.90      0.95     63829\n",
            "\n"
          ],
          "name": "stdout"
        }
      ]
    },
    {
      "cell_type": "code",
      "metadata": {
        "id": "3n2-36qn-uRJ",
        "colab": {
          "base_uri": "https://localhost:8080/"
        },
        "outputId": "d061b612-3b03-4f1a-a27d-2a8ea96d5cec"
      },
      "source": [
        "matrix"
      ],
      "execution_count": 49,
      "outputs": [
        {
          "output_type": "execute_result",
          "data": {
            "text/plain": [
              "array([[   72,     8],\n",
              "       [ 6474, 57275]])"
            ]
          },
          "metadata": {
            "tags": []
          },
          "execution_count": 49
        }
      ]
    },
    {
      "cell_type": "code",
      "metadata": {
        "colab": {
          "base_uri": "https://localhost:8080/"
        },
        "id": "4d6SFcbB_TPW",
        "outputId": "35599466-270a-4c59-f779-31a4333099b2"
      },
      "source": [
        "print(y_pred.shape)\r\n",
        "y_pred2 = y_pred\r\n",
        "y_test2 = y_test\r\n",
        "\r\n",
        "Size = len (y_test2)\r\n",
        "\r\n",
        "y_test2 = y_test2.reshape((Size,-1))\r\n",
        "y_pred2 = y_pred2.reshape((Size,-1))\r\n",
        "\r\n",
        "\r\n",
        "print(y_pred2.shape)\r\n",
        "print(y_test2.shape)\r\n",
        "\r\n",
        "matrix = metrics.confusion_matrix(y_pred2.argmax(axis=1), y_test2.argmax(axis=1))\r\n"
      ],
      "execution_count": 50,
      "outputs": [
        {
          "output_type": "stream",
          "text": [
            "(63829, 2)\n",
            "(63829, 2)\n",
            "(63829, 2)\n"
          ],
          "name": "stdout"
        }
      ]
    },
    {
      "cell_type": "code",
      "metadata": {
        "id": "Se5Hr8L5Wlm8",
        "colab": {
          "base_uri": "https://localhost:8080/"
        },
        "outputId": "06d72c69-ff21-4ec4-87fb-5f51da904f34"
      },
      "source": [
        "matrix"
      ],
      "execution_count": 51,
      "outputs": [
        {
          "output_type": "execute_result",
          "data": {
            "text/plain": [
              "array([[   72,     8],\n",
              "       [ 6474, 57275]])"
            ]
          },
          "metadata": {
            "tags": []
          },
          "execution_count": 51
        }
      ]
    },
    {
      "cell_type": "code",
      "metadata": {
        "colab": {
          "base_uri": "https://localhost:8080/"
        },
        "id": "QCx6dvYxNme0",
        "outputId": "0704ff3c-b430-4454-f7ed-13b2dcbf9362"
      },
      "source": [
        "CR = metrics.accuracy_score(y_pred2.argmax(axis=1), y_test2.argmax(axis=1))\r\n",
        "print(CR)"
      ],
      "execution_count": 52,
      "outputs": [
        {
          "output_type": "stream",
          "text": [
            "0.8984474141847749\n"
          ],
          "name": "stdout"
        }
      ]
    },
    {
      "cell_type": "code",
      "metadata": {
        "id": "qEVGvfqrEg3V"
      },
      "source": [
        "             precision    recall  f1-score   support\r\n",
        "\r\n",
        "   Offensive       0.01      0.90      0.02        80\r\n",
        "NonOffensive       1.00      0.90      0.95     63749\r\n",
        "\r\n",
        "    accuracy                           0.90     63829\r\n",
        "   macro avg       0.51      0.90      0.48     63829\r\n",
        "weighted avg       1.00      0.90      0.95     63829\r\n",
        "\r\n",
        "\r\n",
        "0.8984474141847749\r\n",
        "array([[   72,     8],\r\n",
        "       [ 6474, 57275]])"
      ],
      "execution_count": 52,
      "outputs": []
    }
  ]
}