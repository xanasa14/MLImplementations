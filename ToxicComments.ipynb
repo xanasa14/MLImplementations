{
  "nbformat": 4,
  "nbformat_minor": 0,
  "metadata": {
    "colab": {
      "name": "ToxicComments.ipynb",
      "provenance": [],
      "collapsed_sections": [],
      "mount_file_id": "1_sqDV99oWum2XDB-5cZvOPDbCiqNUJH1",
      "authorship_tag": "ABX9TyOsfWq9f93t8vkCXstwntz9",
      "include_colab_link": true
    },
    "kernelspec": {
      "name": "python3",
      "display_name": "Python 3"
    }
  },
  "cells": [
    {
      "cell_type": "markdown",
      "metadata": {
        "id": "view-in-github",
        "colab_type": "text"
      },
      "source": [
        "<a href=\"https://colab.research.google.com/github/xanasa14/MLImplementations/blob/master/ToxicComments.ipynb\" target=\"_parent\"><img src=\"https://colab.research.google.com/assets/colab-badge.svg\" alt=\"Open In Colab\"/></a>"
      ]
    },
    {
      "cell_type": "code",
      "metadata": {
        "id": "l0SFzyZpYcm6"
      },
      "source": [
        "from numpy import array\r\n",
        "from keras.preprocessing.text import one_hot\r\n",
        "from keras.preprocessing.sequence import pad_sequences\r\n",
        "from keras.models import Sequential\r\n",
        "from keras.layers.core import Activation, Dropout, Dense\r\n",
        "from keras.layers import Flatten, LSTM\r\n",
        "from keras.layers import GlobalMaxPooling1D\r\n",
        "from keras.models import Model\r\n",
        "from keras.layers.embeddings import Embedding\r\n",
        "from sklearn.model_selection import train_test_split\r\n",
        "from keras.preprocessing.text import Tokenizer\r\n",
        "from keras.layers import Input\r\n",
        "from keras.layers.merge import Concatenate\r\n",
        "\r\n",
        "import pandas as pd\r\n",
        "import numpy as np\r\n",
        "import re\r\n",
        "import nltk \r\n",
        "\r\n",
        "import matplotlib.pyplot as plt"
      ],
      "execution_count": 101,
      "outputs": []
    },
    {
      "cell_type": "code",
      "metadata": {
        "id": "wsuFB3oKYcir",
        "colab": {
          "base_uri": "https://localhost:8080/"
        },
        "outputId": "e59e8c80-b378-4fc5-959e-53b098fc602e"
      },
      "source": [
        "#toxic_comments = pd.read_csv(\"/content/train.csv\",engine='python',encoding='utf-8')\r\n",
        "toxic_comments = pd.read_csv(\"/content/drive/MyDrive/toxicCommentz/train.csv\")\r\n",
        "\r\n",
        "print(toxic_comments.head())\r\n",
        "\r\n",
        "print(toxic_comments.tail)"
      ],
      "execution_count": 102,
      "outputs": [
        {
          "output_type": "stream",
          "text": [
            "                 id  ... identity_hate\n",
            "0  0000997932d777bf  ...             0\n",
            "1  000103f0d9cfb60f  ...             0\n",
            "2  000113f07ec002fd  ...             0\n",
            "3  0001b41b1c6bb37e  ...             0\n",
            "4  0001d958c54c6e35  ...             0\n",
            "\n",
            "[5 rows x 8 columns]\n",
            "<bound method NDFrame.tail of                       id  ... identity_hate\n",
            "0       0000997932d777bf  ...             0\n",
            "1       000103f0d9cfb60f  ...             0\n",
            "2       000113f07ec002fd  ...             0\n",
            "3       0001b41b1c6bb37e  ...             0\n",
            "4       0001d958c54c6e35  ...             0\n",
            "...                  ...  ...           ...\n",
            "159566  ffe987279560d7ff  ...             0\n",
            "159567  ffea4adeee384e90  ...             0\n",
            "159568  ffee36eab5c267c9  ...             0\n",
            "159569  fff125370e4aaaf3  ...             0\n",
            "159570  fff46fc426af1f9a  ...             0\n",
            "\n",
            "[159571 rows x 8 columns]>\n"
          ],
          "name": "stdout"
        }
      ]
    },
    {
      "cell_type": "code",
      "metadata": {
        "colab": {
          "base_uri": "https://localhost:8080/"
        },
        "id": "bnw6Z4ZKX0Kj",
        "outputId": "a240a749-8d9b-47fe-d214-19b928e6b573"
      },
      "source": [
        "print(toxic_comments['comment_text'].head())\r\n",
        "print(toxic_comments.shape)"
      ],
      "execution_count": 103,
      "outputs": [
        {
          "output_type": "stream",
          "text": [
            "0    Explanation\\nWhy the edits made under my usern...\n",
            "1    D'aww! He matches this background colour I'm s...\n",
            "2    Hey man, I'm really not trying to edit war. It...\n",
            "3    \"\\nMore\\nI can't make any real suggestions on ...\n",
            "4    You, sir, are my hero. Any chance you remember...\n",
            "Name: comment_text, dtype: object\n",
            "(159571, 8)\n"
          ],
          "name": "stdout"
        }
      ]
    },
    {
      "cell_type": "code",
      "metadata": {
        "colab": {
          "base_uri": "https://localhost:8080/"
        },
        "id": "Bo8Ec-uuZNFt",
        "outputId": "b9bb7890-6a1b-4a1c-fb16-b75bcf082167"
      },
      "source": [
        "filter = toxic_comments[\"comment_text\"] != \"\"\r\n",
        "toxic_comments = toxic_comments[filter]\r\n",
        "toxic_comments = toxic_comments.dropna()\r\n",
        "print(toxic_comments[\"comment_text\"][168])\r\n"
      ],
      "execution_count": 104,
      "outputs": [
        {
          "output_type": "stream",
          "text": [
            "You should be fired, you're a moronic wimp who is too lazy to do research. It makes me sick that people like you exist in this world.\n"
          ],
          "name": "stdout"
        }
      ]
    },
    {
      "cell_type": "code",
      "metadata": {
        "id": "_Yhbu89L286z"
      },
      "source": [
        "counter = 0\r\n",
        "offensive = []\r\n",
        "nonOffensive = []\r\n",
        "for i in range(len(toxic_comments)):\r\n",
        "  #if (i <= 500):\r\n",
        "  if (int(toxic_comments[\"toxic\"][i]) == 1 or int(toxic_comments[\"severe_toxic\"][i]) == 1 or \r\n",
        "      int(toxic_comments[\"obscene\"][i]) == 1 or int(toxic_comments[\"threat\"][i]) == 1 or\r\n",
        "      int(toxic_comments[\"insult\"][i]) == 1 or int(toxic_comments[\"identity_hate\"][i]) == 1):\r\n",
        "    #print(\"Toxic:\" + str(toxic_comments[\"toxic\"][i]))\r\n",
        "    #print(\"Severe_toxic:\" + str(toxic_comments[\"severe_toxic\"][i]))\r\n",
        "    #print(\"Obscene:\" + str(toxic_comments[\"obscene\"][i]))\r\n",
        "    #print(\"Threat:\" + str(toxic_comments[\"threat\"][i]))\r\n",
        "    #print(\"Insult:\" + str(toxic_comments[\"insult\"][i]))\r\n",
        "    #print(\"Identity_hate:\" + str(toxic_comments[\"identity_hate\"][i]))\r\n",
        "    offensive.append(1)\r\n",
        "    nonOffensive.append(0)\r\n",
        "  else: \r\n",
        "    nonOffensive.append(1)\r\n",
        "    offensive.append(0)\r\n",
        "\r\n",
        "# Declare a list that is to be converted into a column \r\n",
        "\r\n",
        "  \r\n",
        "# Using 'Address' as the column name \r\n",
        "# and equating it to the list \r\n",
        "toxic_comments['offensive'] = offensive\r\n",
        "toxic_comments['nonOffensive'] = nonOffensive\r\n",
        "\r\n",
        "\r\n",
        "#toxic_comments = toxic_comments[toxic_comments.offensive == 1]\r\n"
      ],
      "execution_count": 105,
      "outputs": []
    },
    {
      "cell_type": "code",
      "metadata": {
        "colab": {
          "base_uri": "https://localhost:8080/"
        },
        "id": "PbHflVeya3y4",
        "outputId": "f91365f2-c486-45d2-c3a9-c47b10c24a6f"
      },
      "source": [
        "print(\"comment_text:\" + str(toxic_comments[\"comment_text\"][0]))\r\n",
        "\r\n",
        "print(\"Toxic:\" + str(toxic_comments[\"toxic\"][0]))\r\n",
        "print(\"Severe_toxic:\" + str(toxic_comments[\"severe_toxic\"][0]))\r\n",
        "print(\"Obscene:\" + str(toxic_comments[\"obscene\"][0]))\r\n",
        "print(\"Threat:\" + str(toxic_comments[\"threat\"][0]))\r\n",
        "print(\"Insult:\" + str(toxic_comments[\"insult\"][0]))\r\n",
        "print(\"Identity_hate:\" + str(toxic_comments[\"identity_hate\"][0]))\r\n",
        "\r\n",
        "\r\n",
        "len(toxic_comments)\r\n",
        "print(\"Offensive :\" + str (toxic_comments['offensive'][0]))\r\n",
        "print(\"Non-offensive :\" + str (toxic_comments['nonOffensive'][0]))"
      ],
      "execution_count": 106,
      "outputs": [
        {
          "output_type": "stream",
          "text": [
            "comment_text:Explanation\n",
            "Why the edits made under my username Hardcore Metallica Fan were reverted? They weren't vandalisms, just closure on some GAs after I voted at New York Dolls FAC. And please don't remove the template from the talk page since I'm retired now.89.205.38.27\n",
            "Toxic:0\n",
            "Severe_toxic:0\n",
            "Obscene:0\n",
            "Threat:0\n",
            "Insult:0\n",
            "Identity_hate:0\n",
            "Offensive :0\n",
            "Non-offensive :1\n"
          ],
          "name": "stdout"
        }
      ]
    },
    {
      "cell_type": "code",
      "metadata": {
        "colab": {
          "base_uri": "https://localhost:8080/"
        },
        "id": "Yr1jrdxra5LP",
        "outputId": "e6908b48-b7e0-4cef-beef-3ead03804d90"
      },
      "source": [
        "#toxic_comments_labels = toxic_comments[[\"toxic\", \"severe_toxic\", \"obscene\", \"threat\", \"insult\", \"identity_hate\"]]\r\n",
        "toxic_comments_labels = toxic_comments[[\"offensive\", \"nonOffensive\"]]\r\n",
        "\r\n",
        "toxic_comments_OffensiveOrNot = toxic_comments[[\"comment_text\",\"offensive\", \"nonOffensive\"]]\r\n",
        "print(toxic_comments_OffensiveOrNot[\"offensive\"][168])\r\n",
        "print(toxic_comments_OffensiveOrNot[\"comment_text\"][168])"
      ],
      "execution_count": 107,
      "outputs": [
        {
          "output_type": "stream",
          "text": [
            "1\n",
            "You should be fired, you're a moronic wimp who is too lazy to do research. It makes me sick that people like you exist in this world.\n"
          ],
          "name": "stdout"
        }
      ]
    },
    {
      "cell_type": "code",
      "metadata": {
        "colab": {
          "base_uri": "https://localhost:8080/",
          "height": 555
        },
        "id": "u96GFxTPbAW1",
        "outputId": "4f79f18a-a590-4eb7-d688-1c9f1658a4a7"
      },
      "source": [
        "fig_size = plt.rcParams[\"figure.figsize\"]\r\n",
        "fig_size[0] = 10\r\n",
        "fig_size[1] = 8\r\n",
        "plt.rcParams[\"figure.figsize\"] = fig_size\r\n",
        "\r\n",
        "toxic_comments_labels.sum(axis=0).plot.bar()"
      ],
      "execution_count": 108,
      "outputs": [
        {
          "output_type": "execute_result",
          "data": {
            "text/plain": [
              "<matplotlib.axes._subplots.AxesSubplot at 0x7fca8130ec50>"
            ]
          },
          "metadata": {
            "tags": []
          },
          "execution_count": 108
        },
        {
          "output_type": "display_data",
          "data": {
            "image/png": "[encoded data removed]",
            "text/plain": [
              "<Figure size 720x576 with 1 Axes>"
            ]
          },
          "metadata": {
            "tags": [],
            "needs_background": "light"
          }
        }
      ]
    },
    {
      "cell_type": "code",
      "metadata": {
        "colab": {
          "base_uri": "https://localhost:8080/"
        },
        "id": "TEiKGG2gx7M3",
        "outputId": "69cef098-ab5f-453c-ca6d-9299bf2e948e"
      },
      "source": [
        "import spacy\r\n",
        "\r\n",
        "import nltk\r\n",
        "from nltk.corpus import stopwords\r\n",
        "nltk.download('stopwords')\r\n",
        "nltk.download('punkt')\r\n",
        "nlp = spacy.load('en', disable=['parser', 'ner'])\r\n",
        "stop_words = stopwords.words('english')\r\n",
        "from nltk.stem import WordNetLemmatizer \r\n",
        "nlp = spacy.load('en_core_web_sm', disable=['parser', 'ner']) \r\n",
        "import string  \r\n",
        "#Removing punctuationes and those characters\r\n",
        "def remove_punctuations(text):\r\n",
        "  for punctuation in string.punctuation:\r\n",
        "      text = text.replace(punctuation, '')\r\n",
        "  return text\r\n",
        "# Lowering Text from DataFrame\r\n",
        "def loweringText(text):\r\n",
        "    text = text.lower()\r\n",
        "    return text\r\n",
        "#Remove stopwords : words that do not put as much significance or impact as other words in the description\r\n",
        "def remove_StopWords(text):\r\n",
        "  line = text.split()\r\n",
        "  text = \"\"\r\n",
        "  for word in line:\r\n",
        "    if(word not in stop_words):\r\n",
        "      text += word\r\n",
        "      text += \" \"\r\n",
        "  return text\r\n",
        "#Implementing lemmatization words by word\r\n",
        "def lemmatize(text):\r\n",
        "  line = text.split()\r\n",
        "  txt = \"\"\r\n",
        "  for word in line:\r\n",
        "    doc = nlp(word)\r\n",
        "    for token in doc:\r\n",
        "      txt += token.lemma_\r\n",
        "      txt += \" \"\r\n",
        "  return txt\r\n",
        "\r\n",
        "\r\n"
      ],
      "execution_count": 117,
      "outputs": [
        {
          "output_type": "stream",
          "text": [
            "[nltk_data] Downloading package stopwords to /root/nltk_data...\n",
            "[nltk_data]   Package stopwords is already up-to-date!\n",
            "[nltk_data] Downloading package punkt to /root/nltk_data...\n",
            "[nltk_data]   Package punkt is already up-to-date!\n"
          ],
          "name": "stdout"
        }
      ]
    },
    {
      "cell_type": "code",
      "metadata": {
        "id": "tgVWk3eW6H2X"
      },
      "source": [
        "toxic_comments[\"comment_text_  X\"] = toxic_comments['comment_text'].apply(remove_punctuations).apply(loweringText).apply(remove_StopWords).apply(lemmatize)\r\n"
      ],
      "execution_count": null,
      "outputs": []
    },
    {
      "cell_type": "code",
      "metadata": {
        "colab": {
          "base_uri": "https://localhost:8080/"
        },
        "id": "-Es9pz2wFQsy",
        "outputId": "68a0e6ee-4c3b-4b82-fb3f-fa3242005bb8"
      },
      "source": [
        "def remove_abb(data):\r\n",
        "    data = re.sub(r\"he's\", \"he is\", data)\r\n",
        "    data = re.sub(r\"there's\", \"there is\", data)\r\n",
        "    data = re.sub(r\"We're\", \"We are\", data)\r\n",
        "    data = re.sub(r\"That's\", \"That is\", data)\r\n",
        "    data = re.sub(r\"won't\", \"will not\", data)\r\n",
        "    data = re.sub(r\"they're\", \"they are\", data)\r\n",
        "    data = re.sub(r\"Can't\", \"Cannot\", data)\r\n",
        "    data = re.sub(r\"wasn't\", \"was not\", data)\r\n",
        "    data = re.sub(r\"don\\x89Ûªt\", \"do not\", data)\r\n",
        "    data= re.sub(r\"aren't\", \"are not\", data)\r\n",
        "    data = re.sub(r\"isn't\", \"is not\", data)\r\n",
        "    data = re.sub(r\"What's\", \"What is\", data)\r\n",
        "    data = re.sub(r\"haven't\", \"have not\", data)\r\n",
        "    data = re.sub(r\"hasn't\", \"has not\", data)\r\n",
        "    data = re.sub(r\"There's\", \"There is\", data)\r\n",
        "    data = re.sub(r\"He's\", \"He is\", data)\r\n",
        "    data = re.sub(r\"It's\", \"It is\", data)\r\n",
        "    data = re.sub(r\"You're\", \"You are\", data)\r\n",
        "    data = re.sub(r\"I'M\", \"I am\", data)\r\n",
        "    data = re.sub(r\"shouldn't\", \"should not\", data)\r\n",
        "    data = re.sub(r\"wouldn't\", \"would not\", data)\r\n",
        "    data = re.sub(r\"i'm\", \"I am\", data)\r\n",
        "    data = re.sub(r\"I\\x89Ûªm\", \"I am\", data)\r\n",
        "    data = re.sub(r\"I'm\", \"I am\", data)\r\n",
        "    data = re.sub(r\"Isn't\", \"is not\", data)\r\n",
        "    data = re.sub(r\"Here's\", \"Here is\", data)\r\n",
        "    data = re.sub(r\"you've\", \"you have\", data)\r\n",
        "    data = re.sub(r\"you\\x89Ûªve\", \"you have\", data)\r\n",
        "    data = re.sub(r\"we're\", \"we are\", data)\r\n",
        "    data = re.sub(r\"what's\", \"what is\", data)\r\n",
        "    data = re.sub(r\"couldn't\", \"could not\", data)\r\n",
        "    data = re.sub(r\"we've\", \"we have\", data)\r\n",
        "    data = re.sub(r\"it\\x89Ûªs\", \"it is\", data)\r\n",
        "    data = re.sub(r\"doesn\\x89Ûªt\", \"does not\", data)\r\n",
        "    data = re.sub(r\"It\\x89Ûªs\", \"It is\", data)\r\n",
        "    data = re.sub(r\"Here\\x89Ûªs\", \"Here is\", data)\r\n",
        "    data = re.sub(r\"who's\", \"who is\", data)\r\n",
        "    data = re.sub(r\"I\\x89Ûªve\", \"I have\", data)\r\n",
        "    data = re.sub(r\"y'all\", \"you all\", data)\r\n",
        "    data = re.sub(r\"can\\x89Ûªt\", \"cannot\", data)\r\n",
        "    data = re.sub(r\"would've\", \"would have\", data)\r\n",
        "    data = re.sub(r\"it'll\", \"it will\", data)\r\n",
        "    data = re.sub(r\"we'll\", \"we will\", data)\r\n",
        "    data = re.sub(r\"wouldn\\x89Ûªt\", \"would not\", data)\r\n",
        "    data = re.sub(r\"We've\", \"We have\", data)\r\n",
        "    data = re.sub(r\"he'll\", \"he will\", data)\r\n",
        "    data = re.sub(r\"Y'all\", \"You all\", data)\r\n",
        "    data = re.sub(r\"Weren't\", \"Were not\", data)\r\n",
        "    data = re.sub(r\"Didn't\", \"Did not\", data)\r\n",
        "    data = re.sub(r\"they'll\", \"they will\", data)\r\n",
        "    data = re.sub(r\"they'd\", \"they would\", data)\r\n",
        "    data = re.sub(r\"DON'T\", \"DO NOT\", data)\r\n",
        "    data = re.sub(r\"That\\x89Ûªs\", \"That is\", data)\r\n",
        "    data = re.sub(r\"they've\", \"they have\", data)\r\n",
        "    data = re.sub(r\"i'd\", \"I would\", data)\r\n",
        "    data = re.sub(r\"should've\", \"should have\", data)\r\n",
        "    data = re.sub(r\"You\\x89Ûªre\", \"You are\", data)\r\n",
        "    data = re.sub(r\"where's\", \"where is\", data)\r\n",
        "    data = re.sub(r\"Don\\x89Ûªt\", \"Do not\", data)\r\n",
        "    data = re.sub(r\"we'd\", \"we would\", data)\r\n",
        "    data = re.sub(r\"i'll\", \"I will\", data)\r\n",
        "    data = re.sub(r\"weren't\", \"were not\", data)\r\n",
        "    data = re.sub(r\"They're\", \"They are\", data)\r\n",
        "    data = re.sub(r\"Can\\x89Ûªt\", \"Cannot\", data)\r\n",
        "    data = re.sub(r\"you\\x89Ûªll\", \"you will\", data)\r\n",
        "    data = re.sub(r\"I\\x89Ûªd\", \"I would\", data)\r\n",
        "    data = re.sub(r\"let's\", \"let us\", data)\r\n",
        "    data = re.sub(r\"it's\", \"it is\", data)\r\n",
        "    data = re.sub(r\"can't\", \"cannot\", data)\r\n",
        "    data = re.sub(r\"don't\", \"do not\", data)\r\n",
        "    data = re.sub(r\"you're\", \"you are\", data)\r\n",
        "    data = re.sub(r\"i've\", \"I have\", data)\r\n",
        "    data = re.sub(r\"that's\", \"that is\", data)\r\n",
        "    data = re.sub(r\"i'll\", \"I will\", data)\r\n",
        "    data = re.sub(r\"doesn't\", \"does not\",data)\r\n",
        "    data = re.sub(r\"i'd\", \"I would\", data)\r\n",
        "    data = re.sub(r\"didn't\", \"did not\", data)\r\n",
        "    data = re.sub(r\"ain't\", \"am not\", data)\r\n",
        "    data = re.sub(r\"you'll\", \"you will\", data)\r\n",
        "    data = re.sub(r\"I've\", \"I have\", data)\r\n",
        "    data = re.sub(r\"Don't\", \"do not\", data)\r\n",
        "    data = re.sub(r\"I'll\", \"I will\", data)\r\n",
        "    data = re.sub(r\"I'd\", \"I would\", data)\r\n",
        "    data = re.sub(r\"Let's\", \"Let us\", data)\r\n",
        "    data = re.sub(r\"you'd\", \"You would\", data)\r\n",
        "    data = re.sub(r\"It's\", \"It is\", data)\r\n",
        "    data = re.sub(r\"Ain't\", \"am not\", data)\r\n",
        "    data = re.sub(r\"Haven't\", \"Have not\", data)\r\n",
        "    data = re.sub(r\"Could've\", \"Could have\", data)\r\n",
        "    data = re.sub(r\"youve\", \"you have\", data)  \r\n",
        "    data = re.sub(r\"donå«t\", \"do not\", data)\r\n",
        "    data = re.sub(r\"\\n\", \"\", data)\r\n",
        "    data = re.sub(r\".jpeg\", \"\", data) \r\n",
        "\r\n",
        "     \r\n",
        "    return data\r\n",
        "\r\n",
        "\r\n",
        "toxic_comments_OffensiveOrNot['comment_text']=toxic_comments_OffensiveOrNot['comment_text'].apply(lambda z: remove_abb(z))"
      ],
      "execution_count": 109,
      "outputs": [
        {
          "output_type": "stream",
          "text": [
            "/usr/local/lib/python3.6/dist-packages/ipykernel_launcher.py:100: SettingWithCopyWarning: \n",
            "A value is trying to be set on a copy of a slice from a DataFrame.\n",
            "Try using .loc[row_indexer,col_indexer] = value instead\n",
            "\n",
            "See the caveats in the documentation: https://pandas.pydata.org/pandas-docs/stable/user_guide/indexing.html#returning-a-view-versus-a-copy\n"
          ],
          "name": "stderr"
        }
      ]
    },
    {
      "cell_type": "code",
      "metadata": {
        "colab": {
          "base_uri": "https://localhost:8080/"
        },
        "id": "Aryil1PnEef4",
        "outputId": "0a5c8e1a-3582-48d8-8215-0c2a7549beac"
      },
      "source": [
        "%%time\r\n",
        "nltk.download('wordnet')\r\n",
        "\r\n",
        "from nltk.stem import WordNetLemmatizer\r\n",
        "lemm = WordNetLemmatizer()\r\n",
        "\r\n",
        "def lemma_traincorpus(text):\r\n",
        "    lemm_words = \" \".join([lemm.lemmatize(word) for word in text.split()])    \r\n",
        "    return lemm_words\r\n",
        "                        \r\n",
        "\r\n",
        "\r\n",
        "toxic_comments_OffensiveOrNot['comment_text']=toxic_comments_OffensiveOrNot['comment_text'].apply(lambda z: lemma_traincorpus(z))"
      ],
      "execution_count": 110,
      "outputs": [
        {
          "output_type": "stream",
          "text": [
            "[nltk_data] Downloading package wordnet to /root/nltk_data...\n",
            "[nltk_data]   Package wordnet is already up-to-date!\n",
            "CPU times: user 33.8 s, sys: 129 ms, total: 33.9 s\n",
            "Wall time: 34 s\n"
          ],
          "name": "stdout"
        },
        {
          "output_type": "stream",
          "text": [
            "/usr/local/lib/python3.6/dist-packages/ipykernel_launcher.py:12: SettingWithCopyWarning: \n",
            "A value is trying to be set on a copy of a slice from a DataFrame.\n",
            "Try using .loc[row_indexer,col_indexer] = value instead\n",
            "\n",
            "See the caveats in the documentation: https://pandas.pydata.org/pandas-docs/stable/user_guide/indexing.html#returning-a-view-versus-a-copy\n",
            "  if sys.path[0] == '':\n"
          ],
          "name": "stderr"
        }
      ]
    },
    {
      "cell_type": "code",
      "metadata": {
        "id": "0vzpBQMNbEfI"
      },
      "source": [
        "def preprocess_text(sen):\r\n",
        "    # Remove punctuations and numbers\r\n",
        "    sentence = re.sub('[^a-zA-Z]', ' ', sen)\r\n",
        "\r\n",
        "    # Single character removal\r\n",
        "    sentence = re.sub(r\"\\s+[a-zA-Z]\\s+\", ' ', sentence)\r\n",
        "\r\n",
        "    # Removing multiple spaces\r\n",
        "    sentence = re.sub(r'\\s+', ' ', sentence)\r\n",
        "\r\n",
        "    return sentence"
      ],
      "execution_count": 111,
      "outputs": []
    },
    {
      "cell_type": "code",
      "metadata": {
        "id": "gOoGpkabbHvz"
      },
      "source": [
        "X = []\r\n",
        "#toxic_comments_labels = toxic_comments[[\"offensive\"]]\r\n",
        "\r\n",
        "sentences = list(toxic_comments[\"comment_text\"])\r\n",
        "for sen in sentences:\r\n",
        "    X.append(preprocess_text(sen))\r\n",
        "\r\n",
        "y = toxic_comments_labels.values\r\n"
      ],
      "execution_count": 99,
      "outputs": []
    },
    {
      "cell_type": "code",
      "metadata": {
        "colab": {
          "base_uri": "https://localhost:8080/",
          "height": 132
        },
        "id": "bQwBQF3xvgRF",
        "outputId": "a9ed1fa3-3404-4d42-e436-55c20d280ac6"
      },
      "source": [
        "sentences [10]"
      ],
      "execution_count": 100,
      "outputs": [
        {
          "output_type": "execute_result",
          "data": {
            "application/vnd.google.colaboratory.intrinsic+json": {
              "type": "string"
            },
            "text/plain": [
              "'\"\\nFair use rationale for Image:Wonju.jpg\\n\\nThanks for uploading Image:Wonju.jpg. I notice the image page specifies that the image is being used under fair use but there is no explanation or rationale as to why its use in Wikipedia articles constitutes fair use. In addition to the boilerplate fair use template, you must also write out on the image description page a specific explanation or rationale for why using this image in each article is consistent with fair use.\\n\\nPlease go to the image description page and edit it to include a fair use rationale.\\n\\nIf you have uploaded other fair use media, consider checking that you have specified the fair use rationale on those pages too. You can find a list of \\'image\\' pages you have edited by clicking on the \"\"my contributions\"\" link (it is located at the very top of any Wikipedia page when you are logged in), and then selecting \"\"Image\"\" from the dropdown box. Note that any fair use images uploaded after 4 May, 2006, and lacking such an explanation will be deleted one week after they have been uploaded, as described on criteria for speedy deletion. If you have any questions please ask them at the Media copyright questions page. Thank you. (talk • contribs • ) \\nUnspecified source for Image:Wonju.jpg\\n\\nThanks for uploading Image:Wonju.jpg. I noticed that the file\\'s description page currently doesn\\'t specify who created the content, so the copyright status is unclear. If you did not create this file yourself, then you will need to specify the owner of the copyright. If you obtained it from a website, then a link to the website from which it was taken, together with a restatement of that website\\'s terms of use of its content, is usually sufficient information. However, if the copyright holder is different from the website\\'s publisher, then their copyright should also be acknowledged.\\n\\nAs well as adding the source, please add a proper copyright licensing tag if the file doesn\\'t have one already. If you created/took the picture, audio, or video then the  tag can be used to release it under the GFDL. If you believe the media meets the criteria at Wikipedia:Fair use, use a tag such as  or one of the other tags listed at Wikipedia:Image copyright tags#Fair use. See Wikipedia:Image copyright tags for the full list of copyright tags that you can use.\\n\\nIf you have uploaded other files, consider checking that you have specified their source and tagged them, too. You can find a list of files you have uploaded by following [ this link]. Unsourced and untagged images may be deleted one week after they have been tagged, as described on criteria for speedy deletion. If the image is copyrighted under a non-free license (per Wikipedia:Fair use) then the image will be deleted 48 hours after . If you have any questions please ask them at the Media copyright questions page. Thank you. (talk • contribs • ) \"'"
            ]
          },
          "metadata": {
            "tags": []
          },
          "execution_count": 100
        }
      ]
    },
    {
      "cell_type": "code",
      "metadata": {
        "id": "bj1-4XcubJIX"
      },
      "source": [
        "X_train, X_test, y_train, y_test = train_test_split(X, y, test_size=0.40, random_state=42)"
      ],
      "execution_count": 76,
      "outputs": []
    },
    {
      "cell_type": "code",
      "metadata": {
        "id": "3_U5wPK_bU8z"
      },
      "source": [
        "tokenizer = Tokenizer(num_words=5000)\r\n",
        "tokenizer.fit_on_texts(X_train)\r\n",
        "\r\n",
        "X_train = tokenizer.texts_to_sequences(X_train)\r\n",
        "X_test = tokenizer.texts_to_sequences(X_test)\r\n",
        "\r\n",
        "vocab_size = len(tokenizer.word_index) + 1\r\n",
        "\r\n",
        "maxlen = 200\r\n",
        "\r\n",
        "X_train = pad_sequences(X_train, padding='post', maxlen=maxlen)\r\n",
        "X_test = pad_sequences(X_test, padding='post', maxlen=maxlen)"
      ],
      "execution_count": 77,
      "outputs": []
    },
    {
      "cell_type": "code",
      "metadata": {
        "id": "gTBFJK6lbWoD"
      },
      "source": [
        "from numpy import array\r\n",
        "from numpy import asarray\r\n",
        "from numpy import zeros\r\n",
        "\r\n",
        "embeddings_dictionary = dict()\r\n",
        "\r\n",
        "#glove_file = open('/content/drive/My Drive/Colab Datasets/glove.6B.100d.txt', encoding=\"utf8\")\r\n",
        "glove_file = open('/content/drive/MyDrive/gloves/glove.6B.100d.txt', encoding=\"utf8\")\r\n",
        "\r\n",
        "for line in glove_file:\r\n",
        "    records = line.split()\r\n",
        "    word = records[0]\r\n",
        "    vector_dimensions = asarray(records[1:], dtype='float32')\r\n",
        "    embeddings_dictionary[word] = vector_dimensions\r\n",
        "glove_file.close()\r\n",
        "\r\n",
        "embedding_matrix = zeros((vocab_size, 100))\r\n",
        "for word, index in tokenizer.word_index.items():\r\n",
        "    embedding_vector = embeddings_dictionary.get(word)\r\n",
        "    if embedding_vector is not None:\r\n",
        "        embedding_matrix[index] = embedding_vector"
      ],
      "execution_count": 78,
      "outputs": []
    },
    {
      "cell_type": "code",
      "metadata": {
        "id": "-Fi8MCl7bg7q"
      },
      "source": [
        "deep_inputs = Input(shape=(maxlen,))\r\n",
        "embedding_layer = Embedding(vocab_size, 100, weights=[embedding_matrix], trainable=False)(deep_inputs)\r\n",
        "LSTM_Layer_1 = LSTM(128)(embedding_layer)\r\n",
        "dense_layer_1 = Dense(2, activation='sigmoid')(LSTM_Layer_1)\r\n",
        "model = Model(inputs=deep_inputs, outputs=dense_layer_1)\r\n",
        "\r\n",
        "model.compile(loss='binary_crossentropy', optimizer='adam', metrics=['acc'])"
      ],
      "execution_count": 79,
      "outputs": []
    },
    {
      "cell_type": "code",
      "metadata": {
        "colab": {
          "base_uri": "https://localhost:8080/"
        },
        "id": "Phe5qujWcSFX",
        "outputId": "25cecc2e-2501-456f-86ed-a4d9b1bf5edc"
      },
      "source": [
        "print(model.summary())\r\n"
      ],
      "execution_count": 80,
      "outputs": [
        {
          "output_type": "stream",
          "text": [
            "Model: \"model_1\"\n",
            "_________________________________________________________________\n",
            "Layer (type)                 Output Shape              Param #   \n",
            "=================================================================\n",
            "input_2 (InputLayer)         [(None, 200)]             0         \n",
            "_________________________________________________________________\n",
            "embedding_1 (Embedding)      (None, 200, 100)          12592400  \n",
            "_________________________________________________________________\n",
            "lstm_1 (LSTM)                (None, 128)               117248    \n",
            "_________________________________________________________________\n",
            "dense_1 (Dense)              (None, 2)                 258       \n",
            "=================================================================\n",
            "Total params: 12,709,906\n",
            "Trainable params: 117,506\n",
            "Non-trainable params: 12,592,400\n",
            "_________________________________________________________________\n",
            "None\n"
          ],
          "name": "stdout"
        }
      ]
    },
    {
      "cell_type": "code",
      "metadata": {
        "colab": {
          "base_uri": "https://localhost:8080/"
        },
        "id": "Nc3z61lFcV-n",
        "outputId": "95f74796-26a6-47ee-ec7d-939d6855551e"
      },
      "source": [
        "history = model.fit(X_train, y_train, batch_size=128, epochs=7, verbose=1, validation_split=0.4)"
      ],
      "execution_count": 81,
      "outputs": [
        {
          "output_type": "stream",
          "text": [
            "Epoch 1/7\n",
            "449/449 [==============================] - 295s 653ms/step - loss: 0.3582 - acc: 0.8966 - val_loss: 0.3278 - val_acc: 0.8974\n",
            "Epoch 2/7\n",
            "449/449 [==============================] - 289s 644ms/step - loss: 0.2978 - acc: 0.8988 - val_loss: 0.3009 - val_acc: 0.8974\n",
            "Epoch 3/7\n",
            "449/449 [==============================] - 288s 642ms/step - loss: 0.2972 - acc: 0.8997 - val_loss: 0.3311 - val_acc: 0.8971\n",
            "Epoch 4/7\n",
            "449/449 [==============================] - 291s 649ms/step - loss: 0.3104 - acc: 0.9020 - val_loss: 0.1994 - val_acc: 0.9177\n",
            "Epoch 5/7\n",
            "449/449 [==============================] - 289s 644ms/step - loss: 0.1909 - acc: 0.9325 - val_loss: 0.1564 - val_acc: 0.9454\n",
            "Epoch 6/7\n",
            "449/449 [==============================] - 295s 656ms/step - loss: 0.1458 - acc: 0.9497 - val_loss: 0.1439 - val_acc: 0.9497\n",
            "Epoch 7/7\n",
            "449/449 [==============================] - 295s 658ms/step - loss: 0.1331 - acc: 0.9532 - val_loss: 0.1379 - val_acc: 0.9497\n"
          ],
          "name": "stdout"
        }
      ]
    },
    {
      "cell_type": "code",
      "metadata": {
        "colab": {
          "base_uri": "https://localhost:8080/"
        },
        "id": "sSyq9ZT-cZ9E",
        "outputId": "939f2972-e87b-4f34-899f-919038fb13b5"
      },
      "source": [
        "score = history.model.evaluate(X_test, y_test, verbose=1)\r\n",
        "\r\n",
        "print(\"Test Score:\", score[0])\r\n",
        "print(\"Test Accuracy:\", score[1])"
      ],
      "execution_count": 83,
      "outputs": [
        {
          "output_type": "stream",
          "text": [
            "1995/1995 [==============================] - 90s 45ms/step - loss: 0.1350 - acc: 0.9509\n",
            "Test Score: 0.13497868180274963\n",
            "Test Accuracy: 0.9509313702583313\n"
          ],
          "name": "stdout"
        }
      ]
    },
    {
      "cell_type": "code",
      "metadata": {
        "colab": {
          "base_uri": "https://localhost:8080/"
        },
        "id": "IV-YwGi_CLew",
        "outputId": "5386e0bb-f758-4f4d-b4a3-2afbf7f530e6"
      },
      "source": [
        "\r\n",
        "print(X_test.shape)\r\n",
        "print(y_test.shape)\r\n",
        "\r\n",
        "print(score)\r\n",
        "toxic_comments_labels.values\r\n",
        "\r\n"
      ],
      "execution_count": 84,
      "outputs": [
        {
          "output_type": "stream",
          "text": [
            "(63829, 200)\n",
            "(63829, 2)\n",
            "[0.13497868180274963, 0.9509313702583313]\n"
          ],
          "name": "stdout"
        },
        {
          "output_type": "execute_result",
          "data": {
            "text/plain": [
              "array([[0, 1],\n",
              "       [0, 1],\n",
              "       [0, 1],\n",
              "       ...,\n",
              "       [0, 1],\n",
              "       [0, 1],\n",
              "       [0, 1]])"
            ]
          },
          "metadata": {
            "tags": []
          },
          "execution_count": 84
        }
      ]
    },
    {
      "cell_type": "code",
      "metadata": {
        "colab": {
          "base_uri": "https://localhost:8080/"
        },
        "id": "qKzGt7nCqIMJ",
        "outputId": "f2472c04-7d40-47ba-9b93-8c3ac17e49e2"
      },
      "source": [
        "history.model.predict"
      ],
      "execution_count": 85,
      "outputs": [
        {
          "output_type": "execute_result",
          "data": {
            "text/plain": [
              "<bound method Model.predict of <tensorflow.python.keras.engine.functional.Functional object at 0x7fca81c1fef0>>"
            ]
          },
          "metadata": {
            "tags": []
          },
          "execution_count": 85
        }
      ]
    },
    {
      "cell_type": "code",
      "metadata": {
        "id": "xY8LpPC-l2fm"
      },
      "source": [
        "model.save('/content/drive/MyDrive/toxicCommentz/my_model.h5')\r\n",
        "# LOAD \r\n",
        "import keras\r\n",
        "model = keras.models.load_model('/content/drive/MyDrive/toxicCommentz/my_model.h5')\r\n",
        "\r\n"
      ],
      "execution_count": 86,
      "outputs": []
    },
    {
      "cell_type": "code",
      "metadata": {
        "id": "3pX5APvWtKew"
      },
      "source": [
        ""
      ],
      "execution_count": 86,
      "outputs": []
    },
    {
      "cell_type": "code",
      "metadata": {
        "colab": {
          "base_uri": "https://localhost:8080/"
        },
        "id": "RlDNgxxIB62I",
        "outputId": "61c13d2a-3059-41b6-c0f2-ad875fcf19fe"
      },
      "source": [
        "y_pred = history.model.predict(X_test)\r\n",
        "print(y_pred)\r\n",
        "print(y_test)\r\n",
        "print(y_pred.shape)\r\n",
        "print(y_test.shape)"
      ],
      "execution_count": 87,
      "outputs": [
        {
          "output_type": "stream",
          "text": [
            "[[0.07213622 0.9299003 ]\n",
            " [0.00406942 0.9958745 ]\n",
            " [0.02869672 0.97261024]\n",
            " ...\n",
            " [0.09316707 0.9099903 ]\n",
            " [0.04185426 0.96698403]\n",
            " [0.06164894 0.9387214 ]]\n",
            "[[0 1]\n",
            " [0 1]\n",
            " [0 1]\n",
            " ...\n",
            " [1 0]\n",
            " [0 1]\n",
            " [0 1]]\n",
            "(63829, 2)\n",
            "(63829, 2)\n"
          ],
          "name": "stdout"
        }
      ]
    },
    {
      "cell_type": "code",
      "metadata": {
        "colab": {
          "base_uri": "https://localhost:8080/"
        },
        "id": "Qt2HI-xdaOa_",
        "outputId": "b45f0fbe-8e3d-40cc-ecdc-0a831b3a0ba9"
      },
      "source": [
        "print(len(y_pred))\r\n",
        "print(len(y_test))"
      ],
      "execution_count": 88,
      "outputs": [
        {
          "output_type": "stream",
          "text": [
            "63829\n",
            "63829\n"
          ],
          "name": "stdout"
        }
      ]
    },
    {
      "cell_type": "code",
      "metadata": {
        "id": "YoXUNjG3p_q_",
        "colab": {
          "base_uri": "https://localhost:8080/"
        },
        "outputId": "03b5dd32-a948-4eab-adb3-a7ca96fe241d"
      },
      "source": [
        "\r\n",
        "\r\n",
        "import sklearn.metrics as metrics\r\n",
        "from sklearn.metrics import classification_report\r\n",
        "target_names= [\"Offensive\" , \"NonOffensive\"]\r\n",
        "print(classification_report(np.argmax(y_pred, axis=1), np.argmax(y_test, axis=1), target_names=target_names))\r\n",
        "\r\n",
        "\r\n",
        "matrix = metrics.confusion_matrix(y_pred.argmax(axis=1), y_test.argmax(axis=1),)\r\n"
      ],
      "execution_count": 89,
      "outputs": [
        {
          "output_type": "stream",
          "text": [
            "              precision    recall  f1-score   support\n",
            "\n",
            "   Offensive       0.57      0.92      0.70      4032\n",
            "NonOffensive       0.99      0.95      0.97     59797\n",
            "\n",
            "    accuracy                           0.95     63829\n",
            "   macro avg       0.78      0.94      0.84     63829\n",
            "weighted avg       0.97      0.95      0.96     63829\n",
            "\n"
          ],
          "name": "stdout"
        }
      ]
    },
    {
      "cell_type": "code",
      "metadata": {
        "id": "3n2-36qn-uRJ",
        "colab": {
          "base_uri": "https://localhost:8080/"
        },
        "outputId": "874b120b-9af4-4e28-fc37-a78b04105952"
      },
      "source": [
        "matrix"
      ],
      "execution_count": 90,
      "outputs": [
        {
          "output_type": "execute_result",
          "data": {
            "text/plain": [
              "array([[ 3723,   309],\n",
              "       [ 2823, 56974]])"
            ]
          },
          "metadata": {
            "tags": []
          },
          "execution_count": 90
        }
      ]
    },
    {
      "cell_type": "code",
      "metadata": {
        "colab": {
          "base_uri": "https://localhost:8080/"
        },
        "id": "4d6SFcbB_TPW",
        "outputId": "755d9825-a538-4742-e7ef-56763baf6b06"
      },
      "source": [
        "print(y_pred.shape)\r\n",
        "y_pred2 = y_pred\r\n",
        "y_test2 = y_test\r\n",
        "\r\n",
        "Size = len (y_test2)\r\n",
        "\r\n",
        "y_test2 = y_test2.reshape((Size,-1))\r\n",
        "y_pred2 = y_pred2.reshape((Size,-1))\r\n",
        "\r\n",
        "\r\n",
        "print(y_pred2.shape)\r\n",
        "print(y_test2.shape)\r\n",
        "\r\n",
        "matrix = metrics.confusion_matrix(y_pred2.argmax(axis=1), y_test2.argmax(axis=1))\r\n"
      ],
      "execution_count": 91,
      "outputs": [
        {
          "output_type": "stream",
          "text": [
            "(63829, 2)\n",
            "(63829, 2)\n",
            "(63829, 2)\n"
          ],
          "name": "stdout"
        }
      ]
    },
    {
      "cell_type": "code",
      "metadata": {
        "id": "Se5Hr8L5Wlm8",
        "colab": {
          "base_uri": "https://localhost:8080/"
        },
        "outputId": "dc7f37d5-cf66-4a3a-af26-ef8b1ebdd144"
      },
      "source": [
        "matrix"
      ],
      "execution_count": 92,
      "outputs": [
        {
          "output_type": "execute_result",
          "data": {
            "text/plain": [
              "array([[ 3723,   309],\n",
              "       [ 2823, 56974]])"
            ]
          },
          "metadata": {
            "tags": []
          },
          "execution_count": 92
        }
      ]
    },
    {
      "cell_type": "code",
      "metadata": {
        "colab": {
          "base_uri": "https://localhost:8080/"
        },
        "id": "QCx6dvYxNme0",
        "outputId": "da11b9b5-ff5d-4212-b1e9-088c5858ea4a"
      },
      "source": [
        "CR = metrics.accuracy_score(y_pred2.argmax(axis=1), y_test2.argmax(axis=1))\r\n",
        "print(CR)"
      ],
      "execution_count": 93,
      "outputs": [
        {
          "output_type": "stream",
          "text": [
            "0.9509313948205361\n"
          ],
          "name": "stdout"
        }
      ]
    },
    {
      "cell_type": "code",
      "metadata": {
        "id": "qEVGvfqrEg3V",
        "colab": {
          "base_uri": "https://localhost:8080/",
          "height": 126
        },
        "outputId": "b89c6c1c-a625-4712-9f1e-59bfb4b673c8"
      },
      "source": [
        "#WIthout Lemma and Abba\r\n",
        "             precision    recall  f1-score   support\r\n",
        "\r\n",
        "   Offensive       0.01      0.90      0.02        80\r\n",
        "NonOffensive       1.00      0.90      0.95     63749\r\n",
        "\r\n",
        "    accuracy                           0.90     63829\r\n",
        "   macro avg       0.51      0.90      0.48     63829\r\n",
        "weighted avg       1.00      0.90      0.95     63829\r\n",
        "\r\n",
        "\r\n",
        "0.8984474141847749\r\n",
        "array([[   72,     8],\r\n",
        "       [ 6474, 57275]])"
      ],
      "execution_count": 94,
      "outputs": [
        {
          "output_type": "error",
          "ename": "SyntaxError",
          "evalue": "ignored",
          "traceback": [
            "\u001b[0;36m  File \u001b[0;32m\"<ipython-input-94-09b84c673d10>\"\u001b[0;36m, line \u001b[0;32m1\u001b[0m\n\u001b[0;31m    precision    recall  f1-score   support\u001b[0m\n\u001b[0m                      ^\u001b[0m\n\u001b[0;31mSyntaxError\u001b[0m\u001b[0;31m:\u001b[0m invalid syntax\n"
          ]
        }
      ]
    },
    {
      "cell_type": "code",
      "metadata": {
        "id": "DG9gDiRytYBa"
      },
      "source": [
        "              precision    recall  f1-score   support\r\n",
        "\r\n",
        "   Offensive       0.57      0.92      0.70      4032\r\n",
        "NonOffensive       0.99      0.95      0.97     59797\r\n",
        "\r\n",
        "    accuracy                           0.95     63829\r\n",
        "   macro avg       0.78      0.94      0.84     63829\r\n",
        "weighted avg       0.97      0.95      0.96     63829\r\n",
        "\r\n",
        "0.9509313948205361\r\n"
      ],
      "execution_count": null,
      "outputs": []
    }
  ]
}