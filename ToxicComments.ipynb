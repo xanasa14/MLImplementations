{
  "nbformat": 4,
  "nbformat_minor": 0,
  "metadata": {
    "colab": {
      "name": "ToxicComments.ipynb",
      "provenance": [],
      "collapsed_sections": [],
      "mount_file_id": "1_sqDV99oWum2XDB-5cZvOPDbCiqNUJH1",
      "authorship_tag": "ABX9TyMlKk3ERJdCBrpdt8V8zaeg",
      "include_colab_link": true
    },
    "kernelspec": {
      "name": "python3",
      "display_name": "Python 3"
    }
  },
  "cells": [
    {
      "cell_type": "markdown",
      "metadata": {
        "id": "view-in-github",
        "colab_type": "text"
      },
      "source": [
        "<a href=\"https://colab.research.google.com/github/xanasa14/MLImplementations/blob/master/ToxicComments.ipynb\" target=\"_parent\"><img src=\"https://colab.research.google.com/assets/colab-badge.svg\" alt=\"Open In Colab\"/></a>"
      ]
    },
    {
      "cell_type": "code",
      "metadata": {
        "id": "l0SFzyZpYcm6"
      },
      "source": [
        "from numpy import array\r\n",
        "from keras.preprocessing.text import one_hot\r\n",
        "from keras.preprocessing.sequence import pad_sequences\r\n",
        "from keras.models import Sequential\r\n",
        "from keras.layers.core import Activation, Dropout, Dense\r\n",
        "from keras.layers import Flatten, LSTM\r\n",
        "from keras.layers import GlobalMaxPooling1D\r\n",
        "from keras.models import Model\r\n",
        "from keras.layers.embeddings import Embedding\r\n",
        "from sklearn.model_selection import train_test_split\r\n",
        "from keras.preprocessing.text import Tokenizer\r\n",
        "from keras.layers import Input\r\n",
        "from keras.layers.merge import Concatenate\r\n",
        "\r\n",
        "import pandas as pd\r\n",
        "import numpy as np\r\n",
        "import re\r\n",
        "import nltk \r\n",
        "\r\n",
        "import matplotlib.pyplot as plt"
      ],
      "execution_count": 19,
      "outputs": []
    },
    {
      "cell_type": "code",
      "metadata": {
        "id": "wsuFB3oKYcir",
        "colab": {
          "base_uri": "https://localhost:8080/"
        },
        "outputId": "9de2b872-054d-4c6f-8762-96900884baec"
      },
      "source": [
        "#toxic_comments = pd.read_csv(\"/content/train.csv\",engine='python',encoding='utf-8')\r\n",
        "toxic_comments = pd.read_csv(\"/content/drive/MyDrive/toxicCommentz/train.csv\")\r\n",
        "\r\n",
        "print(toxic_comments.head())\r\n",
        "\r\n",
        "print(toxic_comments.tail)"
      ],
      "execution_count": 20,
      "outputs": [
        {
          "output_type": "stream",
          "text": [
            "                 id  ... identity_hate\n",
            "0  0000997932d777bf  ...             0\n",
            "1  000103f0d9cfb60f  ...             0\n",
            "2  000113f07ec002fd  ...             0\n",
            "3  0001b41b1c6bb37e  ...             0\n",
            "4  0001d958c54c6e35  ...             0\n",
            "\n",
            "[5 rows x 8 columns]\n",
            "<bound method NDFrame.tail of                       id  ... identity_hate\n",
            "0       0000997932d777bf  ...             0\n",
            "1       000103f0d9cfb60f  ...             0\n",
            "2       000113f07ec002fd  ...             0\n",
            "3       0001b41b1c6bb37e  ...             0\n",
            "4       0001d958c54c6e35  ...             0\n",
            "...                  ...  ...           ...\n",
            "159566  ffe987279560d7ff  ...             0\n",
            "159567  ffea4adeee384e90  ...             0\n",
            "159568  ffee36eab5c267c9  ...             0\n",
            "159569  fff125370e4aaaf3  ...             0\n",
            "159570  fff46fc426af1f9a  ...             0\n",
            "\n",
            "[159571 rows x 8 columns]>\n"
          ],
          "name": "stdout"
        }
      ]
    },
    {
      "cell_type": "code",
      "metadata": {
        "colab": {
          "base_uri": "https://localhost:8080/"
        },
        "id": "bnw6Z4ZKX0Kj",
        "outputId": "463b6b2f-14b0-4587-e657-4f8815e83e32"
      },
      "source": [
        "print(toxic_comments['comment_text'].head())\r\n",
        "print(toxic_comments.shape)"
      ],
      "execution_count": 21,
      "outputs": [
        {
          "output_type": "stream",
          "text": [
            "0    Explanation\\nWhy the edits made under my usern...\n",
            "1    D'aww! He matches this background colour I'm s...\n",
            "2    Hey man, I'm really not trying to edit war. It...\n",
            "3    \"\\nMore\\nI can't make any real suggestions on ...\n",
            "4    You, sir, are my hero. Any chance you remember...\n",
            "Name: comment_text, dtype: object\n",
            "(159571, 8)\n"
          ],
          "name": "stdout"
        }
      ]
    },
    {
      "cell_type": "code",
      "metadata": {
        "colab": {
          "base_uri": "https://localhost:8080/"
        },
        "id": "Bo8Ec-uuZNFt",
        "outputId": "299d1b07-3a9c-4497-e917-bde043b1cf9d"
      },
      "source": [
        "filter = toxic_comments[\"comment_text\"] != \"\"\r\n",
        "toxic_comments = toxic_comments[filter]\r\n",
        "toxic_comments = toxic_comments.dropna()\r\n",
        "print(toxic_comments[\"comment_text\"][168])\r\n"
      ],
      "execution_count": 22,
      "outputs": [
        {
          "output_type": "stream",
          "text": [
            "You should be fired, you're a moronic wimp who is too lazy to do research. It makes me sick that people like you exist in this world.\n"
          ],
          "name": "stdout"
        }
      ]
    },
    {
      "cell_type": "code",
      "metadata": {
        "id": "_Yhbu89L286z"
      },
      "source": [
        "counter = 0\r\n",
        "offensive = []\r\n",
        "nonOffensive = []\r\n",
        "for i in range(len(toxic_comments)):\r\n",
        "  #if (i <= 500):\r\n",
        "  if (int(toxic_comments[\"toxic\"][i]) == 1 or int(toxic_comments[\"severe_toxic\"][i]) == 1 or \r\n",
        "      int(toxic_comments[\"obscene\"][i]) == 1 or int(toxic_comments[\"threat\"][i]) == 1 or\r\n",
        "      int(toxic_comments[\"insult\"][i]) == 1 or int(toxic_comments[\"identity_hate\"][i]) == 1):\r\n",
        "    #print(\"Toxic:\" + str(toxic_comments[\"toxic\"][i]))\r\n",
        "    #print(\"Severe_toxic:\" + str(toxic_comments[\"severe_toxic\"][i]))\r\n",
        "    #print(\"Obscene:\" + str(toxic_comments[\"obscene\"][i]))\r\n",
        "    #print(\"Threat:\" + str(toxic_comments[\"threat\"][i]))\r\n",
        "    #print(\"Insult:\" + str(toxic_comments[\"insult\"][i]))\r\n",
        "    #print(\"Identity_hate:\" + str(toxic_comments[\"identity_hate\"][i]))\r\n",
        "    offensive.append(1)\r\n",
        "    nonOffensive.append(0)\r\n",
        "  else: \r\n",
        "    nonOffensive.append(1)\r\n",
        "    offensive.append(0)\r\n",
        "\r\n",
        "# Declare a list that is to be converted into a column \r\n",
        "\r\n",
        "  \r\n",
        "# Using 'Address' as the column name \r\n",
        "# and equating it to the list \r\n",
        "toxic_comments['offensive'] = offensive\r\n",
        "toxic_comments['nonOffensive'] = nonOffensive\r\n",
        "\r\n",
        "\r\n",
        "#toxic_comments = toxic_comments[toxic_comments.offensive == 1]\r\n"
      ],
      "execution_count": 23,
      "outputs": []
    },
    {
      "cell_type": "code",
      "metadata": {
        "colab": {
          "base_uri": "https://localhost:8080/"
        },
        "id": "PbHflVeya3y4",
        "outputId": "38657e71-037d-4f5b-bf15-1b8ccc14f4f4"
      },
      "source": [
        "print(\"comment_text:\" + str(toxic_comments[\"comment_text\"][0]))\r\n",
        "\r\n",
        "print(\"Toxic:\" + str(toxic_comments[\"toxic\"][0]))\r\n",
        "print(\"Severe_toxic:\" + str(toxic_comments[\"severe_toxic\"][0]))\r\n",
        "print(\"Obscene:\" + str(toxic_comments[\"obscene\"][0]))\r\n",
        "print(\"Threat:\" + str(toxic_comments[\"threat\"][0]))\r\n",
        "print(\"Insult:\" + str(toxic_comments[\"insult\"][0]))\r\n",
        "print(\"Identity_hate:\" + str(toxic_comments[\"identity_hate\"][0]))\r\n",
        "\r\n",
        "\r\n",
        "len(toxic_comments)\r\n",
        "print(\"Offensive :\" + str (toxic_comments['offensive'][0]))\r\n",
        "print(\"Non-offensive :\" + str (toxic_comments['nonOffensive'][0]))"
      ],
      "execution_count": 24,
      "outputs": [
        {
          "output_type": "stream",
          "text": [
            "comment_text:Explanation\n",
            "Why the edits made under my username Hardcore Metallica Fan were reverted? They weren't vandalisms, just closure on some GAs after I voted at New York Dolls FAC. And please don't remove the template from the talk page since I'm retired now.89.205.38.27\n",
            "Toxic:0\n",
            "Severe_toxic:0\n",
            "Obscene:0\n",
            "Threat:0\n",
            "Insult:0\n",
            "Identity_hate:0\n",
            "Offensive :0\n",
            "Non-offensive :1\n"
          ],
          "name": "stdout"
        }
      ]
    },
    {
      "cell_type": "code",
      "metadata": {
        "colab": {
          "base_uri": "https://localhost:8080/"
        },
        "id": "Yr1jrdxra5LP",
        "outputId": "e7e93bf1-a41e-4110-f711-9b0520f8b2ad"
      },
      "source": [
        "#toxic_comments_labels = toxic_comments[[\"toxic\", \"severe_toxic\", \"obscene\", \"threat\", \"insult\", \"identity_hate\"]]\r\n",
        "toxic_comments_labels = toxic_comments[[\"offensive\", \"nonOffensive\"]]\r\n",
        "\r\n",
        "toxic_comments_OffensiveOrNot = toxic_comments[[\"comment_text\",\"offensive\", \"nonOffensive\"]]\r\n",
        "print(toxic_comments_OffensiveOrNot[\"offensive\"][168])\r\n",
        "print(toxic_comments_OffensiveOrNot[\"comment_text\"][168])"
      ],
      "execution_count": 25,
      "outputs": [
        {
          "output_type": "stream",
          "text": [
            "1\n",
            "You should be fired, you're a moronic wimp who is too lazy to do research. It makes me sick that people like you exist in this world.\n"
          ],
          "name": "stdout"
        }
      ]
    },
    {
      "cell_type": "code",
      "metadata": {
        "colab": {
          "base_uri": "https://localhost:8080/",
          "height": 555
        },
        "id": "u96GFxTPbAW1",
        "outputId": "453af01c-beb0-4e42-b332-174a78afe9af"
      },
      "source": [
        "fig_size = plt.rcParams[\"figure.figsize\"]\r\n",
        "fig_size[0] = 10\r\n",
        "fig_size[1] = 8\r\n",
        "plt.rcParams[\"figure.figsize\"] = fig_size\r\n",
        "\r\n",
        "toxic_comments_labels.sum(axis=0).plot.bar()"
      ],
      "execution_count": 26,
      "outputs": [
        {
          "output_type": "execute_result",
          "data": {
            "text/plain": [
              "<matplotlib.axes._subplots.AxesSubplot at 0x7f7d70b5b2b0>"
            ]
          },
          "metadata": {
            "tags": []
          },
          "execution_count": 26
        },
        {
          "output_type": "display_data",
          "data": {
            "image/png": "[encoded data removed]",
            "text/plain": [
              "<Figure size 720x576 with 1 Axes>"
            ]
          },
          "metadata": {
            "tags": [],
            "needs_background": "light"
          }
        }
      ]
    },
    {
      "cell_type": "code",
      "metadata": {
        "colab": {
          "base_uri": "https://localhost:8080/"
        },
        "id": "TEiKGG2gx7M3",
        "outputId": "27069f19-f8f3-45df-98e5-437a9bdeb87a"
      },
      "source": [
        "import spacy\r\n",
        "\r\n",
        "import nltk\r\n",
        "from nltk.corpus import stopwords\r\n",
        "nltk.download('stopwords')\r\n",
        "nltk.download('punkt')\r\n",
        "nlp = spacy.load('en', disable=['parser', 'ner'])\r\n",
        "stop_words = stopwords.words('english')\r\n",
        "from nltk.stem import WordNetLemmatizer \r\n",
        "nlp = spacy.load('en_core_web_sm', disable=['parser', 'ner']) \r\n",
        "import string  \r\n",
        "def loweringText(text):\r\n",
        "    text = text.lower()\r\n",
        "    return text\r\n",
        "#Removing punctuationes and those characters\r\n",
        "def remove_punctuations(text):\r\n",
        "  for punctuation in string.punctuation:\r\n",
        "      text = text.replace(punctuation, '')\r\n",
        "  return text\r\n",
        "# Lowering Text from DataFrame\r\n",
        "\r\n",
        "#Remove stopwords : words that do not put as much significance or impact as other words in the description\r\n",
        "def remove_StopWords(text):\r\n",
        "  line = text.split()\r\n",
        "  text = \"\"\r\n",
        "  for word in line:\r\n",
        "    if(word not in stop_words):\r\n",
        "      text += word\r\n",
        "      text += \" \"\r\n",
        "  return text\r\n",
        "#Implementing lemmatization words by word\r\n",
        "def lemmatize(text):\r\n",
        "  line = text.split()\r\n",
        "  txt = \"\"\r\n",
        "  for word in line:\r\n",
        "    doc = nlp(word)\r\n",
        "    for token in doc:\r\n",
        "      txt += token.lemma_\r\n",
        "      txt += \" \"\r\n",
        "  return txt\r\n",
        "\r\n",
        "\r\n",
        "  def remove_abb(text):\r\n",
        "    for line in text:\r\n",
        "      text = text.replace(\"he's\", \"he is\")\r\n",
        "      text = text.replace(\"there's\", \"there is\")\r\n",
        "      text = text.replace(\"we're\", \"we are\")\r\n",
        "      text = text.replace(\"that's\", \"that is\")\r\n",
        "      text = text.replace(\"won't\", \"will not\"\r\n",
        "      text = text.replace(\"they're\", \"they are\")\r\n",
        "      text = text.replace(\"can't\", \"cannot\")\r\n",
        "      text = text.replace(\"wasn't\", \"was not\")\r\n",
        "      text = text.replace(\"don\\x89Ûªt\", \"do not\")\r\n",
        "      text = text.replace(\"aren't\", \"are not)\r\n",
        "      text = text.replace(\"isn't\", \"is not\")\r\n",
        "      text = text.replace(\"what's\", \"what is\")\r\n",
        "      text = text.replace(\"haven't\", \"have not)\r\n",
        "      text = text.replace(\"hasn't\", \"has not\")\r\n",
        "      text = text.replace(\"there's\", \"there is\")\r\n",
        "      text = text.replace(\"he's\", \"he is\")\r\n",
        "      text = text.replace(\"it's\", \"it is\")\r\n",
        "      text = text.replace(\"you're\", \"you are\")\r\n",
        "      text = text.replace(\"i'm\", \"i am\")\r\n",
        "      text = text.replace(\"shouldn't\", \"should not\")\r\n",
        "      text = text.replace(\"wouldn't\", \"would not\")\r\n",
        "      text = text.replace(\"I\\x89Ûªm\", \"I am\")\r\n",
        "      text = text.replace(\"here's\", \"here is\")\r\n",
        "      text = text.replace(\"you've\", \"you have\")\r\n",
        "      text = text.replace(\"you\\x89Ûªve\", \"you have\")\r\n",
        "      text = text.replace(\"couldn't\", \"could not\")\r\n",
        "      text = text.replace(\"we've\", \"we have\")\r\n",
        "      text = text.replace(\"it\\x89Ûªs\", \"it is\")\r\n",
        "      text = text.replace(\"doesn\\x89Ûªt\", \"does not\")\r\n",
        "      text = text.replace(\"it\\x89Ûªs\", \"it is\")\r\n",
        "      text = text.replace(\"here\\x89Ûªs\", \"here is\")\r\n",
        "      text = text.replace(\".jpeg\", \"\")\r\n",
        "      text = text.replace(\"\\n\", \"\")\r\n",
        "      text = text.replace(\"didn't\", \"did not\")\r\n",
        "      text = text.replace(\"who's\", \"who is\")\r\n",
        "      text = text.replace(\"i\\x89Ûªve\", \"i have\")\r\n",
        "      text = text.replace(\"y'all\", \"you all\")\r\n",
        "      text = text.replace(\"can\\x89Ûªt\", \"cannot\")\r\n",
        "      text = text.replace(\"would've\", \"would have\")\r\n",
        "      text = text.replace(\"it'll\", \"it will\")\r\n",
        "      text = text.replace(\"we'll\", \"we will\")\r\n",
        "      text = text.replace(\"wouldn\\x89Ûªt\", \"would not\")\r\n",
        "      text = text.replace(\"we've\", \"we have\")\r\n",
        "      text = text.replace(\"he'll\", \"he will\")\r\n",
        "      text = text.replace(\"weren't\", \"were not\")\r\n",
        "      text = text.replace(\"they'll\", \"they will\")\r\n",
        "      text = text.replace(\"they'd\", \"they would\")\r\n",
        "      text = text.replace(\"that\\x89Ûªs\", \"that is\")\r\n",
        "      text = text.replace(\"they've\", \"they have\")\r\n",
        "      text = text.replace(\"i'd\", \"I would\")\r\n",
        "      text = text.replace(\"donå«t\", \"do not\")\r\n",
        "      text = text.replace(\"should've\", \"should have\")\r\n",
        "      text = text.replace(\"you\\x89Ûªre\", \"you are\")\r\n",
        "      text = text.replace(\"where's\", \"where is\")\r\n",
        "      text = text.replace(\"don\\x89Ûªt\", \"do not\")\r\n",
        "      text = text.replace(\"we'd\", \"we would\")\r\n",
        "      text = text.replace(\"i'll\", \"i will\")\r\n",
        "      text = text.replace(\"weren't\", \"were not\")\r\n",
        "      text = text.replace(\"can\\x89Ûªt\", \"cannot\")\r\n",
        "      text = text.replace(\"you\\x89Ûªll\", \"you will\")\r\n",
        "      text = text.replace(\"I\\x89Ûªd\", \"I would\")\r\n",
        "      text = text.replace(\"let's\", \"let us\")\r\n",
        "      text = text.replace(\"it's\", \"it is\")\r\n",
        "      text = text.replace(\"don't\", \"do not\")\r\n",
        "      text = text.replace(\"you're\", \"you are\")\r\n",
        "      text = text.replace(\"i've\", \"I have\")\r\n",
        "      text = text.replace(\"ain't\", \"am not\")\r\n",
        "      text = text.replace(\"doesn't\", \"does not\")\r\n",
        "      text = text.replace(\"i'd\", \"I would\")\r\n",
        "      text = text.replace(\"didn't\", \"did not\")\r\n",
        "      text = text.replace(\"you'll\", \"you will\")\r\n",
        "      text = text.replace(\"let's\", \"let us\")\r\n",
        "      text = text.replace(\"youve\", \"you have\")\r\n",
        "      text = text.replace(\"could've\", \"could have\")\r\n",
        "      text = text.replace(\"Haven't\", \"Have not\")\r\n",
        "      text = text.replace(\"you'd\", \"You would\")\r\n",
        "      text = text.replace(\"it's\", \"it is\")\r\n",
        "\r\n",
        "      return text\r\n",
        "\r\n"
      ],
      "execution_count": 27,
      "outputs": [
        {
          "output_type": "stream",
          "text": [
            "[nltk_data] Downloading package stopwords to /root/nltk_data...\n",
            "[nltk_data]   Package stopwords is already up-to-date!\n",
            "[nltk_data] Downloading package punkt to /root/nltk_data...\n",
            "[nltk_data]   Package punkt is already up-to-date!\n"
          ],
          "name": "stdout"
        }
      ]
    },
    {
      "cell_type": "code",
      "metadata": {
        "colab": {
          "base_uri": "https://localhost:8080/"
        },
        "id": "tgVWk3eW6H2X",
        "outputId": "dec58458-a389-4091-e342-08825f5511d4"
      },
      "source": [
        "#toxic_comments[\"comment_text_X\"] = toxic_comments['comment_text'].apply(remove_punctuations).apply(loweringText).apply(remove_StopWords).apply(lemmatize)\r\n",
        "toxic_comments[\"comment_text_X\"] = toxic_comments['comment_text'].apply(remove_punctuations)\r\n",
        "print(\"removed remove_punctuations \")"
      ],
      "execution_count": 28,
      "outputs": [
        {
          "output_type": "stream",
          "text": [
            "removed remove_punctuations \n"
          ],
          "name": "stdout"
        }
      ]
    },
    {
      "cell_type": "code",
      "metadata": {
        "colab": {
          "base_uri": "https://localhost:8080/"
        },
        "id": "f2vzygvwLXwQ",
        "outputId": "98609433-8ddd-4b4f-c304-82d58afa2bd7"
      },
      "source": [
        "toxic_comments[\"comment_text_XX\"] = toxic_comments['comment_text_X'].apply(loweringText)\r\n",
        "print(\"removed loweringText \")"
      ],
      "execution_count": 29,
      "outputs": [
        {
          "output_type": "stream",
          "text": [
            "removed loweringText \n"
          ],
          "name": "stdout"
        }
      ]
    },
    {
      "cell_type": "code",
      "metadata": {
        "colab": {
          "base_uri": "https://localhost:8080/"
        },
        "id": "9ppddM6HL2kH",
        "outputId": "d8270f06-d818-4e12-9add-5fcda799c4ac"
      },
      "source": [
        "toxic_comments[\"comment_text_XXX\"] = toxic_comments['comment_text_XX'].apply(remove_StopWords)\r\n",
        "print(\"removed remove_StopWords \")"
      ],
      "execution_count": 30,
      "outputs": [
        {
          "output_type": "stream",
          "text": [
            "removed remove_StopWords \n"
          ],
          "name": "stdout"
        }
      ]
    },
    {
      "cell_type": "code",
      "metadata": {
        "colab": {
          "base_uri": "https://localhost:8080/"
        },
        "id": "-oztVMIXaUMf",
        "outputId": "8e6b35e9-3169-4e0c-9186-13bca1ebfc7c"
      },
      "source": [
        "toxic_comments[\"comment_text_XXXX\"] = toxic_comments['comment_text_XXX'].apply(lemmatize)\r\n",
        "print(\"removed lemmatize \")"
      ],
      "execution_count": 31,
      "outputs": [
        {
          "output_type": "stream",
          "text": [
            "removed lemmatize \n"
          ],
          "name": "stdout"
        }
      ]
    },
    {
      "cell_type": "code",
      "metadata": {
        "colab": {
          "base_uri": "https://localhost:8080/"
        },
        "id": "-Es9pz2wFQsy",
        "outputId": "0456a785-8b48-4aa5-f0d4-04236b0b4c60"
      },
      "source": [
        "def remove_abb(data):\r\n",
        "    data = re.sub(r\"he's\", \"he is\", data)\r\n",
        "    data = re.sub(r\"there's\", \"there is\", data)\r\n",
        "    data = re.sub(r\"We're\", \"We are\", data)\r\n",
        "    data = re.sub(r\"That's\", \"That is\", data)\r\n",
        "    data = re.sub(r\"won't\", \"will not\", data)\r\n",
        "    data = re.sub(r\"they're\", \"they are\", data)\r\n",
        "    data = re.sub(r\"Can't\", \"Cannot\", data)\r\n",
        "    data = re.sub(r\"wasn't\", \"was not\", data)\r\n",
        "    data = re.sub(r\"don\\x89Ûªt\", \"do not\", data)\r\n",
        "    data= re.sub(r\"aren't\", \"are not\", data)\r\n",
        "    data = re.sub(r\"isn't\", \"is not\", data)\r\n",
        "    data = re.sub(r\"What's\", \"What is\", data)\r\n",
        "    data = re.sub(r\"haven't\", \"have not\", data)\r\n",
        "    data = re.sub(r\"hasn't\", \"has not\", data)\r\n",
        "    data = re.sub(r\"There's\", \"There is\", data)\r\n",
        "    data = re.sub(r\"He's\", \"He is\", data)\r\n",
        "    data = re.sub(r\"It's\", \"It is\", data)\r\n",
        "    data = re.sub(r\"You're\", \"You are\", data)\r\n",
        "    data = re.sub(r\"I'M\", \"I am\", data)\r\n",
        "    data = re.sub(r\"shouldn't\", \"should not\", data)\r\n",
        "    data = re.sub(r\"wouldn't\", \"would not\", data)\r\n",
        "    data = re.sub(r\"i'm\", \"I am\", data)\r\n",
        "    data = re.sub(r\"I\\x89Ûªm\", \"I am\", data)\r\n",
        "    data = re.sub(r\"I'm\", \"I am\", data)\r\n",
        "    data = re.sub(r\"Isn't\", \"is not\", data)\r\n",
        "    data = re.sub(r\"Here's\", \"Here is\", data)\r\n",
        "    data = re.sub(r\"you've\", \"you have\", data)\r\n",
        "    data = re.sub(r\"you\\x89Ûªve\", \"you have\", data)\r\n",
        "    data = re.sub(r\"we're\", \"we are\", data)\r\n",
        "    data = re.sub(r\"what's\", \"what is\", data)\r\n",
        "    data = re.sub(r\"couldn't\", \"could not\", data)\r\n",
        "    data = re.sub(r\"we've\", \"we have\", data)\r\n",
        "    data = re.sub(r\"it\\x89Ûªs\", \"it is\", data)\r\n",
        "    data = re.sub(r\"doesn\\x89Ûªt\", \"does not\", data)\r\n",
        "    data = re.sub(r\"It\\x89Ûªs\", \"It is\", data)\r\n",
        "    data = re.sub(r\"Here\\x89Ûªs\", \"Here is\", data)\r\n",
        "    data = re.sub(r\"who's\", \"who is\", data)\r\n",
        "    data = re.sub(r\"I\\x89Ûªve\", \"I have\", data)\r\n",
        "    data = re.sub(r\"y'all\", \"you all\", data)\r\n",
        "    data = re.sub(r\"can\\x89Ûªt\", \"cannot\", data)\r\n",
        "    data = re.sub(r\"would've\", \"would have\", data)\r\n",
        "    data = re.sub(r\"it'll\", \"it will\", data)\r\n",
        "    data = re.sub(r\"we'll\", \"we will\", data)\r\n",
        "    data = re.sub(r\"wouldn\\x89Ûªt\", \"would not\", data)\r\n",
        "    data = re.sub(r\"We've\", \"We have\", data)\r\n",
        "    data = re.sub(r\"he'll\", \"he will\", data)\r\n",
        "    data = re.sub(r\"Y'all\", \"You all\", data)\r\n",
        "    data = re.sub(r\"Weren't\", \"Were not\", data)\r\n",
        "    data = re.sub(r\"Didn't\", \"Did not\", data)\r\n",
        "    data = re.sub(r\"they'll\", \"they will\", data)\r\n",
        "    data = re.sub(r\"they'd\", \"they would\", data)\r\n",
        "    data = re.sub(r\"DON'T\", \"DO NOT\", data)\r\n",
        "    data = re.sub(r\"That\\x89Ûªs\", \"That is\", data)\r\n",
        "    data = re.sub(r\"they've\", \"they have\", data)\r\n",
        "    data = re.sub(r\"i'd\", \"I would\", data)\r\n",
        "    data = re.sub(r\"should've\", \"should have\", data)\r\n",
        "    data = re.sub(r\"You\\x89Ûªre\", \"You are\", data)\r\n",
        "    data = re.sub(r\"where's\", \"where is\", data)\r\n",
        "    data = re.sub(r\"Don\\x89Ûªt\", \"Do not\", data)\r\n",
        "    data = re.sub(r\"we'd\", \"we would\", data)\r\n",
        "    data = re.sub(r\"i'll\", \"I will\", data)\r\n",
        "    data = re.sub(r\"weren't\", \"were not\", data)\r\n",
        "    data = re.sub(r\"They're\", \"They are\", data)\r\n",
        "    data = re.sub(r\"Can\\x89Ûªt\", \"Cannot\", data)\r\n",
        "    data = re.sub(r\"you\\x89Ûªll\", \"you will\", data)\r\n",
        "    data = re.sub(r\"I\\x89Ûªd\", \"I would\", data)\r\n",
        "    data = re.sub(r\"let's\", \"let us\", data)\r\n",
        "    data = re.sub(r\"it's\", \"it is\", data)\r\n",
        "    data = re.sub(r\"can't\", \"cannot\", data)\r\n",
        "    data = re.sub(r\"don't\", \"do not\", data)\r\n",
        "    data = re.sub(r\"you're\", \"you are\", data)\r\n",
        "    data = re.sub(r\"i've\", \"I have\", data)\r\n",
        "    data = re.sub(r\"that's\", \"that is\", data)\r\n",
        "    data = re.sub(r\"i'll\", \"I will\", data)\r\n",
        "    data = re.sub(r\"doesn't\", \"does not\",data)\r\n",
        "    data = re.sub(r\"i'd\", \"I would\", data)\r\n",
        "    data = re.sub(r\"didn't\", \"did not\", data)\r\n",
        "    data = re.sub(r\"ain't\", \"am not\", data)\r\n",
        "    data = re.sub(r\"you'll\", \"you will\", data)\r\n",
        "    data = re.sub(r\"I've\", \"I have\", data)\r\n",
        "    data = re.sub(r\"Don't\", \"do not\", data)\r\n",
        "    data = re.sub(r\"I'll\", \"I will\", data)\r\n",
        "    data = re.sub(r\"I'd\", \"I would\", data)\r\n",
        "    data = re.sub(r\"Let's\", \"Let us\", data)\r\n",
        "    data = re.sub(r\"you'd\", \"You would\", data)\r\n",
        "    data = re.sub(r\"It's\", \"It is\", data)\r\n",
        "    data = re.sub(r\"Ain't\", \"am not\", data)\r\n",
        "    data = re.sub(r\"Haven't\", \"Have not\", data)\r\n",
        "    data = re.sub(r\"Could've\", \"Could have\", data)\r\n",
        "    data = re.sub(r\"youve\", \"you have\", data)  \r\n",
        "    data = re.sub(r\"donå«t\", \"do not\", data)\r\n",
        "    data = re.sub(r\"\\n\", \"\", data)\r\n",
        "    data = re.sub(r\".jpeg\", \"\", data) \r\n",
        "\r\n",
        "     \r\n",
        "    return data\r\n",
        "\r\n",
        "\r\n",
        "toxic_comments_OffensiveOrNot['comment_text']=toxic_comments_OffensiveOrNot['comment_text'].apply(lambda z: remove_abb(z))"
      ],
      "execution_count": 32,
      "outputs": [
        {
          "output_type": "stream",
          "text": [
            "/usr/local/lib/python3.6/dist-packages/ipykernel_launcher.py:100: SettingWithCopyWarning: \n",
            "A value is trying to be set on a copy of a slice from a DataFrame.\n",
            "Try using .loc[row_indexer,col_indexer] = value instead\n",
            "\n",
            "See the caveats in the documentation: https://pandas.pydata.org/pandas-docs/stable/user_guide/indexing.html#returning-a-view-versus-a-copy\n"
          ],
          "name": "stderr"
        }
      ]
    },
    {
      "cell_type": "code",
      "metadata": {
        "colab": {
          "base_uri": "https://localhost:8080/"
        },
        "id": "Aryil1PnEef4",
        "outputId": "69a617ae-7482-4c30-a608-387ba68b6628"
      },
      "source": [
        "%%time\r\n",
        "nltk.download('wordnet')\r\n",
        "\r\n",
        "from nltk.stem import WordNetLemmatizer\r\n",
        "lemm = WordNetLemmatizer()\r\n",
        "\r\n",
        "def lemma_traincorpus(text):\r\n",
        "    lemm_words = \" \".join([lemm.lemmatize(word) for word in text.split()])    \r\n",
        "    return lemm_words\r\n",
        "                        \r\n",
        "\r\n",
        "\r\n",
        "toxic_comments_OffensiveOrNot['comment_text']=toxic_comments_OffensiveOrNot['comment_text'].apply(lambda z: lemma_traincorpus(z))"
      ],
      "execution_count": 33,
      "outputs": [
        {
          "output_type": "stream",
          "text": [
            "[nltk_data] Downloading package wordnet to /root/nltk_data...\n",
            "[nltk_data]   Unzipping corpora/wordnet.zip.\n",
            "CPU times: user 45 s, sys: 373 ms, total: 45.4 s\n",
            "Wall time: 45.8 s\n"
          ],
          "name": "stdout"
        },
        {
          "output_type": "stream",
          "text": [
            "/usr/local/lib/python3.6/dist-packages/ipykernel_launcher.py:12: SettingWithCopyWarning: \n",
            "A value is trying to be set on a copy of a slice from a DataFrame.\n",
            "Try using .loc[row_indexer,col_indexer] = value instead\n",
            "\n",
            "See the caveats in the documentation: https://pandas.pydata.org/pandas-docs/stable/user_guide/indexing.html#returning-a-view-versus-a-copy\n",
            "  if sys.path[0] == '':\n"
          ],
          "name": "stderr"
        }
      ]
    },
    {
      "cell_type": "code",
      "metadata": {
        "id": "0vzpBQMNbEfI"
      },
      "source": [
        "def preprocess_text(sen):\r\n",
        "    # Remove punctuations and numbers\r\n",
        "    sentence = re.sub('[^a-zA-Z]', ' ', sen)\r\n",
        "\r\n",
        "    # Single character removal\r\n",
        "    sentence = re.sub(r\"\\s+[a-zA-Z]\\s+\", ' ', sentence)\r\n",
        "\r\n",
        "    # Removing multiple spaces\r\n",
        "    sentence = re.sub(r'\\s+', ' ', sentence)\r\n",
        "\r\n",
        "    return sentence"
      ],
      "execution_count": 34,
      "outputs": []
    },
    {
      "cell_type": "code",
      "metadata": {
        "id": "2J9IUnglcV2Z"
      },
      "source": [
        "errors = [\"•\",\"jpg\",\"0\",\"1\",\"2\",\"3\",\"4\",\"5\",\"6\",\"7\",\"8\",\"9\"]\r\n",
        "def removeTextualErrors(text):\r\n",
        "  line = text.split()\r\n",
        "  text = \"\"\r\n",
        "  for word in line:\r\n",
        "    if(word not in errors):\r\n",
        "      text += word\r\n",
        "      text += \" \"\r\n",
        "  return text\r\n",
        "comment_text_XXXX"
      ],
      "execution_count": 40,
      "outputs": []
    },
    {
      "cell_type": "code",
      "metadata": {
        "colab": {
          "base_uri": "https://localhost:8080/"
        },
        "id": "pAVfduNjdEK1",
        "outputId": "471ba5ae-4fa4-4e20-817b-27aab42f23cc"
      },
      "source": [
        "toxic_comments[\"comment_text_XXXXX\"] = toxic_comments['comment_text_XXXX'].apply(removeTextualErrors)\r\n",
        "print(\"removed textual errors and numbers \")"
      ],
      "execution_count": 41,
      "outputs": [
        {
          "output_type": "stream",
          "text": [
            "removed textual errors and numbers \n"
          ],
          "name": "stdout"
        }
      ]
    },
    {
      "cell_type": "code",
      "metadata": {
        "id": "gOoGpkabbHvz"
      },
      "source": [
        "X = []\r\n",
        "#toxic_comments_labels = toxic_comments[[\"offensive\"]]\r\n",
        "\r\n",
        "\r\n",
        "\r\n",
        "sentences = list(toxic_comments[\"comment_text_XXXXX\"])\r\n",
        "for sen in sentences:\r\n",
        "    X.append(preprocess_text(sen))\r\n",
        "\r\n",
        "y = toxic_comments_labels.values\r\n"
      ],
      "execution_count": 44,
      "outputs": []
    },
    {
      "cell_type": "code",
      "metadata": {
        "colab": {
          "base_uri": "https://localhost:8080/",
          "height": 51
        },
        "id": "bQwBQF3xvgRF",
        "outputId": "b8b081c9-04a0-4eed-d4ef-c775eeeb0f65"
      },
      "source": [
        "sentences [12]"
      ],
      "execution_count": 64,
      "outputs": [
        {
          "output_type": "execute_result",
          "data": {
            "application/vnd.google.colaboratory.intrinsic+json": {
              "type": "string"
            },
            "text/plain": [
              "'hey talk exclusive group wp talibanswho good destroy selfappointe purist gang one ask question abt antisocial destructive noncontribution wp ask sityush clean behavior issue nonsensical warning '"
            ]
          },
          "metadata": {
            "tags": []
          },
          "execution_count": 64
        }
      ]
    },
    {
      "cell_type": "code",
      "metadata": {
        "id": "bj1-4XcubJIX"
      },
      "source": [
        "X_train, X_test, y_train, y_test = train_test_split(X, y, test_size=0.40, random_state=42)"
      ],
      "execution_count": 46,
      "outputs": []
    },
    {
      "cell_type": "code",
      "metadata": {
        "id": "3_U5wPK_bU8z"
      },
      "source": [
        "tokenizer = Tokenizer(num_words=5000)\r\n",
        "tokenizer.fit_on_texts(X_train)\r\n",
        "\r\n",
        "X_train = tokenizer.texts_to_sequences(X_train)\r\n",
        "X_test = tokenizer.texts_to_sequences(X_test)\r\n",
        "\r\n",
        "vocab_size = len(tokenizer.word_index) + 1\r\n",
        "\r\n",
        "maxlen = 200\r\n",
        "\r\n",
        "X_train = pad_sequences(X_train, padding='post', maxlen=maxlen)\r\n",
        "X_test = pad_sequences(X_test, padding='post', maxlen=maxlen)"
      ],
      "execution_count": 47,
      "outputs": []
    },
    {
      "cell_type": "code",
      "metadata": {
        "id": "gTBFJK6lbWoD"
      },
      "source": [
        "from numpy import array\r\n",
        "from numpy import asarray\r\n",
        "from numpy import zeros\r\n",
        "\r\n",
        "embeddings_dictionary = dict()\r\n",
        "\r\n",
        "#glove_file = open('/content/drive/My Drive/Colab Datasets/glove.6B.100d.txt', encoding=\"utf8\")\r\n",
        "glove_file = open('/content/drive/MyDrive/gloves/glove.6B.100d.txt', encoding=\"utf8\")\r\n",
        "\r\n",
        "for line in glove_file:\r\n",
        "    records = line.split()\r\n",
        "    word = records[0]\r\n",
        "    vector_dimensions = asarray(records[1:], dtype='float32')\r\n",
        "    embeddings_dictionary[word] = vector_dimensions\r\n",
        "glove_file.close()\r\n",
        "\r\n",
        "embedding_matrix = zeros((vocab_size, 100))\r\n",
        "for word, index in tokenizer.word_index.items():\r\n",
        "    embedding_vector = embeddings_dictionary.get(word)\r\n",
        "    if embedding_vector is not None:\r\n",
        "        embedding_matrix[index] = embedding_vector"
      ],
      "execution_count": 48,
      "outputs": []
    },
    {
      "cell_type": "code",
      "metadata": {
        "id": "-Fi8MCl7bg7q"
      },
      "source": [
        "deep_inputs = Input(shape=(maxlen,))\r\n",
        "embedding_layer = Embedding(vocab_size, 100, weights=[embedding_matrix], trainable=False)(deep_inputs)\r\n",
        "LSTM_Layer_1 = LSTM(128)(embedding_layer)\r\n",
        "dense_layer_1 = Dense(2, activation='sigmoid')(LSTM_Layer_1)\r\n",
        "model = Model(inputs=deep_inputs, outputs=dense_layer_1)\r\n",
        "\r\n",
        "model.compile(loss='binary_crossentropy', optimizer='adam', metrics=['acc'])"
      ],
      "execution_count": 49,
      "outputs": []
    },
    {
      "cell_type": "code",
      "metadata": {
        "colab": {
          "base_uri": "https://localhost:8080/"
        },
        "id": "Phe5qujWcSFX",
        "outputId": "0e0f153d-65ae-4215-8263-7a15539e84ab"
      },
      "source": [
        "print(model.summary())\r\n"
      ],
      "execution_count": 50,
      "outputs": [
        {
          "output_type": "stream",
          "text": [
            "Model: \"model\"\n",
            "_________________________________________________________________\n",
            "Layer (type)                 Output Shape              Param #   \n",
            "=================================================================\n",
            "input_1 (InputLayer)         [(None, 200)]             0         \n",
            "_________________________________________________________________\n",
            "embedding (Embedding)        (None, 200, 100)          14630500  \n",
            "_________________________________________________________________\n",
            "lstm (LSTM)                  (None, 128)               117248    \n",
            "_________________________________________________________________\n",
            "dense (Dense)                (None, 2)                 258       \n",
            "=================================================================\n",
            "Total params: 14,748,006\n",
            "Trainable params: 117,506\n",
            "Non-trainable params: 14,630,500\n",
            "_________________________________________________________________\n",
            "None\n"
          ],
          "name": "stdout"
        }
      ]
    },
    {
      "cell_type": "code",
      "metadata": {
        "colab": {
          "base_uri": "https://localhost:8080/"
        },
        "id": "Nc3z61lFcV-n",
        "outputId": "44f1d7da-90b3-45f3-f183-e090a8746b22"
      },
      "source": [
        "history = model.fit(X_train, y_train, batch_size=128, epochs=7, verbose=1, validation_split=0.4)"
      ],
      "execution_count": 51,
      "outputs": [
        {
          "output_type": "stream",
          "text": [
            "Epoch 1/7\n",
            "449/449 [==============================] - 278s 615ms/step - loss: 0.3585 - acc: 0.9010 - val_loss: 0.3308 - val_acc: 0.8971\n",
            "Epoch 2/7\n",
            "449/449 [==============================] - 274s 610ms/step - loss: 0.3144 - acc: 0.9024 - val_loss: 0.3309 - val_acc: 0.8971\n",
            "Epoch 3/7\n",
            "449/449 [==============================] - 273s 609ms/step - loss: 0.3180 - acc: 0.9015 - val_loss: 0.2611 - val_acc: 0.8972\n",
            "Epoch 4/7\n",
            "449/449 [==============================] - 273s 609ms/step - loss: 0.3206 - acc: 0.9009 - val_loss: 0.2692 - val_acc: 0.9210\n",
            "Epoch 5/7\n",
            "449/449 [==============================] - 273s 608ms/step - loss: 0.2664 - acc: 0.9177 - val_loss: 0.3302 - val_acc: 0.8971\n",
            "Epoch 6/7\n",
            "449/449 [==============================] - 274s 610ms/step - loss: 0.3109 - acc: 0.9032 - val_loss: 0.2758 - val_acc: 0.8973\n",
            "Epoch 7/7\n",
            "449/449 [==============================] - 273s 608ms/step - loss: 0.2644 - acc: 0.9061 - val_loss: 0.2088 - val_acc: 0.9382\n"
          ],
          "name": "stdout"
        }
      ]
    },
    {
      "cell_type": "code",
      "metadata": {
        "colab": {
          "base_uri": "https://localhost:8080/"
        },
        "id": "sSyq9ZT-cZ9E",
        "outputId": "5c1392d6-8fc9-495b-de67-401461e07327"
      },
      "source": [
        "score = history.model.evaluate(X_test, y_test, verbose=1)\r\n",
        "\r\n",
        "print(\"Test Score:\", score[0])\r\n",
        "print(\"Test Accuracy:\", score[1])"
      ],
      "execution_count": 52,
      "outputs": [
        {
          "output_type": "stream",
          "text": [
            "1995/1995 [==============================] - 109s 54ms/step - loss: 0.2033 - acc: 0.9398\n",
            "Test Score: 0.20328666269779205\n",
            "Test Accuracy: 0.9397609233856201\n"
          ],
          "name": "stdout"
        }
      ]
    },
    {
      "cell_type": "code",
      "metadata": {
        "colab": {
          "base_uri": "https://localhost:8080/"
        },
        "id": "IV-YwGi_CLew",
        "outputId": "7a7a8771-cd3d-4f75-ac63-b156e7acc3ca"
      },
      "source": [
        "\r\n",
        "print(X_test.shape)\r\n",
        "print(y_test.shape)\r\n",
        "\r\n",
        "print(score)\r\n",
        "toxic_comments_labels.values\r\n",
        "\r\n"
      ],
      "execution_count": 53,
      "outputs": [
        {
          "output_type": "stream",
          "text": [
            "(63829, 200)\n",
            "(63829, 2)\n",
            "[0.20328666269779205, 0.9397609233856201]\n"
          ],
          "name": "stdout"
        },
        {
          "output_type": "execute_result",
          "data": {
            "text/plain": [
              "array([[0, 1],\n",
              "       [0, 1],\n",
              "       [0, 1],\n",
              "       ...,\n",
              "       [0, 1],\n",
              "       [0, 1],\n",
              "       [0, 1]])"
            ]
          },
          "metadata": {
            "tags": []
          },
          "execution_count": 53
        }
      ]
    },
    {
      "cell_type": "code",
      "metadata": {
        "colab": {
          "base_uri": "https://localhost:8080/"
        },
        "id": "qKzGt7nCqIMJ",
        "outputId": "9f952f0b-5240-4327-ed3f-749099c361ad"
      },
      "source": [
        "history.model.predict"
      ],
      "execution_count": 54,
      "outputs": [
        {
          "output_type": "execute_result",
          "data": {
            "text/plain": [
              "<bound method Model.predict of <tensorflow.python.keras.engine.functional.Functional object at 0x7f7d6c961be0>>"
            ]
          },
          "metadata": {
            "tags": []
          },
          "execution_count": 54
        }
      ]
    },
    {
      "cell_type": "code",
      "metadata": {
        "id": "xY8LpPC-l2fm"
      },
      "source": [
        "model.save('/content/drive/MyDrive/toxicCommentz/my_model.h5')\r\n",
        "# LOAD \r\n",
        "import keras\r\n",
        "model = keras.models.load_model('/content/drive/MyDrive/toxicCommentz/my_model.h5')\r\n",
        "\r\n"
      ],
      "execution_count": 55,
      "outputs": []
    },
    {
      "cell_type": "code",
      "metadata": {
        "id": "3pX5APvWtKew"
      },
      "source": [
        ""
      ],
      "execution_count": 55,
      "outputs": []
    },
    {
      "cell_type": "code",
      "metadata": {
        "colab": {
          "base_uri": "https://localhost:8080/"
        },
        "id": "RlDNgxxIB62I",
        "outputId": "60645978-7bc7-4fd9-d673-6663f810c40c"
      },
      "source": [
        "y_pred = history.model.predict(X_test)\r\n",
        "print(y_pred)\r\n",
        "print(y_test)\r\n",
        "print(y_pred.shape)\r\n",
        "print(y_test.shape)"
      ],
      "execution_count": 56,
      "outputs": [
        {
          "output_type": "stream",
          "text": [
            "[[0.73243886 0.30816388]\n",
            " [0.03626469 0.9639327 ]\n",
            " [0.20134589 0.77913046]\n",
            " ...\n",
            " [0.03626469 0.9639327 ]\n",
            " [0.13366881 0.87406063]\n",
            " [0.03626469 0.96393275]]\n",
            "[[0 1]\n",
            " [0 1]\n",
            " [0 1]\n",
            " ...\n",
            " [1 0]\n",
            " [0 1]\n",
            " [0 1]]\n",
            "(63829, 2)\n",
            "(63829, 2)\n"
          ],
          "name": "stdout"
        }
      ]
    },
    {
      "cell_type": "code",
      "metadata": {
        "colab": {
          "base_uri": "https://localhost:8080/"
        },
        "id": "Qt2HI-xdaOa_",
        "outputId": "e231f017-f323-4457-c32e-17aab62bd62f"
      },
      "source": [
        "print(len(y_pred))\r\n",
        "print(len(y_test))"
      ],
      "execution_count": 57,
      "outputs": [
        {
          "output_type": "stream",
          "text": [
            "63829\n",
            "63829\n"
          ],
          "name": "stdout"
        }
      ]
    },
    {
      "cell_type": "code",
      "metadata": {
        "id": "YoXUNjG3p_q_",
        "colab": {
          "base_uri": "https://localhost:8080/"
        },
        "outputId": "e6d62f91-3792-4b25-cc57-a35f2646482e"
      },
      "source": [
        "\r\n",
        "\r\n",
        "import sklearn.metrics as metrics\r\n",
        "from sklearn.metrics import classification_report\r\n",
        "target_names= [\"Offensive\" , \"NonOffensive\"]\r\n",
        "print(classification_report(np.argmax(y_pred, axis=1), np.argmax(y_test, axis=1), target_names=target_names))\r\n",
        "\r\n",
        "\r\n",
        "matrix = metrics.confusion_matrix(y_pred.argmax(axis=1), y_test.argmax(axis=1),)\r\n"
      ],
      "execution_count": 58,
      "outputs": [
        {
          "output_type": "stream",
          "text": [
            "              precision    recall  f1-score   support\n",
            "\n",
            "   Offensive       0.47      0.89      0.62      3457\n",
            "NonOffensive       0.99      0.94      0.97     60372\n",
            "\n",
            "    accuracy                           0.94     63829\n",
            "   macro avg       0.73      0.92      0.79     63829\n",
            "weighted avg       0.97      0.94      0.95     63829\n",
            "\n"
          ],
          "name": "stdout"
        }
      ]
    },
    {
      "cell_type": "code",
      "metadata": {
        "id": "3n2-36qn-uRJ",
        "colab": {
          "base_uri": "https://localhost:8080/"
        },
        "outputId": "9eaf0e43-8159-42bc-b486-4c3aa05668c0"
      },
      "source": [
        "matrix"
      ],
      "execution_count": 59,
      "outputs": [
        {
          "output_type": "execute_result",
          "data": {
            "text/plain": [
              "array([[ 3079,   378],\n",
              "       [ 3467, 56905]])"
            ]
          },
          "metadata": {
            "tags": []
          },
          "execution_count": 59
        }
      ]
    },
    {
      "cell_type": "code",
      "metadata": {
        "colab": {
          "base_uri": "https://localhost:8080/"
        },
        "id": "4d6SFcbB_TPW",
        "outputId": "cd9ddeef-0dc3-4ab9-e3eb-df32ffe8d0a0"
      },
      "source": [
        "print(y_pred.shape)\r\n",
        "y_pred2 = y_pred\r\n",
        "y_test2 = y_test\r\n",
        "\r\n",
        "Size = len (y_test2)\r\n",
        "\r\n",
        "y_test2 = y_test2.reshape((Size,-1))\r\n",
        "y_pred2 = y_pred2.reshape((Size,-1))\r\n",
        "\r\n",
        "\r\n",
        "print(y_pred2.shape)\r\n",
        "print(y_test2.shape)\r\n",
        "\r\n",
        "matrix = metrics.confusion_matrix(y_pred2.argmax(axis=1), y_test2.argmax(axis=1))\r\n"
      ],
      "execution_count": 60,
      "outputs": [
        {
          "output_type": "stream",
          "text": [
            "(63829, 2)\n",
            "(63829, 2)\n",
            "(63829, 2)\n"
          ],
          "name": "stdout"
        }
      ]
    },
    {
      "cell_type": "code",
      "metadata": {
        "id": "Se5Hr8L5Wlm8",
        "colab": {
          "base_uri": "https://localhost:8080/"
        },
        "outputId": "c50f23f7-a7ef-45a3-e688-cd5ce0899caf"
      },
      "source": [
        "matrix"
      ],
      "execution_count": 61,
      "outputs": [
        {
          "output_type": "execute_result",
          "data": {
            "text/plain": [
              "array([[ 3079,   378],\n",
              "       [ 3467, 56905]])"
            ]
          },
          "metadata": {
            "tags": []
          },
          "execution_count": 61
        }
      ]
    },
    {
      "cell_type": "code",
      "metadata": {
        "colab": {
          "base_uri": "https://localhost:8080/"
        },
        "id": "QCx6dvYxNme0",
        "outputId": "be305f00-dad8-4fe0-c7bd-56d98cc6eacc"
      },
      "source": [
        "CR = metrics.accuracy_score(y_pred2.argmax(axis=1), y_test2.argmax(axis=1))\r\n",
        "print(CR)"
      ],
      "execution_count": 62,
      "outputs": [
        {
          "output_type": "stream",
          "text": [
            "0.9397609237180592\n"
          ],
          "name": "stdout"
        }
      ]
    },
    {
      "cell_type": "code",
      "metadata": {
        "id": "qEVGvfqrEg3V",
        "colab": {
          "base_uri": "https://localhost:8080/",
          "height": 126
        },
        "outputId": "b89c6c1c-a625-4712-9f1e-59bfb4b673c8"
      },
      "source": [
        "#WIthout Lemma and Abba\r\n",
        "             precision    recall  f1-score   support\r\n",
        "\r\n",
        "   Offensive       0.01      0.90      0.02        80\r\n",
        "NonOffensive       1.00      0.90      0.95     63749\r\n",
        "\r\n",
        "    accuracy                           0.90     63829\r\n",
        "   macro avg       0.51      0.90      0.48     63829\r\n",
        "weighted avg       1.00      0.90      0.95     63829\r\n",
        "\r\n",
        "\r\n",
        "0.8984474141847749\r\n",
        "array([[   72,     8],\r\n",
        "       [ 6474, 57275]])"
      ],
      "execution_count": 94,
      "outputs": [
        {
          "output_type": "error",
          "ename": "SyntaxError",
          "evalue": "ignored",
          "traceback": [
            "\u001b[0;36m  File \u001b[0;32m\"<ipython-input-94-09b84c673d10>\"\u001b[0;36m, line \u001b[0;32m1\u001b[0m\n\u001b[0;31m    precision    recall  f1-score   support\u001b[0m\n\u001b[0m                      ^\u001b[0m\n\u001b[0;31mSyntaxError\u001b[0m\u001b[0;31m:\u001b[0m invalid syntax\n"
          ]
        }
      ]
    },
    {
      "cell_type": "code",
      "metadata": {
        "id": "DG9gDiRytYBa"
      },
      "source": [
        "              precision    recall  f1-score   support\r\n",
        "\r\n",
        "   Offensive       0.57      0.92      0.70      4032\r\n",
        "NonOffensive       0.99      0.95      0.97     59797\r\n",
        "\r\n",
        "    accuracy                           0.95     63829\r\n",
        "   macro avg       0.78      0.94      0.84     63829\r\n",
        "weighted avg       0.97      0.95      0.96     63829\r\n",
        "\r\n",
        "0.9509313948205361\r\n"
      ],
      "execution_count": null,
      "outputs": []
    },
    {
      "cell_type": "code",
      "metadata": {
        "id": "wu5o4_-s3vZY"
      },
      "source": [
        "array([[ 3079,   378],\r\n",
        "       [ 3467, 56905]])\r\n",
        "             precision    recall  f1-score   support\r\n",
        "\r\n",
        "   Offensive       0.47      0.89      0.62      3457\r\n",
        "NonOffensive       0.99      0.94      0.97     60372\r\n",
        "\r\n",
        "    accuracy                           0.94     63829\r\n",
        "   macro avg       0.73      0.92      0.79     63829\r\n",
        "weighted avg       0.97      0.94      0.95     63829"
      ],
      "execution_count": null,
      "outputs": []
    }
  ]
}