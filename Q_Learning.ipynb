{
  "nbformat": 4,
  "nbformat_minor": 0,
  "metadata": {
    "colab": {
      "name": "Q-Learning.ipynb",
      "provenance": [],
      "collapsed_sections": [],
      "authorship_tag": "ABX9TyPZaeMk9ZDsq3T5Nrt7zupv",
      "include_colab_link": true
    },
    "kernelspec": {
      "name": "python3",
      "display_name": "Python 3"
    }
  },
  "cells": [
    {
      "cell_type": "markdown",
      "metadata": {
        "id": "view-in-github",
        "colab_type": "text"
      },
      "source": [
        "<a href=\"https://colab.research.google.com/github/xanasa14/MLImplementations/blob/master/Q_Learning.ipynb\" target=\"_parent\"><img src=\"https://colab.research.google.com/assets/colab-badge.svg\" alt=\"Open In Colab\"/></a>"
      ]
    },
    {
      "cell_type": "code",
      "metadata": {
        "colab": {
          "base_uri": "https://localhost:8080/"
        },
        "id": "dk_pLykc4abv",
        "outputId": "ef6a086a-4d59-41ff-e13a-b20e90972665"
      },
      "source": [
        "import gym\r\n",
        "import random\r\n",
        "\r\n",
        "random.seed(1234)\r\n",
        "\r\n",
        "streets = gym.make(\"Taxi-v3\").env #New versions keep getting released; if -v3 doesn't work, try -v2 or -v4\r\n",
        "streets.render()"
      ],
      "execution_count": 1,
      "outputs": [
        {
          "output_type": "stream",
          "text": [
            "+---------+\n",
            "|\u001b[34;1mR\u001b[0m: | : :\u001b[35mG\u001b[0m|\n",
            "| : | : : |\n",
            "| : :\u001b[43m \u001b[0m: : |\n",
            "| | : | : |\n",
            "|Y| : |B: |\n",
            "+---------+\n",
            "\n"
          ],
          "name": "stdout"
        }
      ]
    },
    {
      "cell_type": "code",
      "metadata": {
        "colab": {
          "base_uri": "https://localhost:8080/"
        },
        "id": "1dT33l7V4il1",
        "outputId": "cf6ada1a-a927-43f2-9fa6-b44c0f7e1ab2"
      },
      "source": [
        "initial_state = streets.encode(2, 3, 2, 0)\r\n",
        "\r\n",
        "streets.s = initial_state\r\n",
        "\r\n",
        "streets.render()"
      ],
      "execution_count": 2,
      "outputs": [
        {
          "output_type": "stream",
          "text": [
            "+---------+\n",
            "|\u001b[35mR\u001b[0m: | : :G|\n",
            "| : | : : |\n",
            "| : : :\u001b[43m \u001b[0m: |\n",
            "| | : | : |\n",
            "|\u001b[34;1mY\u001b[0m| : |B: |\n",
            "+---------+\n",
            "\n"
          ],
          "name": "stdout"
        }
      ]
    },
    {
      "cell_type": "code",
      "metadata": {
        "colab": {
          "base_uri": "https://localhost:8080/"
        },
        "id": "ziCd3wbK4xwM",
        "outputId": "59d15e83-d2f2-4ef8-8757-1df2f09a4719"
      },
      "source": [
        "streets.P[initial_state]"
      ],
      "execution_count": 3,
      "outputs": [
        {
          "output_type": "execute_result",
          "data": {
            "text/plain": [
              "{0: [(1.0, 368, -1, False)],\n",
              " 1: [(1.0, 168, -1, False)],\n",
              " 2: [(1.0, 288, -1, False)],\n",
              " 3: [(1.0, 248, -1, False)],\n",
              " 4: [(1.0, 268, -10, False)],\n",
              " 5: [(1.0, 268, -10, False)]}"
            ]
          },
          "metadata": {
            "tags": []
          },
          "execution_count": 3
        }
      ]
    },
    {
      "cell_type": "code",
      "metadata": {
        "id": "HkhcvfKp4z0d"
      },
      "source": [
        "import numpy as np\r\n",
        "\r\n",
        "q_table = np.zeros([streets.observation_space.n, streets.action_space.n])\r\n",
        "\r\n",
        "learning_rate = 0.1\r\n",
        "discount_factor = 0.6\r\n",
        "exploration = 0.1\r\n",
        "epochs = 10000\r\n",
        "\r\n",
        "for taxi_run in range(epochs):\r\n",
        "    state = streets.reset()\r\n",
        "    done = False\r\n",
        "    \r\n",
        "    while not done:\r\n",
        "        random_value = random.uniform(0, 1)\r\n",
        "        if (random_value < exploration):\r\n",
        "            action = streets.action_space.sample() # Explore a random action\r\n",
        "        else:\r\n",
        "            action = np.argmax(q_table[state]) # Use the action with the highest q-value\r\n",
        "            \r\n",
        "        next_state, reward, done, info = streets.step(action)\r\n",
        "        \r\n",
        "        prev_q = q_table[state, action]\r\n",
        "        next_max_q = np.max(q_table[next_state])\r\n",
        "        new_q = (1 - learning_rate) * prev_q + learning_rate * (reward + discount_factor * next_max_q)\r\n",
        "        q_table[state, action] = new_q\r\n",
        "        \r\n",
        "        state = next_state\r\n",
        "        \r\n",
        "        "
      ],
      "execution_count": 5,
      "outputs": []
    },
    {
      "cell_type": "code",
      "metadata": {
        "colab": {
          "base_uri": "https://localhost:8080/"
        },
        "id": "F8pbUr8n42dl",
        "outputId": "045da5d9-f8f2-48e2-8c5e-0c4c34f4fdb9"
      },
      "source": [
        "q_table[initial_state]"
      ],
      "execution_count": 7,
      "outputs": [
        {
          "output_type": "execute_result",
          "data": {
            "text/plain": [
              "array([-2.41763488, -2.42364715, -2.4246418 , -2.3639511 , -7.13926775,\n",
              "       -6.85431135])"
            ]
          },
          "metadata": {
            "tags": []
          },
          "execution_count": 7
        }
      ]
    },
    {
      "cell_type": "code",
      "metadata": {
        "colab": {
          "base_uri": "https://localhost:8080/"
        },
        "id": "zV01BgZ24-uQ",
        "outputId": "0a744018-4ebb-46bf-81bc-15a2e8a98d49"
      },
      "source": [
        "from IPython.display import clear_output\r\n",
        "import time\r\n",
        "\r\n",
        "stepsTime = []\r\n",
        "\r\n",
        "for tripnum in range(1, 11):\r\n",
        "    state = streets.reset()\r\n",
        "   \r\n",
        "    done = False\r\n",
        "    trip_length = 0\r\n",
        "    start = time.time()\r\n",
        "\r\n",
        "    while not done and trip_length < 25:\r\n",
        "        #get starting time\r\n",
        "          \r\n",
        "\r\n",
        "        action = np.argmax(q_table[state])\r\n",
        "        next_state, reward, done, info = streets.step(action)\r\n",
        "        clear_output(wait=True)\r\n",
        "        print(\"Trip number \" + str(tripnum) + \" Step \" + str(trip_length))\r\n",
        "        print(streets.render(mode='ansi'))\r\n",
        "        # get time taken to run the for loop code \r\n",
        "        \r\n",
        "        state = next_state\r\n",
        "        trip_length += 1\r\n",
        "    elapsed_time_fl = (time.time() - start)\r\n",
        "    print(elapsed_time_fl)\r\n",
        "    stepsTime.append(str(tripnum) +  \" \" + str(elapsed_time_fl))\r\n",
        "        \r\n",
        "\r\n",
        "        \r\n",
        "        \r\n",
        "    sleep(2)"
      ],
      "execution_count": 32,
      "outputs": [
        {
          "output_type": "stream",
          "text": [
            "Trip number 10 Step 14\n",
            "+---------+\n",
            "|R: | : :G|\n",
            "| : | : : |\n",
            "| : : : : |\n",
            "| | : | : |\n",
            "|Y| : |\u001b[35m\u001b[34;1m\u001b[43mB\u001b[0m\u001b[0m\u001b[0m: |\n",
            "+---------+\n",
            "  (Dropoff)\n",
            "\n",
            "0.02913188934326172\n"
          ],
          "name": "stdout"
        }
      ]
    },
    {
      "cell_type": "code",
      "metadata": {
        "colab": {
          "base_uri": "https://localhost:8080/"
        },
        "id": "JhRozJ2U48RG",
        "outputId": "1c52b1e7-3751-4651-dc60-29cb683d84e8"
      },
      "source": [
        "stepsTime"
      ],
      "execution_count": 31,
      "outputs": [
        {
          "output_type": "execute_result",
          "data": {
            "text/plain": [
              "['1 0.052512407302856445',\n",
              " '2 0.012914657592773438',\n",
              " '3 0.02830672264099121',\n",
              " '4 0.031193256378173828',\n",
              " '5 0.05662202835083008',\n",
              " '6 0.023981809616088867',\n",
              " '7 0.03397560119628906',\n",
              " '8 0.014972925186157227',\n",
              " '9 0.03475522994995117',\n",
              " '10 0.022643327713012695']"
            ]
          },
          "metadata": {
            "tags": []
          },
          "execution_count": 31
        }
      ]
    }
  ]
}