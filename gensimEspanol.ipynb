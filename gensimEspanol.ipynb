{
  "nbformat": 4,
  "nbformat_minor": 0,
  "metadata": {
    "colab": {
      "name": "gensimEspanol.ipynb",
      "provenance": [],
      "collapsed_sections": [],
      "mount_file_id": "1Y8sXe2TDpEaPEdvZmkRdLhigrr-Nyjko",
      "authorship_tag": "ABX9TyNCvdjGMb+mkU+xhWoOd/RQ",
      "include_colab_link": true
    },
    "kernelspec": {
      "name": "python3",
      "display_name": "Python 3"
    }
  },
  "cells": [
    {
      "cell_type": "markdown",
      "metadata": {
        "id": "view-in-github",
        "colab_type": "text"
      },
      "source": [
        "<a href=\"https://colab.research.google.com/github/xanasa14/MLImplementations/blob/master/gensimEspanol.ipynb\" target=\"_parent\"><img src=\"https://colab.research.google.com/assets/colab-badge.svg\" alt=\"Open In Colab\"/></a>"
      ]
    },
    {
      "cell_type": "code",
      "metadata": {
        "colab": {
          "base_uri": "https://localhost:8080/"
        },
        "id": "UsS4IG2AvluS",
        "outputId": "622fe866-fa0d-401a-be4c-4ab216996f78"
      },
      "source": [
        "!pip install --upgrade gensim"
      ],
      "execution_count": 20,
      "outputs": [
        {
          "output_type": "stream",
          "text": [
            "Requirement already up-to-date: gensim in /usr/local/lib/python3.6/dist-packages (3.8.3)\n",
            "Requirement already satisfied, skipping upgrade: smart-open>=1.8.1 in /usr/local/lib/python3.6/dist-packages (from gensim) (4.1.0)\n",
            "Requirement already satisfied, skipping upgrade: scipy>=0.18.1 in /usr/local/lib/python3.6/dist-packages (from gensim) (1.4.1)\n",
            "Requirement already satisfied, skipping upgrade: six>=1.5.0 in /usr/local/lib/python3.6/dist-packages (from gensim) (1.15.0)\n",
            "Requirement already satisfied, skipping upgrade: numpy>=1.11.3 in /usr/local/lib/python3.6/dist-packages (from gensim) (1.19.5)\n"
          ],
          "name": "stdout"
        }
      ]
    },
    {
      "cell_type": "code",
      "metadata": {
        "id": "w1Oe0Wxevstm"
      },
      "source": [
        "from gensim.models import Word2Vec\r\n",
        "#https://unipython.com/curso-de-procesamiento-de-textos-gensim/"
      ],
      "execution_count": 21,
      "outputs": []
    },
    {
      "cell_type": "code",
      "metadata": {
        "id": "0hpoLGAKvz0Y"
      },
      "source": [
        "frases=[[\"escribir\",\"tutoriales\",\"es\",\"gratificante\"],[\"pero\",\"comer\",\"papas\",\"bravas\",\"es\",\"mucho\",\"mejor\"]]\r\n",
        "\r\n",
        "\r\n",
        " \r\n",
        "modelo = Word2Vec(frases,min_count=1)"
      ],
      "execution_count": 22,
      "outputs": []
    },
    {
      "cell_type": "code",
      "metadata": {
        "id": "BLmVTW5Pv1_k"
      },
      "source": [
        "modelo.save(\"/content/drive/MyDrive/GensimSpanish/modeloEspanol\")"
      ],
      "execution_count": 23,
      "outputs": []
    },
    {
      "cell_type": "code",
      "metadata": {
        "id": "oveWYIO_wVzR"
      },
      "source": [
        "nuevo_modelo=Word2Vec.load(\"/content/drive/MyDrive/GensimSpanish/modeloEspanol\")"
      ],
      "execution_count": 24,
      "outputs": []
    },
    {
      "cell_type": "code",
      "metadata": {
        "id": "NVuYv2dnwbqa"
      },
      "source": [
        "from gensim.models.keyedvectors import KeyedVectors\r\n",
        " \r\n",
        "modelo = KeyedVectors.load_word2vec_format(\"/content/drive/MyDrive/GensimSpanish/sbw_vectors.bin\", binary=True)"
      ],
      "execution_count": 25,
      "outputs": []
    },
    {
      "cell_type": "code",
      "metadata": {
        "colab": {
          "base_uri": "https://localhost:8080/"
        },
        "id": "l_nzkCu2wdc9",
        "outputId": "878b9544-25aa-4c61-ffde-3949f5fa9d1b"
      },
      "source": [
        "modelo.most_similar(positive=[\"ron\",\"cola\"],topn=1)"
      ],
      "execution_count": 26,
      "outputs": [
        {
          "output_type": "execute_result",
          "data": {
            "text/plain": [
              "[('cubalibre', 0.6797232627868652)]"
            ]
          },
          "metadata": {
            "tags": []
          },
          "execution_count": 26
        }
      ]
    },
    {
      "cell_type": "code",
      "metadata": {
        "colab": {
          "base_uri": "https://localhost:8080/",
          "height": 91
        },
        "id": "xu491Wyr-icJ",
        "outputId": "39922339-75c5-41a9-d53c-0ec35f6ab215"
      },
      "source": [
        "modelo.doesnt_match([\"perro\",\"coche\",\"gato\",\"zorro\"])"
      ],
      "execution_count": 27,
      "outputs": [
        {
          "output_type": "stream",
          "text": [
            "/usr/local/lib/python3.6/dist-packages/gensim/models/keyedvectors.py:877: FutureWarning: arrays to stack must be passed as a \"sequence\" type such as list or tuple. Support for non-sequence iterables such as generators is deprecated as of NumPy 1.16 and will raise an error in the future.\n",
            "  vectors = vstack(self.word_vec(word, use_norm=True) for word in used_words).astype(REAL)\n"
          ],
          "name": "stderr"
        },
        {
          "output_type": "execute_result",
          "data": {
            "application/vnd.google.colaboratory.intrinsic+json": {
              "type": "string"
            },
            "text/plain": [
              "'coche'"
            ]
          },
          "metadata": {
            "tags": []
          },
          "execution_count": 27
        }
      ]
    },
    {
      "cell_type": "code",
      "metadata": {
        "colab": {
          "base_uri": "https://localhost:8080/"
        },
        "id": "TMBzIt7C-niJ",
        "outputId": "f53a5538-ebec-449b-98ce-dee2ad194a77"
      },
      "source": [
        "modelo.most_similar(\"garaje\")"
      ],
      "execution_count": 28,
      "outputs": [
        {
          "output_type": "execute_result",
          "data": {
            "text/plain": [
              "[('trastero', 0.7021143436431885),\n",
              " ('cochera', 0.6826741695404053),\n",
              " ('aparcamiento', 0.6646648049354553),\n",
              " ('garage', 0.6624372005462646),\n",
              " ('parking', 0.6620718836784363),\n",
              " ('ascensor', 0.6595473289489746),\n",
              " ('garajes', 0.6564188599586487),\n",
              " ('estacionamiento', 0.6370589733123779),\n",
              " ('cafetería', 0.634496808052063),\n",
              " ('sotano', 0.6336187124252319)]"
            ]
          },
          "metadata": {
            "tags": []
          },
          "execution_count": 28
        }
      ]
    },
    {
      "cell_type": "code",
      "metadata": {
        "colab": {
          "base_uri": "https://localhost:8080/"
        },
        "id": "ZWFlIgaR-swU",
        "outputId": "df859b71-8f89-44fd-89f9-422036de7499"
      },
      "source": [
        "modelo.most_similar(\"lápiz\")"
      ],
      "execution_count": 29,
      "outputs": [
        {
          "output_type": "execute_result",
          "data": {
            "text/plain": [
              "[('bolígrafo', 0.7448678612709045),\n",
              " ('pincel', 0.7313502430915833),\n",
              " ('crayón', 0.7308676242828369),\n",
              " ('lápices', 0.7281907200813293),\n",
              " ('carboncillo', 0.7155463099479675),\n",
              " ('rotulador', 0.7153562307357788),\n",
              " ('estilógrafo', 0.7055243849754333),\n",
              " ('lapicero', 0.7034063339233398),\n",
              " ('plumilla', 0.6892598867416382),\n",
              " ('entintar', 0.6882399916648865)]"
            ]
          },
          "metadata": {
            "tags": []
          },
          "execution_count": 29
        }
      ]
    },
    {
      "cell_type": "code",
      "metadata": {
        "colab": {
          "base_uri": "https://localhost:8080/"
        },
        "id": "Rh8KH12s_Pa4",
        "outputId": "39fdd7fa-f40a-4e36-eb8d-68105639a1a0"
      },
      "source": [
        "gato_vector=modelo.word_vec(\"gato\")\r\n",
        " \r\n",
        "maullar_vector=modelo.word_vec(\"maullar\")\r\n",
        " \r\n",
        "ladrar_vector=modelo.word_vec(\"ladrar\")\r\n",
        "modelo.similar_by_vector(gato_vector-maullar_vector+ladrar_vector)"
      ],
      "execution_count": 30,
      "outputs": [
        {
          "output_type": "execute_result",
          "data": {
            "text/plain": [
              "[('ladrar', 0.8310681581497192),\n",
              " ('gato', 0.8044579029083252),\n",
              " ('perro', 0.7121047973632812),\n",
              " ('perros', 0.623246967792511),\n",
              " ('zorro', 0.6150988936424255),\n",
              " ('ladrido', 0.6039998531341553),\n",
              " ('gatos', 0.5864946246147156),\n",
              " ('maúlla', 0.5764096975326538),\n",
              " ('montés', 0.5755391120910645),\n",
              " ('hurón', 0.574796199798584)]"
            ]
          },
          "metadata": {
            "tags": []
          },
          "execution_count": 30
        }
      ]
    },
    {
      "cell_type": "code",
      "metadata": {
        "id": "UFra9Oxj_ltz"
      },
      "source": [
        ""
      ],
      "execution_count": 30,
      "outputs": []
    }
  ]
}